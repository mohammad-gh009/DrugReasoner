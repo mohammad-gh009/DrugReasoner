{
 "cells": [
  {
   "cell_type": "code",
   "execution_count": 24,
   "metadata": {},
   "outputs": [],
   "source": [
    "#####################################################################################################\n",
    "#####################################################################################################"
   ]
  },
  {
   "cell_type": "markdown",
   "metadata": {},
   "source": [
    "##  ATTENTION\n",
    "\n",
    "~~we trained a bert model on the SMILES stuctures and their approval lables. here is the result of the model~~\n",
    "\n",
    "~~Add the performance of the embedding model to the prompt~~\n",
    "\n",
    "~~array([0.93596226]) handle this similarity score. remove the array()~~\n",
    "\n",
    "~~similarity not simmilarity~~\n",
    "\n",
    "~~add names , the approval status(Groups) of the drug in the table.~~\n",
    "\n",
    "do the inference embeding for all moleculs and add the results to the table. \n",
    "\n",
    "Sample 10 or 20 small moleculs that are approved/non approved for prompt tuning randomly. "
   ]
  },
  {
   "cell_type": "code",
   "execution_count": 23,
   "metadata": {},
   "outputs": [],
   "source": [
    "#####################################################################################################\n",
    "#####################################################################################################"
   ]
  },
  {
   "cell_type": "code",
   "execution_count": 3,
   "metadata": {},
   "outputs": [],
   "source": [
    "from rdkit import Chem\n",
    "from rdkit.Chem import Descriptors, Draw, AllChem, Lipinski, Crippen, rdMolDescriptors\n",
    "from rdkit.Chem import rdDepictor\n",
    "import pandas as pd\n",
    "\n",
    "def get_molecule_properties(smiles):\n",
    "    \"\"\"\n",
    "    Compute molecular properties and analyses for a given SMILES string.\n",
    "    \n",
    "    Args:\n",
    "        smiles (str): SMILES string of the molecule.\n",
    "    \n",
    "    Returns:\n",
    "        dict: A dictionary containing all computed properties and analyses.\n",
    "    \"\"\"\n",
    "    # Initialize the molecule\n",
    "    molecule = Chem.MolFromSmiles(smiles)\n",
    "    if molecule is None:\n",
    "        raise ValueError(\"Invalid SMILES string provided.\")\n",
    "    \n",
    "    # Dictionary to store all properties\n",
    "    properties = {}\n",
    "    \n",
    "\n",
    "    properties[\"Molecular_Weight\"] = Descriptors.MolWt(molecule)\n",
    "    \n",
    "    # 2. Molecular Descriptors\n",
    "    properties[\"LogP\"] = Crippen.MolLogP(molecule)\n",
    "    properties[\"Molecular_Refractivity\"] = Crippen.MolMR(molecule)\n",
    "    properties[\"TPSA\"] = Descriptors.TPSA(molecule)\n",
    "    properties[\"Hydrogen_Bond_Donors\"] = Lipinski.NumHDonors(molecule)\n",
    "    properties[\"Hydrogen_Bond_Acceptors\"] = Lipinski.NumHAcceptors(molecule)\n",
    "    properties[\"Rotatable_Bonds\"] = Lipinski.NumRotatableBonds(molecule)\n",
    "    \n",
    "    \n",
    "    # 4. Stereochemistry\n",
    "    properties[\"Chiral_Centers\"] = Chem.FindMolChiralCenters(molecule)\n",
    "    \n",
    "    \n",
    "    # # 6. Substructure Searching\n",
    "    # substructure = Chem.MolFromSmarts(\"CO\")  # Search for C-O bond\n",
    "    # properties[\"Substructure_Matches\"] = molecule.GetSubstructMatches(substructure)\n",
    "    \n",
    "    return properties"
   ]
  },
  {
   "cell_type": "code",
   "execution_count": 1,
   "metadata": {},
   "outputs": [],
   "source": [
    "import pandas as pd \n",
    "final_df = pd.read_csv(\"/home/mamreza/Desktop/LLM-DrugApprovalPredictor/samples/train_reason_sample.csv\")\n",
    "final_df['status'] = final_df['labels'].map({1: 'Approved', 0 :'Not Approved'})"
   ]
  },
  {
   "cell_type": "code",
   "execution_count": 67,
   "metadata": {},
   "outputs": [],
   "source": [
    "df = pd.read_csv(\"/home/mamreza/Desktop/LLM-DrugApprovalPredictor/dataframes/final_df_to_reason.csv\")\n"
   ]
  },
  {
   "cell_type": "code",
   "execution_count": 4,
   "metadata": {},
   "outputs": [],
   "source": [
    "final_df[\"rdkit_info\"] = final_df[\"SMILES\"].apply(lambda x: get_molecule_properties(x))"
   ]
  },
  {
   "cell_type": "code",
   "execution_count": 6,
   "metadata": {},
   "outputs": [],
   "source": [
    "sys_prompt = \"you are an expert chemist \"\n",
    "\n",
    "sys_prompt2 = \"\"\"You are an expert computational chemist specializing in drug discovery and molecular modeling. You have extensive knowledge of medicinal chemistry, pharmacokinetics, molecular docking, QSAR modeling, and structure-activity relationships (SAR). Your task is to analyze chemical compounds and predict their likelihood of being viable drug candidates based on their molecular structure, physicochemical properties, and bioavailability. Consider key factors such as Lipinski’s Rule of Five, ADMET (absorption, distribution, metabolism, excretion, toxicity) properties, target binding affinity, and known pharmacological data when making your assessments. Provide scientifically sound explanations for your predictions.\"\"\""
   ]
  },
  {
   "cell_type": "code",
   "execution_count": 92,
   "metadata": {},
   "outputs": [],
   "source": [
    "sys_prompt3 = \"\"\"You are an expert  chemist specializing in drug discovery and molecular modeling. You have extensive knowledge of medicinal chemistry, pharmacokinetics, molecular docking, QSAR modeling, and structure-activity relationships (SAR). Your task is to analyze chemical compounds and predict their likelihood of being viable drug candidates based on their molecular structure, physicochemical properties, and bioavailability. Consider key factors such as :\n",
    "1. **Lipinski’s Rule of Five**: Assess whether the compound adheres to the rule (molecular weight ≤ 500, LogP ≤ 5, hydrogen bond donors ≤ 5, hydrogen bond acceptors ≤ 10).\n",
    "2. **ADMET Properties**: Evaluate absorption, distribution, metabolism, excretion, and toxicity profiles, including:\n",
    "   - **Absorption**: Solubility, permeability (e.g., Caco-2, PAMPA assays).\n",
    "   - **Distribution**: Volume of distribution, plasma protein binding.\n",
    "   - **Metabolism**: Cytochrome P450 enzyme interactions, metabolic stability.\n",
    "   - **Excretion**: Renal clearance, biliary excretion.\n",
    "   - **Toxicity**: Hepatotoxicity, cardiotoxicity, genotoxicity, and Ames test predictions.\n",
    "4. **Veber’s Rule**: Assess drug-likeness based on polar surface area (PSA ≤ 140 Å²) and number of rotatable bonds (≤ 10).\n",
    "5. **Ghose Filter**: Evaluate drug-likeness using criteria such as LogP (-0.4 to 5.6), molecular weight (160–480 Da), molar refractivity (40–130), and total atoms (20–70).\n",
    "6. **Egan’s Rule**: Predict oral bioavailability using LogP (≤ 5.88) and topological polar surface area (TPSA ≤ 131.6 Å²).\n",
    "7. **PAINS (Pan-Assay Interference Compounds)**: Identify and flag compounds with substructures known to cause assay interference or nonspecific binding.\n",
    "8. **Brenk Filters**: Identify problematic functional groups that may lead to toxicity or poor pharmacokinetics.\n",
    "9. **Rule of Three (for lead-like compounds)**: Assess compounds for lead optimization (molecular weight ≤ 300, LogP ≤ 3, hydrogen bond donors ≤ 3, hydrogen bond acceptors ≤ 3, rotatable bonds ≤ 3).\n",
    "10. **Pharmacophore Modeling**: Evaluate whether the compound fits the essential features of a pharmacophore model for the target.\n",
    "11. **QSAR Models**: Use quantitative structure-activity relationship models to predict biological activity and physicochemical properties.\n",
    "12. **Bioavailability and Bioactivity**: Predict oral bioavailability and bioactivity using machine learning models and experimental data.\n",
    "13. **Structural Alerts**: Identify structural motifs associated with toxicity or metabolic instability.\n",
    "14. **Solubility and Permeability**: Use predictive models like the Biopharmaceutics Classification System (BCS) to assess solubility and permeability.\n",
    "15. **DrugBank and ChEMBL Data**: Cross-reference known pharmacological data and target interactions from databases like DrugBank and ChEMBL.\"\"\""
   ]
  },
  {
   "cell_type": "code",
   "execution_count": 93,
   "metadata": {},
   "outputs": [],
   "source": [
    "model_performance = \"\"\"\n",
    "{'F1 score': 0.80,\n",
    " 'Accuracy': 0.69,\n",
    " 'Precision': 0.68,\n",
    " 'Recall': 0.975,\n",
    " 'Specificity': 0.20}\n",
    " \"\"\"\n",
    "#the model's performance is {model_performance} 'AUC': 0.5892699115044248,\n"
   ]
  },
  {
   "cell_type": "code",
   "execution_count": 153,
   "metadata": {},
   "outputs": [],
   "source": [
    "# n = 3 intersting \n",
    "n = 2"
   ]
  },
  {
   "cell_type": "markdown",
   "metadata": {},
   "source": [
    "## Prompts"
   ]
  },
  {
   "cell_type": "code",
   "execution_count": 154,
   "metadata": {},
   "outputs": [],
   "source": [
    "prompt4 = f\"\"\"\n",
    "{sys_prompt3}\n",
    "\n",
    "I have developed a model that can predict the drug likelibility of compound X.\n",
    "This model outputs two lists:  \n",
    "1. The five most similar approved small molecules (with their properties and similarity scores).  \n",
    "2. The five most similar non-approved small molecules (with their properties and similarity scores).  \n",
    "\n",
    "Your task is to analyze the likelihood of compound X receiving regulatory approval based on its similarity to known molecules.  \n",
    "\n",
    "- RDKit Analysis of Compound X:\n",
    "{final_df[\"rdkit_info\"][n]}\n",
    "\n",
    "Using the provided data:  \n",
    "- Approved molecules (with similarity scores): {final_df[\"list_of_most_approved_info_for_n_simmilar\"][n]}  \n",
    "- Non-approved molecules (with similarity scores): {final_df[\"list_of_most_nonapproved_info_for_n_simmilar\"][n]}  \n",
    "\"\"\"\n",
    "###############################"
   ]
  },
  {
   "cell_type": "code",
   "execution_count": 155,
   "metadata": {},
   "outputs": [
    {
     "data": {
      "text/plain": [
       "'\\nYou are an expert  chemist specializing in drug discovery and molecular modeling. You have extensive knowledge of medicinal chemistry, pharmacokinetics, molecular docking, QSAR modeling, and structure-activity relationships (SAR). Your task is to analyze chemical compounds and predict their likelihood of being viable drug candidates based on their molecular structure, physicochemical properties, and bioavailability. Consider key factors such as :\\n1. **Lipinski’s Rule of Five**: Assess whether the compound adheres to the rule (molecular weight ≤ 500, LogP ≤ 5, hydrogen bond donors ≤ 5, hydrogen bond acceptors ≤ 10).\\n2. **ADMET Properties**: Evaluate absorption, distribution, metabolism, excretion, and toxicity profiles, including:\\n   - **Absorption**: Solubility, permeability (e.g., Caco-2, PAMPA assays).\\n   - **Distribution**: Volume of distribution, plasma protein binding.\\n   - **Metabolism**: Cytochrome P450 enzyme interactions, metabolic stability.\\n   - **Excretion**: Renal clearance, biliary excretion.\\n   - **Toxicity**: Hepatotoxicity, cardiotoxicity, genotoxicity, and Ames test predictions.\\n4. **Veber’s Rule**: Assess drug-likeness based on polar surface area (PSA ≤ 140 Å²) and number of rotatable bonds (≤ 10).\\n5. **Ghose Filter**: Evaluate drug-likeness using criteria such as LogP (-0.4 to 5.6), molecular weight (160–480 Da), molar refractivity (40–130), and total atoms (20–70).\\n6. **Egan’s Rule**: Predict oral bioavailability using LogP (≤ 5.88) and topological polar surface area (TPSA ≤ 131.6 Å²).\\n7. **PAINS (Pan-Assay Interference Compounds)**: Identify and flag compounds with substructures known to cause assay interference or nonspecific binding.\\n8. **Brenk Filters**: Identify problematic functional groups that may lead to toxicity or poor pharmacokinetics.\\n9. **Rule of Three (for lead-like compounds)**: Assess compounds for lead optimization (molecular weight ≤ 300, LogP ≤ 3, hydrogen bond donors ≤ 3, hydrogen bond acceptors ≤ 3, rotatable bonds ≤ 3).\\n10. **Pharmacophore Modeling**: Evaluate whether the compound fits the essential features of a pharmacophore model for the target.\\n11. **QSAR Models**: Use quantitative structure-activity relationship models to predict biological activity and physicochemical properties.\\n12. **Bioavailability and Bioactivity**: Predict oral bioavailability and bioactivity using machine learning models and experimental data.\\n13. **Structural Alerts**: Identify structural motifs associated with toxicity or metabolic instability.\\n14. **Solubility and Permeability**: Use predictive models like the Biopharmaceutics Classification System (BCS) to assess solubility and permeability.\\n15. **DrugBank and ChEMBL Data**: Cross-reference known pharmacological data and target interactions from databases like DrugBank and ChEMBL.\\n\\nI have developed a model that can predict the drug likelibility of compound X.\\nThis model outputs two lists:  \\n1. The five most similar approved small molecules (with their properties and similarity scores).  \\n2. The five most similar non-approved small molecules (with their properties and similarity scores).  \\n\\nYour task is to analyze the likelihood of compound X receiving regulatory approval based on its similarity to known molecules.  \\n\\n- RDKit Analysis of Compound X:\\n{\\'Molecular_Weight\\': 392.5220000000001, \\'LogP\\': 2.3457, \\'Molecular_Refractivity\\': 99.09620000000002, \\'TPSA\\': 59.06, \\'Hydrogen_Bond_Donors\\': 1, \\'Hydrogen_Bond_Acceptors\\': 6, \\'Rotatable_Bonds\\': 4, \\'Chiral_Centers\\': [(3, \\'R\\'), (5, \\'S\\'), (22, \\'S\\'), (23, \\'S\\'), (25, \\'R\\')]}\\n\\nUsing the provided data:  \\n- Approved molecules (with similarity scores): [{\\'name\\': None, \\'simmilarity score\\': array([1.]), \\'approval status\\': None, \\'average mass\\': None, \\'toxicity\\': None, \\'descriptions\\': None}, {\\'name\\': None, \\'simmilarity score\\': array([0.99989522]), \\'approval status\\': None, \\'average mass\\': None, \\'toxicity\\': None, \\'descriptions\\': None}, {\\'name\\': None, \\'simmilarity score\\': array([0.99078071]), \\'approval status\\': None, \\'average mass\\': None, \\'toxicity\\': None, \\'descriptions\\': None}, {\\'name\\': \\'Zotepine\\', \\'simmilarity score\\': array([0.99056888]), \\'approval status\\': \\'approved\\', \\'average mass\\': 331.86, \\'toxicity\\': \\'The use of zotepine has been vastly related to ongoing extrapyramidal side effects and it has been reported to be poorly tolerated by the patients.[A31855, A31857]\\', \\'descriptions\\': \"Zotepine, with the formula (2-chloro-11-(2-dimethyl-amino-ethoxy)-dibenzo thiepin, is a neuroleptic drug. It was designed and synthesized by Fujisawa Pharmaceutical Co Ltd.[A31855] It has been used as an antipsychotic in Japan, India and some places in Europe like UK and Germany since 1980\\'s.[A31857] Zotepine was never approved by the FDA. In 1993, it was classified as inactive drug substance (Status I, Type II) and in 1995 the FDA studied the manufacturing procedures of Zotepine tablets in Germany, but the status remained inactive.[L1082] When the analysis of antipsychotics was retaken in 2016 by the FDA, zotepine did not reach the threshold effect to be further studied.[L1313]. In the EMA, by 2015 it was under pharmacovigilance studies for the potential treatment of acute renal failure.[L1314]\"}, {\\'name\\': \\'Levofloxacin\\', \\'simmilarity score\\': array([0.9898873]), \\'approval status\\': \\'approved\\', \\'average mass\\': 361.3675, \\'toxicity\\': \"The LD<sub>50</sub> following oral administration in mice and rats is 1803 mg/kg and 1478 mg/kg, respectively.[L11725]\\\\r\\\\n\\\\r\\\\nLevofloxacin exhibits low potential for acute toxicity - following a single high dose of levofloxacin in several different test animals (e.g. mice, rats, monkeys) observed symptoms included ataxia, ptosis, decreased motor activity, dyspnea, tremors, and convulsions.[L11638] Treatment of acute overdosage should involve stomach emptying (e.g. with activated charcoal) and general supportive measures. Consider monitoring of the patient\\'s ECG to ensure QTc values remain within range.[L11692] Levofloxacin is not efficiently removed by dialysis (peritoneal or hemodialysis) and is therefore of little benefit in cases of overdose.[L11638]\", \\'descriptions\\': \\'Levofloxacin is a fluoroquinolone antibiotic and the optical S-(-) isomer of racemic [ofloxacin].[A190663] It reportedly carries 8 to 128-fold more activity against both gram-negative and gram-positive bacteria compared to R-(+)-ofloxacin[A190663] and remains stereochemically stable following administration (i.e. it does not invert to the inactive isomer).[L11638] Levofloxacin, along with other quinolones such as [gatifloxacin] and [moxifloxacin], is a member of the third generation of fluoroquinolones, colloquially referred to as the \"respiratory quinolones\" due to improved activity against gram-positive bacteria commonly implicated in respiratory infections.[A31453,A190756]\\\\r\\\\n\\\\r\\\\nLevofloxacin was first approved by the FDA in 1996, and was approved in Canada and several South American countries soon after.[A190663]\\'}]  \\n- Non-approved molecules (with similarity scores): [{\\'name\\': \\'Lucanthone\\', \\'simmilarity score\\': array([0.98516202]), \\'approval status\\': \\'not_approved\\', \\'average mass\\': 340.482, \\'toxicity\\': \\'\\', \\'descriptions\\': \\'One of the schistosomicides, it has been replaced largely by hycanthone and more recently praziquantel. (From Martindale The Extrapharmacopoeia, 30th ed., p46). It is currently being tested as a radiation sensitizer.\\'}, {\\'name\\': None, \\'simmilarity score\\': array([0.98221707]), \\'approval status\\': None, \\'average mass\\': None, \\'toxicity\\': None, \\'descriptions\\': None}, {\\'name\\': None, \\'simmilarity score\\': array([0.97818482]), \\'approval status\\': None, \\'average mass\\': None, \\'toxicity\\': None, \\'descriptions\\': None}, {\\'name\\': \\'ONO-2952\\', \\'simmilarity score\\': array([0.97475183]), \\'approval status\\': \\'not_approved\\', \\'average mass\\': 398.86, \\'toxicity\\': \\'\\', \\'descriptions\\': \\'ONO-2952 is under investigation in clinical trial NCT01887002 (Study to Evaluate the Effects of ONO-2952 on Pain Perception Produced by Rectal Distention in Female Subjects With Diarrhea-Predominant Irritable Bowel Syndrome (IBS-D)).\\'}, {\\'name\\': \\'AQX-1125\\', \\'simmilarity score\\': array([0.97448665]), \\'approval status\\': \\'not_approved\\', \\'average mass\\': 321.505, \\'toxicity\\': \\'\\', \\'descriptions\\': \\'AQX-1125 has been used in trials studying the treatment of COPD, Atopic Dermatitis, Interstitial Cystitis, and Bladder Pain Syndrome.\\'}]  \\n'"
      ]
     },
     "execution_count": 155,
     "metadata": {},
     "output_type": "execute_result"
    }
   ],
   "source": [
    "prompt4"
   ]
  },
  {
   "cell_type": "code",
   "execution_count": 156,
   "metadata": {},
   "outputs": [],
   "source": [
    "second_prompt = f\"\"\"based on the previous reasoning Think step by step and explain why it is {final_df[\"status\"][n]}\"\"\"\n",
    "\n",
    "second_prompt2 = f\"\"\"But wait the true answer is {final_df[\"status\"][n]}. think step by step and tell why\"\"\"\n",
    "## DANGEROUS:  YOU NEED TO DELETE THE FIRST THINKING PARAGRAPH OF THIS "
   ]
  },
  {
   "cell_type": "code",
   "execution_count": 157,
   "metadata": {},
   "outputs": [
    {
     "data": {
      "text/plain": [
       "'But wait the true answer is Approved. think step by step and tell why'"
      ]
     },
     "execution_count": 157,
     "metadata": {},
     "output_type": "execute_result"
    }
   ],
   "source": [
    "second_prompt2"
   ]
  },
  {
   "cell_type": "code",
   "execution_count": 158,
   "metadata": {},
   "outputs": [],
   "source": [
    "third_prompt = f\"\"\"\n",
    "write your thinking in the following format \n",
    "{{\"status(Approved/NonApproved)\": {final_df[\"status\"][n]}, \n",
    "\"reason\":   }}\n",
    "\"\"\""
   ]
  },
  {
   "cell_type": "code",
   "execution_count": 152,
   "metadata": {},
   "outputs": [
    {
     "data": {
      "text/plain": [
       "'\\nwrite your thinking in the following format \\n{\"status(Approved/NonApproved)\": Approved, \\n\"reason\":   }\\n'"
      ]
     },
     "execution_count": 152,
     "metadata": {},
     "output_type": "execute_result"
    }
   ],
   "source": [
    "third_prompt"
   ]
  },
  {
   "cell_type": "code",
   "execution_count": 118,
   "metadata": {},
   "outputs": [
    {
     "data": {
      "text/plain": [
       "'\\nYou are an expert  chemist specializing in drug discovery and molecular modeling. You have extensive knowledge of medicinal chemistry, pharmacokinetics, molecular docking, QSAR modeling, and structure-activity relationships (SAR). Your task is to analyze chemical compounds and predict their likelihood of being viable drug candidates based on their molecular structure, physicochemical properties, and bioavailability. Consider key factors such as :\\n1. **Lipinski’s Rule of Five**: Assess whether the compound adheres to the rule (molecular weight ≤ 500, LogP ≤ 5, hydrogen bond donors ≤ 5, hydrogen bond acceptors ≤ 10).\\n2. **ADMET Properties**: Evaluate absorption, distribution, metabolism, excretion, and toxicity profiles, including:\\n   - **Absorption**: Solubility, permeability (e.g., Caco-2, PAMPA assays).\\n   - **Distribution**: Volume of distribution, plasma protein binding.\\n   - **Metabolism**: Cytochrome P450 enzyme interactions, metabolic stability.\\n   - **Excretion**: Renal clearance, biliary excretion.\\n   - **Toxicity**: Hepatotoxicity, cardiotoxicity, genotoxicity, and Ames test predictions.\\n4. **Veber’s Rule**: Assess drug-likeness based on polar surface area (PSA ≤ 140 Å²) and number of rotatable bonds (≤ 10).\\n5. **Ghose Filter**: Evaluate drug-likeness using criteria such as LogP (-0.4 to 5.6), molecular weight (160–480 Da), molar refractivity (40–130), and total atoms (20–70).\\n6. **Egan’s Rule**: Predict oral bioavailability using LogP (≤ 5.88) and topological polar surface area (TPSA ≤ 131.6 Å²).\\n7. **PAINS (Pan-Assay Interference Compounds)**: Identify and flag compounds with substructures known to cause assay interference or nonspecific binding.\\n8. **Brenk Filters**: Identify problematic functional groups that may lead to toxicity or poor pharmacokinetics.\\n9. **Rule of Three (for lead-like compounds)**: Assess compounds for lead optimization (molecular weight ≤ 300, LogP ≤ 3, hydrogen bond donors ≤ 3, hydrogen bond acceptors ≤ 3, rotatable bonds ≤ 3).\\n10. **Pharmacophore Modeling**: Evaluate whether the compound fits the essential features of a pharmacophore model for the target.\\n11. **QSAR Models**: Use quantitative structure-activity relationship models to predict biological activity and physicochemical properties.\\n12. **Bioavailability and Bioactivity**: Predict oral bioavailability and bioactivity using machine learning models and experimental data.\\n13. **Structural Alerts**: Identify structural motifs associated with toxicity or metabolic instability.\\n14. **Solubility and Permeability**: Use predictive models like the Biopharmaceutics Classification System (BCS) to assess solubility and permeability.\\n15. **DrugBank and ChEMBL Data**: Cross-reference known pharmacological data and target interactions from databases like DrugBank and ChEMBL.\\n\\nI have developed a model that can predict the drug likelibility of compound X.\\nThis model outputs two lists:  \\n1. The five most similar approved small molecules (with their properties and similarity scores).  \\n2. The five most similar non-approved small molecules (with their properties and similarity scores).  \\n\\nYour task is to analyze the likelihood of compound X receiving regulatory approval based on its similarity to known molecules.  \\n\\n- RDKit Analysis of Compound X:\\n{\\'Molecular_Weight\\': 822.9419999999996, \\'LogP\\': 2.245600000000003, \\'Molecular_Refractivity\\': 199.4383999999995, \\'TPSA\\': 267.03999999999996, \\'Hydrogen_Bond_Donors\\': 8, \\'Hydrogen_Bond_Acceptors\\': 13, \\'Rotatable_Bonds\\': 7, \\'Chiral_Centers\\': [(3, \\'S\\'), (5, \\'S\\'), (7, \\'S\\'), (11, \\'S\\'), (13, \\'S\\'), (15, \\'R\\'), (17, \\'R\\'), (19, \\'S\\'), (23, \\'S\\'), (25, \\'S\\'), (27, \\'R\\'), (31, \\'S\\'), (33, \\'R\\'), (38, \\'R\\'), (40, \\'S\\'), (47, \\'S\\'), (51, \\'S\\'), (53, \\'R\\'), (57, \\'R\\')]}\\n\\nUsing the provided data:  \\n- Approved molecules (with similarity scores): [{\\'name\\': None, \\'simmilarity score\\': array([0.99735814]), \\'approval status\\': None, \\'average mass\\': None, \\'toxicity\\': None, \\'descriptions\\': None}, {\\'name\\': \\'Budesonide\\', \\'simmilarity score\\': array([0.99513477]), \\'approval status\\': \\'approved\\', \\'average mass\\': 430.5339, \\'toxicity\\': \\'Acute overdose of corticosteroids is rare, however prolonged high dosing of corticosteroids can lead to hypercorticism and adrenal axis suppression.[L10601,L10604,L10607,L10613,L10619,L10622,L10625] In the case of overdose, reduce the dosage of corticosteroids temporarily.[L10601,L10604,L10607,L10613,L10619,L10622,L10625]\\\\r\\\\n\\\\r\\\\nA 200mg oral dose is lethal to female mice while a 400mg oral dose is lethal to male mice.[L10601,L10604,L10622]\\', \\'descriptions\\': \"Budesonide is a glucocorticoid that is a mix of the 22R and 22S epimer used to treat inflammatory conditions of the lungs and intestines such as asthma, COPD, Crohn\\'s disease, and ulcerative colitis.[A188529,A188532]\\\\r\\\\n\\\\r\\\\nBudesonide was granted FDA approval on 14 February 1994.[L10598] It is also available in a combination product with [formoterol].[L10619]\"}, {\\'name\\': None, \\'simmilarity score\\': array([0.99470568]), \\'approval status\\': None, \\'average mass\\': None, \\'toxicity\\': None, \\'descriptions\\': None}, {\\'name\\': None, \\'simmilarity score\\': array([0.99425656]), \\'approval status\\': None, \\'average mass\\': None, \\'toxicity\\': None, \\'descriptions\\': None}, {\\'name\\': None, \\'simmilarity score\\': array([0.99423903]), \\'approval status\\': None, \\'average mass\\': None, \\'toxicity\\': None, \\'descriptions\\': None}]  \\n- Non-approved molecules (with similarity scores): [{\\'name\\': None, \\'simmilarity score\\': array([0.99602419]), \\'approval status\\': None, \\'average mass\\': None, \\'toxicity\\': None, \\'descriptions\\': None}, {\\'name\\': \\'Ingenol disoxate\\', \\'simmilarity score\\': array([0.99359536]), \\'approval status\\': \\'not_approved\\', \\'average mass\\': 499.604, \\'toxicity\\': \\'\\', \\'descriptions\\': \\'Ingenol disoxate is under investigation in clinical trial NCT02120456 (Safety and Efficacy of Escalating Doses of LEO 43204 Applied Once Daily for Two Consecutive Days on Approximately 250 cm2 on Trunk and Extremities in Subjects With Actinic Keratosis).\\'}, {\\'name\\': \\'Esuberaprost\\', \\'simmilarity score\\': array([0.99259883]), \\'approval status\\': \\'not_approved\\', \\'average mass\\': 398.499, \\'toxicity\\': \\'\\', \\'descriptions\\': \\'Esuberaprost (GP-1681), a drug intended for participants with pulmonary arterial hypertension, was under investigation in clinical trial NCT03657095 to evaluate its efficacy and safety.\\'}, {\\'name\\': \\'Natamycin\\', \\'simmilarity score\\': array([0.98866493]), \\'approval status\\': \\'approved\\', \\'average mass\\': 665.733, \\'toxicity\\': \\'\\', \\'descriptions\\': \\'Amphoteric macrolide antifungal antibiotic from Streptomyces natalensis or S. chattanoogensis. It is used for a variety of fungal infections, mainly topically. [PubChem]\\'}, {\\'name\\': \\'Anecortave\\', \\'simmilarity score\\': array([0.98726869]), \\'approval status\\': \\'not_approved\\', \\'average mass\\': 344.451, \\'toxicity\\': \\'\\', \\'descriptions\\': \\'Anecortave is under investigation in clinical trial NCT00691717 (Anecortave Acetate Safety in Patients With Open-Angle Glaucoma or Ocular Hypertension).\\'}]  \\n\\n###############################\\nbased on the previous reasoning:  \\nThink step by step and explain why it is Approved'"
      ]
     },
     "execution_count": 118,
     "metadata": {},
     "output_type": "execute_result"
    }
   ],
   "source": [
    "prompt4"
   ]
  },
  {
   "cell_type": "code",
   "execution_count": 15,
   "metadata": {},
   "outputs": [],
   "source": [
    "prompt5 = f\"\"\"\n",
    "{sys_prompt2}\n",
    "\n",
    "I have developed a model that can predict the drug likelibility of compound X.\n",
    "This model outputs two lists:  \n",
    "1. The five most similar approved small molecules (with their properties and similarity scores).  \n",
    "2. The five most similar non-approved small molecules (with their properties and similarity scores).  \n",
    "\n",
    "Your task is to analyze the likelihood of compound X receiving regulatory approval based on its similarity to known molecules.  \n",
    "\n",
    "Using the provided data:  \n",
    "- Approved molecules (with similarity scores): {final_df[\"list_of_most_approved_info_for_n_simmilar\"][n]}  \n",
    "- Non-approved molecules (with similarity scores): {final_df[\"list_of_most_nonapproved_info_for_n_simmilar\"][n]}  \n",
    "please predict that will the compound X approved? \n",
    "\n",
    "and fill the following dictionary\n",
    "{{\"status\": }}\n",
    "\n",
    "answer = {final_df[\"status\"][n]}\n",
    "\"\"\""
   ]
  },
  {
   "cell_type": "code",
   "execution_count": 16,
   "metadata": {},
   "outputs": [
    {
     "data": {
      "text/plain": [
       "'\\nYou are an expert computational chemist specializing in drug discovery and molecular modeling. You have extensive knowledge of medicinal chemistry, pharmacokinetics, molecular docking, QSAR modeling, and structure-activity relationships (SAR). Your task is to analyze chemical compounds and predict their likelihood of being viable drug candidates based on their molecular structure, physicochemical properties, and bioavailability. Consider key factors such as Lipinski’s Rule of Five, ADMET (absorption, distribution, metabolism, excretion, toxicity) properties, target binding affinity, and known pharmacological data when making your assessments. Provide scientifically sound explanations for your predictions.\\n\\nI have developed a model that can predict the drug likelibility of compound X.\\nThis model outputs two lists:  \\n1. The five most similar approved small molecules (with their properties and similarity scores).  \\n2. The five most similar non-approved small molecules (with their properties and similarity scores).  \\n\\nYour task is to analyze the likelihood of compound X receiving regulatory approval based on its similarity to known molecules.  \\n\\nUsing the provided data:  \\n- Approved molecules (with similarity scores): [{\\'name\\': None, \\'simmilarity score\\': array([0.99735814]), \\'approval status\\': None, \\'average mass\\': None, \\'toxicity\\': None, \\'descriptions\\': None}, {\\'name\\': \\'Budesonide\\', \\'simmilarity score\\': array([0.99513477]), \\'approval status\\': \\'approved\\', \\'average mass\\': 430.5339, \\'toxicity\\': \\'Acute overdose of corticosteroids is rare, however prolonged high dosing of corticosteroids can lead to hypercorticism and adrenal axis suppression.[L10601,L10604,L10607,L10613,L10619,L10622,L10625] In the case of overdose, reduce the dosage of corticosteroids temporarily.[L10601,L10604,L10607,L10613,L10619,L10622,L10625]\\\\r\\\\n\\\\r\\\\nA 200mg oral dose is lethal to female mice while a 400mg oral dose is lethal to male mice.[L10601,L10604,L10622]\\', \\'descriptions\\': \"Budesonide is a glucocorticoid that is a mix of the 22R and 22S epimer used to treat inflammatory conditions of the lungs and intestines such as asthma, COPD, Crohn\\'s disease, and ulcerative colitis.[A188529,A188532]\\\\r\\\\n\\\\r\\\\nBudesonide was granted FDA approval on 14 February 1994.[L10598] It is also available in a combination product with [formoterol].[L10619]\"}, {\\'name\\': None, \\'simmilarity score\\': array([0.99470568]), \\'approval status\\': None, \\'average mass\\': None, \\'toxicity\\': None, \\'descriptions\\': None}, {\\'name\\': None, \\'simmilarity score\\': array([0.99425656]), \\'approval status\\': None, \\'average mass\\': None, \\'toxicity\\': None, \\'descriptions\\': None}, {\\'name\\': None, \\'simmilarity score\\': array([0.99423903]), \\'approval status\\': None, \\'average mass\\': None, \\'toxicity\\': None, \\'descriptions\\': None}]  \\n- Non-approved molecules (with similarity scores): [{\\'name\\': None, \\'simmilarity score\\': array([0.99602419]), \\'approval status\\': None, \\'average mass\\': None, \\'toxicity\\': None, \\'descriptions\\': None}, {\\'name\\': \\'Ingenol disoxate\\', \\'simmilarity score\\': array([0.99359536]), \\'approval status\\': \\'not_approved\\', \\'average mass\\': 499.604, \\'toxicity\\': \\'\\', \\'descriptions\\': \\'Ingenol disoxate is under investigation in clinical trial NCT02120456 (Safety and Efficacy of Escalating Doses of LEO 43204 Applied Once Daily for Two Consecutive Days on Approximately 250 cm2 on Trunk and Extremities in Subjects With Actinic Keratosis).\\'}, {\\'name\\': \\'Esuberaprost\\', \\'simmilarity score\\': array([0.99259883]), \\'approval status\\': \\'not_approved\\', \\'average mass\\': 398.499, \\'toxicity\\': \\'\\', \\'descriptions\\': \\'Esuberaprost (GP-1681), a drug intended for participants with pulmonary arterial hypertension, was under investigation in clinical trial NCT03657095 to evaluate its efficacy and safety.\\'}, {\\'name\\': \\'Natamycin\\', \\'simmilarity score\\': array([0.98866493]), \\'approval status\\': \\'approved\\', \\'average mass\\': 665.733, \\'toxicity\\': \\'\\', \\'descriptions\\': \\'Amphoteric macrolide antifungal antibiotic from Streptomyces natalensis or S. chattanoogensis. It is used for a variety of fungal infections, mainly topically. [PubChem]\\'}, {\\'name\\': \\'Anecortave\\', \\'simmilarity score\\': array([0.98726869]), \\'approval status\\': \\'not_approved\\', \\'average mass\\': 344.451, \\'toxicity\\': \\'\\', \\'descriptions\\': \\'Anecortave is under investigation in clinical trial NCT00691717 (Anecortave Acetate Safety in Patients With Open-Angle Glaucoma or Ocular Hypertension).\\'}]  \\nplease predict that will the compound X approved? \\n\\nand fill the following dictionary\\n{\"status\": }\\n\\nanswer = Approved\\n'"
      ]
     },
     "execution_count": 16,
     "metadata": {},
     "output_type": "execute_result"
    }
   ],
   "source": [
    "prompt5"
   ]
  },
  {
   "cell_type": "code",
   "execution_count": null,
   "metadata": {},
   "outputs": [],
   "source": [
    "########### ADD THIS TO THE END OF PROMPT   \n",
    "\n",
    "\"\"\"\n",
    "and fill the following dictionary\n",
    "{\"status\": }\n",
    "\\n\\n\"\n",
    "\n",
    "answer = non approved\n",
    "\"\"\""
   ]
  },
  {
   "cell_type": "code",
   "execution_count": 11,
   "metadata": {},
   "outputs": [
    {
     "data": {
      "text/plain": [
       "'\\nYou are an expert computational chemist specializing in drug discovery and molecular modeling. You have extensive knowledge of medicinal chemistry, pharmacokinetics, molecular docking, QSAR modeling, and structure-activity relationships (SAR). Your task is to analyze chemical compounds and predict their likelihood of being viable drug candidates based on their molecular structure, physicochemical properties, and bioavailability. Consider key factors such as Lipinski’s Rule of Five, ADMET (absorption, distribution, metabolism, excretion, toxicity) properties, target binding affinity, and known pharmacological data when making your assessments. Provide scientifically sound explanations for your predictions.\\n\\nI have developed a model that can predict the drug likelibility of compound X.\\nThis model outputs two lists:  \\n1. The five most similar approved small molecules (with their properties and similarity scores).  \\n2. The five most similar non-approved small molecules (with their properties and similarity scores).  \\n\\nYour task is to analyze the likelihood of compound X receiving regulatory approval based on its similarity to known molecules.  \\n\\nUsing the provided data:  \\n- Approved molecules (with similarity scores): [{\\'name\\': \\'Penciclovir\\', \\'simmilarity score\\': array([0.98471791]), \\'approval status\\': \\'approved\\', \\'average mass\\': 253.2578, \\'toxicity\\': \\'Symptoms of overdose include headache, abdominal pain, increased serum lipase, nausea, dyspepsia, dizziness, and hyperbilirubinemia.\\', \\'descriptions\\': \\'Penciclovir is a synthetic acyclic guanine derivative with antiviral activity used for the treatment of various herpes simplex virus (HSV) infections. Displaying low toxicity and good selectivity, penciclovir is a nucleoside analogue.\\'}, {\\'name\\': None, \\'simmilarity score\\': array([0.98109537]), \\'approval status\\': None, \\'average mass\\': None, \\'toxicity\\': None, \\'descriptions\\': None}, {\\'name\\': \\'Sulfadoxine\\', \\'simmilarity score\\': array([0.98080677]), \\'approval status\\': \\'approved\\', \\'average mass\\': 310.329, \\'toxicity\\': \\'\\', \\'descriptions\\': \\'A long acting sulfonamide that is used, usually in combination with other drugs, for respiratory, urinary tract, and malarial infections.\\'}, {\\'name\\': \\'Aminophylline\\', \\'simmilarity score\\': array([0.98003513]), \\'approval status\\': \\'approved\\', \\'average mass\\': 420.4264, \\'toxicity\\': \\'\\', \\'descriptions\\': \\'Aminophylline is a drug combination that contains theophylline and ethylenediamine in a 2:1 ratio. Once in the body, theophylline is released and acts as a phosphodiesterase inhibitor, adenosine receptor blocker, and histone deacetylase activator. Similar to other theophyllines, aminophylline is indicated for the treatment of lung diseases such as asthma, chronic bronchitis, and COPD. The majority of aminophylline medications are discontinued and the remaining medications on the market are in short supply.\\'}, {\\'name\\': \\'Metoclopramide\\', \\'simmilarity score\\': array([0.97967184]), \\'approval status\\': \\'approved\\', \\'average mass\\': 299.796, \\'toxicity\\': \"The rat oral LD50 of metoclopramide is 750 mg/kg.[L8465]\\\\r\\\\n\\\\r\\\\nSome symptoms of an overdose with metoclopramide include drowsiness, disorientation, and extrapyramidal reactions. Drugs that manage Parkinson\\'s disease or anticholinergic drugs or antihistamines with anticholinergic properties [A185174] should be employed to treat extrapyramidal symptoms. Normally, these symptoms subside within 24 hours.[L8414] Unintentional overdose in infants receiving the oral solution of metoclopramide resulted in seizures, extrapyramidal symptoms, in addition to a lethargic state.\\\\r\\\\n\\\\r\\\\nIn addition, methemoglobinemia has been found to occur in premature and full-term neonates after a metoclopramide overdose. Intravenous methylene blue may treat metoclopramide-associated methemoglobinemia. It is important to note that methylene blue administration may lead to hemolytic anemia in patients who suffer from G6PD deficiency, which can result in fatality. Dialysis has not been shown to be effective in sufficiently eliminating metoclopramide in an overdose situation due to low plasma distribution of this drug.[L8414]\", \\'descriptions\\': \\'Diabetic gastroparesis is a condition that causes frequent nausea and vomiting, which has a negative impact on quality of life and poses a significant burden on the healthcare system.[A184934] Metoclopramide is a dopamine antagonist used to treat nausea and vomiting that may be associated with diabetic gastroparesis in addition to gastroesophageal reflux disease (GERD). It can also be used to prevent nausea or vomiting associated with chemotherapy or certain surgical or diagnostic procedures.[L8417] \\\\r\\\\n\\\\r\\\\nOne unique property of this drug is that it does not increase gastric acid secretion. It is available in the oral tablet form or in solution, and can also be administered through the intravenous route.[T683] Metoclopramide was initially approved by the FDA in 1980.[A184922]\\'}]  \\n- Non-approved molecules (with similarity scores): [{\\'name\\': \\'Flutemetamol\\', \\'simmilarity score\\': array([0.96195358]), \\'approval status\\': \\'not_approved\\', \\'average mass\\': 274.31, \\'toxicity\\': \\'\\', \\'descriptions\\': \\'Flutemetamol is under investigation in clinical trial NCT02353949 (Investigating the Clinical Consequences of Flutemetamol-PET-scanning).\\'}, {\\'name\\': None, \\'simmilarity score\\': array([0.96082592]), \\'approval status\\': None, \\'average mass\\': None, \\'toxicity\\': None, \\'descriptions\\': None}, {\\'name\\': \\'Lucanthone\\', \\'simmilarity score\\': array([0.95873022]), \\'approval status\\': \\'not_approved\\', \\'average mass\\': 340.482, \\'toxicity\\': \\'\\', \\'descriptions\\': \\'One of the schistosomicides, it has been replaced largely by hycanthone and more recently praziquantel. (From Martindale The Extrapharmacopoeia, 30th ed., p46). It is currently being tested as a radiation sensitizer.\\'}, {\\'name\\': \\'Alagebrium\\', \\'simmilarity score\\': array([0.95749164]), \\'approval status\\': \\'not_approved\\', \\'average mass\\': 232.32, \\'toxicity\\': \\'\\', \\'descriptions\\': \\'Alagebrium has been investigated for the treatment and prevention of Aging, Heart Failure, Physical Activity, Diabetic Nephropathy, and Cardiovascular Disease, among others.\\'}, {\\'name\\': None, \\'simmilarity score\\': array([0.95741212]), \\'approval status\\': None, \\'average mass\\': None, \\'toxicity\\': None, \\'descriptions\\': None}]  \\nplease predict that will the compound X approved? \\n\\n'"
      ]
     },
     "execution_count": 11,
     "metadata": {},
     "output_type": "execute_result"
    }
   ],
   "source": [
    "prompt4"
   ]
  },
  {
   "cell_type": "markdown",
   "metadata": {},
   "source": [
    "## Prompt arxives"
   ]
  },
  {
   "cell_type": "code",
   "execution_count": 17,
   "metadata": {},
   "outputs": [],
   "source": [
    "\n",
    "\n",
    "input_prompt_3 = f\"\"\"\n",
    "Your task is to analyze the likelihood of compound X receiving regulatory approval based on its similarity to known molecules.  \n",
    "\n",
    "I have developed a model that identifies molecules most similar to compound X. This model outputs two lists:  \n",
    "1. The five most similar approved small molecules (with their properties and similarity scores).  \n",
    "2. The five most similar non-approved small molecules (with their properties and similarity scores).  \n",
    "\n",
    "Using the provided data:  \n",
    "- Approved molecules (with similarity scores): {final_df[\"list_of_most_approved_info_for_n_simmilar\"][n]}  \n",
    "- Non-approved molecules (with similarity scores): {final_df[\"list_of_most_nonapproved_info_for_n_simmilar\"][n]}  \n",
    "\n",
    "Please analyze the molecular properties, trends, and distinguishing features in both lists. Take the similarity scores into account when evaluating the degree of resemblance between compound X and the approved/non-approved molecules.  \n",
    "\n",
    "Based on these comparisons, determine whether compound X is more likely to be approved or not. Justify your reasoning by highlighting key characteristics that align with approved or non-approved compounds, and discuss how the similarity scores influence your prediction.  \n",
    "\n",
    "\"\"\"\n"
   ]
  },
  {
   "cell_type": "code",
   "execution_count": 18,
   "metadata": {},
   "outputs": [
    {
     "data": {
      "text/plain": [
       "'\\nYour task is to analyze the likelihood of compound X receiving regulatory approval based on its similarity to known molecules.  \\n\\nI have developed a model that identifies molecules most similar to compound X. This model outputs two lists:  \\n1. The five most similar approved small molecules (with their properties and similarity scores).  \\n2. The five most similar non-approved small molecules (with their properties and similarity scores).  \\n\\nUsing the provided data:  \\n- Approved molecules (with similarity scores): [{\\'name\\': None, \\'simmilarity score\\': array([0.99735814]), \\'approval status\\': None, \\'average mass\\': None, \\'toxicity\\': None, \\'descriptions\\': None}, {\\'name\\': \\'Budesonide\\', \\'simmilarity score\\': array([0.99513477]), \\'approval status\\': \\'approved\\', \\'average mass\\': 430.5339, \\'toxicity\\': \\'Acute overdose of corticosteroids is rare, however prolonged high dosing of corticosteroids can lead to hypercorticism and adrenal axis suppression.[L10601,L10604,L10607,L10613,L10619,L10622,L10625] In the case of overdose, reduce the dosage of corticosteroids temporarily.[L10601,L10604,L10607,L10613,L10619,L10622,L10625]\\\\r\\\\n\\\\r\\\\nA 200mg oral dose is lethal to female mice while a 400mg oral dose is lethal to male mice.[L10601,L10604,L10622]\\', \\'descriptions\\': \"Budesonide is a glucocorticoid that is a mix of the 22R and 22S epimer used to treat inflammatory conditions of the lungs and intestines such as asthma, COPD, Crohn\\'s disease, and ulcerative colitis.[A188529,A188532]\\\\r\\\\n\\\\r\\\\nBudesonide was granted FDA approval on 14 February 1994.[L10598] It is also available in a combination product with [formoterol].[L10619]\"}, {\\'name\\': None, \\'simmilarity score\\': array([0.99470568]), \\'approval status\\': None, \\'average mass\\': None, \\'toxicity\\': None, \\'descriptions\\': None}, {\\'name\\': None, \\'simmilarity score\\': array([0.99425656]), \\'approval status\\': None, \\'average mass\\': None, \\'toxicity\\': None, \\'descriptions\\': None}, {\\'name\\': None, \\'simmilarity score\\': array([0.99423903]), \\'approval status\\': None, \\'average mass\\': None, \\'toxicity\\': None, \\'descriptions\\': None}]  \\n- Non-approved molecules (with similarity scores): [{\\'name\\': None, \\'simmilarity score\\': array([0.99602419]), \\'approval status\\': None, \\'average mass\\': None, \\'toxicity\\': None, \\'descriptions\\': None}, {\\'name\\': \\'Ingenol disoxate\\', \\'simmilarity score\\': array([0.99359536]), \\'approval status\\': \\'not_approved\\', \\'average mass\\': 499.604, \\'toxicity\\': \\'\\', \\'descriptions\\': \\'Ingenol disoxate is under investigation in clinical trial NCT02120456 (Safety and Efficacy of Escalating Doses of LEO 43204 Applied Once Daily for Two Consecutive Days on Approximately 250 cm2 on Trunk and Extremities in Subjects With Actinic Keratosis).\\'}, {\\'name\\': \\'Esuberaprost\\', \\'simmilarity score\\': array([0.99259883]), \\'approval status\\': \\'not_approved\\', \\'average mass\\': 398.499, \\'toxicity\\': \\'\\', \\'descriptions\\': \\'Esuberaprost (GP-1681), a drug intended for participants with pulmonary arterial hypertension, was under investigation in clinical trial NCT03657095 to evaluate its efficacy and safety.\\'}, {\\'name\\': \\'Natamycin\\', \\'simmilarity score\\': array([0.98866493]), \\'approval status\\': \\'approved\\', \\'average mass\\': 665.733, \\'toxicity\\': \\'\\', \\'descriptions\\': \\'Amphoteric macrolide antifungal antibiotic from Streptomyces natalensis or S. chattanoogensis. It is used for a variety of fungal infections, mainly topically. [PubChem]\\'}, {\\'name\\': \\'Anecortave\\', \\'simmilarity score\\': array([0.98726869]), \\'approval status\\': \\'not_approved\\', \\'average mass\\': 344.451, \\'toxicity\\': \\'\\', \\'descriptions\\': \\'Anecortave is under investigation in clinical trial NCT00691717 (Anecortave Acetate Safety in Patients With Open-Angle Glaucoma or Ocular Hypertension).\\'}]  \\n\\nPlease analyze the molecular properties, trends, and distinguishing features in both lists. Take the similarity scores into account when evaluating the degree of resemblance between compound X and the approved/non-approved molecules.  \\n\\nBased on these comparisons, determine whether compound X is more likely to be approved or not. Justify your reasoning by highlighting key characteristics that align with approved or non-approved compounds, and discuss how the similarity scores influence your prediction.  \\n\\n'"
      ]
     },
     "execution_count": 18,
     "metadata": {},
     "output_type": "execute_result"
    }
   ],
   "source": [
    "input_prompt_3"
   ]
  },
  {
   "cell_type": "code",
   "execution_count": null,
   "metadata": {},
   "outputs": [],
   "source": [
    "input_prompt_2 = f\"\"\"{sys_prompt}\n",
    "\n",
    "Your task is to provide a detailed reasoning on why compound X has an approval status of {final_df[\"status\"][n]}.\n",
    "\n",
    "I have developed a model that identifies molecules most similar to compound X. This model outputs two lists:\n",
    "1. The five most similar approved small molecules (with their properties).\n",
    "2. The five most similar non-approved small molecules (with their properties).\n",
    "\n",
    "Using the provided data:\n",
    "- Approved molecules: {final_df[\"list_of_most_approved_info_for_n_simmilar\"][n]}\n",
    "- Non-approved molecules: {final_df[\"list_of_most_nonapproved_info_for_n_simmilar\"][n]}\n",
    "\"\"\""
   ]
  },
  {
   "cell_type": "code",
   "execution_count": null,
   "metadata": {},
   "outputs": [],
   "source": [
    "prompt = f\"\"\"\n",
    "Text: {text}\n",
    "Label: {label}\n",
    "Generate a short reasoning for why the label is appropriate.\n",
    "Reasoning: \n",
    "\"\"\""
   ]
  },
  {
   "cell_type": "code",
   "execution_count": null,
   "metadata": {},
   "outputs": [],
   "source": [
    "input_prompt_2"
   ]
  },
  {
   "cell_type": "code",
   "execution_count": null,
   "metadata": {},
   "outputs": [],
   "source": [
    "input_prompt_3"
   ]
  },
  {
   "cell_type": "code",
   "execution_count": null,
   "metadata": {},
   "outputs": [],
   "source": [
    "prompt7 = f\"\"\"\n",
    "{sys_prompt3}\n",
    "\n",
    "**Drug Approval Prediction Task for Compound X**\n",
    "\n",
    "**Model Context:**\n",
    "- Trained RoBERTa classifier for SMILES molecules (Approved/Non-approved)\n",
    "- Similarity search performed using final layer embeddings\n",
    "- Data sources: DrugBank (properties/status), RDKit (compound analysis)\n",
    "\n",
    "**Provided Data for Compound X:**\n",
    "1. RDKit Analysis:\n",
    "{final_df[\"rdkit_info\"][n]}\n",
    "\n",
    "2. Most Similar Approved Compounds (Top 5):\n",
    "{final_df[\"list_of_most_approved_info_for_n_simmilar\"][n]}\n",
    "\n",
    "3. Most Similar Non-Approved Compounds (Top 5):\n",
    "{final_df[\"list_of_most_nonapproved_info_for_n_simmilar\"][n]}\n",
    "\n",
    "**Prediction Task:**\n",
    "Analyze compound X's approval potential through systematic evaluation:\n",
    "\n",
    "1. **Similarity Analysis:**\n",
    "   - Compare similarity scores between approved/non-approved groups\n",
    "   - Identify patterns in structural/chemical similarities\n",
    "   - Note any outlier similarities\n",
    "\n",
    "2. **Property Comparison:**\n",
    "   - Cross-reference RDKit properties with both groups\n",
    "   - Highlight matching properties with approved drugs\n",
    "   - Flag properties aligning with non-approved compounds\n",
    "\n",
    "3. **Model Confidence:**\n",
    "   - Consider model performance metrics in evaluation\n",
    "   - Account for potential false positives/negatives\n",
    "   - Evaluate confidence level based on similarity distributions\n",
    "\n",
    "**Required Output Format:**\n",
    "\"**Approval Prediction:** [Approved/Non-Approved] (Confidence: High/Medium/Low)\n",
    "\n",
    "**Rationale:**\n",
    "1. Key similarity factors: [List 2-3 main structural/property similarities]\n",
    "2. Differentiating features: [List 1-2 crucial differences]\n",
    "3. Model considerations: [Note any accuracy/precision/recal limitations]\n",
    "4. Supporting evidence: [Specific examples from similar compounds]\n",
    "\n",
    "**Recommended Next Steps:**\n",
    "[Suggest 2-3 further analyses or verifications]\"\n",
    "\"\"\""
   ]
  },
  {
   "cell_type": "code",
   "execution_count": null,
   "metadata": {},
   "outputs": [],
   "source": [
    "prompt6 = f\"\"\"\n",
    "\n",
    "\n",
    "{sys_prompt2}\n",
    "\n",
    "\n",
    "I have trained a roberta model for classification of molecules in SMILES format to approved and non-approved. The prformace of the model is: \n",
    "{model_performance}\n",
    "I used the last layer of the model to embedd SMILES and the did similarity search for each smiles. For each SMILES I returned the 5 most similaars and 5 most nonsimilars with their properties and similarity scores and  their properties. \n",
    "I used Drugbank to get all properties. \n",
    "I also used RDKit to get information for my molecul. \n",
    "your task is to predict the drug approval status of compund X. \n",
    "\n",
    "Using the provided data:  \n",
    "- information from RDKit that I got: {final_df[\"rdkit_info\"][0]}\n",
    "- Approved molecules (with similarity scores): {final_df[\"list_of_most_approved_info_for_n_simmilar\"][n]}  \n",
    "- Non-approved molecules (with similarity scores): {final_df[\"list_of_most_nonapproved_info_for_n_simmilar\"][n]}  \n",
    "Think step by step and predict that will the compound X approved? \n",
    "\"\"\""
   ]
  },
  {
   "cell_type": "markdown",
   "metadata": {},
   "source": [
    "## API building dataset"
   ]
  },
  {
   "cell_type": "code",
   "execution_count": null,
   "metadata": {},
   "outputs": [],
   "source": [
    "#########  https://api-docs.deepseek.com/guides/reasoning_model\n",
    "from openai import OpenAI\n",
    "client = OpenAI(api_key=\"<DeepSeek API Key>\", base_url=\"https://api.deepseek.com\")\n",
    "\n",
    "# Round 1\n",
    "messages = [{\"role\": \"user\", \"content\": \"9.11 and 9.8, which is greater?\"}]\n",
    "response = client.chat.completions.create(\n",
    "    model=\"deepseek-reasoner\",\n",
    "    messages=messages\n",
    ")\n",
    "\n",
    "reasoning_content = response.choices[0].message.reasoning_content\n",
    "content = response.choices[0].message.content\n",
    "\n",
    "# Round 2\n",
    "messages.append({'role': 'assistant', 'content': content})\n",
    "messages.append({'role': 'user', 'content': \"How many Rs are there in the word 'strawberry'?\"})\n",
    "response = client.chat.completions.create(\n",
    "    model=\"deepseek-reasoner\",\n",
    "    messages=messages\n",
    ")\n",
    "# ..."
   ]
  }
 ],
 "metadata": {
  "kernelspec": {
   "display_name": "Python 3",
   "language": "python",
   "name": "python3"
  },
  "language_info": {
   "codemirror_mode": {
    "name": "ipython",
    "version": 3
   },
   "file_extension": ".py",
   "mimetype": "text/x-python",
   "name": "python",
   "nbconvert_exporter": "python",
   "pygments_lexer": "ipython3",
   "version": "3.12.2"
  }
 },
 "nbformat": 4,
 "nbformat_minor": 2
}
