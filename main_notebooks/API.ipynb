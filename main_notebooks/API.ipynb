{
 "cells": [
  {
   "cell_type": "markdown",
   "metadata": {},
   "source": [
    "##  ATTENTION\n",
    "\n",
    "we trained a bert model on the SMILES stuctures and their approval lables. here is the result of the model \n",
    "\n",
    "Add the performance of the embedding model to the prompt\n",
    "\n",
    "array([0.93596226]) handle this similarity score. remove the array()\n",
    "\n",
    "similarity not simmilarity"
   ]
  },
  {
   "cell_type": "code",
   "execution_count": null,
   "metadata": {},
   "outputs": [],
   "source": [
    "import pandas as pd \n",
    "final_df = pd.read_csv(\"train_reason_sample.csv\")\n",
    "final_df['status'] = final_df['labels'].map({1: 'Approved', 0 :'Not Approved'})"
   ]
  },
  {
   "cell_type": "code",
   "execution_count": null,
   "metadata": {},
   "outputs": [],
   "source": [
    "sys_prompt = \"you are an expert chemist \"\n",
    "\n"
   ]
  },
  {
   "cell_type": "code",
   "execution_count": null,
   "metadata": {},
   "outputs": [],
   "source": [
    "\n",
    "input_prompt_2 = f\"\"\"{sys_prompt}\n",
    "Your task is to provide a detailed reasoning on why compound X has an approval status of {final_df[\"status\"][0]}.\n",
    "\n",
    "I have developed a model that identifies molecules most similar to compound X. This model outputs two lists:\n",
    "1. The five most similar approved small molecules (with their properties).\n",
    "2. The five most similar non-approved small molecules (with their properties).\n",
    "\n",
    "Using the provided data:\n",
    "- Approved molecules: {final_df[\"list_of_most_approved_info_for_n_simmilar\"][0]}\n",
    "- Non-approved molecules: {final_df[\"list_of_most_nonapproved_info_for_n_simmilar\"][0]}\n",
    "\n",
    "Please analyze the data and write the reasoning process which properties or patterns contribute to compound X being {final_df[\"status\"][0]}. In your explanation, compare the characteristics observed in both lists to support your reasoning.\n",
    "\"\"\"\n"
   ]
  },
  {
   "cell_type": "code",
   "execution_count": null,
   "metadata": {},
   "outputs": [],
   "source": [
    "\n",
    "\n",
    "input_prompt_3 = f\"\"\"\n",
    "Your task is to analyze the likelihood of compound X receiving regulatory approval based on its similarity to known molecules.  \n",
    "\n",
    "I have developed a model that identifies molecules most similar to compound X. This model outputs two lists:  \n",
    "1. The five most similar approved small molecules (with their properties and similarity scores).  \n",
    "2. The five most similar non-approved small molecules (with their properties and similarity scores).  \n",
    "\n",
    "Using the provided data:  \n",
    "- Approved molecules (with similarity scores): {final_df[\"list_of_most_approved_info_for_n_simmilar\"][0]}  \n",
    "- Non-approved molecules (with similarity scores): {final_df[\"list_of_most_nonapproved_info_for_n_simmilar\"][0]}  \n",
    "\n",
    "Please analyze the molecular properties, trends, and distinguishing features in both lists. Take the similarity scores into account when evaluating the degree of resemblance between compound X and the approved/non-approved molecules.  \n",
    "\n",
    "Based on these comparisons, determine whether compound X is more likely to be approved or not. Justify your reasoning by highlighting key characteristics that align with approved or non-approved compounds, and discuss how the similarity scores influence your prediction.  \n",
    "\n",
    "\"\"\"\n"
   ]
  },
  {
   "cell_type": "code",
   "execution_count": null,
   "metadata": {},
   "outputs": [],
   "source": [
    "input_prompt_2 = f\"\"\"{sys_prompt}\n",
    "\n",
    "Your task is to provide a detailed reasoning on why compound X has an approval status of {final_df[\"status\"][0]}.\n",
    "\n",
    "I have developed a model that identifies molecules most similar to compound X. This model outputs two lists:\n",
    "1. The five most similar approved small molecules (with their properties).\n",
    "2. The five most similar non-approved small molecules (with their properties).\n",
    "\n",
    "Using the provided data:\n",
    "- Approved molecules: {final_df[\"list_of_most_approved_info_for_n_simmilar\"][0]}\n",
    "- Non-approved molecules: {final_df[\"list_of_most_nonapproved_info_for_n_simmilar\"][0]}\n",
    "\"\"\""
   ]
  },
  {
   "cell_type": "code",
   "execution_count": null,
   "metadata": {},
   "outputs": [],
   "source": [
    "prompt = f\"\"\"\n",
    "Text: {text}\n",
    "Label: {label}\n",
    "Generate a short reasoning for why the label is appropriate.\n",
    "Reasoning: \n",
    "\"\"\""
   ]
  },
  {
   "cell_type": "code",
   "execution_count": null,
   "metadata": {},
   "outputs": [],
   "source": [
    "input_prompt_2"
   ]
  },
  {
   "cell_type": "code",
   "execution_count": null,
   "metadata": {},
   "outputs": [],
   "source": [
    "input_prompt_3"
   ]
  }
 ],
 "metadata": {
  "kernelspec": {
   "display_name": "3.12.2",
   "language": "python",
   "name": "python3"
  },
  "language_info": {
   "codemirror_mode": {
    "name": "ipython",
    "version": 3
   },
   "file_extension": ".py",
   "mimetype": "text/x-python",
   "name": "python",
   "nbconvert_exporter": "python",
   "pygments_lexer": "ipython3",
   "version": "3.12.2"
  }
 },
 "nbformat": 4,
 "nbformat_minor": 2
}
