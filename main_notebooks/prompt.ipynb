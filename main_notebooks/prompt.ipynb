{
 "cells": [
  {
   "cell_type": "markdown",
   "id": "faeaa212-a216-4978-85ad-4c2f951f9964",
   "metadata": {},
   "source": [
    "# The Pipeline "
   ]
  },
  {
   "cell_type": "markdown",
   "id": "6795e879-21c6-4f97-b79b-b9bbdd0c9466",
   "metadata": {},
   "source": [
    "## step1 : loading an embedding model"
   ]
  },
  {
   "cell_type": "code",
   "execution_count": 1,
   "id": "0cc4a617-152d-4f37-b549-7450f48c5bc4",
   "metadata": {},
   "outputs": [],
   "source": [
    "%%capture\n",
    "from step1 import *\n",
    "from ImportsAndDatasets import *"
   ]
  },
  {
   "cell_type": "code",
   "execution_count": 2,
   "id": "c31e2570-363a-483c-8515-9059266df1af",
   "metadata": {},
   "outputs": [],
   "source": [
    "import pandas as pd\n",
    "\n",
    "from parse_drugbank_data  import parse_drugbank ,convert_properties , extract_smiles\n",
    "\n",
    "from preprocess_df_for_smiles import *"
   ]
  },
  {
   "cell_type": "code",
   "execution_count": 3,
   "id": "c5c87c0d-71f3-4621-b053-e3fbd620bc8f",
   "metadata": {},
   "outputs": [],
   "source": [
    "df = parse_drugbank(\"/home/u111169/wrkdir/mgh-project/datasets/drugbank_data/full_database.xml\")"
   ]
  },
  {
   "cell_type": "code",
   "execution_count": 4,
   "id": "cf1320d3-490f-4892-83e8-8d74d6714744",
   "metadata": {},
   "outputs": [],
   "source": [
    "%%capture\n",
    "approved_df, not_approved_df , lookup_table = preprocess_df_for_smiles(df)"
   ]
  },
  {
   "cell_type": "code",
   "execution_count": 5,
   "id": "9ef4ac62-755a-4813-8235-591d96fa6548",
   "metadata": {},
   "outputs": [],
   "source": [
    "df_properties = lookup_table[[\"name\",\"description\", \"average_mass\", \"toxicity\",\"groups\", \"labels\" ,\"approval_stat\", \"SMILES\", \"experimental_properties\", \"calculated_properties\" ]]"
   ]
  },
  {
   "cell_type": "code",
   "execution_count": 6,
   "id": "dcb9f4e1-7f77-4415-bacc-185ae9a7ec2f",
   "metadata": {},
   "outputs": [],
   "source": [
    "train_df , val_df , test_df , dataset_train , dataset_df , dataset_test = train_valid_test_split(df_properties)"
   ]
  },
  {
   "cell_type": "code",
   "execution_count": 7,
   "id": "9c305321-6cd0-4bea-82bf-55fc839dfe64",
   "metadata": {},
   "outputs": [],
   "source": [
    "train_df = train_df[: 5]\n",
    "val_df = val_df[: 5]\n",
    "test_df = test_df[: 5]"
   ]
  },
  {
   "cell_type": "code",
   "execution_count": 28,
   "id": "02948595-ad6e-4f92-88dd-c55a83e20a38",
   "metadata": {},
   "outputs": [],
   "source": [
    "def get_dict_of_approved_and_unapproved(df, dataset_train, dataset=\"val\" , number_of_simmilar_in_each=5):\n",
    "    \"\"\"\n",
    "    \"\"\"\n",
    "    df[\"Dicts\"] = None\n",
    "    for inst in range(len(df)): \n",
    "        app_dict = {}\n",
    "        most_app , most_nonapp , tot  = get_most_app_and_most_nonapp(inst, df, dataset_train, dataset , number_of_simmilar_in_each)\n",
    "        app_dict[\"most_app\"]=most_app \n",
    "        app_dict[\"most_nonapp\"]=most_nonapp \n",
    "        df[\"Dicts\"][inst] = app_dict\n",
    "    return df"
   ]
  },
  {
   "cell_type": "code",
   "execution_count": 18,
   "id": "dbc998f5-eda1-47ed-b136-c10579b9de6a",
   "metadata": {},
   "outputs": [],
   "source": [
    "def get_value(df, smiles_value, column_name):\n",
    "    \"\"\"\n",
    "    Retrieves a value from a DataFrame based on a SMILES value and column name.\n",
    "\n",
    "    Args:\n",
    "        df (pd.DataFrame): The DataFrame to search in.\n",
    "        smiles_value (str): The SMILES value to search for.\n",
    "        column_name (str): The name of the column to retrieve the value from.\n",
    "\n",
    "    Returns:\n",
    "        The value from the specified column and SMILES value, or None if not found.\n",
    "    \"\"\"\n",
    "    row = df[df[\"SMILES\"] == smiles_value].reset_index()\n",
    "    \n",
    "    if not row.empty:\n",
    "        return row[column_name][0]\n",
    "    return None"
   ]
  },
  {
   "cell_type": "code",
   "execution_count": 19,
   "id": "a237c84f-4f95-42a8-bb0e-2654ef9e424a",
   "metadata": {},
   "outputs": [],
   "source": [
    "def get_list_of_most(most_app:pd.DataFrame , df_properties): \n",
    "    final_list_of_most = []\n",
    "    for i in most_app[\"SMILES\"]: \n",
    "        dic = {}\n",
    "        dic[\"name\"] = get_value(df_properties,i, \"name\")\n",
    "        dic[\"simmilarity score\"] = most_app.loc[most_app[\"SMILES\"] == i, \"sim\"].values\n",
    "        dic[\"approval status\"] = get_value(df_properties,i, \"approval_stat\")\n",
    "        dic[\"average mass\"] = get_value(df_properties , i, \"average_mass\")\n",
    "        dic[\"toxicity\"] = get_value(df_properties , i, \"toxicity\") \n",
    "        dic[\"descriptions\"] = get_value(df_properties , i, \"description\") \n",
    "        final_list_of_most.append(dic) \n",
    "    return final_list_of_most\n",
    "        "
   ]
  },
  {
   "cell_type": "code",
   "execution_count": 25,
   "id": "6ffa3ca2-571f-4336-bdb9-dcf413e0a824",
   "metadata": {},
   "outputs": [],
   "source": [
    "def final_dataset_containing_drug_information_as_list_ready_for_prompt(df, df_properties):\n",
    "    # Initialize the new columns with None\n",
    "    df[\"list_of_most_approved_info\"] = None\n",
    "    df[\"list_of_most_nonapproved_info\"] = None\n",
    "    \n",
    "    # Iterate over each row in the DataFrame\n",
    "    for i in range(len(df)):\n",
    "        list_of_most_approved_info = get_list_of_most(df[\"Dicts\"][i][\"most_app\"], df_properties)\n",
    "        list_of_most_nonapproved_info = get_list_of_most(df[\"Dicts\"][i][\"most_nonapp\"], df_properties)\n",
    "        df.at[i, \"list_of_most_approved_info_for_n_simmilar\"] = list_of_most_approved_info\n",
    "        df.at[i, \"list_of_most_nonapproved_info_for_n_simmilar\"] = list_of_most_nonapproved_info\n",
    "        \n",
    "    return df"
   ]
  },
  {
   "cell_type": "code",
   "execution_count": null,
   "id": "ed514b6e-4d67-4bf2-b29f-2fd462c6632b",
   "metadata": {},
   "outputs": [],
   "source": [
    "import time \n",
    "start = time.time()\n",
    "\n",
    "a = get_dict_of_approved_and_unapproved(train_df, dataset_train, dataset=\"train\" , number_of_simmilar_in_each=5)\n",
    "final_df = final_dataset_containing_drug_information_as_list_ready_for_prompt(a , df_properties)\n",
    "\n",
    "end=time.time()\n",
    "e = start - end\n",
    "print(e)"
   ]
  },
  {
   "cell_type": "markdown",
   "id": "7cd03b20-67bf-4860-b424-3b7988769f73",
   "metadata": {},
   "source": [
    "## prompt"
   ]
  },
  {
   "cell_type": "code",
   "execution_count": 36,
   "id": "34b8ae95-add7-4efa-8eea-e86713b068b3",
   "metadata": {},
   "outputs": [],
   "source": [
    "sys_prompt = \"you are an expert chemist \""
   ]
  },
  {
   "cell_type": "code",
   "execution_count": 40,
   "id": "27064107-b0f9-451c-ae83-9bf711635458",
   "metadata": {},
   "outputs": [],
   "source": [
    "input_prompt_1 = f\"\"\" {sys_prompt}\n",
    "your task is to do reasoning based on the provided informaion that why the compound X is {approval_stat}\n",
    "I trained a model that can predict the most simmilar molecules to  compound X. this model will give the five most simmilar and five most dissimillar moleculs based on the state of approvality. \n",
    "you know that the compound X is {approval_stat} and your task is to reason why this will be {approval_stat} based on the provided information. \n",
    "the most simmilar approved small molecules with their properties that my model predict to this coumpound are: \n",
    "{list_of_most_approved} \n",
    "and the most simmilar non approved small moleculs with their properties are: \n",
    "{list_of_most_nonapproved} \n",
    "\"\"\""
   ]
  },
  {
   "cell_type": "code",
   "execution_count": 38,
   "id": "96b27202-55fe-4bdd-8895-22eb639b4a56",
   "metadata": {},
   "outputs": [],
   "source": [
    "input_prompt_2 = f\"\"\"{sys_prompt}\n",
    "Your task is to provide a detailed analysis explaining why compound X has an approval status of {final_df[\"approval_stat\"][0]}.\n",
    "\n",
    "I have developed a model that identifies molecules most similar to compound X. This model outputs two lists:\n",
    "1. The five most similar approved small molecules (with their properties).\n",
    "2. The five most similar non-approved small molecules (with their properties).\n",
    "\n",
    "Using the provided data:\n",
    "- Approved molecules: {final_df[\"list_of_most_approved_info\"][0]}\n",
    "- Non-approved molecules: {final_df[\"list_of_most_nonapproved_info\"][0]}\n",
    "\n",
    "Please analyze the data and reason which properties or patterns contribute to compound X being {final_df[\"approval_stat\"][0]}. In your explanation, compare the characteristics observed in both lists to support your reasoning.\n",
    "\"\"\"\n"
   ]
  },
  {
   "cell_type": "code",
   "execution_count": 43,
   "id": "59c5ee7a-1140-404f-acef-3e0e4efb78d4",
   "metadata": {},
   "outputs": [],
   "source": [
    "input_prompt_3 = f\"\"\"\n",
    "Your task is to analyze the likelihood of compound X receiving regulatory approval based on its similarity to known molecules.  \n",
    "\n",
    "I have developed a model that identifies molecules most similar to compound X. This model outputs two lists:  \n",
    "1. The five most similar approved small molecules (with their properties and similarity scores).  \n",
    "2. The five most similar non-approved small molecules (with their properties and similarity scores).  \n",
    "\n",
    "Using the provided data:  \n",
    "- Approved molecules (with similarity scores): {list_of_most_approved}  \n",
    "- Non-approved molecules (with similarity scores): {list_of_most_nonapproved}  \n",
    "\n",
    "Please analyze the molecular properties, trends, and distinguishing features in both lists. Take the similarity scores into account when evaluating the degree of resemblance between compound X and the approved/non-approved molecules.  \n",
    "\n",
    "Based on these comparisons, determine whether compound X is more likely to be approved or not. Justify your reasoning by highlighting key characteristics that align with approved or non-approved compounds, and discuss how the similarity scores influence your prediction.  \n",
    "\n",
    "\"\"\""
   ]
  },
  {
   "cell_type": "code",
   "execution_count": 44,
   "id": "fcb1d5bf-01da-4fcb-820d-ecbf5116d474",
   "metadata": {},
   "outputs": [
    {
     "data": {
      "text/plain": [
       "\"\\nYour task is to analyze the likelihood of compound X receiving regulatory approval based on its similarity to known molecules.  \\n\\nI have developed a model that identifies molecules most similar to compound X. This model outputs two lists:  \\n1. The five most similar approved small molecules (with their properties and similarity scores).  \\n2. The five most similar non-approved small molecules (with their properties and similarity scores).  \\n\\nUsing the provided data:  \\n- Approved molecules (with similarity scores): [{'name': 'Fluorodopa (18F)', 'simmilarity score': array([0.99665236]), 'approval status': 'approved', 'chemical properties': [{'logP': '-2'}, {'logS': '-2'}, {'Water Solubility': '2.39e+00 g/l'}, {'logP': '-1.6'}, {'IUPAC Name': '(2S)-2-amino-3-[2-(¹⁸F)fluoro-4,5-dihydroxyphenyl]propanoic acid'}, {'Traditional IUPAC Name': '6-(18F)Fluoro-L-DOPA'}, {'Molecular Weight': '214.183'}, {'Monoisotopic Weight': '214.061920473'}, {'SMILES': 'N[C@@H](CC1=CC(O)=C(O)C=C1[18F])C(O)=O'}, {'Molecular Formula': 'C9H10FNO4'}, {'InChI': 'InChI=1S/C9H10FNO4/c10-5-3-8(13)7(12)2-4(5)1-6(11)9(14)15/h2-3,6,12-13H,1,11H2,(H,14,15)/t6-/m0/s1/i10-1'}, {'InChIKey': 'PAXWQORCRCBOCU-RPDRGXCHSA-N'}, {'Polar Surface Area (PSA)': '103.78'}, {'Refractivity': '49.29'}, {'Polarizability': '19.09'}, {'Rotatable Bond Count': '3'}, {'H Bond Acceptor Count': '5'}, {'H Bond Donor Count': '4'}, {'pKa (strongest acidic)': '1.32'}, {'pKa (strongest basic)': '9.4'}, {'Physiological Charge': '0'}, {'Number of Rings': '1'}, {'Bioavailability': '1'}, {'Rule of Five': '1'}, {'Ghose Filter': '0'}, {'MDDR-Like Rule': '0'}]}, {'name': 'Levodopa', 'simmilarity score': array([0.99432772]), 'approval status': 'approved', 'chemical properties': [{'logP': '-2.3'}, {'logS': '-1.8'}, {'Water Solubility': '3.30e+00 g/l'}, {'logP': '-1.8'}, {'IUPAC Name': '(2S)-2-amino-3-(3,4-dihydroxyphenyl)propanoic acid'}, {'Traditional IUPAC Name': 'tetrahydrofolic acid'}, {'Molecular Weight': '197.1879'}, {'Monoisotopic Weight': '197.068807845'}, {'SMILES': 'N[C@@H](CC1=CC(O)=C(O)C=C1)C(O)=O'}, {'Molecular Formula': 'C9H11NO4'}, {'InChI': 'InChI=1S/C9H11NO4/c10-6(9(13)14)3-5-1-2-7(11)8(12)4-5/h1-2,4,6,11-12H,3,10H2,(H,13,14)/t6-/m0/s1'}, {'InChIKey': 'WTDRDQBEARUVNC-LURJTMIESA-N'}, {'Polar Surface Area (PSA)': '103.78'}, {'Refractivity': '49.08'}, {'Polarizability': '18.91'}, {'Rotatable Bond Count': '3'}, {'H Bond Acceptor Count': '5'}, {'H Bond Donor Count': '4'}, {'pKa (strongest acidic)': '1.65'}, {'pKa (strongest basic)': '9.06'}, {'Physiological Charge': '0'}, {'Number of Rings': '1'}, {'Bioavailability': '1'}, {'Rule of Five': '1'}, {'Ghose Filter': '0'}, {'MDDR-Like Rule': '0'}]}, {'name': 'Dopamine', 'simmilarity score': array([0.99365079]), 'approval status': 'approved', 'chemical properties': [{'logP': '-0.4'}, {'logS': '-1.3'}, {'Water Solubility': '7.43e+00 g/l'}, {'logP': '0.03'}, {'IUPAC Name': '4-(2-aminoethyl)benzene-1,2-diol'}, {'Traditional IUPAC Name': 'tetrahydrofolic acid'}, {'Molecular Weight': '153.1784'}, {'Monoisotopic Weight': '153.078978601'}, {'SMILES': 'NCCC1=CC(O)=C(O)C=C1'}, {'Molecular Formula': 'C8H11NO2'}, {'InChI': 'InChI=1S/C8H11NO2/c9-4-3-6-1-2-7(10)8(11)5-6/h1-2,5,10-11H,3-4,9H2'}, {'InChIKey': 'VYFYYTLLBUKUHU-UHFFFAOYSA-N'}, {'Polar Surface Area (PSA)': '66.48'}, {'Refractivity': '43.25'}, {'Polarizability': '16.21'}, {'Rotatable Bond Count': '2'}, {'H Bond Acceptor Count': '3'}, {'H Bond Donor Count': '3'}, {'pKa (strongest acidic)': '10.01'}, {'pKa (strongest basic)': '9.27'}, {'Physiological Charge': '1'}, {'Number of Rings': '1'}, {'Bioavailability': '1'}, {'Rule of Five': '1'}, {'Ghose Filter': '0'}, {'MDDR-Like Rule': '0'}]}, {'name': 'Cianidanol', 'simmilarity score': array([0.99046004]), 'approval status': 'approved', 'chemical properties': [{'logP': '1.02'}, {'logS': '-2.6'}, {'Water Solubility': '6.45e-01 g/l'}, {'logP': '1.8'}, {'IUPAC Name': '(2R,3S)-2-(3,4-dihydroxyphenyl)-3,4-dihydro-2H-1-benzopyran-3,5,7-triol'}, {'Traditional IUPAC Name': '(+)-catechol'}, {'Molecular Weight': '290.2681'}, {'Monoisotopic Weight': '290.07903818'}, {'SMILES': 'O[C@H]1CC2=C(O)C=C(O)C=C2O[C@@H]1C1=CC=C(O)C(O)=C1'}, {'Molecular Formula': 'C15H14O6'}, {'InChI': 'InChI=1S/C15H14O6/c16-8-4-11(18)9-6-13(20)15(21-14(9)5-8)7-1-2-10(17)12(19)3-7/h1-5,13,15-20H,6H2/t13-,15+/m0/s1'}, {'InChIKey': 'PFTAWBLQPZVEMU-DZGCQCFKSA-N'}, {'Polar Surface Area (PSA)': '110.38'}, {'Refractivity': '74'}, {'Polarizability': '27.89'}, {'Rotatable Bond Count': '1'}, {'H Bond Acceptor Count': '6'}, {'H Bond Donor Count': '5'}, {'pKa (strongest acidic)': '9'}, {'pKa (strongest basic)': '-3.3'}, {'Physiological Charge': '0'}, {'Number of Rings': '3'}, {'Bioavailability': '1'}, {'Rule of Five': '1'}, {'Ghose Filter': '1'}, {'MDDR-Like Rule': '0'}]}, {'name': 'Safinamide', 'simmilarity score': array([0.98961186]), 'approval status': 'approved', 'chemical properties': [{'logP': '2.59'}, {'logS': '-4.5'}, {'Water Solubility': '9.89e-03 g/l'}, {'logP': '2.48'}, {'IUPAC Name': '(2S)-2-[({4-[(3-fluorophenyl)methoxy]phenyl}methyl)amino]propanamide'}, {'Traditional IUPAC Name': 'safinamide'}, {'Molecular Weight': '302.349'}, {'Monoisotopic Weight': '302.143056023'}, {'SMILES': 'C[C@H](NCC1=CC=C(OCC2=CC(F)=CC=C2)C=C1)C(N)=O'}, {'Molecular Formula': 'C17H19FN2O2'}, {'InChI': 'InChI=1S/C17H19FN2O2/c1-12(17(19)21)20-10-13-5-7-16(8-6-13)22-11-14-3-2-4-15(18)9-14/h2-9,12,20H,10-11H2,1H3,(H2,19,21)/t12-/m0/s1'}, {'InChIKey': 'NEMGRZFTLSKBAP-LBPRGKRZSA-N'}, {'Polar Surface Area (PSA)': '64.35'}, {'Refractivity': '83'}, {'Polarizability': '32.16'}, {'Rotatable Bond Count': '7'}, {'H Bond Acceptor Count': '3'}, {'H Bond Donor Count': '2'}, {'pKa (strongest acidic)': '15.76'}, {'pKa (strongest basic)': '7.93'}, {'Physiological Charge': '1'}, {'Number of Rings': '2'}, {'Bioavailability': '1'}, {'Rule of Five': '1'}, {'Ghose Filter': '1'}, {'MDDR-Like Rule': '0'}]}]  \\n- Non-approved molecules (with similarity scores): [{'name': '2-(3,4-Dihydroxyphenyl)Acetic Acid', 'simmilarity score': array([0.99668741]), 'approval status': 'not_approved', 'chemical properties': [{'logP': '0.93'}, {'logS': '-1.4'}, {'Water Solubility': '7.23e+00 g/l'}, {'logP': '1'}, {'IUPAC Name': '2-(3,4-dihydroxyphenyl)acetic acid'}, {'Traditional IUPAC Name': 'methoxytyramine'}, {'Molecular Weight': '168.1467'}, {'Monoisotopic Weight': '168.042258744'}, {'SMILES': 'OC(=O)CC1=CC(O)=C(O)C=C1'}, {'Molecular Formula': 'C8H8O4'}, {'InChI': 'InChI=1S/C8H8O4/c9-6-2-1-5(3-7(6)10)4-8(11)12/h1-3,9-10H,4H2,(H,11,12)'}, {'InChIKey': 'CFFZDZCDUFSOFZ-UHFFFAOYSA-N'}, {'Polar Surface Area (PSA)': '77.76'}, {'Refractivity': '41.33'}, {'Polarizability': '15.71'}, {'Rotatable Bond Count': '2'}, {'H Bond Acceptor Count': '4'}, {'H Bond Donor Count': '3'}, {'pKa (strongest acidic)': '3.61'}, {'pKa (strongest basic)': '-6.3'}, {'Physiological Charge': '-1'}, {'Number of Rings': '1'}, {'Bioavailability': '1'}, {'Rule of Five': '1'}, {'Ghose Filter': '1'}, {'MDDR-Like Rule': '0'}]}, {'name': 'Homogentisic acid', 'simmilarity score': array([0.99421453]), 'approval status': 'not_approved', 'chemical properties': [{'logP': '0.81'}, {'logS': '-1.3'}, {'Water Solubility': '8.10e+00 g/l'}, {'logP': '1'}, {'IUPAC Name': '2-(2,5-dihydroxyphenyl)acetic acid'}, {'Traditional IUPAC Name': '9-hydroxyminocycline'}, {'Molecular Weight': '168.1467'}, {'Monoisotopic Weight': '168.042258744'}, {'SMILES': 'OC(=O)CC1=CC(O)=CC=C1O'}, {'Molecular Formula': 'C8H8O4'}, {'InChI': 'InChI=1S/C8H8O4/c9-6-1-2-7(10)5(3-6)4-8(11)12/h1-3,9-10H,4H2,(H,11,12)'}, {'InChIKey': 'IGMNYECMUMZDDF-UHFFFAOYSA-N'}, {'Polar Surface Area (PSA)': '77.76'}, {'Refractivity': '41.33'}, {'Polarizability': '15.57'}, {'Rotatable Bond Count': '2'}, {'H Bond Acceptor Count': '4'}, {'H Bond Donor Count': '3'}, {'pKa (strongest acidic)': '3.57'}, {'pKa (strongest basic)': '-5.9'}, {'Physiological Charge': '-1'}, {'Number of Rings': '1'}, {'Bioavailability': '1'}, {'Rule of Five': '1'}, {'Ghose Filter': '1'}, {'MDDR-Like Rule': '0'}]}, {'name': '3-Amino-6-Hydroxy-Tyrosine', 'simmilarity score': array([0.99339795]), 'approval status': 'not_approved', 'chemical properties': [{'logP': '-2.6'}, {'logS': '-1.8'}, {'Water Solubility': '3.21e+00 g/l'}, {'logP': '-2.7'}, {'IUPAC Name': '(2S)-2-amino-3-(5-amino-2,4-dihydroxyphenyl)propanoic acid'}, {'Traditional IUPAC Name': 'biotin'}, {'Molecular Weight': '212.2026'}, {'Monoisotopic Weight': '212.079706882'}, {'SMILES': 'N[C@@H](CC1=CC(N)=C(O)C=C1O)C(O)=O'}, {'Molecular Formula': 'C9H12N2O4'}, {'InChI': 'InChI=1S/C9H12N2O4/c10-5-1-4(2-6(11)9(14)15)7(12)3-8(5)13/h1,3,6,12-13H,2,10-11H2,(H,14,15)/t6-/m0/s1'}, {'InChIKey': 'OIXIYIGKZVEKPI-LURJTMIESA-N'}, {'Polar Surface Area (PSA)': '129.8'}, {'Refractivity': '53.78'}, {'Polarizability': '20.41'}, {'Rotatable Bond Count': '3'}, {'H Bond Acceptor Count': '6'}, {'H Bond Donor Count': '5'}, {'pKa (strongest acidic)': '0.99'}, {'pKa (strongest basic)': '9.05'}, {'Physiological Charge': '0'}, {'Number of Rings': '1'}, {'Bioavailability': '1'}, {'Rule of Five': '1'}, {'Ghose Filter': '0'}, {'MDDR-Like Rule': '0'}]}, {'name': '3,4-Dihydroxybenzoic Acid', 'simmilarity score': array([0.9927032]), 'approval status': 'not_approved', 'chemical properties': [{'logP': '1.32'}, {'logS': '-1.1'}, {'Water Solubility': '1.24e+01 g/l'}, {'logP': '1.02'}, {'IUPAC Name': '3,4-dihydroxybenzoic acid'}, {'Traditional IUPAC Name': '3,4-dihydroxybenzoic acid'}, {'Molecular Weight': '154.1201'}, {'Monoisotopic Weight': '154.02660868'}, {'SMILES': 'OC(=O)C1=CC=C(O)C(O)=C1'}, {'Molecular Formula': 'C7H6O4'}, {'InChI': 'InChI=1S/C7H6O4/c8-5-2-1-4(7(10)11)3-6(5)9/h1-3,8-9H,(H,10,11)'}, {'InChIKey': 'YQUVCSBJEUQKSH-UHFFFAOYSA-N'}, {'Polar Surface Area (PSA)': '77.76'}, {'Refractivity': '37.28'}, {'Polarizability': '13.85'}, {'Rotatable Bond Count': '1'}, {'H Bond Acceptor Count': '4'}, {'H Bond Donor Count': '3'}, {'pKa (strongest acidic)': '4.16'}, {'pKa (strongest basic)': '-6.3'}, {'Physiological Charge': '-1'}, {'Number of Rings': '1'}, {'Bioavailability': '1'}, {'Rule of Five': '1'}, {'Ghose Filter': '0'}, {'MDDR-Like Rule': '0'}]}, {'name': 'Hydroxytyrosol', 'simmilarity score': array([0.99254477]), 'approval status': 'not_approved', 'chemical properties': [{'logP': '0.13'}, {'logS': '-0.95'}, {'Water Solubility': '1.74e+01 g/l'}, {'logP': '0.89'}, {'IUPAC Name': '4-(2-hydroxyethyl)benzene-1,2-diol'}, {'Traditional IUPAC Name': 'methoxytyramine'}, {'Molecular Weight': '154.1632'}, {'Monoisotopic Weight': '154.062994186'}, {'SMILES': 'OCCC1=CC=C(O)C(O)=C1'}, {'Molecular Formula': 'C8H10O3'}, {'InChI': 'InChI=1S/C8H10O3/c9-4-3-6-1-2-7(10)8(11)5-6/h1-2,5,9-11H,3-4H2'}, {'InChIKey': 'JUUBCHWRXWPFFH-UHFFFAOYSA-N'}, {'Polar Surface Area (PSA)': '60.69'}, {'Refractivity': '41.59'}, {'Polarizability': '15.74'}, {'Rotatable Bond Count': '2'}, {'H Bond Acceptor Count': '3'}, {'H Bond Donor Count': '3'}, {'pKa (strongest acidic)': '9.45'}, {'pKa (strongest basic)': '-2.4'}, {'Physiological Charge': '0'}, {'Number of Rings': '1'}, {'Bioavailability': '1'}, {'Rule of Five': '1'}, {'Ghose Filter': '0'}, {'MDDR-Like Rule': '0'}]}]  \\n\\nPlease analyze the molecular properties, trends, and distinguishing features in both lists. Take the similarity scores into account when evaluating the degree of resemblance between compound X and the approved/non-approved molecules.  \\n\\nBased on these comparisons, determine whether compound X is more likely to be approved or not. Justify your reasoning by highlighting key characteristics that align with approved or non-approved compounds, and discuss how the similarity scores influence your prediction.  \\n\\n\""
      ]
     },
     "execution_count": 44,
     "metadata": {},
     "output_type": "execute_result"
    }
   ],
   "source": [
    "input_prompt_3"
   ]
  },
  {
   "cell_type": "code",
   "execution_count": null,
   "id": "7c1ea089-679b-44c7-9890-c216ada65595",
   "metadata": {},
   "outputs": [],
   "source": []
  }
 ],
 "metadata": {
  "kernelspec": {
   "display_name": "Python 3 (ipykernel)",
   "language": "python",
   "name": "python3"
  },
  "language_info": {
   "codemirror_mode": {
    "name": "ipython",
    "version": 3
   },
   "file_extension": ".py",
   "mimetype": "text/x-python",
   "name": "python",
   "nbconvert_exporter": "python",
   "pygments_lexer": "ipython3",
   "version": "3.10.9"
  }
 },
 "nbformat": 4,
 "nbformat_minor": 5
}
