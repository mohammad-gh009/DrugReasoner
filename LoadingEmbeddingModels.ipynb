{
 "cells": [
  {
   "cell_type": "markdown",
   "id": "0f820518-3765-4514-89e2-0d1b1d5b2e1a",
   "metadata": {
    "tags": []
   },
   "source": [
    "# step1 : loading an embedding model"
   ]
  },
  {
   "cell_type": "markdown",
   "id": "6c25856b-6898-43f9-af3c-44c0b12056fa",
   "metadata": {},
   "source": [
    "Use the fine-tuned version of Chemberta or sentence transformers, as an embedding model. \n",
    "\n",
    "input: datasets.\n",
    "\n",
    "output: embedding space of the datasets and a function that can measure the simmilarity"
   ]
  },
  {
   "cell_type": "code",
   "execution_count": 28,
   "id": "21e7e1dd-76f7-4416-a2dd-e516f0faab9f",
   "metadata": {},
   "outputs": [],
   "source": [
    "from ImportsAndDatasets import *"
   ]
  },
  {
   "cell_type": "code",
   "execution_count": 29,
   "id": "a8d0236f-57e2-40d1-bdbd-c7fe838308be",
   "metadata": {},
   "outputs": [],
   "source": [
    "import pandas as pd\n",
    "import torch\n",
    "from transformers import AutoModel\n",
    "from rdkit import Chem\n",
    "from rdkit.Chem import AllChem\n",
    "from rdkit.Chem import Draw\n",
    "from rdkit.Chem import RDKFingerprint\n",
    "from rdkit.Avalon.pyAvalonTools import GetAvalonFP\n",
    "\n",
    "def preprocess_and_extract_embeddings(examples):\n",
    "    inputs = tokenizer(examples['SMILES'], return_tensors='pt', padding=True, truncation=True)\n",
    "    inputs = inputs.to(device)\n",
    "    with torch.no_grad():\n",
    "        outputs = model(**inputs)\n",
    "        # Extract the last hidden state\n",
    "        last_hidden_state = outputs.last_hidden_state  # This is the embedding from the last layer\n",
    "        # Take the average of the last hidden state across the sequence length dimension\n",
    "        embeddings = last_hidden_state.mean(dim=1).squeeze()\n",
    "        embeddings = embeddings.cpu()  # Move tensors to CPU\n",
    "    return {\n",
    "        'last_hidden_state':last_hidden_state, \n",
    "        'embeddings': embeddings.numpy(),\n",
    "        'SMILES': examples['SMILES']  # Optional: include the original SMILES if needed\n",
    "    }\n",
    "\n",
    "\n",
    "def one_embeddings(examples):\n",
    "    inputs = tokenizer(examples, return_tensors='pt', padding=True, truncation=True)\n",
    "    inputs = inputs.to(device)\n",
    "    with torch.no_grad():\n",
    "        outputs = model(**inputs)\n",
    "        # Extract the last hidden state\n",
    "        last_hidden_state = outputs.last_hidden_state  # This is the embedding from the last layer\n",
    "        # Take the average of the last hidden state across the sequence length dimension\n",
    "        embeddings = last_hidden_state.mean(dim=1).squeeze()\n",
    "        embeddings = embeddings.cpu()  # Move tensors to CPU\n",
    "    return {\n",
    "        #'last_hidden_state':last_hidden_state,\n",
    "        'embeddings': embeddings.numpy(),\n",
    "        # 'SMILES': examples['SMILES']  # Optional: include the original SMILES if needed\n",
    "    }\n",
    "def get_sim_score(dataset_train: pd.DataFrame , smile:str , app:int , nonapp:int )-> pd.DataFrame:\n",
    "    \"\"\"\n",
    "    \n",
    "    \"\"\"\n",
    "    train_embeded= dataset_train.map(preprocess_and_extract_embeddings, batch_size=8, writer_batch_size=8).to_pandas() \n",
    "    main = torch.tensor(train_embeded[\"embeddings\"])\n",
    "    one = torch.tensor(one_embeddings(smile)[\"embeddings\"])\n",
    "    similarities = torch.cosine_similarity(one.unsqueeze(0), main, dim=1) \n",
    "    train_embeded[\"sim\"]=similarities.tolist() \n",
    "    train_embeded.drop(columns=[\"embeddings\" , \"last_hidden_state\"] , inplace = True)\n",
    "    most_app = train_embeded[train_embeded[\"labels\"]==1].sort_values(by=[\"sim\"] , ascending = False)[:app]\n",
    "    most_nonapp = train_embeded[train_embeded[\"labels\"]==0].sort_values(by=[\"sim\"] , ascending = False)[:nonapp]\n",
    "    final = train_embeded.sort_values(by=[\"sim\"] , ascending = False)[:nonapp]\n",
    "    print(f\"most simmilar SMILES to {smile} based on the model's prediction\")\n",
    "    return most_app , most_nonapp , final\n",
    "\n",
    "def preprocess_and_predict_encoder(examples):\n",
    "    inputs = tokenizer(examples, return_tensors='pt', padding=True, truncation = True)\n",
    "    inputs = inputs.to(device)\n",
    "    outputs = model(**inputs)\n",
    "    predicted_class_idx = torch.argmax(outputs.logits)\n",
    "    predicted_class_prob = torch.nn.functional.softmax(outputs.logits, dim=1)[0][predicted_class_idx]\n",
    "    predicted_class_idx = predicted_class_idx.cpu()  # Move tensors to CPU\n",
    "    predicted_class_prob = predicted_class_prob.cpu()\n",
    "    return {\n",
    "        'predicted_class_base': predicted_class_idx.item(),\n",
    "        'predicted_class_prob_base': predicted_class_prob.item()\n",
    "    }\n",
    "\n",
    "def convert_to_fingerprint_for_eval(smiles):\n",
    "    mol = Chem.MolFromSmiles(smiles)\n",
    "\n",
    "    # Generate the Morgan fingerprint\n",
    "    morgan_fp = AllChem.GetMorganFingerprintAsBitVect(mol, useChirality=True, radius=2, nBits=256)\n",
    "    morgan = ''.join(str(int(bit)) for bit in morgan_fp)\n",
    "\n",
    "    return smiles+ \"<[mr]>\" + morgan + \"<[lbl]>\"\n",
    "def convert_labels(target):\n",
    "\n",
    "    if int(target) == 1:\n",
    "        target = \"<Approved>\"\n",
    "    else:\n",
    "        target = \"<NotApproved>\"\n",
    "\n",
    "    return target\n",
    "def preprocess_and_predict_dencoder(examples):\n",
    "    inputs = tokenizer(examples, return_tensors='pt', padding=True, truncation = True)\n",
    "    inputs = inputs.to(device)\n",
    "    outputs = model(**inputs)\n",
    "    logits = outputs.logits[:, -1, :]\n",
    "    probs = torch.softmax(logits, dim=-1)\n",
    "    predicted_label = torch.argmax(probs, dim=-1).item()\n",
    "    predicted_label = tokenizer.decode(predicted_label)\n",
    "    if predicted_label == \"<Approved>\":\n",
    "        predicted_label = 1\n",
    "    else: \n",
    "        predicted_label = 0\n",
    "\n",
    "    return {\n",
    "        'predicted_class': predicted_label,\n",
    "        #'predicted_class_prob': probs\n",
    "    }"
   ]
  },
  {
   "cell_type": "code",
   "execution_count": 30,
   "id": "51929e1a-7f89-42cf-827f-f986baf67eb2",
   "metadata": {},
   "outputs": [],
   "source": [
    "device = torch.device(\"cuda\" if torch.cuda.is_available() else \"cpu\")"
   ]
  },
  {
   "cell_type": "markdown",
   "id": "4755dc3a-e24c-405b-bf5c-ff0677ad25ef",
   "metadata": {
    "tags": []
   },
   "source": [
    "## Chemberta- encoder only"
   ]
  },
  {
   "cell_type": "code",
   "execution_count": 9,
   "id": "03d3b1f7-5309-462d-9b3e-f09df5fef4ba",
   "metadata": {},
   "outputs": [],
   "source": [
    "path2model = \"/home/u111169/wrkdir/mgh-project/checkpoints-arxive/fine_tuning_chemberta_classic_way/augmented/checkpoint-500\"#'FacebookAI/xlm-roberta-large'"
   ]
  },
  {
   "cell_type": "code",
   "execution_count": 95,
   "id": "7255a9d9-ef16-46c0-b8b6-2c70098fd635",
   "metadata": {},
   "outputs": [],
   "source": [
    "# l_sim = []\n",
    "# main = torch.tensor(train_embeded[\"embeddings\"])\n",
    "# for smile in val_embeded[\"SMILES\"]: \n",
    "#     train_embeded_cache = train_embeded\n",
    "#     one = torch.tensor(one_embeddings(smile)[\"embeddings\"])\n",
    "#     similarities = torch.cosine_similarity(one.unsqueeze(0), main, dim=1)\n",
    "#     train_embeded[\"compare2\"] = [smile]*len(train_embeded)\n",
    "#     train_embeded_cache[\"sim\"]=similarities.tolist()\n",
    "#     l_sim.append(train_embeded_cache)\n",
    "# main_con = pd.concat(l_sim, axis=0)"
   ]
  },
  {
   "cell_type": "code",
   "execution_count": 7,
   "id": "8d34ff52-f925-425d-8e83-b3a39a4827f8",
   "metadata": {},
   "outputs": [],
   "source": [
    "n = 112\n",
    "smile_for_test = dataset_test[\"SMILES\"][n]\n",
    "labels_for_test=dataset_test[\"labels\"][n]"
   ]
  },
  {
   "cell_type": "code",
   "execution_count": 8,
   "id": "8e34485e-fbc2-43c0-8c09-df834cde0a83",
   "metadata": {},
   "outputs": [
    {
     "name": "stderr",
     "output_type": "stream",
     "text": [
      "Some weights of RobertaModel were not initialized from the model checkpoint at /home/u111169/wrkdir/mgh-project/checkpoints-arxive/fine_tuning_chemberta_classic_way/augmented/checkpoint-500 and are newly initialized: ['roberta.pooler.dense.bias', 'roberta.pooler.dense.weight']\n",
      "You should probably TRAIN this model on a down-stream task to be able to use it for predictions and inference.\n",
      "Special tokens have been added in the vocabulary, make sure the associated word embeddings are fine-tuned or trained.\n",
      "Special tokens have been added in the vocabulary, make sure the associated word embeddings are fine-tuned or trained.\n"
     ]
    },
    {
     "data": {
      "application/vnd.jupyter.widget-view+json": {
       "model_id": "f6ec702bca7d465fb9ddd666b7cdbe60",
       "version_major": 2,
       "version_minor": 0
      },
      "text/plain": [
       "Map:   0%|          | 0/2497 [00:00<?, ? examples/s]"
      ]
     },
     "metadata": {},
     "output_type": "display_data"
    },
    {
     "name": "stdout",
     "output_type": "stream",
     "text": [
      "most simmilar SMILES to C[C@]1(O)CC[C@H]2[C@@H]3CCC4=CC(=O)CC[C@]4(C)[C@@]3(F)[C@@H](O)C[C@@]21C based on the model's prediction\n"
     ]
    },
    {
     "name": "stderr",
     "output_type": "stream",
     "text": [
      "/tmp/ipykernel_50320/515214585.py:42: UserWarning: Creating a tensor from a list of numpy.ndarrays is extremely slow. Please consider converting the list to a single numpy.ndarray with numpy.array() before converting to a tensor. (Triggered internally at ../torch/csrc/utils/tensor_new.cpp:261.)\n",
      "  main = torch.tensor(train_embeded[\"embeddings\"])\n"
     ]
    }
   ],
   "source": [
    "model = AutoModel.from_pretrained(path2model).to(device)\n",
    "tokenizer = AutoTokenizer.from_pretrained(path2model)\n",
    "most_app , most_nonapp , tot = get_sim_score(dataset_train , smile_for_test, 5,5)"
   ]
  },
  {
   "cell_type": "code",
   "execution_count": 11,
   "id": "57ef8a96-cce6-4a9d-a612-6856c5d5ba21",
   "metadata": {},
   "outputs": [
    {
     "name": "stderr",
     "output_type": "stream",
     "text": [
      "Special tokens have been added in the vocabulary, make sure the associated word embeddings are fine-tuned or trained.\n"
     ]
    }
   ],
   "source": [
    "model = AutoModelForSequenceClassification.from_pretrained(\"/home/u111169/wrkdir/mgh-project/checkpoints-arxive/fine_tuning_chemberta_classic_way/augmented/checkpoint-500\" ,num_labels=2).to(device)\n",
    "tokenizer = RobertaTokenizer.from_pretrained(\"/home/u111169/wrkdir/mgh-project/checkpoints-arxive/fine_tuning_chemberta_classic_way/augmented/checkpoint-500\")#'FacebookAI/xlm-roberta-large'\n"
   ]
  },
  {
   "cell_type": "code",
   "execution_count": 12,
   "id": "845843eb-64ac-494e-b8b3-75cca3bf60c2",
   "metadata": {},
   "outputs": [
    {
     "data": {
      "text/plain": [
       "(0, 'C[C@]1(O)CC[C@H]2[C@@H]3CCC4=CC(=O)CC[C@]4(C)[C@@]3(F)[C@@H](O)C[C@@]21C')"
      ]
     },
     "execution_count": 12,
     "metadata": {},
     "output_type": "execute_result"
    }
   ],
   "source": [
    "labels_for_test , smile_for_test"
   ]
  },
  {
   "cell_type": "code",
   "execution_count": 13,
   "id": "e2e9a2af-bdd3-4be9-8e45-6cffafde958b",
   "metadata": {},
   "outputs": [
    {
     "data": {
      "text/plain": [
       "{'predicted_class_base': 1, 'predicted_class_prob_base': 0.9819175601005554}"
      ]
     },
     "execution_count": 13,
     "metadata": {},
     "output_type": "execute_result"
    }
   ],
   "source": [
    "predicted = preprocess_and_predict_encoder(smile_for_test)"
   ]
  },
  {
   "cell_type": "code",
   "execution_count": 14,
   "id": "9192a387-fb9c-4340-948f-cbf0cc5e5705",
   "metadata": {},
   "outputs": [
    {
     "data": {
      "text/html": [
       "<div>\n",
       "<style scoped>\n",
       "    .dataframe tbody tr th:only-of-type {\n",
       "        vertical-align: middle;\n",
       "    }\n",
       "\n",
       "    .dataframe tbody tr th {\n",
       "        vertical-align: top;\n",
       "    }\n",
       "\n",
       "    .dataframe thead th {\n",
       "        text-align: right;\n",
       "    }\n",
       "</style>\n",
       "<table border=\"1\" class=\"dataframe\">\n",
       "  <thead>\n",
       "    <tr style=\"text-align: right;\">\n",
       "      <th></th>\n",
       "      <th>SMILES</th>\n",
       "      <th>labels</th>\n",
       "      <th>sim</th>\n",
       "    </tr>\n",
       "  </thead>\n",
       "  <tbody>\n",
       "    <tr>\n",
       "      <th>642</th>\n",
       "      <td>CC(=O)[C@@]1(O)CC[C@H]2[C@@H]3C[C@H](C)C4=CC(=...</td>\n",
       "      <td>1</td>\n",
       "      <td>0.997136</td>\n",
       "    </tr>\n",
       "    <tr>\n",
       "      <th>748</th>\n",
       "      <td>C[C@@H]1C[C@H]2[C@@H]3CCC4=CC(=O)C=C[C@]4(C)[C...</td>\n",
       "      <td>1</td>\n",
       "      <td>0.996724</td>\n",
       "    </tr>\n",
       "    <tr>\n",
       "      <th>1416</th>\n",
       "      <td>CC1(C)O[C@@H]2C[C@H]3[C@@H]4CCC5=CC(=O)C=C[C@]...</td>\n",
       "      <td>1</td>\n",
       "      <td>0.996411</td>\n",
       "    </tr>\n",
       "    <tr>\n",
       "      <th>1007</th>\n",
       "      <td>CC[C@@H]1[C@@H]2C[C@H](O)CC[C@]2(C)[C@H]2CC[C@...</td>\n",
       "      <td>1</td>\n",
       "      <td>0.996281</td>\n",
       "    </tr>\n",
       "    <tr>\n",
       "      <th>2281</th>\n",
       "      <td>CC(=O)[C@@]1(O)CC[C@H]2[C@@H]3C=C(C)C4=CC(=O)C...</td>\n",
       "      <td>1</td>\n",
       "      <td>0.996260</td>\n",
       "    </tr>\n",
       "  </tbody>\n",
       "</table>\n",
       "</div>"
      ],
      "text/plain": [
       "                                                 SMILES  labels       sim\n",
       "642   CC(=O)[C@@]1(O)CC[C@H]2[C@@H]3C[C@H](C)C4=CC(=...       1  0.997136\n",
       "748   C[C@@H]1C[C@H]2[C@@H]3CCC4=CC(=O)C=C[C@]4(C)[C...       1  0.996724\n",
       "1416  CC1(C)O[C@@H]2C[C@H]3[C@@H]4CCC5=CC(=O)C=C[C@]...       1  0.996411\n",
       "1007  CC[C@@H]1[C@@H]2C[C@H](O)CC[C@]2(C)[C@H]2CC[C@...       1  0.996281\n",
       "2281  CC(=O)[C@@]1(O)CC[C@H]2[C@@H]3C=C(C)C4=CC(=O)C...       1  0.996260"
      ]
     },
     "execution_count": 14,
     "metadata": {},
     "output_type": "execute_result"
    }
   ],
   "source": [
    "most_app "
   ]
  },
  {
   "cell_type": "code",
   "execution_count": 15,
   "id": "242dc2b7-91e5-4cd4-97b6-dad36783925d",
   "metadata": {},
   "outputs": [
    {
     "data": {
      "text/html": [
       "<div>\n",
       "<style scoped>\n",
       "    .dataframe tbody tr th:only-of-type {\n",
       "        vertical-align: middle;\n",
       "    }\n",
       "\n",
       "    .dataframe tbody tr th {\n",
       "        vertical-align: top;\n",
       "    }\n",
       "\n",
       "    .dataframe thead th {\n",
       "        text-align: right;\n",
       "    }\n",
       "</style>\n",
       "<table border=\"1\" class=\"dataframe\">\n",
       "  <thead>\n",
       "    <tr style=\"text-align: right;\">\n",
       "      <th></th>\n",
       "      <th>SMILES</th>\n",
       "      <th>labels</th>\n",
       "      <th>sim</th>\n",
       "    </tr>\n",
       "  </thead>\n",
       "  <tbody>\n",
       "    <tr>\n",
       "      <th>2455</th>\n",
       "      <td>CC1(C)O[C@@H]2C[C@H]3[C@@H]4C[C@H](F)C5=CC(=O)...</td>\n",
       "      <td>0</td>\n",
       "      <td>0.996713</td>\n",
       "    </tr>\n",
       "    <tr>\n",
       "      <th>2270</th>\n",
       "      <td>C=C1/C(=C\\C=C2/CCC[C@@]3(C)[C@H]2CC[C@@H]3[C@H...</td>\n",
       "      <td>0</td>\n",
       "      <td>0.992212</td>\n",
       "    </tr>\n",
       "    <tr>\n",
       "      <th>2324</th>\n",
       "      <td>C[C@@H]1[C@H]2C3=CC[C@@H]4[C@@]5(C)CC[C@H](O)C...</td>\n",
       "      <td>0</td>\n",
       "      <td>0.986225</td>\n",
       "    </tr>\n",
       "    <tr>\n",
       "      <th>2052</th>\n",
       "      <td>CC(=O)OCC(=O)[C@@]1(O)CC[C@H]2[C@@H]3CCC4=CC(=...</td>\n",
       "      <td>0</td>\n",
       "      <td>0.985912</td>\n",
       "    </tr>\n",
       "    <tr>\n",
       "      <th>931</th>\n",
       "      <td>C=C1CC[C@H]2[C@H](CN)[C@@H]([C@@]3(C)CC[C@H](O...</td>\n",
       "      <td>0</td>\n",
       "      <td>0.983682</td>\n",
       "    </tr>\n",
       "  </tbody>\n",
       "</table>\n",
       "</div>"
      ],
      "text/plain": [
       "                                                 SMILES  labels       sim\n",
       "2455  CC1(C)O[C@@H]2C[C@H]3[C@@H]4C[C@H](F)C5=CC(=O)...       0  0.996713\n",
       "2270  C=C1/C(=C\\C=C2/CCC[C@@]3(C)[C@H]2CC[C@@H]3[C@H...       0  0.992212\n",
       "2324  C[C@@H]1[C@H]2C3=CC[C@@H]4[C@@]5(C)CC[C@H](O)C...       0  0.986225\n",
       "2052  CC(=O)OCC(=O)[C@@]1(O)CC[C@H]2[C@@H]3CCC4=CC(=...       0  0.985912\n",
       "931   C=C1CC[C@H]2[C@H](CN)[C@@H]([C@@]3(C)CC[C@H](O...       0  0.983682"
      ]
     },
     "execution_count": 15,
     "metadata": {},
     "output_type": "execute_result"
    }
   ],
   "source": [
    "most_nonapp"
   ]
  },
  {
   "cell_type": "code",
   "execution_count": 16,
   "id": "74283b8c-9352-44a6-881d-af3ea87934ac",
   "metadata": {},
   "outputs": [
    {
     "data": {
      "text/html": [
       "<div>\n",
       "<style scoped>\n",
       "    .dataframe tbody tr th:only-of-type {\n",
       "        vertical-align: middle;\n",
       "    }\n",
       "\n",
       "    .dataframe tbody tr th {\n",
       "        vertical-align: top;\n",
       "    }\n",
       "\n",
       "    .dataframe thead th {\n",
       "        text-align: right;\n",
       "    }\n",
       "</style>\n",
       "<table border=\"1\" class=\"dataframe\">\n",
       "  <thead>\n",
       "    <tr style=\"text-align: right;\">\n",
       "      <th></th>\n",
       "      <th>SMILES</th>\n",
       "      <th>labels</th>\n",
       "      <th>sim</th>\n",
       "    </tr>\n",
       "  </thead>\n",
       "  <tbody>\n",
       "    <tr>\n",
       "      <th>642</th>\n",
       "      <td>CC(=O)[C@@]1(O)CC[C@H]2[C@@H]3C[C@H](C)C4=CC(=...</td>\n",
       "      <td>1</td>\n",
       "      <td>0.997136</td>\n",
       "    </tr>\n",
       "    <tr>\n",
       "      <th>748</th>\n",
       "      <td>C[C@@H]1C[C@H]2[C@@H]3CCC4=CC(=O)C=C[C@]4(C)[C...</td>\n",
       "      <td>1</td>\n",
       "      <td>0.996724</td>\n",
       "    </tr>\n",
       "    <tr>\n",
       "      <th>2455</th>\n",
       "      <td>CC1(C)O[C@@H]2C[C@H]3[C@@H]4C[C@H](F)C5=CC(=O)...</td>\n",
       "      <td>0</td>\n",
       "      <td>0.996713</td>\n",
       "    </tr>\n",
       "    <tr>\n",
       "      <th>1416</th>\n",
       "      <td>CC1(C)O[C@@H]2C[C@H]3[C@@H]4CCC5=CC(=O)C=C[C@]...</td>\n",
       "      <td>1</td>\n",
       "      <td>0.996411</td>\n",
       "    </tr>\n",
       "    <tr>\n",
       "      <th>1007</th>\n",
       "      <td>CC[C@@H]1[C@@H]2C[C@H](O)CC[C@]2(C)[C@H]2CC[C@...</td>\n",
       "      <td>1</td>\n",
       "      <td>0.996281</td>\n",
       "    </tr>\n",
       "  </tbody>\n",
       "</table>\n",
       "</div>"
      ],
      "text/plain": [
       "                                                 SMILES  labels       sim\n",
       "642   CC(=O)[C@@]1(O)CC[C@H]2[C@@H]3C[C@H](C)C4=CC(=...       1  0.997136\n",
       "748   C[C@@H]1C[C@H]2[C@@H]3CCC4=CC(=O)C=C[C@]4(C)[C...       1  0.996724\n",
       "2455  CC1(C)O[C@@H]2C[C@H]3[C@@H]4C[C@H](F)C5=CC(=O)...       0  0.996713\n",
       "1416  CC1(C)O[C@@H]2C[C@H]3[C@@H]4CCC5=CC(=O)C=C[C@]...       1  0.996411\n",
       "1007  CC[C@@H]1[C@@H]2C[C@H](O)CC[C@]2(C)[C@H]2CC[C@...       1  0.996281"
      ]
     },
     "execution_count": 16,
     "metadata": {},
     "output_type": "execute_result"
    }
   ],
   "source": [
    "tot"
   ]
  },
  {
   "cell_type": "markdown",
   "id": "7eaec26c-399c-4c28-b442-20d894ddb044",
   "metadata": {
    "tags": []
   },
   "source": [
    "## gpt"
   ]
  },
  {
   "cell_type": "code",
   "execution_count": null,
   "id": "de977161-021f-4c68-a17e-db94ec083d46",
   "metadata": {},
   "outputs": [],
   "source": [
    "tokenizer = AutoTokenizer.from_pretrained(\"openai-community/gpt2\", cache_dir=\"/home/u111169/wrkdir/mgh-project/models\")\n",
    "num_added_toks = tokenizer.add_tokens([\"<Approved>\", \"<NotApproved>\"])\n",
    "num_added_toks = tokenizer.add_special_tokens({\"additional_special_tokens\": [\"<[lbl]>\", \"<[mr]>\"]})\n",
    "print(\"We have added\", num_added_toks, \"tokens\")\n",
    "model.resize_token_embeddings(len(tokenizer))"
   ]
  },
  {
   "cell_type": "code",
   "execution_count": 35,
   "id": "1f8c6e29-d11f-4c48-b65f-ddaf55a7aff5",
   "metadata": {},
   "outputs": [],
   "source": [
    "\n",
    "# train_df[\"labels\"] = train_df[\"labels\"].map(convert_labels)\n",
    "val_df[\"SMILES\"] = val_df.apply(lambda row: convert_to_fingerprint_for_eval(row[\"SMILES\"]), axis=1)\n",
    "val_df[\"labels\"] = val_df[\"labels\"].map(convert_labels)\n",
    "test_df[\"SMILES\"] = test_df.apply(lambda row: convert_to_fingerprint_for_eval(row[\"SMILES\"]), axis=1)\n",
    "test_df[\"labels\"] = test_df[\"labels\"].map(convert_labels)"
   ]
  },
  {
   "cell_type": "code",
   "execution_count": 73,
   "id": "a8615f78-b64c-47a3-8207-f003e5a40a8c",
   "metadata": {},
   "outputs": [],
   "source": [
    "n = 120\n",
    "smile_for_test = val_df[\"SMILES\"][n]\n",
    "labels_for_test=val_df[\"labels\"][n]"
   ]
  },
  {
   "cell_type": "code",
   "execution_count": 74,
   "id": "5edcdec2-a788-4cb1-a42e-510e0339bd6d",
   "metadata": {},
   "outputs": [],
   "source": [
    "path2model = \"/home/u111169/wrkdir/mgh-project/checkpoints/druggpt2/checkpoint-9000\""
   ]
  },
  {
   "cell_type": "code",
   "execution_count": 75,
   "id": "a58c4600-f283-4006-a5f8-0f6f4c022f67",
   "metadata": {},
   "outputs": [
    {
     "data": {
      "application/vnd.jupyter.widget-view+json": {
       "model_id": "ac4e4102334f4c75b747a634d6887c2e",
       "version_major": 2,
       "version_minor": 0
      },
      "text/plain": [
       "Map:   0%|          | 0/2497 [00:00<?, ? examples/s]"
      ]
     },
     "metadata": {},
     "output_type": "display_data"
    },
    {
     "name": "stdout",
     "output_type": "stream",
     "text": [
      "most simmilar SMILES to O=C(NO)C1(CS(=O)(=O)c2ccc(Oc3ccc(Cl)cc3)cc2)CCOCC1<[mr]>0000000000010000000000000000000010001001000000101100001000000001001000000000100011000000000000110000100001000010000000000000010010000000001000001001001000000010000000000000000000000011000000100100110000010010000000101000000000001100000010000000010000000000<[lbl]> based on the model's prediction\n"
     ]
    }
   ],
   "source": [
    "model = AutoModel.from_pretrained(path2model).to(device)\n",
    "tokenizer = AutoTokenizer.from_pretrained(path2model, is_decoder=True)\n",
    "most_app , most_nonapp , tot = get_sim_score(dataset_train , smile_for_test, 5,5)"
   ]
  },
  {
   "cell_type": "code",
   "execution_count": 76,
   "id": "b3681ee2-affa-44ae-8d16-f3b4353883e2",
   "metadata": {},
   "outputs": [],
   "source": [
    "model = AutoModelForCausalLM.from_pretrained(path2model, is_decoder=True)# ,num_labels=2)\n",
    "model.to(device)\n",
    "model.eval()\n",
    "\n",
    "# for gpt2\n",
    "tokenizer.pad_token = tokenizer.eos_token\n",
    "predicted = preprocess_and_predict_dencoder(val_df[\"SMILES\"][12])"
   ]
  },
  {
   "cell_type": "code",
   "execution_count": 77,
   "id": "2c27ce0c-2038-4c2c-8be3-188bbcb06677",
   "metadata": {},
   "outputs": [
    {
     "data": {
      "text/plain": [
       "'<NotApproved>'"
      ]
     },
     "execution_count": 77,
     "metadata": {},
     "output_type": "execute_result"
    }
   ],
   "source": [
    "labels_for_test"
   ]
  },
  {
   "cell_type": "code",
   "execution_count": 78,
   "id": "c3bc0958-4d0d-4001-839c-6f12303524e1",
   "metadata": {},
   "outputs": [
    {
     "data": {
      "text/plain": [
       "{'predicted_class': 0}"
      ]
     },
     "execution_count": 78,
     "metadata": {},
     "output_type": "execute_result"
    }
   ],
   "source": [
    "predicted"
   ]
  },
  {
   "cell_type": "code",
   "execution_count": 79,
   "id": "41141602-f4a0-41ee-8e0b-36dc3e15cec7",
   "metadata": {},
   "outputs": [
    {
     "data": {
      "text/html": [
       "<div>\n",
       "<style scoped>\n",
       "    .dataframe tbody tr th:only-of-type {\n",
       "        vertical-align: middle;\n",
       "    }\n",
       "\n",
       "    .dataframe tbody tr th {\n",
       "        vertical-align: top;\n",
       "    }\n",
       "\n",
       "    .dataframe thead th {\n",
       "        text-align: right;\n",
       "    }\n",
       "</style>\n",
       "<table border=\"1\" class=\"dataframe\">\n",
       "  <thead>\n",
       "    <tr style=\"text-align: right;\">\n",
       "      <th></th>\n",
       "      <th>SMILES</th>\n",
       "      <th>labels</th>\n",
       "      <th>sim</th>\n",
       "    </tr>\n",
       "  </thead>\n",
       "  <tbody>\n",
       "    <tr>\n",
       "      <th>615</th>\n",
       "      <td>O=C1OC2(c3ccc(O)cc3Oc3cc(O)ccc32)c2ccccc21</td>\n",
       "      <td>1</td>\n",
       "      <td>0.605786</td>\n",
       "    </tr>\n",
       "    <tr>\n",
       "      <th>2436</th>\n",
       "      <td>O=C(Oc1ccc2c(c1)CCCN2C(=O)C(Cl)Cl)c1ccco1</td>\n",
       "      <td>1</td>\n",
       "      <td>0.597046</td>\n",
       "    </tr>\n",
       "    <tr>\n",
       "      <th>168</th>\n",
       "      <td>O=S(=O)([O-])Oc1ccc(C(c2ccc(OS(=O)(=O)[O-])cc2...</td>\n",
       "      <td>1</td>\n",
       "      <td>0.570796</td>\n",
       "    </tr>\n",
       "    <tr>\n",
       "      <th>2121</th>\n",
       "      <td>O=C(NC[C@H]1CN(c2ccc(N3CCOCC3=O)cc2)C(=O)O1)c1...</td>\n",
       "      <td>1</td>\n",
       "      <td>0.568946</td>\n",
       "    </tr>\n",
       "    <tr>\n",
       "      <th>891</th>\n",
       "      <td>O=S(=O)(O)c1cc(O)ccc1O</td>\n",
       "      <td>1</td>\n",
       "      <td>0.567458</td>\n",
       "    </tr>\n",
       "  </tbody>\n",
       "</table>\n",
       "</div>"
      ],
      "text/plain": [
       "                                                 SMILES  labels       sim\n",
       "615          O=C1OC2(c3ccc(O)cc3Oc3cc(O)ccc32)c2ccccc21       1  0.605786\n",
       "2436          O=C(Oc1ccc2c(c1)CCCN2C(=O)C(Cl)Cl)c1ccco1       1  0.597046\n",
       "168   O=S(=O)([O-])Oc1ccc(C(c2ccc(OS(=O)(=O)[O-])cc2...       1  0.570796\n",
       "2121  O=C(NC[C@H]1CN(c2ccc(N3CCOCC3=O)cc2)C(=O)O1)c1...       1  0.568946\n",
       "891                              O=S(=O)(O)c1cc(O)ccc1O       1  0.567458"
      ]
     },
     "execution_count": 79,
     "metadata": {},
     "output_type": "execute_result"
    }
   ],
   "source": [
    "most_app"
   ]
  },
  {
   "cell_type": "code",
   "execution_count": 80,
   "id": "81e8d92d-7a7a-4ed1-86b1-9ea6484e4727",
   "metadata": {},
   "outputs": [
    {
     "data": {
      "text/html": [
       "<div>\n",
       "<style scoped>\n",
       "    .dataframe tbody tr th:only-of-type {\n",
       "        vertical-align: middle;\n",
       "    }\n",
       "\n",
       "    .dataframe tbody tr th {\n",
       "        vertical-align: top;\n",
       "    }\n",
       "\n",
       "    .dataframe thead th {\n",
       "        text-align: right;\n",
       "    }\n",
       "</style>\n",
       "<table border=\"1\" class=\"dataframe\">\n",
       "  <thead>\n",
       "    <tr style=\"text-align: right;\">\n",
       "      <th></th>\n",
       "      <th>SMILES</th>\n",
       "      <th>labels</th>\n",
       "      <th>sim</th>\n",
       "    </tr>\n",
       "  </thead>\n",
       "  <tbody>\n",
       "    <tr>\n",
       "      <th>439</th>\n",
       "      <td>O=C1OC2(c3cc(I)c(O)c(I)c3Oc3c2cc(I)c(O)c3I)c2c...</td>\n",
       "      <td>0</td>\n",
       "      <td>0.605879</td>\n",
       "    </tr>\n",
       "    <tr>\n",
       "      <th>651</th>\n",
       "      <td>O=C(NS(=O)(=O)c1ccc(Br)s1)c1ccc(Cl)cc1Cl</td>\n",
       "      <td>0</td>\n",
       "      <td>0.588697</td>\n",
       "    </tr>\n",
       "    <tr>\n",
       "      <th>1282</th>\n",
       "      <td>OCC(O)CN1CCN(c2ccccc2)CC1</td>\n",
       "      <td>0</td>\n",
       "      <td>0.568489</td>\n",
       "    </tr>\n",
       "    <tr>\n",
       "      <th>1542</th>\n",
       "      <td>Oc1cc(O)c(Cl)cn1</td>\n",
       "      <td>0</td>\n",
       "      <td>0.554149</td>\n",
       "    </tr>\n",
       "    <tr>\n",
       "      <th>1197</th>\n",
       "      <td>O=C(O)CNC(=O)c1ccccc1I</td>\n",
       "      <td>0</td>\n",
       "      <td>0.534846</td>\n",
       "    </tr>\n",
       "  </tbody>\n",
       "</table>\n",
       "</div>"
      ],
      "text/plain": [
       "                                                 SMILES  labels       sim\n",
       "439   O=C1OC2(c3cc(I)c(O)c(I)c3Oc3c2cc(I)c(O)c3I)c2c...       0  0.605879\n",
       "651            O=C(NS(=O)(=O)c1ccc(Br)s1)c1ccc(Cl)cc1Cl       0  0.588697\n",
       "1282                          OCC(O)CN1CCN(c2ccccc2)CC1       0  0.568489\n",
       "1542                                   Oc1cc(O)c(Cl)cn1       0  0.554149\n",
       "1197                             O=C(O)CNC(=O)c1ccccc1I       0  0.534846"
      ]
     },
     "execution_count": 80,
     "metadata": {},
     "output_type": "execute_result"
    }
   ],
   "source": [
    "most_nonapp"
   ]
  },
  {
   "cell_type": "code",
   "execution_count": 81,
   "id": "3c4eee72-69e1-4350-90b5-69d24c73488c",
   "metadata": {},
   "outputs": [
    {
     "data": {
      "text/html": [
       "<div>\n",
       "<style scoped>\n",
       "    .dataframe tbody tr th:only-of-type {\n",
       "        vertical-align: middle;\n",
       "    }\n",
       "\n",
       "    .dataframe tbody tr th {\n",
       "        vertical-align: top;\n",
       "    }\n",
       "\n",
       "    .dataframe thead th {\n",
       "        text-align: right;\n",
       "    }\n",
       "</style>\n",
       "<table border=\"1\" class=\"dataframe\">\n",
       "  <thead>\n",
       "    <tr style=\"text-align: right;\">\n",
       "      <th></th>\n",
       "      <th>SMILES</th>\n",
       "      <th>labels</th>\n",
       "      <th>sim</th>\n",
       "    </tr>\n",
       "  </thead>\n",
       "  <tbody>\n",
       "    <tr>\n",
       "      <th>439</th>\n",
       "      <td>O=C1OC2(c3cc(I)c(O)c(I)c3Oc3c2cc(I)c(O)c3I)c2c...</td>\n",
       "      <td>0</td>\n",
       "      <td>0.605879</td>\n",
       "    </tr>\n",
       "    <tr>\n",
       "      <th>615</th>\n",
       "      <td>O=C1OC2(c3ccc(O)cc3Oc3cc(O)ccc32)c2ccccc21</td>\n",
       "      <td>1</td>\n",
       "      <td>0.605786</td>\n",
       "    </tr>\n",
       "    <tr>\n",
       "      <th>2436</th>\n",
       "      <td>O=C(Oc1ccc2c(c1)CCCN2C(=O)C(Cl)Cl)c1ccco1</td>\n",
       "      <td>1</td>\n",
       "      <td>0.597046</td>\n",
       "    </tr>\n",
       "    <tr>\n",
       "      <th>651</th>\n",
       "      <td>O=C(NS(=O)(=O)c1ccc(Br)s1)c1ccc(Cl)cc1Cl</td>\n",
       "      <td>0</td>\n",
       "      <td>0.588697</td>\n",
       "    </tr>\n",
       "    <tr>\n",
       "      <th>168</th>\n",
       "      <td>O=S(=O)([O-])Oc1ccc(C(c2ccc(OS(=O)(=O)[O-])cc2...</td>\n",
       "      <td>1</td>\n",
       "      <td>0.570796</td>\n",
       "    </tr>\n",
       "  </tbody>\n",
       "</table>\n",
       "</div>"
      ],
      "text/plain": [
       "                                                 SMILES  labels       sim\n",
       "439   O=C1OC2(c3cc(I)c(O)c(I)c3Oc3c2cc(I)c(O)c3I)c2c...       0  0.605879\n",
       "615          O=C1OC2(c3ccc(O)cc3Oc3cc(O)ccc32)c2ccccc21       1  0.605786\n",
       "2436          O=C(Oc1ccc2c(c1)CCCN2C(=O)C(Cl)Cl)c1ccco1       1  0.597046\n",
       "651            O=C(NS(=O)(=O)c1ccc(Br)s1)c1ccc(Cl)cc1Cl       0  0.588697\n",
       "168   O=S(=O)([O-])Oc1ccc(C(c2ccc(OS(=O)(=O)[O-])cc2...       1  0.570796"
      ]
     },
     "execution_count": 81,
     "metadata": {},
     "output_type": "execute_result"
    }
   ],
   "source": [
    "tot"
   ]
  },
  {
   "cell_type": "markdown",
   "id": "02da90ec-e799-45d6-8ea6-d65369efb79f",
   "metadata": {},
   "source": [
    "## sentence transformers"
   ]
  },
  {
   "cell_type": "code",
   "execution_count": null,
   "id": "28afcb45-b33f-4f45-9a2c-3460d2d23e74",
   "metadata": {},
   "outputs": [],
   "source": []
  }
 ],
 "metadata": {
  "kernelspec": {
   "display_name": "Python 3 (ipykernel)",
   "language": "python",
   "name": "python3"
  },
  "language_info": {
   "codemirror_mode": {
    "name": "ipython",
    "version": 3
   },
   "file_extension": ".py",
   "mimetype": "text/x-python",
   "name": "python",
   "nbconvert_exporter": "python",
   "pygments_lexer": "ipython3",
   "version": "3.10.9"
  }
 },
 "nbformat": 4,
 "nbformat_minor": 5
}
