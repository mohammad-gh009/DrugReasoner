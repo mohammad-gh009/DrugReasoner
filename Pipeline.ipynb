{
 "cells": [
  {
   "cell_type": "markdown",
   "id": "744dfd21-c1e1-4b93-b5d4-053df6507759",
   "metadata": {},
   "source": [
    "# The Pipeline "
   ]
  },
  {
   "cell_type": "markdown",
   "id": "1c31dd58-7869-4e79-8e31-408c7bdfcb51",
   "metadata": {},
   "source": [
    "## step1 : loading an embedding model"
   ]
  },
  {
   "cell_type": "markdown",
   "id": "a0571ac6-4caf-489e-8cdb-c39cc318452c",
   "metadata": {},
   "source": [
    "Use the fine-tuned version of Chemberta or sentence transformers, as an embedding model. "
   ]
  },
  {
   "cell_type": "code",
   "execution_count": null,
   "id": "c446e02d-fe71-465f-aa2c-ff6d734f5f9c",
   "metadata": {},
   "outputs": [],
   "source": [
    "from step"
   ]
  },
  {
   "cell_type": "code",
   "execution_count": null,
   "id": "a97a0c56-2997-4328-b449-b40e0c940a21",
   "metadata": {},
   "outputs": [],
   "source": [
    "labels_for_test , smile_for_test"
   ]
  },
  {
   "cell_type": "code",
   "execution_count": null,
   "id": "7c0a2267-27f3-43b5-ad96-edb446fb3131",
   "metadata": {},
   "outputs": [],
   "source": [
    "predicted"
   ]
  },
  {
   "cell_type": "code",
   "execution_count": null,
   "id": "d9ca321a-6098-46c1-bf2d-7adae85792f1",
   "metadata": {},
   "outputs": [],
   "source": [
    "most_app "
   ]
  },
  {
   "cell_type": "code",
   "execution_count": null,
   "id": "43d92a71-2c97-4f6b-93cf-24773ccd9d2e",
   "metadata": {},
   "outputs": [],
   "source": [
    "most_nonapp"
   ]
  },
  {
   "cell_type": "code",
   "execution_count": null,
   "id": "93c15428-e757-4d2d-b8dc-e73b485d9382",
   "metadata": {},
   "outputs": [],
   "source": [
    "tot"
   ]
  },
  {
   "cell_type": "markdown",
   "id": "af2625ed-402b-4cc5-bffc-6e91bd672997",
   "metadata": {},
   "source": [
    "## step2 : use APIs and performing the RAG"
   ]
  },
  {
   "cell_type": "markdown",
   "id": "fb2db41c-3882-4568-a686-b5b2ada1f12f",
   "metadata": {},
   "source": [
    "1. condider using the drugbank xml file\n",
    "2. Use the 4 databases to make an agent to retrieve information. (API)\n",
    "    1. Drugbank \n",
    "    2. Ctd \n",
    "    3. DGIdb \n",
    "    4. STITCH \n"
   ]
  },
  {
   "cell_type": "code",
   "execution_count": null,
   "id": "1f566827-7dc3-4a9d-9339-f15d30d97f2e",
   "metadata": {},
   "outputs": [],
   "source": []
  },
  {
   "cell_type": "code",
   "execution_count": null,
   "id": "c9a6478c-cd95-4a3c-83a1-4e74b9f424b7",
   "metadata": {},
   "outputs": [],
   "source": []
  },
  {
   "cell_type": "markdown",
   "id": "ce7d5f4a-39da-4a5c-8b7e-b37a21ca1cd8",
   "metadata": {},
   "source": [
    "### Build the dataset"
   ]
  },
  {
   "cell_type": "markdown",
   "id": "078ed541-41bf-4c24-9227-bbbfee6b4a7e",
   "metadata": {},
   "source": []
  },
  {
   "cell_type": "code",
   "execution_count": null,
   "id": "476a55bf-375b-469e-864a-131a1a3333ce",
   "metadata": {},
   "outputs": [],
   "source": []
  },
  {
   "cell_type": "code",
   "execution_count": null,
   "id": "50530bc5-b6c2-49ae-b09c-0222af851e0b",
   "metadata": {},
   "outputs": [],
   "source": []
  },
  {
   "cell_type": "code",
   "execution_count": null,
   "id": "2cddcc69-4559-4cc0-ae6a-0d2aa2d3227c",
   "metadata": {},
   "outputs": [],
   "source": []
  },
  {
   "cell_type": "markdown",
   "id": "d63273b5-56fc-4037-b9d4-2e95be23c7d3",
   "metadata": {},
   "source": [
    "## Step3 : use api to make the R dataset."
   ]
  },
  {
   "cell_type": "code",
   "execution_count": null,
   "id": "82fd0ae1-d01d-4f7d-8250-818ae839873f",
   "metadata": {},
   "outputs": [],
   "source": []
  },
  {
   "cell_type": "code",
   "execution_count": null,
   "id": "5542f2bd-b59d-4e70-8c1f-a8075cb1583f",
   "metadata": {},
   "outputs": [],
   "source": []
  },
  {
   "cell_type": "code",
   "execution_count": null,
   "id": "dba470fd-eea3-4719-93e8-841981f71670",
   "metadata": {},
   "outputs": [],
   "source": []
  },
  {
   "cell_type": "code",
   "execution_count": null,
   "id": "e2f2734d-aa76-4096-8479-f537561a249a",
   "metadata": {},
   "outputs": [],
   "source": []
  },
  {
   "cell_type": "markdown",
   "id": "4fb60c71-880a-4daa-8905-aea65efb7b6c",
   "metadata": {},
   "source": [
    "## Step4 : fine-tune the Model"
   ]
  },
  {
   "cell_type": "code",
   "execution_count": null,
   "id": "80e3b163-9bc3-4ef6-9232-635ba81504a4",
   "metadata": {},
   "outputs": [],
   "source": []
  }
 ],
 "metadata": {
  "kernelspec": {
   "display_name": "Python 3 (ipykernel)",
   "language": "python",
   "name": "python3"
  },
  "language_info": {
   "codemirror_mode": {
    "name": "ipython",
    "version": 3
   },
   "file_extension": ".py",
   "mimetype": "text/x-python",
   "name": "python",
   "nbconvert_exporter": "python",
   "pygments_lexer": "ipython3",
   "version": "3.10.9"
  }
 },
 "nbformat": 4,
 "nbformat_minor": 5
}
