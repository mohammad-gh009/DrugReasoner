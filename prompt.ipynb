{
 "cells": [
  {
   "cell_type": "markdown",
   "id": "faeaa212-a216-4978-85ad-4c2f951f9964",
   "metadata": {},
   "source": [
    "# The Pipeline "
   ]
  },
  {
   "cell_type": "markdown",
   "id": "6795e879-21c6-4f97-b79b-b9bbdd0c9466",
   "metadata": {},
   "source": [
    "## step1 : loading an embedding model"
   ]
  },
  {
   "cell_type": "code",
   "execution_count": 76,
   "id": "92d522b2-310c-4c71-a982-e42eac57aa6d",
   "metadata": {},
   "outputs": [],
   "source": [
    "# ########################## df to train the embedding model ##########################\n",
    "# df_to_train_embedding_model =pd.read_csv(\"/home/u111169/wrkdir/mgh-project/df_to_train_embedding_model.csv\")\n",
    "\n",
    "# df_to_train_embedding_model=df_to_train_embedding_model.drop(columns = [\"groups\"])\n",
    "\n",
    "# df_to_train_embedding_model['approval_stat'] = df_to_train_embedding_model['approval_stat'].replace({'approved': 1, 'not_approved': 0})\n",
    "# df_to_train_embedding_model.rename(columns={\"approval_stat\":\"labels\"}, inplace=True)\n",
    "\n",
    "\n",
    "# df_to_train_embedding_model.to_csv(\"the_drugbank_daatset_to_replace_with_chemap_for_test.csv\")"
   ]
  },
  {
   "cell_type": "code",
   "execution_count": 3,
   "id": "d3d90ddc-0f5e-470e-af52-099f850ee1d7",
   "metadata": {},
   "outputs": [],
   "source": [
    "import pandas as pd"
   ]
  },
  {
   "cell_type": "code",
   "execution_count": 4,
   "id": "5f137921-21d9-410d-9aa7-a19a659a8623",
   "metadata": {},
   "outputs": [],
   "source": [
    " df0 = pd.read_csv(\"/home/u111169/wrkdir/mgh-project/the_drugbank_daatset_to_replace_with_chemap_for_test.csv\")"
   ]
  },
  {
   "cell_type": "code",
   "execution_count": 5,
   "id": "da50a902-b828-4a65-bfb4-ae4863fa782f",
   "metadata": {},
   "outputs": [
    {
     "data": {
      "text/html": [
       "<div>\n",
       "<style scoped>\n",
       "    .dataframe tbody tr th:only-of-type {\n",
       "        vertical-align: middle;\n",
       "    }\n",
       "\n",
       "    .dataframe tbody tr th {\n",
       "        vertical-align: top;\n",
       "    }\n",
       "\n",
       "    .dataframe thead th {\n",
       "        text-align: right;\n",
       "    }\n",
       "</style>\n",
       "<table border=\"1\" class=\"dataframe\">\n",
       "  <thead>\n",
       "    <tr style=\"text-align: right;\">\n",
       "      <th></th>\n",
       "      <th>Unnamed: 0</th>\n",
       "      <th>labels</th>\n",
       "      <th>SMILES</th>\n",
       "    </tr>\n",
       "  </thead>\n",
       "  <tbody>\n",
       "    <tr>\n",
       "      <th>0</th>\n",
       "      <td>0</td>\n",
       "      <td>1</td>\n",
       "      <td>CC[C@H](C)[C@H](NC(=O)[C@H](CCC(O)=O)NC(=O)[C@...</td>\n",
       "    </tr>\n",
       "    <tr>\n",
       "      <th>1</th>\n",
       "      <td>1</td>\n",
       "      <td>1</td>\n",
       "      <td>CC(C)C[C@H](NC(=O)[C@@H](COC(C)(C)C)NC(=O)[C@H...</td>\n",
       "    </tr>\n",
       "    <tr>\n",
       "      <th>2</th>\n",
       "      <td>2</td>\n",
       "      <td>1</td>\n",
       "      <td>CC(C)C[C@@H](NC(=O)CNC(=O)[C@@H](NC=O)C(C)C)C(...</td>\n",
       "    </tr>\n",
       "    <tr>\n",
       "      <th>3</th>\n",
       "      <td>3</td>\n",
       "      <td>1</td>\n",
       "      <td>NC(=O)CC[C@@H]1NC(=O)[C@H](CC2=CC=CC=C2)NC(=O)...</td>\n",
       "    </tr>\n",
       "    <tr>\n",
       "      <th>4</th>\n",
       "      <td>4</td>\n",
       "      <td>1</td>\n",
       "      <td>CC(C)C[C@H](NC(=O)[C@@H](CCCNC(N)=O)NC(=O)[C@H...</td>\n",
       "    </tr>\n",
       "    <tr>\n",
       "      <th>...</th>\n",
       "      <td>...</td>\n",
       "      <td>...</td>\n",
       "      <td>...</td>\n",
       "    </tr>\n",
       "    <tr>\n",
       "      <th>12308</th>\n",
       "      <td>12308</td>\n",
       "      <td>0</td>\n",
       "      <td>[H][C@@]1(CC[C@@H](CC1)N1CC(C1)OC)[C@@]1(C)OC2...</td>\n",
       "    </tr>\n",
       "    <tr>\n",
       "      <th>12309</th>\n",
       "      <td>12309</td>\n",
       "      <td>0</td>\n",
       "      <td>COC(=O)N[C@H](C(=O)N1C[C@@H](C[C@H]1C(=O)N[C@@...</td>\n",
       "    </tr>\n",
       "    <tr>\n",
       "      <th>12310</th>\n",
       "      <td>12310</td>\n",
       "      <td>0</td>\n",
       "      <td>CCCCCCCCCCCCCCCCOC(=O)CCCCCCC\\C=C/CCCCCCCC</td>\n",
       "    </tr>\n",
       "    <tr>\n",
       "      <th>12311</th>\n",
       "      <td>12311</td>\n",
       "      <td>0</td>\n",
       "      <td>CCCCCCCCCCCCCCCCOC(=O)CCCCCCC\\C=C/CCCC</td>\n",
       "    </tr>\n",
       "    <tr>\n",
       "      <th>12312</th>\n",
       "      <td>12312</td>\n",
       "      <td>0</td>\n",
       "      <td>CCCCCCCCCCCCCCCCOC(=O)CCCCCCC\\C=C/CCCCCC</td>\n",
       "    </tr>\n",
       "  </tbody>\n",
       "</table>\n",
       "<p>12313 rows × 3 columns</p>\n",
       "</div>"
      ],
      "text/plain": [
       "       Unnamed: 0  labels                                             SMILES\n",
       "0               0       1  CC[C@H](C)[C@H](NC(=O)[C@H](CCC(O)=O)NC(=O)[C@...\n",
       "1               1       1  CC(C)C[C@H](NC(=O)[C@@H](COC(C)(C)C)NC(=O)[C@H...\n",
       "2               2       1  CC(C)C[C@@H](NC(=O)CNC(=O)[C@@H](NC=O)C(C)C)C(...\n",
       "3               3       1  NC(=O)CC[C@@H]1NC(=O)[C@H](CC2=CC=CC=C2)NC(=O)...\n",
       "4               4       1  CC(C)C[C@H](NC(=O)[C@@H](CCCNC(N)=O)NC(=O)[C@H...\n",
       "...           ...     ...                                                ...\n",
       "12308       12308       0  [H][C@@]1(CC[C@@H](CC1)N1CC(C1)OC)[C@@]1(C)OC2...\n",
       "12309       12309       0  COC(=O)N[C@H](C(=O)N1C[C@@H](C[C@H]1C(=O)N[C@@...\n",
       "12310       12310       0         CCCCCCCCCCCCCCCCOC(=O)CCCCCCC\\C=C/CCCCCCCC\n",
       "12311       12311       0             CCCCCCCCCCCCCCCCOC(=O)CCCCCCC\\C=C/CCCC\n",
       "12312       12312       0           CCCCCCCCCCCCCCCCOC(=O)CCCCCCC\\C=C/CCCCCC\n",
       "\n",
       "[12313 rows x 3 columns]"
      ]
     },
     "execution_count": 5,
     "metadata": {},
     "output_type": "execute_result"
    }
   ],
   "source": [
    "df0"
   ]
  },
  {
   "cell_type": "code",
   "execution_count": 7,
   "id": "0cc4a617-152d-4f37-b549-7450f48c5bc4",
   "metadata": {},
   "outputs": [],
   "source": [
    "%%capture\n",
    "from step1 import *"
   ]
  },
  {
   "cell_type": "code",
   "execution_count": 8,
   "id": "c5dd73f0-916a-454e-a0a1-56b6c6b46df2",
   "metadata": {},
   "outputs": [
    {
     "data": {
      "text/plain": [
       "(0, 'N[C@@H](CC1=CC(O)=CC=C1[18F])C(O)=O')"
      ]
     },
     "execution_count": 8,
     "metadata": {},
     "output_type": "execute_result"
    }
   ],
   "source": [
    "labels_for_test , smile_for_test"
   ]
  },
  {
   "cell_type": "code",
   "execution_count": 9,
   "id": "8bc3a674-8803-4480-9567-445745207887",
   "metadata": {},
   "outputs": [
    {
     "data": {
      "text/plain": [
       "{'predicted_class_base': 1, 'predicted_class_prob_base': 0.9662215709686279}"
      ]
     },
     "execution_count": 9,
     "metadata": {},
     "output_type": "execute_result"
    }
   ],
   "source": [
    "predicted"
   ]
  },
  {
   "cell_type": "code",
   "execution_count": 10,
   "id": "29068879-6c2e-4140-bcc6-326c4daab7b1",
   "metadata": {},
   "outputs": [
    {
     "data": {
      "text/html": [
       "<div>\n",
       "<style scoped>\n",
       "    .dataframe tbody tr th:only-of-type {\n",
       "        vertical-align: middle;\n",
       "    }\n",
       "\n",
       "    .dataframe tbody tr th {\n",
       "        vertical-align: top;\n",
       "    }\n",
       "\n",
       "    .dataframe thead th {\n",
       "        text-align: right;\n",
       "    }\n",
       "</style>\n",
       "<table border=\"1\" class=\"dataframe\">\n",
       "  <thead>\n",
       "    <tr style=\"text-align: right;\">\n",
       "      <th></th>\n",
       "      <th>Unnamed: 0</th>\n",
       "      <th>labels</th>\n",
       "      <th>SMILES</th>\n",
       "      <th>sim</th>\n",
       "    </tr>\n",
       "  </thead>\n",
       "  <tbody>\n",
       "    <tr>\n",
       "      <th>6693</th>\n",
       "      <td>2317</td>\n",
       "      <td>1</td>\n",
       "      <td>N[C@@H](CC1=CC(O)=C(O)C=C1[18F])C(O)=O</td>\n",
       "      <td>0.996652</td>\n",
       "    </tr>\n",
       "    <tr>\n",
       "      <th>8977</th>\n",
       "      <td>1048</td>\n",
       "      <td>1</td>\n",
       "      <td>N[C@@H](CC1=CC(O)=C(O)C=C1)C(O)=O</td>\n",
       "      <td>0.994328</td>\n",
       "    </tr>\n",
       "    <tr>\n",
       "      <th>2849</th>\n",
       "      <td>817</td>\n",
       "      <td>1</td>\n",
       "      <td>NCCC1=CC(O)=C(O)C=C1</td>\n",
       "      <td>0.993651</td>\n",
       "    </tr>\n",
       "    <tr>\n",
       "      <th>4393</th>\n",
       "      <td>2378</td>\n",
       "      <td>1</td>\n",
       "      <td>O[C@H]1CC2=C(O)C=C(O)C=C2O[C@@H]1C1=CC=C(O)C(O...</td>\n",
       "      <td>0.990460</td>\n",
       "    </tr>\n",
       "    <tr>\n",
       "      <th>9187</th>\n",
       "      <td>1452</td>\n",
       "      <td>1</td>\n",
       "      <td>C[C@H](NCC1=CC=C(OCC2=CC(F)=CC=C2)C=C1)C(N)=O</td>\n",
       "      <td>0.989612</td>\n",
       "    </tr>\n",
       "  </tbody>\n",
       "</table>\n",
       "</div>"
      ],
      "text/plain": [
       "      Unnamed: 0  labels                                             SMILES  \\\n",
       "6693        2317       1             N[C@@H](CC1=CC(O)=C(O)C=C1[18F])C(O)=O   \n",
       "8977        1048       1                  N[C@@H](CC1=CC(O)=C(O)C=C1)C(O)=O   \n",
       "2849         817       1                               NCCC1=CC(O)=C(O)C=C1   \n",
       "4393        2378       1  O[C@H]1CC2=C(O)C=C(O)C=C2O[C@@H]1C1=CC=C(O)C(O...   \n",
       "9187        1452       1      C[C@H](NCC1=CC=C(OCC2=CC(F)=CC=C2)C=C1)C(N)=O   \n",
       "\n",
       "           sim  \n",
       "6693  0.996652  \n",
       "8977  0.994328  \n",
       "2849  0.993651  \n",
       "4393  0.990460  \n",
       "9187  0.989612  "
      ]
     },
     "execution_count": 10,
     "metadata": {},
     "output_type": "execute_result"
    }
   ],
   "source": [
    "most_app#.to_csv(\"most_app_5_sample.csv\" , index=False)"
   ]
  },
  {
   "cell_type": "code",
   "execution_count": 11,
   "id": "dea83c89-89cf-4f24-86e7-0bfc28fde466",
   "metadata": {},
   "outputs": [
    {
     "data": {
      "text/html": [
       "<div>\n",
       "<style scoped>\n",
       "    .dataframe tbody tr th:only-of-type {\n",
       "        vertical-align: middle;\n",
       "    }\n",
       "\n",
       "    .dataframe tbody tr th {\n",
       "        vertical-align: top;\n",
       "    }\n",
       "\n",
       "    .dataframe thead th {\n",
       "        text-align: right;\n",
       "    }\n",
       "</style>\n",
       "<table border=\"1\" class=\"dataframe\">\n",
       "  <thead>\n",
       "    <tr style=\"text-align: right;\">\n",
       "      <th></th>\n",
       "      <th>Unnamed: 0</th>\n",
       "      <th>labels</th>\n",
       "      <th>SMILES</th>\n",
       "      <th>sim</th>\n",
       "    </tr>\n",
       "  </thead>\n",
       "  <tbody>\n",
       "    <tr>\n",
       "      <th>1729</th>\n",
       "      <td>2904</td>\n",
       "      <td>0</td>\n",
       "      <td>OC(=O)CC1=CC(O)=C(O)C=C1</td>\n",
       "      <td>0.996687</td>\n",
       "    </tr>\n",
       "    <tr>\n",
       "      <th>2578</th>\n",
       "      <td>7741</td>\n",
       "      <td>0</td>\n",
       "      <td>OC(=O)CC1=CC(O)=CC=C1O</td>\n",
       "      <td>0.994215</td>\n",
       "    </tr>\n",
       "    <tr>\n",
       "      <th>7856</th>\n",
       "      <td>4015</td>\n",
       "      <td>0</td>\n",
       "      <td>N[C@@H](CC1=CC(N)=C(O)C=C1O)C(O)=O</td>\n",
       "      <td>0.993398</td>\n",
       "    </tr>\n",
       "    <tr>\n",
       "      <th>5388</th>\n",
       "      <td>4940</td>\n",
       "      <td>0</td>\n",
       "      <td>OC(=O)C1=CC=C(O)C(O)=C1</td>\n",
       "      <td>0.992703</td>\n",
       "    </tr>\n",
       "    <tr>\n",
       "      <th>2941</th>\n",
       "      <td>9349</td>\n",
       "      <td>0</td>\n",
       "      <td>OCCC1=CC=C(O)C(O)=C1</td>\n",
       "      <td>0.992545</td>\n",
       "    </tr>\n",
       "  </tbody>\n",
       "</table>\n",
       "</div>"
      ],
      "text/plain": [
       "      Unnamed: 0  labels                              SMILES       sim\n",
       "1729        2904       0            OC(=O)CC1=CC(O)=C(O)C=C1  0.996687\n",
       "2578        7741       0              OC(=O)CC1=CC(O)=CC=C1O  0.994215\n",
       "7856        4015       0  N[C@@H](CC1=CC(N)=C(O)C=C1O)C(O)=O  0.993398\n",
       "5388        4940       0             OC(=O)C1=CC=C(O)C(O)=C1  0.992703\n",
       "2941        9349       0                OCCC1=CC=C(O)C(O)=C1  0.992545"
      ]
     },
     "execution_count": 11,
     "metadata": {},
     "output_type": "execute_result"
    }
   ],
   "source": [
    "most_nonapp#.to_csv(\"most_nonapp_5_sample.csv\" , index=False)"
   ]
  },
  {
   "cell_type": "code",
   "execution_count": 12,
   "id": "097de884-501c-4c53-bd8e-5e33d083cdaf",
   "metadata": {},
   "outputs": [
    {
     "data": {
      "text/html": [
       "<div>\n",
       "<style scoped>\n",
       "    .dataframe tbody tr th:only-of-type {\n",
       "        vertical-align: middle;\n",
       "    }\n",
       "\n",
       "    .dataframe tbody tr th {\n",
       "        vertical-align: top;\n",
       "    }\n",
       "\n",
       "    .dataframe thead th {\n",
       "        text-align: right;\n",
       "    }\n",
       "</style>\n",
       "<table border=\"1\" class=\"dataframe\">\n",
       "  <thead>\n",
       "    <tr style=\"text-align: right;\">\n",
       "      <th></th>\n",
       "      <th>Unnamed: 0</th>\n",
       "      <th>labels</th>\n",
       "      <th>SMILES</th>\n",
       "      <th>sim</th>\n",
       "    </tr>\n",
       "  </thead>\n",
       "  <tbody>\n",
       "    <tr>\n",
       "      <th>1729</th>\n",
       "      <td>2904</td>\n",
       "      <td>0</td>\n",
       "      <td>OC(=O)CC1=CC(O)=C(O)C=C1</td>\n",
       "      <td>0.996687</td>\n",
       "    </tr>\n",
       "    <tr>\n",
       "      <th>6693</th>\n",
       "      <td>2317</td>\n",
       "      <td>1</td>\n",
       "      <td>N[C@@H](CC1=CC(O)=C(O)C=C1[18F])C(O)=O</td>\n",
       "      <td>0.996652</td>\n",
       "    </tr>\n",
       "    <tr>\n",
       "      <th>8977</th>\n",
       "      <td>1048</td>\n",
       "      <td>1</td>\n",
       "      <td>N[C@@H](CC1=CC(O)=C(O)C=C1)C(O)=O</td>\n",
       "      <td>0.994328</td>\n",
       "    </tr>\n",
       "    <tr>\n",
       "      <th>2578</th>\n",
       "      <td>7741</td>\n",
       "      <td>0</td>\n",
       "      <td>OC(=O)CC1=CC(O)=CC=C1O</td>\n",
       "      <td>0.994215</td>\n",
       "    </tr>\n",
       "    <tr>\n",
       "      <th>2849</th>\n",
       "      <td>817</td>\n",
       "      <td>1</td>\n",
       "      <td>NCCC1=CC(O)=C(O)C=C1</td>\n",
       "      <td>0.993651</td>\n",
       "    </tr>\n",
       "  </tbody>\n",
       "</table>\n",
       "</div>"
      ],
      "text/plain": [
       "      Unnamed: 0  labels                                  SMILES       sim\n",
       "1729        2904       0                OC(=O)CC1=CC(O)=C(O)C=C1  0.996687\n",
       "6693        2317       1  N[C@@H](CC1=CC(O)=C(O)C=C1[18F])C(O)=O  0.996652\n",
       "8977        1048       1       N[C@@H](CC1=CC(O)=C(O)C=C1)C(O)=O  0.994328\n",
       "2578        7741       0                  OC(=O)CC1=CC(O)=CC=C1O  0.994215\n",
       "2849         817       1                    NCCC1=CC(O)=C(O)C=C1  0.993651"
      ]
     },
     "execution_count": 12,
     "metadata": {},
     "output_type": "execute_result"
    }
   ],
   "source": [
    "tot#.to_csv(\"tot_sample.csv\" , index=False)"
   ]
  },
  {
   "cell_type": "markdown",
   "id": "1f768445-e2fc-42c8-a1ed-d52d5be3c88e",
   "metadata": {},
   "source": [
    "## step2 : use APIs and performing the RAG"
   ]
  },
  {
   "cell_type": "markdown",
   "id": "5560c979-34a6-4a6c-bf43-4aa5085ef28e",
   "metadata": {},
   "source": [
    "1. condider using the drugbank xml file\n",
    "2. Use the 4 databases to make an agent to retrieve information. (API)\n",
    "    1. Drugbank \n",
    "    2. Pubchem\n",
    "    3. Ctd \n",
    "    4. DGIdb \n"
   ]
  },
  {
   "cell_type": "code",
   "execution_count": 7,
   "id": "53a90f3b-0bff-4b18-ad47-f6fa8373a57e",
   "metadata": {},
   "outputs": [],
   "source": [
    "import pandas as pd\n",
    "\n",
    "from parse_drugbank_data  import parse_drugbank ,convert_properties , extract_smiles\n",
    "\n",
    "from preprocess_df_for_smiles import *"
   ]
  },
  {
   "cell_type": "code",
   "execution_count": 8,
   "id": "6b51692f-c61a-4b6a-9f5c-726bfd75cc74",
   "metadata": {},
   "outputs": [],
   "source": [
    "df = parse_drugbank(\"/home/u111169/wrkdir/mgh-project/datasets/drugbank_data/full_database.xml\")"
   ]
  },
  {
   "cell_type": "code",
   "execution_count": 9,
   "id": "9fe47fa7-a882-4cf6-9af9-c829595f9e2c",
   "metadata": {},
   "outputs": [],
   "source": [
    "%%capture\n",
    "approved_df, not_approved_df , lookup_table = preprocess_df_for_smiles(df)"
   ]
  },
  {
   "cell_type": "code",
   "execution_count": 14,
   "id": "12ed5b3f-f3f3-4b7d-8633-cb27b55f97f6",
   "metadata": {},
   "outputs": [],
   "source": [
    "df_properties = lookup_table[[\"name\",\"groups\" ,\"approval_stat\", \"SMILES\", \"experimental_properties\", \"calculated_properties\" ]]"
   ]
  },
  {
   "cell_type": "code",
   "execution_count": 15,
   "id": "905b5e5d-a40e-4878-b33d-708a028c7c4d",
   "metadata": {},
   "outputs": [
    {
     "data": {
      "text/html": [
       "<div>\n",
       "<style scoped>\n",
       "    .dataframe tbody tr th:only-of-type {\n",
       "        vertical-align: middle;\n",
       "    }\n",
       "\n",
       "    .dataframe tbody tr th {\n",
       "        vertical-align: top;\n",
       "    }\n",
       "\n",
       "    .dataframe thead th {\n",
       "        text-align: right;\n",
       "    }\n",
       "</style>\n",
       "<table border=\"1\" class=\"dataframe\">\n",
       "  <thead>\n",
       "    <tr style=\"text-align: right;\">\n",
       "      <th></th>\n",
       "      <th>name</th>\n",
       "      <th>groups</th>\n",
       "      <th>approval_stat</th>\n",
       "      <th>SMILES</th>\n",
       "      <th>experimental_properties</th>\n",
       "      <th>calculated_properties</th>\n",
       "    </tr>\n",
       "  </thead>\n",
       "  <tbody>\n",
       "    <tr>\n",
       "      <th>0</th>\n",
       "      <td>Bivalirudin</td>\n",
       "      <td>[approved, investigational]</td>\n",
       "      <td>approved</td>\n",
       "      <td>CC[C@H](C)[C@H](NC(=O)[C@H](CCC(O)=O)NC(=O)[C@...</td>\n",
       "      <td>[]</td>\n",
       "      <td>[{'logP': '-0.76'}, {'logS': '-4.7'}, {'Water ...</td>\n",
       "    </tr>\n",
       "    <tr>\n",
       "      <th>1</th>\n",
       "      <td>Goserelin</td>\n",
       "      <td>[approved]</td>\n",
       "      <td>approved</td>\n",
       "      <td>CC(C)C[C@H](NC(=O)[C@@H](COC(C)(C)C)NC(=O)[C@H...</td>\n",
       "      <td>[{'Water Solubility': 'Soluble'}, {'logP': '-2'}]</td>\n",
       "      <td>[{'logP': '0.3'}, {'logS': '-4.6'}, {'Water So...</td>\n",
       "    </tr>\n",
       "    <tr>\n",
       "      <th>2</th>\n",
       "      <td>Gramicidin D</td>\n",
       "      <td>[approved]</td>\n",
       "      <td>approved</td>\n",
       "      <td>CC(C)C[C@@H](NC(=O)CNC(=O)[C@@H](NC=O)C(C)C)C(...</td>\n",
       "      <td>[{'Melting Point': '229 °C'}]</td>\n",
       "      <td>[{'logP': '4.38'}, {'logS': '-5.7'}, {'Water S...</td>\n",
       "    </tr>\n",
       "    <tr>\n",
       "      <th>3</th>\n",
       "      <td>Desmopressin</td>\n",
       "      <td>[approved]</td>\n",
       "      <td>approved</td>\n",
       "      <td>NC(=O)CC[C@@H]1NC(=O)[C@H](CC2=CC=CC=C2)NC(=O)...</td>\n",
       "      <td>[]</td>\n",
       "      <td>[{'logP': '-1'}, {'logS': '-4'}, {'Water Solub...</td>\n",
       "    </tr>\n",
       "    <tr>\n",
       "      <th>4</th>\n",
       "      <td>Cetrorelix</td>\n",
       "      <td>[approved, investigational]</td>\n",
       "      <td>approved</td>\n",
       "      <td>CC(C)C[C@H](NC(=O)[C@@H](CCCNC(N)=O)NC(=O)[C@H...</td>\n",
       "      <td>[]</td>\n",
       "      <td>[{'logP': '1.33'}, {'logS': '-5.3'}, {'Water S...</td>\n",
       "    </tr>\n",
       "    <tr>\n",
       "      <th>...</th>\n",
       "      <td>...</td>\n",
       "      <td>...</td>\n",
       "      <td>...</td>\n",
       "      <td>...</td>\n",
       "      <td>...</td>\n",
       "      <td>...</td>\n",
       "    </tr>\n",
       "    <tr>\n",
       "      <th>13160</th>\n",
       "      <td>Tulmimetostat</td>\n",
       "      <td>[investigational]</td>\n",
       "      <td>not_approved</td>\n",
       "      <td>[H][C@@]1(CC[C@@H](CC1)N1CC(C1)OC)[C@@]1(C)OC2...</td>\n",
       "      <td>[]</td>\n",
       "      <td>[{'Molecular Weight': '562.12'}, {'Monoisotopi...</td>\n",
       "    </tr>\n",
       "    <tr>\n",
       "      <th>13162</th>\n",
       "      <td>Ibuzatrelvir</td>\n",
       "      <td>[investigational]</td>\n",
       "      <td>not_approved</td>\n",
       "      <td>COC(=O)N[C@H](C(=O)N1C[C@@H](C[C@H]1C(=O)N[C@@...</td>\n",
       "      <td>[]</td>\n",
       "      <td>[{'Molecular Weight': '489.496'}, {'Monoisotop...</td>\n",
       "    </tr>\n",
       "    <tr>\n",
       "      <th>13163</th>\n",
       "      <td>Cetyl oleate</td>\n",
       "      <td>[investigational]</td>\n",
       "      <td>not_approved</td>\n",
       "      <td>CCCCCCCCCCCCCCCCOC(=O)CCCCCCC\\C=C/CCCCCCCC</td>\n",
       "      <td>[]</td>\n",
       "      <td>[{'Molecular Weight': '506.9'}, {'Monoisotopic...</td>\n",
       "    </tr>\n",
       "    <tr>\n",
       "      <th>13164</th>\n",
       "      <td>Cetyl myristoleate</td>\n",
       "      <td>[investigational]</td>\n",
       "      <td>not_approved</td>\n",
       "      <td>CCCCCCCCCCCCCCCCOC(=O)CCCCCCC\\C=C/CCCC</td>\n",
       "      <td>[]</td>\n",
       "      <td>[{'Molecular Weight': '450.792'}, {'Monoisotop...</td>\n",
       "    </tr>\n",
       "    <tr>\n",
       "      <th>13165</th>\n",
       "      <td>Cetyl palmitoleate</td>\n",
       "      <td>[investigational]</td>\n",
       "      <td>not_approved</td>\n",
       "      <td>CCCCCCCCCCCCCCCCOC(=O)CCCCCCC\\C=C/CCCCCC</td>\n",
       "      <td>[]</td>\n",
       "      <td>[{'Molecular Weight': '478.846'}, {'Monoisotop...</td>\n",
       "    </tr>\n",
       "  </tbody>\n",
       "</table>\n",
       "<p>12313 rows × 6 columns</p>\n",
       "</div>"
      ],
      "text/plain": [
       "                     name                       groups approval_stat  \\\n",
       "0             Bivalirudin  [approved, investigational]      approved   \n",
       "1               Goserelin                   [approved]      approved   \n",
       "2            Gramicidin D                   [approved]      approved   \n",
       "3            Desmopressin                   [approved]      approved   \n",
       "4              Cetrorelix  [approved, investigational]      approved   \n",
       "...                   ...                          ...           ...   \n",
       "13160       Tulmimetostat            [investigational]  not_approved   \n",
       "13162        Ibuzatrelvir            [investigational]  not_approved   \n",
       "13163        Cetyl oleate            [investigational]  not_approved   \n",
       "13164  Cetyl myristoleate            [investigational]  not_approved   \n",
       "13165  Cetyl palmitoleate            [investigational]  not_approved   \n",
       "\n",
       "                                                  SMILES  \\\n",
       "0      CC[C@H](C)[C@H](NC(=O)[C@H](CCC(O)=O)NC(=O)[C@...   \n",
       "1      CC(C)C[C@H](NC(=O)[C@@H](COC(C)(C)C)NC(=O)[C@H...   \n",
       "2      CC(C)C[C@@H](NC(=O)CNC(=O)[C@@H](NC=O)C(C)C)C(...   \n",
       "3      NC(=O)CC[C@@H]1NC(=O)[C@H](CC2=CC=CC=C2)NC(=O)...   \n",
       "4      CC(C)C[C@H](NC(=O)[C@@H](CCCNC(N)=O)NC(=O)[C@H...   \n",
       "...                                                  ...   \n",
       "13160  [H][C@@]1(CC[C@@H](CC1)N1CC(C1)OC)[C@@]1(C)OC2...   \n",
       "13162  COC(=O)N[C@H](C(=O)N1C[C@@H](C[C@H]1C(=O)N[C@@...   \n",
       "13163         CCCCCCCCCCCCCCCCOC(=O)CCCCCCC\\C=C/CCCCCCCC   \n",
       "13164             CCCCCCCCCCCCCCCCOC(=O)CCCCCCC\\C=C/CCCC   \n",
       "13165           CCCCCCCCCCCCCCCCOC(=O)CCCCCCC\\C=C/CCCCCC   \n",
       "\n",
       "                                 experimental_properties  \\\n",
       "0                                                     []   \n",
       "1      [{'Water Solubility': 'Soluble'}, {'logP': '-2'}]   \n",
       "2                          [{'Melting Point': '229 °C'}]   \n",
       "3                                                     []   \n",
       "4                                                     []   \n",
       "...                                                  ...   \n",
       "13160                                                 []   \n",
       "13162                                                 []   \n",
       "13163                                                 []   \n",
       "13164                                                 []   \n",
       "13165                                                 []   \n",
       "\n",
       "                                   calculated_properties  \n",
       "0      [{'logP': '-0.76'}, {'logS': '-4.7'}, {'Water ...  \n",
       "1      [{'logP': '0.3'}, {'logS': '-4.6'}, {'Water So...  \n",
       "2      [{'logP': '4.38'}, {'logS': '-5.7'}, {'Water S...  \n",
       "3      [{'logP': '-1'}, {'logS': '-4'}, {'Water Solub...  \n",
       "4      [{'logP': '1.33'}, {'logS': '-5.3'}, {'Water S...  \n",
       "...                                                  ...  \n",
       "13160  [{'Molecular Weight': '562.12'}, {'Monoisotopi...  \n",
       "13162  [{'Molecular Weight': '489.496'}, {'Monoisotop...  \n",
       "13163  [{'Molecular Weight': '506.9'}, {'Monoisotopic...  \n",
       "13164  [{'Molecular Weight': '450.792'}, {'Monoisotop...  \n",
       "13165  [{'Molecular Weight': '478.846'}, {'Monoisotop...  \n",
       "\n",
       "[12313 rows x 6 columns]"
      ]
     },
     "execution_count": 15,
     "metadata": {},
     "output_type": "execute_result"
    }
   ],
   "source": [
    "df_properties"
   ]
  },
  {
   "cell_type": "code",
   "execution_count": 16,
   "id": "dc89ccc7-8c36-4bd1-bc9d-4579afece37e",
   "metadata": {},
   "outputs": [],
   "source": [
    "df_properties.to_csv(\"lookup_table.csv\" , index=False)"
   ]
  },
  {
   "cell_type": "code",
   "execution_count": 39,
   "id": "c1946ebf-9338-46a7-9037-f4078296b2e9",
   "metadata": {},
   "outputs": [
    {
     "data": {
      "text/html": [
       "<div>\n",
       "<style scoped>\n",
       "    .dataframe tbody tr th:only-of-type {\n",
       "        vertical-align: middle;\n",
       "    }\n",
       "\n",
       "    .dataframe tbody tr th {\n",
       "        vertical-align: top;\n",
       "    }\n",
       "\n",
       "    .dataframe thead th {\n",
       "        text-align: right;\n",
       "    }\n",
       "</style>\n",
       "<table border=\"1\" class=\"dataframe\">\n",
       "  <thead>\n",
       "    <tr style=\"text-align: right;\">\n",
       "      <th></th>\n",
       "      <th>logP</th>\n",
       "      <th>logS</th>\n",
       "      <th>Water Solubility</th>\n",
       "      <th>IUPAC Name</th>\n",
       "      <th>Traditional IUPAC Name</th>\n",
       "      <th>Molecular Weight</th>\n",
       "      <th>Monoisotopic Weight</th>\n",
       "      <th>SMILES</th>\n",
       "      <th>Molecular Formula</th>\n",
       "      <th>InChI</th>\n",
       "      <th>...</th>\n",
       "      <th>H Bond Acceptor Count</th>\n",
       "      <th>H Bond Donor Count</th>\n",
       "      <th>pKa (strongest acidic)</th>\n",
       "      <th>pKa (strongest basic)</th>\n",
       "      <th>Physiological Charge</th>\n",
       "      <th>Number of Rings</th>\n",
       "      <th>Bioavailability</th>\n",
       "      <th>Rule of Five</th>\n",
       "      <th>Ghose Filter</th>\n",
       "      <th>MDDR-Like Rule</th>\n",
       "    </tr>\n",
       "  </thead>\n",
       "  <tbody>\n",
       "    <tr>\n",
       "      <th>0</th>\n",
       "      <td>1.86</td>\n",
       "      <td>-3.8</td>\n",
       "      <td>5.96e-02 g/l</td>\n",
       "      <td>1-({4-[(3-methylphenyl)amino]pyridin-3-yl}sulf...</td>\n",
       "      <td>tetrahydrofolic acid</td>\n",
       "      <td>348.42</td>\n",
       "      <td>348.125611216</td>\n",
       "      <td>CC(C)NC(=O)NS(=O)(=O)C1=C(NC2=CC=CC(C)=C2)C=CN=C1</td>\n",
       "      <td>C16H20N4O3S</td>\n",
       "      <td>InChI=1S/C16H20N4O3S/c1-11(2)18-16(21)20-24(22...</td>\n",
       "      <td>...</td>\n",
       "      <td>5</td>\n",
       "      <td>3</td>\n",
       "      <td>5.92</td>\n",
       "      <td>4.2</td>\n",
       "      <td>-1</td>\n",
       "      <td>2</td>\n",
       "      <td>1</td>\n",
       "      <td>1</td>\n",
       "      <td>1</td>\n",
       "      <td>0</td>\n",
       "    </tr>\n",
       "  </tbody>\n",
       "</table>\n",
       "<p>1 rows × 25 columns</p>\n",
       "</div>"
      ],
      "text/plain": [
       "   logP  logS Water Solubility  \\\n",
       "0  1.86  -3.8     5.96e-02 g/l   \n",
       "\n",
       "                                          IUPAC Name Traditional IUPAC Name  \\\n",
       "0  1-({4-[(3-methylphenyl)amino]pyridin-3-yl}sulf...   tetrahydrofolic acid   \n",
       "\n",
       "  Molecular Weight Monoisotopic Weight  \\\n",
       "0           348.42       348.125611216   \n",
       "\n",
       "                                              SMILES Molecular Formula  \\\n",
       "0  CC(C)NC(=O)NS(=O)(=O)C1=C(NC2=CC=CC(C)=C2)C=CN=C1       C16H20N4O3S   \n",
       "\n",
       "                                               InChI  ...  \\\n",
       "0  InChI=1S/C16H20N4O3S/c1-11(2)18-16(21)20-24(22...  ...   \n",
       "\n",
       "  H Bond Acceptor Count H Bond Donor Count pKa (strongest acidic)  \\\n",
       "0                     5                  3                   5.92   \n",
       "\n",
       "  pKa (strongest basic) Physiological Charge Number of Rings Bioavailability  \\\n",
       "0                   4.2                   -1               2               1   \n",
       "\n",
       "  Rule of Five Ghose Filter MDDR-Like Rule  \n",
       "0            1            1              0  \n",
       "\n",
       "[1 rows x 25 columns]"
      ]
     },
     "execution_count": 39,
     "metadata": {},
     "output_type": "execute_result"
    }
   ],
   "source": [
    "import pandas as pd\n",
    "\n",
    "\n",
    "\n",
    "# Convert list of dictionaries into a single dictionary\n",
    "merged_data = {key: value for d in df_properties[\"calculated_properties\"][106] for key, value in d.items()}\n",
    "\n",
    "# Create DataFrame\n",
    "df = pd.DataFrame([merged_data])\n",
    "\n",
    "# Display DataFrame\n",
    "df\n"
   ]
  },
  {
   "cell_type": "markdown",
   "id": "a7f1515e-f507-46b3-95ae-36106a863e4d",
   "metadata": {},
   "source": [
    "### Build the dataset"
   ]
  },
  {
   "cell_type": "code",
   "execution_count": 50,
   "id": "8ba45c05-0fb3-4cbd-a327-59b5b7d48b93",
   "metadata": {},
   "outputs": [],
   "source": [
    "################################ Our Model's performance metrics ################################"
   ]
  },
  {
   "cell_type": "code",
   "execution_count": 54,
   "id": "9daa838a-2eb3-4b7e-9d8f-40a6ed41574d",
   "metadata": {},
   "outputs": [],
   "source": [
    "df0 = pd.read_csv(\"/home/u111169/wrkdir/mgh-project/ChemAP/dataset/DrugApp/All_training_feature_vectors.csv\")"
   ]
  },
  {
   "cell_type": "code",
   "execution_count": 64,
   "id": "c1040661-3f3b-450e-bad8-bdf9a9f318fb",
   "metadata": {},
   "outputs": [
    {
     "data": {
      "text/html": [
       "<div>\n",
       "<style scoped>\n",
       "    .dataframe tbody tr th:only-of-type {\n",
       "        vertical-align: middle;\n",
       "    }\n",
       "\n",
       "    .dataframe tbody tr th {\n",
       "        vertical-align: top;\n",
       "    }\n",
       "\n",
       "    .dataframe thead th {\n",
       "        text-align: right;\n",
       "    }\n",
       "</style>\n",
       "<table border=\"1\" class=\"dataframe\">\n",
       "  <thead>\n",
       "    <tr style=\"text-align: right;\">\n",
       "      <th></th>\n",
       "      <th>SMILES</th>\n",
       "      <th>Label</th>\n",
       "      <th>Gender_code_0</th>\n",
       "      <th>Gender_code_1</th>\n",
       "      <th>Gender_code_2</th>\n",
       "      <th>Gender_code_3</th>\n",
       "      <th>Age_code_0</th>\n",
       "      <th>Age_code_1</th>\n",
       "      <th>Age_code_2</th>\n",
       "      <th>Age_code_3</th>\n",
       "      <th>...</th>\n",
       "      <th>ECFP4.119</th>\n",
       "      <th>ECFP4.120</th>\n",
       "      <th>ECFP4.121</th>\n",
       "      <th>ECFP4.122</th>\n",
       "      <th>ECFP4.123</th>\n",
       "      <th>ECFP4.124</th>\n",
       "      <th>ECFP4.125</th>\n",
       "      <th>ECFP4.126</th>\n",
       "      <th>ECFP4.127</th>\n",
       "      <th>ECFP4.128</th>\n",
       "    </tr>\n",
       "  </thead>\n",
       "  <tbody>\n",
       "  </tbody>\n",
       "</table>\n",
       "<p>0 rows × 186 columns</p>\n",
       "</div>"
      ],
      "text/plain": [
       "Empty DataFrame\n",
       "Columns: [SMILES, Label, Gender_code_0, Gender_code_1, Gender_code_2, Gender_code_3, Age_code_0, Age_code_1, Age_code_2, Age_code_3, Age_code_4, Age_code_5, Allocation_Type_0, Allocation_Type_1, Allocation_Type_2, Allocation_Type_3, Intervention_Model_0, Intervention_Model_1, Intervention_Model_2, Intervention_Model_3, Intervention_Model_4, Intervention_Model_5, Country_0, Country_1, Country_2, Country_3, Country_4, Country_5, Funder_Type_0, Funder_Type_1, Funder_Type_2, Funder_Type_3, Funder_Type_4, Funder_Type_5, claims_#, Duration, Patent_#, PCT_code_0, PCT_code_1, PCT_code_2, CPC_code_0, CPC_code_1, CPC_code_2, CPC_code_3, CPC_code_4, CPC_code_5, logP, MW, PSA, HBA, HBD, Rings, Polarizability, Refractivity, Bond_#, Bioavailability_0, Bioavailability_1, Bioavailability_2, ECFP4.1, ECFP4.2, ECFP4.3, ECFP4.4, ECFP4.5, ECFP4.6, ECFP4.7, ECFP4.8, ECFP4.9, ECFP4.10, ECFP4.11, ECFP4.12, ECFP4.13, ECFP4.14, ECFP4.15, ECFP4.16, ECFP4.17, ECFP4.18, ECFP4.19, ECFP4.20, ECFP4.21, ECFP4.22, ECFP4.23, ECFP4.24, ECFP4.25, ECFP4.26, ECFP4.27, ECFP4.28, ECFP4.29, ECFP4.30, ECFP4.31, ECFP4.32, ECFP4.33, ECFP4.34, ECFP4.35, ECFP4.36, ECFP4.37, ECFP4.38, ECFP4.39, ECFP4.40, ECFP4.41, ECFP4.42, ...]\n",
       "Index: []\n",
       "\n",
       "[0 rows x 186 columns]"
      ]
     },
     "execution_count": 64,
     "metadata": {},
     "output_type": "execute_result"
    }
   ],
   "source": [
    "df0[df0[\"SMILES\"]=='[H][C@@]12CC[C@](O)(C(C)=O)[C@@]1(C)C[C@H](O)[C@@]1(F)[C@@]2([H])C[C@H](C)C2=CC(=O)C=C[C@]12C']\n",
    "# 'CC(=O)[C@@]1(O)CC[C@H]2[C@@H]3C[C@H](C)C4=CC(=O)C=C[C@]4(C)[C@@]3(F)[C@@H](O)C[C@@]21C'\n",
    "# 'C[C@H]1C[C@H]2[C@@H]3CC[C@@]([C@]3(C[C@@H]([C@@]2([C@@]4(C1=CC(=O)C=C4)C)F)O)C)(C(=O)C)O'\n",
    "# '[H][C@@]12CC[C@](O)(C(C)=O)[C@@]1(C)C[C@H](O)[C@@]1(F)[C@@]2([H])C[C@H](C)C2=CC(=O)C=C[C@]12C'\n"
   ]
  },
  {
   "cell_type": "code",
   "execution_count": 51,
   "id": "e5f79425-036f-4b75-8ab9-cca092ccd47b",
   "metadata": {},
   "outputs": [],
   "source": [
    "import requests\n",
    "from urllib.parse import quote\n",
    "\n",
    "def get_drugbank_id_from_smiles_cactus(smiles):\n",
    "    # Canonicalize SMILES (optional but recommended)\n",
    "    from rdkit import Chem\n",
    "    mol = Chem.MolFromSmiles(smiles)\n",
    "    if mol:\n",
    "        canonical_smiles = Chem.MolToSmiles(mol)\n",
    "    else:\n",
    "        return None\n",
    "    \n",
    "    # Query Cactus\n",
    "    url = f\"https://cactus.nci.nih.gov/chemical/structure/{quote(canonical_smiles)}/drugbank_ids.json\"\n",
    "    response = requests.get(url)\n",
    "    \n",
    "    if response.ok:\n",
    "        try:\n",
    "            return response.json()[0]  # Returns the first DrugBank ID\n",
    "        except (IndexError, ValueError):\n",
    "            return None\n",
    "    return None"
   ]
  },
  {
   "cell_type": "code",
   "execution_count": null,
   "id": "ba59acd0-7e37-4812-87c9-0397a66ca70d",
   "metadata": {},
   "outputs": [],
   "source": [
    "# Example usage\n",
    "smiles = \"CC(=O)OC1=CC=CC=C1C(=O)O\"  # Aspirin\n",
    "drugbank_id = get_drugbank_id_from_smiles_cactus(smiles)\n",
    "print(drugbank_id)  # Output: DB00945"
   ]
  },
  {
   "cell_type": "code",
   "execution_count": null,
   "id": "75db6b38-e70a-4e12-8f8d-f3136a87923f",
   "metadata": {},
   "outputs": [],
   "source": [
    "import requests\n",
    "from rdkit import Chem\n",
    "\n",
    "def get_inchikey(smiles):\n",
    "    mol = Chem.MolFromSmiles(smiles)\n",
    "    return Chem.MolToInchiKey(mol) if mol else None\n",
    "\n",
    "def get_drugbank_id_from_smiles_pubchem(smiles):\n",
    "    inchikey = get_inchikey(smiles)\n",
    "    if not inchikey:\n",
    "        return None\n",
    "    \n",
    "    # Step 1: Get PubChem CID from InChIKey\n",
    "    url_cid = f\"https://pubchem.ncbi.nlm.nih.gov/rest/pug/compound/inchikey/{inchikey}/cids/JSON\"\n",
    "    response = requests.get(url_cid)\n",
    "    if not response.ok:\n",
    "        return None\n",
    "    cid = response.json()['IdentifierList']['CID'][0]\n",
    "    \n",
    "    # Step 2: Get DrugBank ID from CID\n",
    "    url_dbid = f\"https://pubchem.ncbi.nlm.nih.gov/rest/pug/compound/cid/{cid}/property/DrugBankID/JSON\"\n",
    "    response = requests.get(url_dbid)\n",
    "    if not response.ok:\n",
    "        return None\n",
    "    return response.json()['PropertyTable']['Properties'][0]['DrugBankID']\n",
    "\n",
    "# Example usage\n",
    "drugbank_id = get_drugbank_id_from_smiles_pubchem(smiles)\n",
    "print(drugbank_id)  # Output: DB00945"
   ]
  },
  {
   "cell_type": "code",
   "execution_count": 65,
   "id": "e304a6d1-ed83-4e15-8382-22432fadb3aa",
   "metadata": {},
   "outputs": [],
   "source": [
    "def get_fp(smiles):\n",
    "    mol = Chem.MolFromSmiles(smiles)\n",
    "    if mol is None:\n",
    "        raise ValueError(\"Invalid SMILES\")\n",
    "\n",
    "    # Generate Morgan fingerprint (radius=2, 2048-bit vector)\n",
    "    fp = AllChem.GetMorganFingerprintAsBitVect(mol, radius=2, nBits=2048)\n",
    "\n",
    "    # Convert to a bit string or list\n",
    "    bit_string = fp.ToBitString()\n",
    "    \n",
    "    return bit_string"
   ]
  },
  {
   "cell_type": "code",
   "execution_count": null,
   "id": "01053b5c-bbd9-4cb8-b274-96d614ad8c1a",
   "metadata": {},
   "outputs": [],
   "source": [
    "def get_calculated_properties(smiles:str , Features:list = None)->list: \n",
    "    \"\"\"\n",
    "    \n",
    "    \"\"\""
   ]
  },
  {
   "cell_type": "code",
   "execution_count": null,
   "id": "1cabe702-b9b5-48ad-9ad1-26cc24cf1bb0",
   "metadata": {},
   "outputs": [],
   "source": []
  },
  {
   "cell_type": "code",
   "execution_count": 60,
   "id": "0a9da479-c66a-46b2-a597-acb5f1506053",
   "metadata": {},
   "outputs": [],
   "source": [
    "def get_property_value(df, smiles_value):\n",
    "\n",
    "    row = df[df[\"SMILES\"] == smiles_value].reset_index()\n",
    "    \n",
    "    if not row.empty:\n",
    "        return row[\"calculated_properties\"][0]#.values\n",
    "    return None"
   ]
  },
  {
   "cell_type": "code",
   "execution_count": 66,
   "id": "ab673510-ba7d-42d4-b5ab-3c31c9411346",
   "metadata": {},
   "outputs": [],
   "source": [
    "def get_approval_stat_value(df, smiles_value):\n",
    "\n",
    "    row = df[df[\"SMILES\"] == smiles_value].reset_index()\n",
    "    \n",
    "    if not row.empty:\n",
    "        return row[\"approval_stat\"][0]#.values\n",
    "    return None"
   ]
  },
  {
   "cell_type": "code",
   "execution_count": 61,
   "id": "a55287da-b321-4b97-91e8-2d25313dba1e",
   "metadata": {},
   "outputs": [],
   "source": [
    "a = df_properties[\"SMILES\"][12]"
   ]
  },
  {
   "cell_type": "code",
   "execution_count": 62,
   "id": "89eea20d-7591-4825-ae82-834ec032db25",
   "metadata": {},
   "outputs": [
    {
     "data": {
      "text/plain": [
       "Index(['name', 'groups', 'approval_stat', 'SMILES', 'experimental_properties',\n",
       "       'calculated_properties'],\n",
       "      dtype='object')"
      ]
     },
     "execution_count": 62,
     "metadata": {},
     "output_type": "execute_result"
    }
   ],
   "source": [
    "df_properties.columns"
   ]
  },
  {
   "cell_type": "code",
   "execution_count": 63,
   "id": "241d69a8-e52b-492e-b1a9-e1855b43b6fa",
   "metadata": {},
   "outputs": [
    {
     "data": {
      "text/plain": [
       "[{'logP': '0.05'},\n",
       " {'logS': '-2.4'},\n",
       " {'Water Solubility': '1.62e+00 g/l'},\n",
       " {'logP': '-5.3'},\n",
       " {'IUPAC Name': '(2S)-2-amino-4-({[(2S,3S,4R,5R)-5-(6-amino-9H-purin-9-yl)-3,4-dihydroxyoxolan-2-yl]methyl}(methyl)sulfaniumyl)butanoate'},\n",
       " {'Traditional IUPAC Name': '(1S,2S,4R,8S,9S,11S,12R,13S)-12-fluoro-11-hydroxy-8-(2-hydroxyacetyl)-6,6,9,13-tetramethyl-5,7-dioxapentacyclo[10.8.0.0^{2,9}.0^{4,8}.0^{13,18}]icosa-14,17-dien-16-one'},\n",
       " {'Molecular Weight': '398.44'},\n",
       " {'Monoisotopic Weight': '398.137239006'},\n",
       " {'SMILES': 'C[S+](CC[C@H](N)C([O-])=O)C[C@H]1O[C@H]([C@H](O)[C@@H]1O)N1C=NC2=C1N=CN=C2N'},\n",
       " {'Molecular Formula': 'C15H22N6O5S'},\n",
       " {'InChI': 'InChI=1S/C15H22N6O5S/c1-27(3-2-7(16)15(24)25)4-8-10(22)11(23)14(26-8)21-6-20-9-12(17)18-5-19-13(9)21/h5-8,10-11,14,22-23H,2-4,16H2,1H3,(H2-,17,18,19,24,25)/t7-,8+,10+,11+,14+,27?/m0/s1'},\n",
       " {'InChIKey': 'MEFKEPWMEQBLKI-AIRLBKTGSA-N'},\n",
       " {'Polar Surface Area (PSA)': '185.46'},\n",
       " {'Refractivity': '107.07'},\n",
       " {'Polarizability': '39.26'},\n",
       " {'Rotatable Bond Count': '7'},\n",
       " {'H Bond Acceptor Count': '10'},\n",
       " {'H Bond Donor Count': '4'},\n",
       " {'pKa (strongest acidic)': '1.7'},\n",
       " {'pKa (strongest basic)': '9.41'},\n",
       " {'Physiological Charge': '1'},\n",
       " {'Number of Rings': '3'},\n",
       " {'Bioavailability': '1'},\n",
       " {'Rule of Five': '1'},\n",
       " {'Ghose Filter': '0'},\n",
       " {'MDDR-Like Rule': '1'}]"
      ]
     },
     "execution_count": 63,
     "metadata": {},
     "output_type": "execute_result"
    }
   ],
   "source": [
    "get_property_value(df_properties , a)"
   ]
  },
  {
   "cell_type": "code",
   "execution_count": 67,
   "id": "6668eb69-ffb4-42a8-958c-90bfc32add59",
   "metadata": {},
   "outputs": [
    {
     "data": {
      "text/plain": [
       "'approved'"
      ]
     },
     "execution_count": 67,
     "metadata": {},
     "output_type": "execute_result"
    }
   ],
   "source": [
    "get_approval_stat_value(df_properties , a)"
   ]
  },
  {
   "cell_type": "code",
   "execution_count": 69,
   "id": "64acbead-0df9-4d93-9424-79c4e0e886ec",
   "metadata": {},
   "outputs": [],
   "source": [
    "most_app[\"calculated_properties\"] = most_app.apply(lambda row : get_property_value(df_properties , row[\"SMILES\"]), axis=1)"
   ]
  },
  {
   "cell_type": "code",
   "execution_count": 70,
   "id": "c929571c-4905-4e7f-9cb4-0bf665302980",
   "metadata": {},
   "outputs": [
    {
     "data": {
      "text/html": [
       "<div>\n",
       "<style scoped>\n",
       "    .dataframe tbody tr th:only-of-type {\n",
       "        vertical-align: middle;\n",
       "    }\n",
       "\n",
       "    .dataframe tbody tr th {\n",
       "        vertical-align: top;\n",
       "    }\n",
       "\n",
       "    .dataframe thead th {\n",
       "        text-align: right;\n",
       "    }\n",
       "</style>\n",
       "<table border=\"1\" class=\"dataframe\">\n",
       "  <thead>\n",
       "    <tr style=\"text-align: right;\">\n",
       "      <th></th>\n",
       "      <th>SMILES</th>\n",
       "      <th>labels</th>\n",
       "      <th>sim</th>\n",
       "      <th>calculated_properties</th>\n",
       "    </tr>\n",
       "  </thead>\n",
       "  <tbody>\n",
       "    <tr>\n",
       "      <th>642</th>\n",
       "      <td>CC(=O)[C@@]1(O)CC[C@H]2[C@@H]3C[C@H](C)C4=CC(=...</td>\n",
       "      <td>1</td>\n",
       "      <td>0.997136</td>\n",
       "      <td>None</td>\n",
       "    </tr>\n",
       "    <tr>\n",
       "      <th>748</th>\n",
       "      <td>C[C@@H]1C[C@H]2[C@@H]3CCC4=CC(=O)C=C[C@]4(C)[C...</td>\n",
       "      <td>1</td>\n",
       "      <td>0.996724</td>\n",
       "      <td>None</td>\n",
       "    </tr>\n",
       "    <tr>\n",
       "      <th>1416</th>\n",
       "      <td>CC1(C)O[C@@H]2C[C@H]3[C@@H]4CCC5=CC(=O)C=C[C@]...</td>\n",
       "      <td>1</td>\n",
       "      <td>0.996411</td>\n",
       "      <td>None</td>\n",
       "    </tr>\n",
       "    <tr>\n",
       "      <th>1007</th>\n",
       "      <td>CC[C@@H]1[C@@H]2C[C@H](O)CC[C@]2(C)[C@H]2CC[C@...</td>\n",
       "      <td>1</td>\n",
       "      <td>0.996281</td>\n",
       "      <td>None</td>\n",
       "    </tr>\n",
       "    <tr>\n",
       "      <th>2281</th>\n",
       "      <td>CC(=O)[C@@]1(O)CC[C@H]2[C@@H]3C=C(C)C4=CC(=O)C...</td>\n",
       "      <td>1</td>\n",
       "      <td>0.996260</td>\n",
       "      <td>None</td>\n",
       "    </tr>\n",
       "  </tbody>\n",
       "</table>\n",
       "</div>"
      ],
      "text/plain": [
       "                                                 SMILES  labels       sim  \\\n",
       "642   CC(=O)[C@@]1(O)CC[C@H]2[C@@H]3C[C@H](C)C4=CC(=...       1  0.997136   \n",
       "748   C[C@@H]1C[C@H]2[C@@H]3CCC4=CC(=O)C=C[C@]4(C)[C...       1  0.996724   \n",
       "1416  CC1(C)O[C@@H]2C[C@H]3[C@@H]4CCC5=CC(=O)C=C[C@]...       1  0.996411   \n",
       "1007  CC[C@@H]1[C@@H]2C[C@H](O)CC[C@]2(C)[C@H]2CC[C@...       1  0.996281   \n",
       "2281  CC(=O)[C@@]1(O)CC[C@H]2[C@@H]3C=C(C)C4=CC(=O)C...       1  0.996260   \n",
       "\n",
       "     calculated_properties  \n",
       "642                   None  \n",
       "748                   None  \n",
       "1416                  None  \n",
       "1007                  None  \n",
       "2281                  None  "
      ]
     },
     "execution_count": 70,
     "metadata": {},
     "output_type": "execute_result"
    }
   ],
   "source": [
    "most_app"
   ]
  },
  {
   "cell_type": "code",
   "execution_count": 65,
   "id": "34b8ae95-add7-4efa-8eea-e86713b068b3",
   "metadata": {},
   "outputs": [],
   "source": [
    "sys_prompt = \"you are an expert chemist \""
   ]
  },
  {
   "cell_type": "code",
   "execution_count": null,
   "id": "27064107-b0f9-451c-ae83-9bf711635458",
   "metadata": {},
   "outputs": [],
   "source": [
    "input_prompt = f\"\"\" {sys_prompt}\n",
    "your task is to do reasoning based on the provided informaion that why the compound X is {approval_stat}\n",
    "I trained a model that can predict the most simmilar molecules to  compound X. this model will give the five most simmilar and five most dissimillar moleculs based on the state of approvality. \n",
    "you know that the compound X is {approval_stat} and your task is to reason why this will be {approval_stat} based on the provided information. \n",
    "the most simmilar approved small molecules with their properties that my model predict to this coumpound are: \n",
    "{list_of_most_approved} \n",
    "and the most simmilar non approved small moleculs with their properties are: \n",
    "{list_of_most_nonapproved} \n",
    "\"\""
   ]
  },
  {
   "cell_type": "code",
   "execution_count": null,
   "id": "96b27202-55fe-4bdd-8895-22eb639b4a56",
   "metadata": {},
   "outputs": [],
   "source": [
    "input_prompt = f\"\"\"{sys_prompt}\n",
    "Your task is to provide a detailed analysis explaining why compound X has an approval status of {approval_stat}.\n",
    "\n",
    "I have developed a model that identifies molecules most similar to compound X. This model outputs two lists:\n",
    "1. The five most similar approved small molecules (with their properties).\n",
    "2. The five most similar non-approved small molecules (with their properties).\n",
    "\n",
    "Using the provided data:\n",
    "- Approved molecules: {list_of_most_approved}\n",
    "- Non-approved molecules: {list_of_most_nonapproved}\n",
    "\n",
    "Please analyze the data and reason which properties or patterns contribute to compound X being {approval_stat}. In your explanation, compare the characteristics observed in both lists to support your reasoning.\n",
    "\"\"\"\n"
   ]
  }
 ],
 "metadata": {
  "kernelspec": {
   "display_name": "Python 3 (ipykernel)",
   "language": "python",
   "name": "python3"
  },
  "language_info": {
   "codemirror_mode": {
    "name": "ipython",
    "version": 3
   },
   "file_extension": ".py",
   "mimetype": "text/x-python",
   "name": "python",
   "nbconvert_exporter": "python",
   "pygments_lexer": "ipython3",
   "version": "3.10.9"
  }
 },
 "nbformat": 4,
 "nbformat_minor": 5
}
