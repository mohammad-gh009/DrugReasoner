{
 "cells": [
  {
   "cell_type": "markdown",
   "id": "faeaa212-a216-4978-85ad-4c2f951f9964",
   "metadata": {},
   "source": [
    "# The Pipeline "
   ]
  },
  {
   "cell_type": "markdown",
   "id": "6795e879-21c6-4f97-b79b-b9bbdd0c9466",
   "metadata": {},
   "source": [
    "## step1 : loading an embedding model"
   ]
  },
  {
   "cell_type": "code",
   "execution_count": 1,
   "id": "17a92ecf-46ef-41ab-a3d6-6eebd601af26",
   "metadata": {},
   "outputs": [],
   "source": [
    "%%capture\n",
    "import pandas as pd\n",
    "from step1 import *\n",
    "from ImportsAndDatasets import *\n",
    "from parse_drugbank_data  import parse_drugbank ,convert_properties , extract_smiles\n",
    "from preprocess_df_for_smiles import *"
   ]
  },
  {
   "cell_type": "code",
   "execution_count": 2,
   "id": "c5c87c0d-71f3-4621-b053-e3fbd620bc8f",
   "metadata": {},
   "outputs": [],
   "source": [
    "df_drugbank = parse_drugbank(\"/home/u111169/wrkdir/mgh-project/datasets/drugbank_data/full_database.xml\")\n",
    "print(\"drug bank data parsed\")"
   ]
  },
  {
   "cell_type": "code",
   "execution_count": 3,
   "id": "cf1320d3-490f-4892-83e8-8d74d6714744",
   "metadata": {},
   "outputs": [],
   "source": [
    "%%capture\n",
    "approved_df, not_approved_df , lookup_table = preprocess_df_for_smiles(df_drugbank)"
   ]
  },
  {
   "cell_type": "code",
   "execution_count": 65,
   "id": "ac583fb2-5161-4b7d-9f38-22dd0ac5f451",
   "metadata": {},
   "outputs": [],
   "source": [
    "# I manually have added thsi approval_stat. but now that I am using the chemapp dataset I dont nead it. \n",
    "df_properties = lookup_table[[\"name\",\"description\", \"average_mass\", \"toxicity\",\"groups\", \"labels\" ,\"approval_stat\", \"SMILES\", \"experimental_properties\", \"calculated_properties\" ]]"
   ]
  },
  {
   "cell_type": "code",
   "execution_count": 68,
   "id": "8b6acc00-3210-4125-9b76-0710cae75819",
   "metadata": {},
   "outputs": [],
   "source": [
    "df = pd.read_csv(\"/home/u111169/wrkdir/mgh-project/ChemAP/dataset/DrugApp/All_training_feature_vectors.csv\")\n",
    "\n",
    "df = df[[\"SMILES\" , \"Label\"]].rename(columns={'Label': 'labels'})"
   ]
  },
  {
   "cell_type": "code",
   "execution_count": 95,
   "id": "4416b22a-e7d7-4b35-85f0-cc35f848f8be",
   "metadata": {},
   "outputs": [],
   "source": [
    "train_df , val_df , test_df , dataset_train , dataset_df , dataset_test = train_valid_test_split(df)"
   ]
  },
  {
   "cell_type": "code",
   "execution_count": 96,
   "id": "fa9d5b48-f099-4219-ba8a-e8dbfc84cf93",
   "metadata": {},
   "outputs": [],
   "source": [
    "from rdkit import Chem\n",
    "\n",
    "def get_canonical_smiles(smiles):\n",
    "    # Convert input SMILES to molecule object\n",
    "    mol = Chem.MolFromSmiles(smiles)\n",
    "    \n",
    "    if mol is None:\n",
    "        return None  # Invalid SMILES\n",
    "    \n",
    "    # Generate canonical SMILES\n",
    "    canonical_smiles = Chem.MolToSmiles(mol, isomericSmiles=True, canonical=True)\n",
    "    return canonical_smiles\n"
   ]
  },
  {
   "cell_type": "code",
   "execution_count": 97,
   "id": "3d9c5aa3-4680-433f-812d-37702cbd766b",
   "metadata": {},
   "outputs": [],
   "source": [
    "train_df[\"SMILES\"] = train_df[\"SMILES\"].apply(lambda x: get_canonical_smiles(x))\n",
    "val_df[\"SMILES\"] = val_df[\"SMILES\"].apply(lambda x: get_canonical_smiles(x))\n",
    "test_df[\"SMILES\"] = test_df[\"SMILES\"].apply(lambda x: get_canonical_smiles(x))"
   ]
  },
  {
   "cell_type": "code",
   "execution_count": 98,
   "id": "f6002acc-4c14-4942-aa82-825af1760b92",
   "metadata": {},
   "outputs": [
    {
     "name": "stderr",
     "output_type": "stream",
     "text": [
      "[15:21:57] WARNING: not removing hydrogen atom without neighbors\n",
      "[15:21:57] WARNING: not removing hydrogen atom without neighbors\n",
      "[15:21:58] Unusual charge on atom 42 number of radical electrons set to zero\n",
      "[15:22:00] WARNING: not removing hydrogen atom without neighbors\n",
      "[15:22:00] WARNING: not removing hydrogen atom without neighbors\n",
      "[15:22:00] WARNING: not removing hydrogen atom without neighbors\n",
      "[15:22:00] WARNING: not removing hydrogen atom without neighbors\n",
      "[15:22:00] WARNING: not removing hydrogen atom without neighbors\n"
     ]
    }
   ],
   "source": [
    "df_properties = df_properties.dropna(subset=[\"SMILES\"])\n",
    "\n",
    "df_properties[\"SMILES\"] = df_properties[\"SMILES\"].apply(lambda x: get_canonical_smiles(x))"
   ]
  },
  {
   "cell_type": "code",
   "execution_count": 80,
   "id": "9c305321-6cd0-4bea-82bf-55fc839dfe64",
   "metadata": {},
   "outputs": [],
   "source": [
    "# train_df = train_df[: 10]\n",
    "# val_df = val_df[: 10]\n",
    "# test_df = test_df[: 10]"
   ]
  },
  {
   "cell_type": "code",
   "execution_count": 82,
   "id": "02948595-ad6e-4f92-88dd-c55a83e20a38",
   "metadata": {},
   "outputs": [],
   "source": [
    "def get_dict_of_approved_and_unapproved(df, dataset_train, dataset=\"val\" , number_of_simmilar_in_each=5):\n",
    "    \"\"\"\n",
    "    \"\"\"\n",
    "    df[\"Dicts\"] = None\n",
    "    for inst in range(len(df)): \n",
    "        app_dict = {}\n",
    "        most_app , most_nonapp , tot  = get_most_app_and_most_nonapp(inst, df, dataset_train, dataset , number_of_simmilar_in_each)\n",
    "        app_dict[\"most_app\"]=most_app \n",
    "        app_dict[\"most_nonapp\"]=most_nonapp \n",
    "        df[\"Dicts\"][inst] = app_dict\n",
    "    return df"
   ]
  },
  {
   "cell_type": "code",
   "execution_count": 83,
   "id": "dbc998f5-eda1-47ed-b136-c10579b9de6a",
   "metadata": {},
   "outputs": [],
   "source": [
    "def get_value(df, smiles_value, column_name):\n",
    "    \"\"\"\n",
    "    Retrieves a value from a DataFrame based on a SMILES value and column name.\n",
    "\n",
    "    Args:\n",
    "        df (pd.DataFrame): The DataFrame to search in.\n",
    "        smiles_value (str): The SMILES value to search for.\n",
    "        column_name (str): The name of the column to retrieve the value from.\n",
    "\n",
    "    Returns:\n",
    "        The value from the specified column and SMILES value, or None if not found.\n",
    "    \"\"\"\n",
    "    row = df[df[\"SMILES\"] == smiles_value].reset_index()\n",
    "    \n",
    "    if not row.empty:\n",
    "        return row[column_name][0]\n",
    "    return None"
   ]
  },
  {
   "cell_type": "code",
   "execution_count": 84,
   "id": "a237c84f-4f95-42a8-bb0e-2654ef9e424a",
   "metadata": {},
   "outputs": [],
   "source": [
    "def get_list_of_most(most_app:pd.DataFrame , df_properties): \n",
    "    final_list_of_most = []\n",
    "    for i in most_app[\"SMILES\"]: \n",
    "        dic = {}\n",
    "        dic[\"name\"] = get_value(df_properties,i, \"name\")\n",
    "        dic[\"simmilarity score\"] = most_app.loc[most_app[\"SMILES\"] == i, \"sim\"].values\n",
    "        dic[\"approval groups\"] = get_value(df_properties,i, \"groups\")\n",
    "        dic[\"average mass\"] = get_value(df_properties , i, \"average_mass\")\n",
    "        dic[\"toxicity\"] = get_value(df_properties , i, \"toxicity\") \n",
    "        dic[\"descriptions\"] = get_value(df_properties , i, \"description\") \n",
    "        final_list_of_most.append(dic) \n",
    "    return final_list_of_most\n",
    "        "
   ]
  },
  {
   "cell_type": "code",
   "execution_count": 85,
   "id": "6ffa3ca2-571f-4336-bdb9-dcf413e0a824",
   "metadata": {},
   "outputs": [],
   "source": [
    "def final_dataset_containing_drug_information_as_list_ready_for_prompt(df, df_properties):\n",
    "    # Initialize the new columns with None\n",
    "    df[\"list_of_most_approved_info_for_n_simmilar\"] = None\n",
    "    df[\"list_of_most_nonapproved_info_for_n_simmilar\"] = None\n",
    "    \n",
    "    # Iterate over each row in the DataFrame\n",
    "    for i in range(len(df)):\n",
    "        list_of_most_approved_info = get_list_of_most(df[\"Dicts\"][i][\"most_app\"], df_properties)\n",
    "        list_of_most_nonapproved_info = get_list_of_most(df[\"Dicts\"][i][\"most_nonapp\"], df_properties)\n",
    "        df.at[i, \"list_of_most_approved_info_for_n_simmilar\"] = list_of_most_approved_info\n",
    "        df.at[i, \"list_of_most_nonapproved_info_for_n_simmilar\"] = list_of_most_nonapproved_info\n",
    "        \n",
    "    return df"
   ]
  },
  {
   "cell_type": "code",
   "execution_count": 86,
   "id": "e9ebaa08-6530-4045-98c3-c237bbcf9e7d",
   "metadata": {},
   "outputs": [],
   "source": [
    "def prepare_final_dataset(train_df, dataset_train, df_properties, dataset=\"train\", number_of_simmilar_in_each=5):\n",
    "    \"\"\"\n",
    "    Prepare the final dataset containing drug information as a list ready for prompt.\n",
    "\n",
    "    Args:\n",
    "    - train_df (DataFrame): The training DataFrame.\n",
    "    - dataset_train (object): The training dataset object.\n",
    "    - df_properties (DataFrame): The DataFrame containing properties.\n",
    "    - number_of_simmilar_in_each (int, optional): The number of similar items in each. Defaults to 5.\n",
    "\n",
    "    Returns:\n",
    "    - final_df (DataFrame): The final dataset containing drug information as a list ready for prompt.\n",
    "    \"\"\"\n",
    "    a = get_dict_of_approved_and_unapproved(train_df, dataset_train, dataset, number_of_simmilar_in_each=number_of_simmilar_in_each)\n",
    "    final_df = final_dataset_containing_drug_information_as_list_ready_for_prompt(a, df_properties)\n",
    "    return final_df"
   ]
  },
  {
   "cell_type": "code",
   "execution_count": null,
   "id": "c8a1b5a1-3b08-4edc-a1e2-fe44e905ed9a",
   "metadata": {},
   "outputs": [],
   "source": [
    "# import time \n",
    "# start = time.time()\n",
    "\n",
    "a = get_dict_of_approved_and_unapproved(train_df, dataset_train, dataset=\"train\" , number_of_simmilar_in_each=5)"
   ]
  },
  {
   "cell_type": "code",
   "execution_count": 91,
   "id": "4d2696d8-9bb3-444e-9ee8-9443979e592c",
   "metadata": {},
   "outputs": [],
   "source": [
    "final_df = final_dataset_containing_drug_information_as_list_ready_for_prompt(a , df_properties)\n",
    "\n",
    "# end=time.time()\n",
    "# e = start - end\n",
    "# print(e)"
   ]
  },
  {
   "cell_type": "code",
   "execution_count": 92,
   "id": "f47f6001-0389-493b-977f-e3ad57b72fc8",
   "metadata": {},
   "outputs": [],
   "source": [
    "final_df.to_csv(\"cache2.csv\" , index = False)"
   ]
  },
  {
   "cell_type": "code",
   "execution_count": 93,
   "id": "a86f3d70-d743-4b55-8b8c-e5bb4b7549c5",
   "metadata": {},
   "outputs": [],
   "source": [
    "c = pd.read_csv(\"cache2.csv\")"
   ]
  },
  {
   "cell_type": "code",
   "execution_count": 44,
   "id": "f1a5dac6-afec-477c-925c-e802f2d58d15",
   "metadata": {},
   "outputs": [],
   "source": [
    "# final_df.to_csv(\"/home/u111169/wrkdir/mgh-project/dataframes/final_df_to_reason.csv\", index = False)"
   ]
  },
  {
   "cell_type": "code",
   "execution_count": 94,
   "id": "8cf269f7-bd08-45f5-b03c-2abb04833d88",
   "metadata": {},
   "outputs": [
    {
     "data": {
      "text/html": [
       "<div>\n",
       "<style scoped>\n",
       "    .dataframe tbody tr th:only-of-type {\n",
       "        vertical-align: middle;\n",
       "    }\n",
       "\n",
       "    .dataframe tbody tr th {\n",
       "        vertical-align: top;\n",
       "    }\n",
       "\n",
       "    .dataframe thead th {\n",
       "        text-align: right;\n",
       "    }\n",
       "</style>\n",
       "<table border=\"1\" class=\"dataframe\">\n",
       "  <thead>\n",
       "    <tr style=\"text-align: right;\">\n",
       "      <th></th>\n",
       "      <th>SMILES</th>\n",
       "      <th>labels</th>\n",
       "      <th>Dicts</th>\n",
       "      <th>list_of_most_approved_info_for_n_simmilar</th>\n",
       "      <th>list_of_most_nonapproved_info_for_n_simmilar</th>\n",
       "    </tr>\n",
       "  </thead>\n",
       "  <tbody>\n",
       "    <tr>\n",
       "      <th>0</th>\n",
       "      <td>CC1(C)[C@@H](O[C@H]2O[C@H](C(=O)O)[C@@H](O)[C@...</td>\n",
       "      <td>1</td>\n",
       "      <td>{'most_app':                                  ...</td>\n",
       "      <td>[{'name': None, 'simmilarity score': array([0....</td>\n",
       "      <td>[{'name': None, 'simmilarity score': array([0....</td>\n",
       "    </tr>\n",
       "    <tr>\n",
       "      <th>1</th>\n",
       "      <td>CCN(CC)CCNC(=O)c1c(C)[nH]c(/C=C2\\C(=O)Nc3ccc(F...</td>\n",
       "      <td>1</td>\n",
       "      <td>{'most_app':                                  ...</td>\n",
       "      <td>[{'name': None, 'simmilarity score': array([0....</td>\n",
       "      <td>[{'name': 'Omecamtiv Mecarbil', 'simmilarity s...</td>\n",
       "    </tr>\n",
       "    <tr>\n",
       "      <th>2</th>\n",
       "      <td>C[N+]1(C)[C@@H]2C[C@@H](OC(=O)C(O)(c3cccs3)c3c...</td>\n",
       "      <td>1</td>\n",
       "      <td>{'most_app':                                  ...</td>\n",
       "      <td>[{'name': None, 'simmilarity score': array([1....</td>\n",
       "      <td>[{'name': 'Lucanthone', 'simmilarity score': a...</td>\n",
       "    </tr>\n",
       "    <tr>\n",
       "      <th>3</th>\n",
       "      <td>CO/N=C(\\C(=O)N[C@@H]1C(=O)N2C(C(=O)[O-])=C(C[N...</td>\n",
       "      <td>1</td>\n",
       "      <td>{'most_app':                                  ...</td>\n",
       "      <td>[{'name': 'Cefpirome', 'simmilarity score': ar...</td>\n",
       "      <td>[{'name': 'Lucanthone', 'simmilarity score': a...</td>\n",
       "    </tr>\n",
       "    <tr>\n",
       "      <th>4</th>\n",
       "      <td>Nc1cc(C(F)(F)F)c(-c2nc(N3CCOCC3)nc(N3CCOCC3)n2...</td>\n",
       "      <td>0</td>\n",
       "      <td>{'most_app':                                  ...</td>\n",
       "      <td>[{'name': 'Pexidartinib', 'simmilarity score':...</td>\n",
       "      <td>[{'name': 'Buparlisib', 'simmilarity score': a...</td>\n",
       "    </tr>\n",
       "    <tr>\n",
       "      <th>5</th>\n",
       "      <td>O=C([O-])[O-].O=C([O-])[O-].O=C([O-])[O-].[La+...</td>\n",
       "      <td>1</td>\n",
       "      <td>{'most_app':                                  ...</td>\n",
       "      <td>[{'name': 'Calcium acetate', 'simmilarity scor...</td>\n",
       "      <td>[{'name': 'Gallium citrate Ga-67', 'simmilarit...</td>\n",
       "    </tr>\n",
       "    <tr>\n",
       "      <th>6</th>\n",
       "      <td>CCC(=O)N(c1ccccc1)C1CCN(CCc2ccccc2)CC1</td>\n",
       "      <td>1</td>\n",
       "      <td>{'most_app':                                  ...</td>\n",
       "      <td>[{'name': None, 'simmilarity score': array([0....</td>\n",
       "      <td>[{'name': 'Chlorcyclizine', 'simmilarity score...</td>\n",
       "    </tr>\n",
       "    <tr>\n",
       "      <th>7</th>\n",
       "      <td>CNC(=N)NCCC[C@H](N)C(=O)O</td>\n",
       "      <td>1</td>\n",
       "      <td>{'most_app':                                  ...</td>\n",
       "      <td>[{'name': 'Levomefolic acid', 'simmilarity sco...</td>\n",
       "      <td>[{'name': None, 'simmilarity score': array([1....</td>\n",
       "    </tr>\n",
       "    <tr>\n",
       "      <th>8</th>\n",
       "      <td>C[S+](C)[O-]</td>\n",
       "      <td>0</td>\n",
       "      <td>{'most_app':                                  ...</td>\n",
       "      <td>[{'name': 'Osimertinib', 'simmilarity score': ...</td>\n",
       "      <td>[{'name': 'Mechlorethamine', 'simmilarity scor...</td>\n",
       "    </tr>\n",
       "    <tr>\n",
       "      <th>9</th>\n",
       "      <td>CC(C)(C)NCC(O)c1cc(Cl)c(N)c(Cl)c1</td>\n",
       "      <td>0</td>\n",
       "      <td>{'most_app':                                  ...</td>\n",
       "      <td>[{'name': 'Penciclovir', 'simmilarity score': ...</td>\n",
       "      <td>[{'name': 'Flutemetamol', 'simmilarity score':...</td>\n",
       "    </tr>\n",
       "  </tbody>\n",
       "</table>\n",
       "</div>"
      ],
      "text/plain": [
       "                                              SMILES  labels  \\\n",
       "0  CC1(C)[C@@H](O[C@H]2O[C@H](C(=O)O)[C@@H](O)[C@...       1   \n",
       "1  CCN(CC)CCNC(=O)c1c(C)[nH]c(/C=C2\\C(=O)Nc3ccc(F...       1   \n",
       "2  C[N+]1(C)[C@@H]2C[C@@H](OC(=O)C(O)(c3cccs3)c3c...       1   \n",
       "3  CO/N=C(\\C(=O)N[C@@H]1C(=O)N2C(C(=O)[O-])=C(C[N...       1   \n",
       "4  Nc1cc(C(F)(F)F)c(-c2nc(N3CCOCC3)nc(N3CCOCC3)n2...       0   \n",
       "5  O=C([O-])[O-].O=C([O-])[O-].O=C([O-])[O-].[La+...       1   \n",
       "6             CCC(=O)N(c1ccccc1)C1CCN(CCc2ccccc2)CC1       1   \n",
       "7                          CNC(=N)NCCC[C@H](N)C(=O)O       1   \n",
       "8                                       C[S+](C)[O-]       0   \n",
       "9                  CC(C)(C)NCC(O)c1cc(Cl)c(N)c(Cl)c1       0   \n",
       "\n",
       "                                               Dicts  \\\n",
       "0  {'most_app':                                  ...   \n",
       "1  {'most_app':                                  ...   \n",
       "2  {'most_app':                                  ...   \n",
       "3  {'most_app':                                  ...   \n",
       "4  {'most_app':                                  ...   \n",
       "5  {'most_app':                                  ...   \n",
       "6  {'most_app':                                  ...   \n",
       "7  {'most_app':                                  ...   \n",
       "8  {'most_app':                                  ...   \n",
       "9  {'most_app':                                  ...   \n",
       "\n",
       "           list_of_most_approved_info_for_n_simmilar  \\\n",
       "0  [{'name': None, 'simmilarity score': array([0....   \n",
       "1  [{'name': None, 'simmilarity score': array([0....   \n",
       "2  [{'name': None, 'simmilarity score': array([1....   \n",
       "3  [{'name': 'Cefpirome', 'simmilarity score': ar...   \n",
       "4  [{'name': 'Pexidartinib', 'simmilarity score':...   \n",
       "5  [{'name': 'Calcium acetate', 'simmilarity scor...   \n",
       "6  [{'name': None, 'simmilarity score': array([0....   \n",
       "7  [{'name': 'Levomefolic acid', 'simmilarity sco...   \n",
       "8  [{'name': 'Osimertinib', 'simmilarity score': ...   \n",
       "9  [{'name': 'Penciclovir', 'simmilarity score': ...   \n",
       "\n",
       "        list_of_most_nonapproved_info_for_n_simmilar  \n",
       "0  [{'name': None, 'simmilarity score': array([0....  \n",
       "1  [{'name': 'Omecamtiv Mecarbil', 'simmilarity s...  \n",
       "2  [{'name': 'Lucanthone', 'simmilarity score': a...  \n",
       "3  [{'name': 'Lucanthone', 'simmilarity score': a...  \n",
       "4  [{'name': 'Buparlisib', 'simmilarity score': a...  \n",
       "5  [{'name': 'Gallium citrate Ga-67', 'simmilarit...  \n",
       "6  [{'name': 'Chlorcyclizine', 'simmilarity score...  \n",
       "7  [{'name': None, 'simmilarity score': array([1....  \n",
       "8  [{'name': 'Mechlorethamine', 'simmilarity scor...  \n",
       "9  [{'name': 'Flutemetamol', 'simmilarity score':...  "
      ]
     },
     "execution_count": 94,
     "metadata": {},
     "output_type": "execute_result"
    }
   ],
   "source": [
    "c"
   ]
  },
  {
   "cell_type": "markdown",
   "id": "7cd03b20-67bf-4860-b424-3b7988769f73",
   "metadata": {},
   "source": [
    "## prompt"
   ]
  },
  {
   "cell_type": "code",
   "execution_count": 36,
   "id": "34b8ae95-add7-4efa-8eea-e86713b068b3",
   "metadata": {},
   "outputs": [],
   "source": [
    "sys_prompt = \"you are an expert chemist \""
   ]
  },
  {
   "cell_type": "code",
   "execution_count": 40,
   "id": "27064107-b0f9-451c-ae83-9bf711635458",
   "metadata": {},
   "outputs": [],
   "source": [
    "input_prompt_1 = f\"\"\" {sys_prompt}\n",
    "your task is to do reasoning based on the provided informaion that why the compound X is {approval_stat}\n",
    "I trained a model that can predict the most simmilar molecules to  compound X. this model will give the five most simmilar and five most dissimillar moleculs based on the state of approvality. \n",
    "you know that the compound X is {approval_stat} and your task is to reason why this will be {approval_stat} based on the provided information. \n",
    "the most simmilar approved small molecules with their properties that my model predict to this coumpound are: \n",
    "{list_of_most_approved} \n",
    "and the most simmilar non approved small moleculs with their properties are: \n",
    "{list_of_most_nonapproved} \n",
    "\"\"\""
   ]
  },
  {
   "cell_type": "code",
   "execution_count": 38,
   "id": "96b27202-55fe-4bdd-8895-22eb639b4a56",
   "metadata": {},
   "outputs": [],
   "source": [
    "input_prompt_2 = f\"\"\"{sys_prompt}\n",
    "Your task is to provide a detailed analysis explaining why compound X has an approval status of {final_df[\"approval_stat\"][0]}.\n",
    "\n",
    "I have developed a model that identifies molecules most similar to compound X. This model outputs two lists:\n",
    "1. The five most similar approved small molecules (with their properties).\n",
    "2. The five most similar non-approved small molecules (with their properties).\n",
    "\n",
    "Using the provided data:\n",
    "- Approved molecules: {final_df[\"list_of_most_approved_info_for_n_simmilar\"][0]}\n",
    "- Non-approved molecules: {final_df[\"list_of_most_nonapproved_info_for_n_simmilar\"][0]}\n",
    "\n",
    "Please analyze the data and reason which properties or patterns contribute to compound X being {final_df[\"approval_stat\"][0]}. In your explanation, compare the characteristics observed in both lists to support your reasoning.\n",
    "\"\"\"\n"
   ]
  },
  {
   "cell_type": "code",
   "execution_count": 43,
   "id": "59c5ee7a-1140-404f-acef-3e0e4efb78d4",
   "metadata": {},
   "outputs": [],
   "source": [
    "input_prompt_3 = f\"\"\"\n",
    "Your task is to analyze the likelihood of compound X receiving regulatory approval based on its similarity to known molecules.  \n",
    "\n",
    "\n",
    "I have developed a model that identifies molecules most similar to compound X. This model outputs two lists:  \n",
    "1. The five most similar approved small molecules (with their properties and similarity scores).  \n",
    "2. The five most similar non-approved small molecules (with their properties and similarity scores).  \n",
    "\n",
    "Using the provided data:  \n",
    "- Approved molecules (with similarity scores): {final_df[\"list_of_most_approved_info_for_n_simmilar\"][0]}  \n",
    "- Non-approved molecules (with similarity scores): {final_df[\"list_of_most_nonapproved_info_for_n_simmilar\"][0]}  \n",
    "\n",
    "\n",
    "Please analyze the molecular properties, trends, and distinguishing features in both lists. Take the similarity scores into account when evaluating the degree of resemblance between compound X and the approved/non-approved molecules.  \n",
    "\n",
    "Based on these comparisons, determine whether compound X is more likely to be approved or not. Justify your reasoning by highlighting key characteristics that align with approved or non-approved compounds, and discuss how the similarity scores influence your prediction.  \n",
    "\"\"\""
   ]
  },
  {
   "cell_type": "code",
   "execution_count": null,
   "id": "0bb899ae-7d73-44e5-828e-51ae4158f3ef",
   "metadata": {},
   "outputs": [],
   "source": []
  },
  {
   "cell_type": "code",
   "execution_count": null,
   "id": "96c4eb9b-1575-42f8-a359-487362c0514b",
   "metadata": {},
   "outputs": [],
   "source": []
  },
  {
   "cell_type": "code",
   "execution_count": null,
   "id": "8f6a7548-011d-4a5a-856d-c05a095a9181",
   "metadata": {},
   "outputs": [],
   "source": []
  },
  {
   "cell_type": "code",
   "execution_count": 14,
   "id": "ee28b2c3-f438-43a9-8366-70a12a2eab2a",
   "metadata": {},
   "outputs": [],
   "source": [
    "from rdkit import Chem\n",
    "from rdkit.Chem import Descriptors, Draw, AllChem, Lipinski, Crippen, rdMolDescriptors\n",
    "from rdkit.Chem import rdDepictor\n",
    "import pandas as pd\n",
    "\n",
    "def get_molecule_properties(smiles):\n",
    "    \"\"\"\n",
    "    Compute molecular properties and analyses for a given SMILES string.\n",
    "    \n",
    "    Args:\n",
    "        smiles (str): SMILES string of the molecule.\n",
    "    \n",
    "    Returns:\n",
    "        dict: A dictionary containing all computed properties and analyses.\n",
    "    \"\"\"\n",
    "    # Initialize the molecule\n",
    "    molecule = Chem.MolFromSmiles(smiles)\n",
    "    if molecule is None:\n",
    "        raise ValueError(\"Invalid SMILES string provided.\")\n",
    "    \n",
    "    # Dictionary to store all properties\n",
    "    properties = {}\n",
    "    \n",
    "\n",
    "    properties[\"Molecular_Weight\"] = Descriptors.MolWt(molecule)\n",
    "    \n",
    "    # 2. Molecular Descriptors\n",
    "    properties[\"LogP\"] = Crippen.MolLogP(molecule)\n",
    "    properties[\"Molecular_Refractivity\"] = Crippen.MolMR(molecule)\n",
    "    properties[\"TPSA\"] = Descriptors.TPSA(molecule)\n",
    "    properties[\"Hydrogen_Bond_Donors\"] = Lipinski.NumHDonors(molecule)\n",
    "    properties[\"Hydrogen_Bond_Acceptors\"] = Lipinski.NumHAcceptors(molecule)\n",
    "    properties[\"Rotatable_Bonds\"] = Lipinski.NumRotatableBonds(molecule)\n",
    "    \n",
    "    \n",
    "    # 4. Stereochemistry\n",
    "    properties[\"Chiral_Centers\"] = Chem.FindMolChiralCenters(molecule)\n",
    "    \n",
    "    \n",
    "    # 6. Substructure Searching\n",
    "    substructure = Chem.MolFromSmarts(\"CO\")  # Search for C-O bond\n",
    "    properties[\"Substructure_Matches\"] = molecule.GetSubstructMatches(substructure)\n",
    "    \n",
    "    return properties\n",
    "\n"
   ]
  },
  {
   "cell_type": "code",
   "execution_count": 17,
   "id": "81821440-6e87-4dc3-b0f1-2d9787f071e4",
   "metadata": {},
   "outputs": [],
   "source": [
    "import pandas as pd \n",
    "\n",
    "df = pd.read_csv(\"/home/u111169/wrkdir/mgh-project/arxive/codes-arxive/reasoning/val_reason.csv\")"
   ]
  },
  {
   "cell_type": "code",
   "execution_count": 22,
   "id": "c22f9f2b-8b5d-49e4-bcf1-2f9576a1c69d",
   "metadata": {},
   "outputs": [
    {
     "data": {
      "text/plain": [
       "\"[{'name': 'PPL-100', 'simmilarity score': array([0.96384794]), 'approval status': 'not_approved', 'average mass': 624.791, 'toxicity': '', 'descriptions': ''}, {'name': 'PSI-697', 'simmilarity score': array([0.95955253]), 'approval status': 'not_approved', 'average mass': 367.83, 'toxicity': '', 'descriptions': 'PSI-697 has been used in trials studying the treatment of Scleritis.'}, {'name': 'Vanoxerine', 'simmilarity score': array([0.95890832]), 'approval status': 'not_approved', 'average mass': 450.574, 'toxicity': 'A study performed in monkeys self-administering vanoxerine suggests that the self-administration of this drug in humans may develop behaviorally toxic effects.[A248585]', 'descriptions': 'Vanoxerine is a highly selective dopamine transporter antagonist. It was synthesized in the late 1970s and developed as a potential treatment for depression.[A19824] Vanoxerine was later evaluated as a potential treatment for cocaine addiction due to its ability to block dopamine reuptake with a slower dissociation rate than cocaine.[A37914] Although several studies have suggested that the profile of vanoxerine is safer than that of cocaine,[A19824,A248550] other studies have found that vanoxerine has at least moderate potential to be abused by humans.[A248585] More recently, vanoxerine was tested as a potential anti-arrhythmic and anti-atrial fibrillatory agent due to its ability to block the hKV11.1 (hERG) cardiac potassium channel.[A248555] Vanoxerine is an investigational drug and has not been approved for therapeutic use.'}, {'name': 'Macozinone', 'simmilarity score': array([0.95233607]), 'approval status': 'not_approved', 'average mass': 456.48, 'toxicity': '', 'descriptions': 'Macozinone is under investigation in clinical trial NCT03036163 (Phase 1 Study of PBTZ169).'}, {'name': 'Clemastine', 'simmilarity score': array([0.95213574]), 'approval status': 'approved', 'average mass': 343.89, 'toxicity': 'Oral LD<sub>50</sub> in rat and mouse is 3550 mg/kg and 730 mg/kg, respectively. Antihistamine overdosage reactions may vary from central nervous system depression to stimulation. In children, stimulation predominates initially in a syndrome which may include excitement, hallucinations, ataxia, incoordination, muscle twitching, athetosis, hyperthermia, cyanosis convulsions, tremors, and hyperreflexia followed by postictal depression and cardio-respiratory arrest. Convulsions in children may be preceded by mild depression. Dry mouth, fixed dilated pupils, flushing of the face, and fever are common. In adults, CNS depression, ranging from drowsiness to coma, is more common.', 'descriptions': 'An ethanolamine-derivative, first generation histamine H1 antagonist used in hay fever, rhinitis, allergic skin conditions, and pruritus. It causes drowsiness.'}]\""
      ]
     },
     "execution_count": 22,
     "metadata": {},
     "output_type": "execute_result"
    }
   ],
   "source": [
    "df[\"list_of_most_nonapproved_info_for_n_simmilar\"][0]"
   ]
  },
  {
   "cell_type": "code",
   "execution_count": null,
   "id": "41e8bc81-d945-41a7-9c86-ff6134770e43",
   "metadata": {},
   "outputs": [],
   "source": []
  }
 ],
 "metadata": {
  "kernelspec": {
   "display_name": "Python 3 (ipykernel)",
   "language": "python",
   "name": "python3"
  },
  "language_info": {
   "codemirror_mode": {
    "name": "ipython",
    "version": 3
   },
   "file_extension": ".py",
   "mimetype": "text/x-python",
   "name": "python",
   "nbconvert_exporter": "python",
   "pygments_lexer": "ipython3",
   "version": "3.10.9"
  }
 },
 "nbformat": 4,
 "nbformat_minor": 5
}
