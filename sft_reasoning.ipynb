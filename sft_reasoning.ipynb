{
  "nbformat": 4,
  "nbformat_minor": 0,
  "metadata": {
    "colab": {
      "provenance": [],
      "collapsed_sections": [
        "SDcCZbqzXPbI"
      ],
      "gpuType": "T4"
    },
    "kernelspec": {
      "name": "python3",
      "display_name": "Python 3"
    },
    "language_info": {
      "name": "python"
    },
    "accelerator": "GPU",
    "widgets": {
      "application/vnd.jupyter.widget-state+json": {
        "ce58caadba7f48d9a69e393bfa764323": {
          "model_module": "@jupyter-widgets/controls",
          "model_name": "HBoxModel",
          "model_module_version": "1.5.0",
          "state": {
            "_dom_classes": [],
            "_model_module": "@jupyter-widgets/controls",
            "_model_module_version": "1.5.0",
            "_model_name": "HBoxModel",
            "_view_count": null,
            "_view_module": "@jupyter-widgets/controls",
            "_view_module_version": "1.5.0",
            "_view_name": "HBoxView",
            "box_style": "",
            "children": [
              "IPY_MODEL_2f30d53aa89a4524a53911927a388876",
              "IPY_MODEL_1d595944f89e4aada8f8a1be5999a5cb",
              "IPY_MODEL_bdbdce478f1b4882ab3b5df874db2184"
            ],
            "layout": "IPY_MODEL_bd38b13e751a4d5f9ac372f9d6ce21ad"
          }
        },
        "2f30d53aa89a4524a53911927a388876": {
          "model_module": "@jupyter-widgets/controls",
          "model_name": "HTMLModel",
          "model_module_version": "1.5.0",
          "state": {
            "_dom_classes": [],
            "_model_module": "@jupyter-widgets/controls",
            "_model_module_version": "1.5.0",
            "_model_name": "HTMLModel",
            "_view_count": null,
            "_view_module": "@jupyter-widgets/controls",
            "_view_module_version": "1.5.0",
            "_view_name": "HTMLView",
            "description": "",
            "description_tooltip": null,
            "layout": "IPY_MODEL_08386142216845dcabad1f8fdb0354a8",
            "placeholder": "​",
            "style": "IPY_MODEL_f86f305276aa4dd19d124ce8cae1aab8",
            "value": "Map: 100%"
          }
        },
        "1d595944f89e4aada8f8a1be5999a5cb": {
          "model_module": "@jupyter-widgets/controls",
          "model_name": "FloatProgressModel",
          "model_module_version": "1.5.0",
          "state": {
            "_dom_classes": [],
            "_model_module": "@jupyter-widgets/controls",
            "_model_module_version": "1.5.0",
            "_model_name": "FloatProgressModel",
            "_view_count": null,
            "_view_module": "@jupyter-widgets/controls",
            "_view_module_version": "1.5.0",
            "_view_name": "ProgressView",
            "bar_style": "success",
            "description": "",
            "description_tooltip": null,
            "layout": "IPY_MODEL_083863836545455e80c1ab6052bb7433",
            "max": 500,
            "min": 0,
            "orientation": "horizontal",
            "style": "IPY_MODEL_92d7e86f140c480c90a7e10caf567357",
            "value": 500
          }
        },
        "bdbdce478f1b4882ab3b5df874db2184": {
          "model_module": "@jupyter-widgets/controls",
          "model_name": "HTMLModel",
          "model_module_version": "1.5.0",
          "state": {
            "_dom_classes": [],
            "_model_module": "@jupyter-widgets/controls",
            "_model_module_version": "1.5.0",
            "_model_name": "HTMLModel",
            "_view_count": null,
            "_view_module": "@jupyter-widgets/controls",
            "_view_module_version": "1.5.0",
            "_view_name": "HTMLView",
            "description": "",
            "description_tooltip": null,
            "layout": "IPY_MODEL_292872381a784f839fec8883cc1a9cea",
            "placeholder": "​",
            "style": "IPY_MODEL_253cdfb9ff7c4a0b93bcb687edfa4f9f",
            "value": " 500/500 [00:18&lt;00:00, 41.56 examples/s]"
          }
        },
        "bd38b13e751a4d5f9ac372f9d6ce21ad": {
          "model_module": "@jupyter-widgets/base",
          "model_name": "LayoutModel",
          "model_module_version": "1.2.0",
          "state": {
            "_model_module": "@jupyter-widgets/base",
            "_model_module_version": "1.2.0",
            "_model_name": "LayoutModel",
            "_view_count": null,
            "_view_module": "@jupyter-widgets/base",
            "_view_module_version": "1.2.0",
            "_view_name": "LayoutView",
            "align_content": null,
            "align_items": null,
            "align_self": null,
            "border": null,
            "bottom": null,
            "display": null,
            "flex": null,
            "flex_flow": null,
            "grid_area": null,
            "grid_auto_columns": null,
            "grid_auto_flow": null,
            "grid_auto_rows": null,
            "grid_column": null,
            "grid_gap": null,
            "grid_row": null,
            "grid_template_areas": null,
            "grid_template_columns": null,
            "grid_template_rows": null,
            "height": null,
            "justify_content": null,
            "justify_items": null,
            "left": null,
            "margin": null,
            "max_height": null,
            "max_width": null,
            "min_height": null,
            "min_width": null,
            "object_fit": null,
            "object_position": null,
            "order": null,
            "overflow": null,
            "overflow_x": null,
            "overflow_y": null,
            "padding": null,
            "right": null,
            "top": null,
            "visibility": null,
            "width": null
          }
        },
        "08386142216845dcabad1f8fdb0354a8": {
          "model_module": "@jupyter-widgets/base",
          "model_name": "LayoutModel",
          "model_module_version": "1.2.0",
          "state": {
            "_model_module": "@jupyter-widgets/base",
            "_model_module_version": "1.2.0",
            "_model_name": "LayoutModel",
            "_view_count": null,
            "_view_module": "@jupyter-widgets/base",
            "_view_module_version": "1.2.0",
            "_view_name": "LayoutView",
            "align_content": null,
            "align_items": null,
            "align_self": null,
            "border": null,
            "bottom": null,
            "display": null,
            "flex": null,
            "flex_flow": null,
            "grid_area": null,
            "grid_auto_columns": null,
            "grid_auto_flow": null,
            "grid_auto_rows": null,
            "grid_column": null,
            "grid_gap": null,
            "grid_row": null,
            "grid_template_areas": null,
            "grid_template_columns": null,
            "grid_template_rows": null,
            "height": null,
            "justify_content": null,
            "justify_items": null,
            "left": null,
            "margin": null,
            "max_height": null,
            "max_width": null,
            "min_height": null,
            "min_width": null,
            "object_fit": null,
            "object_position": null,
            "order": null,
            "overflow": null,
            "overflow_x": null,
            "overflow_y": null,
            "padding": null,
            "right": null,
            "top": null,
            "visibility": null,
            "width": null
          }
        },
        "f86f305276aa4dd19d124ce8cae1aab8": {
          "model_module": "@jupyter-widgets/controls",
          "model_name": "DescriptionStyleModel",
          "model_module_version": "1.5.0",
          "state": {
            "_model_module": "@jupyter-widgets/controls",
            "_model_module_version": "1.5.0",
            "_model_name": "DescriptionStyleModel",
            "_view_count": null,
            "_view_module": "@jupyter-widgets/base",
            "_view_module_version": "1.2.0",
            "_view_name": "StyleView",
            "description_width": ""
          }
        },
        "083863836545455e80c1ab6052bb7433": {
          "model_module": "@jupyter-widgets/base",
          "model_name": "LayoutModel",
          "model_module_version": "1.2.0",
          "state": {
            "_model_module": "@jupyter-widgets/base",
            "_model_module_version": "1.2.0",
            "_model_name": "LayoutModel",
            "_view_count": null,
            "_view_module": "@jupyter-widgets/base",
            "_view_module_version": "1.2.0",
            "_view_name": "LayoutView",
            "align_content": null,
            "align_items": null,
            "align_self": null,
            "border": null,
            "bottom": null,
            "display": null,
            "flex": null,
            "flex_flow": null,
            "grid_area": null,
            "grid_auto_columns": null,
            "grid_auto_flow": null,
            "grid_auto_rows": null,
            "grid_column": null,
            "grid_gap": null,
            "grid_row": null,
            "grid_template_areas": null,
            "grid_template_columns": null,
            "grid_template_rows": null,
            "height": null,
            "justify_content": null,
            "justify_items": null,
            "left": null,
            "margin": null,
            "max_height": null,
            "max_width": null,
            "min_height": null,
            "min_width": null,
            "object_fit": null,
            "object_position": null,
            "order": null,
            "overflow": null,
            "overflow_x": null,
            "overflow_y": null,
            "padding": null,
            "right": null,
            "top": null,
            "visibility": null,
            "width": null
          }
        },
        "92d7e86f140c480c90a7e10caf567357": {
          "model_module": "@jupyter-widgets/controls",
          "model_name": "ProgressStyleModel",
          "model_module_version": "1.5.0",
          "state": {
            "_model_module": "@jupyter-widgets/controls",
            "_model_module_version": "1.5.0",
            "_model_name": "ProgressStyleModel",
            "_view_count": null,
            "_view_module": "@jupyter-widgets/base",
            "_view_module_version": "1.2.0",
            "_view_name": "StyleView",
            "bar_color": null,
            "description_width": ""
          }
        },
        "292872381a784f839fec8883cc1a9cea": {
          "model_module": "@jupyter-widgets/base",
          "model_name": "LayoutModel",
          "model_module_version": "1.2.0",
          "state": {
            "_model_module": "@jupyter-widgets/base",
            "_model_module_version": "1.2.0",
            "_model_name": "LayoutModel",
            "_view_count": null,
            "_view_module": "@jupyter-widgets/base",
            "_view_module_version": "1.2.0",
            "_view_name": "LayoutView",
            "align_content": null,
            "align_items": null,
            "align_self": null,
            "border": null,
            "bottom": null,
            "display": null,
            "flex": null,
            "flex_flow": null,
            "grid_area": null,
            "grid_auto_columns": null,
            "grid_auto_flow": null,
            "grid_auto_rows": null,
            "grid_column": null,
            "grid_gap": null,
            "grid_row": null,
            "grid_template_areas": null,
            "grid_template_columns": null,
            "grid_template_rows": null,
            "height": null,
            "justify_content": null,
            "justify_items": null,
            "left": null,
            "margin": null,
            "max_height": null,
            "max_width": null,
            "min_height": null,
            "min_width": null,
            "object_fit": null,
            "object_position": null,
            "order": null,
            "overflow": null,
            "overflow_x": null,
            "overflow_y": null,
            "padding": null,
            "right": null,
            "top": null,
            "visibility": null,
            "width": null
          }
        },
        "253cdfb9ff7c4a0b93bcb687edfa4f9f": {
          "model_module": "@jupyter-widgets/controls",
          "model_name": "DescriptionStyleModel",
          "model_module_version": "1.5.0",
          "state": {
            "_model_module": "@jupyter-widgets/controls",
            "_model_module_version": "1.5.0",
            "_model_name": "DescriptionStyleModel",
            "_view_count": null,
            "_view_module": "@jupyter-widgets/base",
            "_view_module_version": "1.2.0",
            "_view_name": "StyleView",
            "description_width": ""
          }
        }
      }
    }
  },
  "cells": [
    {
      "cell_type": "code",
      "execution_count": 1,
      "metadata": {
        "id": "_9HCHbgWdLWN"
      },
      "outputs": [],
      "source": [
        "%%capture\n",
        "! pip install trl\n",
        "! pip install datasets\n",
        "! pip install rdkit\n",
        "! pip install peft\n",
        "! pip install git+https://github.com/bitsandbytes-foundation/bitsandbytes.git"
      ]
    },
    {
      "cell_type": "code",
      "source": [
        "from datasets import load_dataset , Dataset\n",
        "from trl import SFTConfig, SFTTrainer\n",
        "import pandas as pd"
      ],
      "metadata": {
        "id": "DRfnhi9YPoee"
      },
      "execution_count": 3,
      "outputs": []
    },
    {
      "cell_type": "markdown",
      "source": [
        "## building sft dataset manual"
      ],
      "metadata": {
        "id": "SDcCZbqzXPbI"
      }
    },
    {
      "cell_type": "code",
      "source": [
        "df = pd.read_csv(\"/content/drive/MyDrive/Papers/Original_Papers/Llm_drug_prediction/Code/reasoning_data_api/test_reason.csv\")\n",
        "dset = Dataset.from_pandas(df)"
      ],
      "metadata": {
        "id": "oJigHkjkQN4g"
      },
      "execution_count": 55,
      "outputs": []
    },
    {
      "cell_type": "code",
      "source": [
        "df_sample = df.head()"
      ],
      "metadata": {
        "id": "AZgV2A_QluVn"
      },
      "execution_count": 56,
      "outputs": []
    },
    {
      "cell_type": "code",
      "source": [
        "from rdkit import Chem\n",
        "from rdkit.Chem import Descriptors, Draw, AllChem, Lipinski, Crippen, rdMolDescriptors\n",
        "from rdkit.Chem import rdDepictor\n",
        "import pandas as pd\n",
        "\n",
        "def get_molecule_properties(smiles):\n",
        "    \"\"\"\n",
        "    Compute molecular properties and analyses for a given SMILES string.\n",
        "\n",
        "    Args:\n",
        "        smiles (str): SMILES string of the molecule.\n",
        "\n",
        "    Returns:\n",
        "        dict: A dictionary containing all computed properties and analyses.\n",
        "    \"\"\"\n",
        "    # Initialize the molecule\n",
        "    molecule = Chem.MolFromSmiles(smiles)\n",
        "    if molecule is None:\n",
        "        raise ValueError(\"Invalid SMILES string provided.\")\n",
        "\n",
        "    # Dictionary to store all properties\n",
        "    properties = {}\n",
        "\n",
        "\n",
        "    properties[\"Molecular_Weight\"] = Descriptors.MolWt(molecule)\n",
        "    properties[\"LogP\"] = Crippen.MolLogP(molecule)\n",
        "    properties[\"Molecular_Refractivity\"] = Crippen.MolMR(molecule)\n",
        "    properties[\"TPSA\"] = Descriptors.TPSA(molecule)\n",
        "    properties[\"Hydrogen_Bond_Donors\"] = Lipinski.NumHDonors(molecule)\n",
        "    properties[\"Hydrogen_Bond_Acceptors\"] = Lipinski.NumHAcceptors(molecule)\n",
        "    properties[\"Rotatable_Bonds\"] = Lipinski.NumRotatableBonds(molecule)\n",
        "    properties[\"Chiral_Centers\"] = Chem.FindMolChiralCenters(molecule)\n",
        "\n",
        "    return properties"
      ],
      "metadata": {
        "id": "MPRNGkYzS-4D"
      },
      "execution_count": 57,
      "outputs": []
    },
    {
      "cell_type": "code",
      "source": [
        "df_sample['status'] = df_sample['labels'].map({1: 'Approved', 0 :'Not Approved'})"
      ],
      "metadata": {
        "id": "Dc0_3mFsTBKM",
        "colab": {
          "base_uri": "https://localhost:8080/"
        },
        "outputId": "12fd142d-56e5-4d86-9f28-c213d88c9fbb"
      },
      "execution_count": 58,
      "outputs": [
        {
          "output_type": "stream",
          "name": "stderr",
          "text": [
            "<ipython-input-58-a2d5da308825>:1: SettingWithCopyWarning: \n",
            "A value is trying to be set on a copy of a slice from a DataFrame.\n",
            "Try using .loc[row_indexer,col_indexer] = value instead\n",
            "\n",
            "See the caveats in the documentation: https://pandas.pydata.org/pandas-docs/stable/user_guide/indexing.html#returning-a-view-versus-a-copy\n",
            "  df_sample['status'] = df_sample['labels'].map({1: 'Approved', 0 :'Not Approved'})\n"
          ]
        }
      ]
    },
    {
      "cell_type": "code",
      "source": [
        "df_sample[\"rdkit_info\"] = df_sample[\"SMILES\"].apply(lambda x: get_molecule_properties(x))"
      ],
      "metadata": {
        "id": "SdRBSRcFTEYb",
        "colab": {
          "base_uri": "https://localhost:8080/"
        },
        "outputId": "331717c1-a2cc-412d-e3f5-cd6588d69b0f"
      },
      "execution_count": 59,
      "outputs": [
        {
          "output_type": "stream",
          "name": "stderr",
          "text": [
            "<ipython-input-59-54682dfed210>:1: SettingWithCopyWarning: \n",
            "A value is trying to be set on a copy of a slice from a DataFrame.\n",
            "Try using .loc[row_indexer,col_indexer] = value instead\n",
            "\n",
            "See the caveats in the documentation: https://pandas.pydata.org/pandas-docs/stable/user_guide/indexing.html#returning-a-view-versus-a-copy\n",
            "  df_sample[\"rdkit_info\"] = df_sample[\"SMILES\"].apply(lambda x: get_molecule_properties(x))\n"
          ]
        }
      ]
    },
    {
      "cell_type": "code",
      "source": [
        "sys_prompt4 =\"\"\"\n",
        "You are a **chemist specializing in drug discovery and molecular modeling**, tasked with analyzing chemical compounds for drug-likeness and viability. Your assessment considers:\n",
        "\n",
        "1. **Drug-Likeness Rules**:\n",
        "   - **Lipinski’s Rule of Five** (MW, LogP, H-bond donors/acceptors).\n",
        "   - **Veber’s Rule** (PSA, rotatable bonds).\n",
        "   - **Ghose, Egan, and Rule of Three** (lead-like properties).\n",
        "   - **PAINS & Brenk Filters** (toxic/assay-interfering structures).\n",
        "\n",
        "2. **ADMET Profiling**:\n",
        "   - **Absorption** (solubility, permeability).\n",
        "   - **Distribution** (Vd, plasma protein binding).\n",
        "   - **Metabolism** (CYP450 interactions, stability).\n",
        "   - **Excretion** (renal, biliary clearance).\n",
        "   - **Toxicity** (hepatotoxicity, cardiotoxicity, Ames test).\n",
        "\n",
        "3. **Information From similar and dissimilar  drugs**\n",
        "\n",
        "\n",
        "Your goal is to determine the compound’s potential as a drug candidate by integrating these computational and experimental criteria. and predict it will be approved or not\n",
        "\"\"\""
      ],
      "metadata": {
        "id": "7PXo3MeHTy1f"
      },
      "execution_count": 60,
      "outputs": []
    },
    {
      "cell_type": "code",
      "source": [],
      "metadata": {
        "id": "P14Qs2nkQZa-"
      },
      "execution_count": null,
      "outputs": []
    },
    {
      "cell_type": "code",
      "source": [
        "########################################################################################################################\n",
        "########################################################################################################################\n",
        "########################################################################################################################\n",
        "\n",
        "\n",
        "n = 4\n",
        "\n",
        "\n",
        "\n",
        "########################################################################################################################\n",
        "########################################################################################################################\n",
        "########################################################################################################################"
      ],
      "metadata": {
        "id": "NSoWYxXTQZYo"
      },
      "execution_count": 122,
      "outputs": []
    },
    {
      "cell_type": "code",
      "source": [
        "def get_first_prompt(list_of_most_approved_info_for_n_similar , list_of_most_nonapproved_info_for_n_similar,rdkit_info , sys_prompt):\n",
        "    prompt = f\"\"\"\n",
        "    {sys_prompt}\n",
        "\n",
        "    I have developed a model that can predict the drug likelibility of compound X.\n",
        "    This model outputs two lists:\n",
        "    1. The five most similar approved small molecules (with their properties and similarity scores).\n",
        "    2. The five most similar non-approved small molecules (with their properties and similarity scores).\n",
        "\n",
        "    Your task is to analyze the likelihood of compound X receiving regulatory approval based on its similarity to known molecules.\n",
        "\n",
        "    - RDKit Analysis of Compound X:\n",
        "    {rdkit_info}df[\"SMILES\"]\n",
        "\n",
        "    Using the provided data:\n",
        "    - Approved molecules (with similarity scores): {list_of_most_approved_info_for_n_similar}\n",
        "    - Non-approved molecules (with similarity scores): {list_of_most_nonapproved_info_for_n_similar}\n",
        "    \"\"\"\n",
        "    return prompt"
      ],
      "metadata": {
        "id": "MqPGF9l2HwVI"
      },
      "execution_count": 123,
      "outputs": []
    },
    {
      "cell_type": "code",
      "source": [
        "df_sample[\"1st_prompt\"] = df_sample.apply(lambda x : get_first_prompt(x[\"list_of_most_approved_info_for_n_similar\"],x[\"list_of_most_nonapproved_info_for_n_similar\"], x[\"rdkit_info\"], sys_prompt4) ,axis = 1)"
      ],
      "metadata": {
        "colab": {
          "base_uri": "https://localhost:8080/"
        },
        "id": "F2T5F4-SJCMp",
        "outputId": "3656298d-bac8-432a-bc6c-020ca90badce"
      },
      "execution_count": 124,
      "outputs": [
        {
          "output_type": "stream",
          "name": "stderr",
          "text": [
            "<ipython-input-124-e3757a3ddc98>:1: SettingWithCopyWarning: \n",
            "A value is trying to be set on a copy of a slice from a DataFrame.\n",
            "Try using .loc[row_indexer,col_indexer] = value instead\n",
            "\n",
            "See the caveats in the documentation: https://pandas.pydata.org/pandas-docs/stable/user_guide/indexing.html#returning-a-view-versus-a-copy\n",
            "  df_sample[\"1st_prompt\"] = df_sample.apply(lambda x : get_first_prompt(x[\"list_of_most_approved_info_for_n_similar\"],x[\"list_of_most_nonapproved_info_for_n_similar\"], x[\"rdkit_info\"], sys_prompt4) ,axis = 1)\n"
          ]
        }
      ]
    },
    {
      "cell_type": "code",
      "source": [
        "df_sample[\"1st_prompt\"][n]"
      ],
      "metadata": {
        "colab": {
          "base_uri": "https://localhost:8080/",
          "height": 200
        },
        "id": "G3i6gxW1MPT7",
        "outputId": "097b6574-a12e-4716-92b0-c3c161d671d8"
      },
      "execution_count": 125,
      "outputs": [
        {
          "output_type": "execute_result",
          "data": {
            "text/plain": [
              "'\\n    \\nYou are a **chemist specializing in drug discovery and molecular modeling**, tasked with analyzing chemical compounds for drug-likeness and viability. Your assessment considers:\\n\\n1. **Drug-Likeness Rules**:\\n   - **Lipinski’s Rule of Five** (MW, LogP, H-bond donors/acceptors).\\n   - **Veber’s Rule** (PSA, rotatable bonds).\\n   - **Ghose, Egan, and Rule of Three** (lead-like properties).\\n   - **PAINS & Brenk Filters** (toxic/assay-interfering structures).\\n\\n2. **ADMET Profiling**:\\n   - **Absorption** (solubility, permeability).\\n   - **Distribution** (Vd, plasma protein binding).\\n   - **Metabolism** (CYP450 interactions, stability).\\n   - **Excretion** (renal, biliary clearance).\\n   - **Toxicity** (hepatotoxicity, cardiotoxicity, Ames test).\\n\\n3. **Information From similar and dissimilar  drugs**\\n\\n\\nYour goal is to determine the compound’s potential as a drug candidate by integrating these computational and experimental criteria. and predict it will be approved or not\\n\\n\\n    I have developed a model that can predict the drug likelibility of compound X.\\n    This model outputs two lists:\\n    1. The five most similar approved small molecules (with their properties and similarity scores).\\n    2. The five most similar non-approved small molecules (with their properties and similarity scores).\\n\\n    Your task is to analyze the likelihood of compound X receiving regulatory approval based on its similarity to known molecules.\\n\\n    - RDKit Analysis of Compound X:\\n    {\\'Molecular_Weight\\': 205.25399999999996, \\'LogP\\': -1.1355999999999997, \\'Molecular_Refractivity\\': 51.58610000000003, \\'TPSA\\': 89.79, \\'Hydrogen_Bond_Donors\\': 4, \\'Hydrogen_Bond_Acceptors\\': 4, \\'Rotatable_Bonds\\': 6, \\'Chiral_Centers\\': []}df[\"SMILES\"]\\n\\n    Using the provided data:\\n    - Approved molecules (with similarity scores): [{\\'name\\': \\'Dexpanthenol\\', \\'similarity score\\': 0.958292543888092, \\'approval groups\\': [\\'approved\\'], \\'average mass\\': 205.2515, \\'half life\\': \\'Half life have not been reported\\', \\'toxicity\\': \\'Mouse LD50 : 9gm/kg (Intraperitoneal)\\\\r\\\\nMouse: LD50 7gm/kg (Intravenous)\\\\r\\\\nMouse: LD50 15gm/kg (Oral)\\\\r\\\\nRabbit LD50 4gm/kg (Oral)\\', \\'indication\\': \\'Injection: Prophylactic use immediately after major abdominal surgery to minimize the possibility of paralytic ileus. Intestinal atony causing abdominal distention; postoperative or postpartum retention of flatus, or postoperative delay in resumption of intestinal motility; paralytic ileus.\\\\r\\\\n\\\\r\\\\nTopical: This medication is used as a moisturizer to treat or prevent dry, rough, scaly, itchy skin and minor skin irritations (e.g., diaper rash, skin burns from radiation therapy). \\', \\'pharmacodynamics\\': \\'Pantothenic acid is a precursor of coenzyme A, which serves as a cofactor for a variety of enzyme-catalyzed reactions involving transfer of acetyl groups. The final step in the synthesis of acetylcholine consists of the choline acetylase transfer of acetyl group from acetylcoenzyme A to choline. Acetylcholine is the neurohumoral transmitter in the parasympathetic system and as such maintains the normal functions of the intestine. Decrease in acetylcholine content would result in decreased peristalsis and in extreme cases adynamic ileus. \\', \\'mechanism of action\\': \\'Dexpanthenol is an alcohol derivative of pantothenic acid, a component of the B complex vitamins and an essential component of a normally functioning epithelium. Dexpanthenol is enzymatically cleaved to form pantothenic acid, which is an essential component of Coenzyme A, which acts as a cofactor in many enzymatic reactions that are important for protein metabolism in the epithelium[A32373].  \\\\r\\\\n\\\\r\\\\nDermatological effects of the topical use of dexpanthenol include increased fibroblast proliferation and accelerated re-epithelialization in wound healing. Furthermore, it acts as a topical protectant, moisturizer, and has demonstrated anti-inflammatory properties [A32377].\\\\r\\\\n\\', \\'metabolism\\': \\'Dexpanthenol is readily converted to pantothenic acid which is widely distributed into body tissues, mainly as coenzyme A.\\', \\'descriptions\\': \\'Dexpanthenol is an alcohol derivative of pantothenic acid, a component of the B complex vitamins and an essential component of a normally functioning epithelium. Dexpanthenol is enzymatically cleaved to form pantothenic acid, which is an essential component of Coenzyme A, which acts as a cofactor in many enzymatic reactions that are important for protein metabolism in the epithelium[A32373]. \\\\r\\\\n\\\\r\\\\nDue to its good penetration and high local concentrations, dexpanthanol is used in many topical products, such as ointments and lotions for treatment of dermatological conditions to relieve itching or promote healing. Dermatological effects of the topical use of dexpanthenol include increased fibroblast proliferation and accelerated re-epithelialization in wound healing. Furthermore, it acts as a topical protectant, moisturizer, and has demonstrated anti-inflammatory properties [A32377].\\\\r\\\\n\\\\r\\\\nDexpanthenol is also available as a racemic mixture containing both the dextrorotatory form (dexpanthenol) and the levorotatory form (levopanthenol) as [DB11204]. While pantothenic acid is optically active, only the dextrorotatory form (dexpanthenol) is biologically active.\\'}, {\\'name\\': \\'Miglustat\\', \\'similarity score\\': 0.8878036737442017, \\'approval groups\\': [\\'approved\\'], \\'average mass\\': 219.278, \\'half life\\': \\'The effective half-life of miglustat is approximately 6 to 7 hours.\\', \\'toxicity\\': \\'Miglustat has been administered at doses of up to 3000 mg/day (approximately 10 times the recommended starting dose administered to Gaucher patients) for up to six months in Human Immunodeficiency Virus (HIV)-positive patients. Adverse events observed in the HIV studies included granulocytopenia, dizziness, and paresthesia. Leukopenia and neutropenia have also been observed in a similar group of patients receiving 800 mg/day or above.\\', \\'indication\\': \"For the treatment of adult patients with mild to moderate type 1 (nonneuropathic) Gaucher\\'s disease for whom enzyme replacement therapy is not a therapeutic option (e.g. due to constraints such as allergy, hypersensitivity, or poor venous access). Now approved in some countries for the treatment of progressive neurological symptoms in adult and pediatric patients with Niemann-Pick disease type C (NP-C). \", \\'pharmacodynamics\\': \"Miglustat, an N-alkylated imino sugar, is a synthetic analogue of D-glucose. Miglustat is an inhibitor of the enzyme glucosylceramide synthase, which is a glucosyl transferase enzyme responsible for catalyzing the formation of glucosylceramide (glucocerebroside). Glucosylceramide is a substrate for the endogenous glucocerebrosidase, an enzyme that is deficient in Gaucher\\'s disease. The accumulation of glucosylceramide due to the absence of glucocerebrosidase results in the storage of this material in the lysosomes of tissue macrophages, leading to widespread pathology due to infiltration of lipid-engorged macrophages in the viscera, lymph nodes, and bone marrow. This results in secondary hematologic consequences including sever anemia and thrombocytopenia, in addition to the characteristic progressive hepatosplenomegaly, as well as skeletal complications including osteonecrosis and osteopenia with secondary pathological fractures.\", \\'mechanism of action\\': \\'Miglustat functions as a competitive and reversible inhibitor of the enzyme glucosylceramide synthase, the initial enzyme in a series of reactions which results in the synthesis of most glycosphingolipids. The goal of treatment with miglustat is to reduce the rate of glycosphingolipid biosynthesis so that the amount of glycosphingolipid substrate is reduced to a level which allows the residual activity of the deficient glucocerebrosidase enzyme to be more effective (substrate reduction therapy), reducing the accumulation of glucocerebroside in macrophages. In vitro and in vivo studies have shown that miglustat can reduce the synthesis of glucosylceramide-based glycosphingolipids. In clinical trials, miglustat improved liver and spleen volume, as well as hemoglobin concentration and platelet count. Inhibition of glycosphingolipid synthesis has also shown to reduce intracellular lipid storage, improve fluid-phase endosomal uptake and normalize lipid transport in peripheral blood B lymphocytes of NP-C patients, which results in a decrease in the potentially neurotoxic accumulation of gnagliosides G<sub>M2</sub> and G<sub>M3</sub>, lactosylceramide and glucosylceramide, possibly preventing further neuronal damage. Other studies have also suggested that miglustat may indirectly modulate intracellular calcium homeostasis through its effects on glucosylceramide levels, and evidence has shown that an initiating factor in the pathogenesis of NP-C may be impaired calcium homeostasis related to sphingosine storage. Therefore, the effect that miglustat exerts on intracellular calcium levels may influence an important underlying pathogenic mechanism of NP-C.\\', \\'metabolism\\': \\'There is no evidence that miglustat is metabolized in humans.\\', \\'descriptions\\': \\'Miglustat, commonly marketed under the trade name Zavesca, is a drug used to treat Gaucher disease. It inhibits the enzyme glucosylceramide synthase, an essential enzyme for the synthesis of most glycosphingolipids. It is only used for patients who cannot be treated with enzyme replacement therapy with imiglucerase. Miglustat is now the first and only approved therapy for patients with Niemann-Pick disease type C (NP-C). It has recently been approved for treatment of progressive neurological symptoms in adult and pediatric patients in the European Union, Brazil, and South Korea. Miglustat was first developed as an anti-HIV agent in the 1990s. However, clinical experience with miglustat showed that therapeutic levels of the drug could not be achieved in patients without a high incidence of adverse effect.\\'}, {\\'name\\': \\'Glucosamine\\', \\'similarity score\\': 0.8864784836769104, \\'approval groups\\': [\\'approved\\', \\'investigational\\'], \\'average mass\\': 179.1711, \\'half life\\': \\'The estimated half-life for glucosamine is 15 hours after an oral dose.[A232279] After a bolus intravenous injection of 1005 mg crystalline glucosamine sulfate, the parent drug has an apparent half life of 1.11 hours.[A232274]\\', \\'toxicity\\': \\'The oral LD50 of glucosamine in rats is >5000 mg/kg.[L32684] Symptoms of an overdose with glucosamine may include nausea, vomiting, abdominal pain, and diarrhea (common side effects of this drug). Severe and life-threatening hypersensitivity reactions to glucosamine may occur in patients with a shellfish allergy or asthma.[L32774]\\', \\'indication\\': \\'Glucosamine is generally used over the counter in the symptomatic treatment of osteoarthritis and joint pain,[A2352] frequently combined with chondroitin sulfate and/or ibuprofen.[L32699]\\', \\'pharmacodynamics\\': \\'The administration of glucosamine, in theory, provides a building block towards the synthesis of glycosaminoglycans, slowing the progression of osteoarthritis and relieving symptoms of joint pain. Studies to this date examining the efficacy of glucosamine sulfate have been inconclusive. Glycosaminoglycans contribute to joint cartilage elasticity, strength, and flexibility.[A232144] A systematic review of various studies and guidelines determined that modest improvements were reported for joint pain and function in patients taking glucosamine. A consistent joint space narrowing was observed, but with an unclear clinical significance.[A231894]\\', \\'mechanism of action\\': \\'The mechanism of action of glucosamine in joint health is unclear,[A231894] however there are several possible mechanisms that contribute to its therapeutic effects. Because glucosamine is a precursor for glycosaminoglycans, and glycosaminoglycans are a major component of joint cartilage,[A232289] glucosamine supplements may help to rebuild cartilage and treat the symptoms of arthritis.  Some in vitro studies show evidence that glucosamine reduces inflammation via inhibition of interferon gamma[A12619,A12616,A12621]  and Nuclear factor kappa B subunit 65 (NF-κB p65),[A12616,A232284] improving the symptoms of arthritis and joint pain. Clinical relevance is unknown at this time.\\', \\'metabolism\\': \\'Glucosamine undergoes metabolism in the liver.[A232274] Metabolism information for glucosamine is limited in the literature.\\', \\'descriptions\\': \\'Osteoarthritis (OA) is a progressive and degenerative joint disease marked by loss of cartilage, bone changes, and synovial membrane inflammation.[A232289] Treatment with chondroprotective drugs, such as glucosamine sulfate may offer additional benefits to nonsteroidal anti-inflammatory drugs treating the painful symptoms of OA. Glucosamine is commonly used over the counter as a treatment for arthritic joint pain, although its acceptance as a medical therapy varies due to contradictory and findings with unclear clinical significance during clinical trials.[A231894,A232289] It is currently not approved as a prescription product by the FDA, but is widely available over the counter.\\'}, {\\'name\\': None, \\'similarity score\\': 0.8821925520896912, \\'approval groups\\': None, \\'average mass\\': None, \\'half life\\': None, \\'toxicity\\': None, \\'indication\\': None, \\'pharmacodynamics\\': None, \\'mechanism of action\\': None, \\'metabolism\\': None, \\'descriptions\\': None}, {\\'name\\': \\'Nadolol\\', \\'similarity score\\': 0.8789207935333252, \\'approval groups\\': [\\'approved\\'], \\'average mass\\': 309.4006, \\'half life\\': \\'The half life of nadolol is 20 to 24 hours.[L7922,L7925]\\', \\'toxicity\\': \\'The oral LD<sub>50</sub> in mice is 4500mg/kg.[L7934]\\\\r\\\\n\\\\r\\\\nPatients experiencing an overdose may present with bradycardia, cardiac failure, hypotension, and bronchospasm.[L7922,L7925] An overdose may be treated with atropine for bradycardia, digitalis and diuretics for cardiac failure, vasopressors for hypotension, and beta-2 stimulants for bronchospasms, as well as gastric lavage and hemodialysis.[L7922,L7925]\\', \\'indication\\': \\'Nadolol is indicated to treat angina pectoris and hypertension.[L7922] Another product formulated with [bendroflumethiazide] is indicated to treat hypertension.[L7925]\\', \\'pharmacodynamics\\': \\'Nadolol is a nonselective beta adrenal receptor blocker that is used to lower blood pressure.[L7922,L7925] It has a long duration of action as it is usually taken once daily and a wide therapeutic index as patients start at doses of 40mg daily but may be increased to doses as high as 240mg daily.[L7922,L7925] Patients taking nadolol should not aburptly stop taking it as this may lead to exacerbation of ischemic heart disease.[L7922,L7925]\\', \\'mechanism of action\\': \\'Although nadolol is described as a non selective beta blocker, it does not interact with beta 3 adrenal receptors.[A182402] Antagonism of beta-1 and beta-2 adrenoceptors in the heart inhibits cyclic AMP and its signalling pathway, decreasing the strength and speed of contractions as well as the speed of relaxation and conduction.[A34177] Antagonism of beta-2 adrenoceptors in the smooth muscle cells of the vasculature inhibits their relaxation, leading to an increase in peripheral vascular resistance and reducing the risk of severe hypotension.[A34177] The increase in peripheral vascular resistance may contribute to the decrease in insulin sensitivity associated with nadolol use.[A182441] Antagonism of beta-1 adrenoceptors in the juxtaglomerular apparatus of the kidney inhibits the release of renin, and therefore angiotensin II mediated vasoconstriction, aldosterone mediated water retention, and the release of epinephrine.[A34177] Antagonism of beta-2 adrenoceptors in the liver and skeletal muscle inhibits glycogenolysis, in the lungs prevents bronchodilation, and in the pancrease inhibits insulin release.[A34177]\\', \\'metabolism\\': \\'Nadolol is not metabolized by the liver in humans.[A182423,L7922,L7925]\\', \\'descriptions\\': \\'Nadolol is a nonselective beta adrenal receptor blocker that is used to lower blood pressure.[L7922,L7925] Nonselective beta adrenal receptor blockers may no longer be first line in the treatment of hypertension as newer generations of beta adrenal receptor blockers have higher selectivity and offer better rates of adverse effects.[A34177]\\\\r\\\\n\\\\r\\\\nNadolol was granted FDA approval on 10 December 1979.[L7922]\\'}]\\n    - Non-approved molecules (with similarity scores): [{\\'name\\': \\'Duvoglustat\\', \\'similarity score\\': 0.8663665652275085, \\'approval groups\\': [\\'investigational\\'], \\'average mass\\': 163.1717, \\'half life\\': \\'\\', \\'toxicity\\': \\'ORL-RAT LD<sub>50</sub>: &gt; 5g/kg.\\\\r\\\\n\\', \\'indication\\': \\'\\', \\'pharmacodynamics\\': \\'\\', \\'mechanism of action\\': \\'\\', \\'metabolism\\': \\'\\', \\'descriptions\\': \\'An alpha-glucosidase inhibitor with antiviral action. Derivatives of deoxynojirimycin may have anti-HIV activity.\\'}, {\\'name\\': \\'Migalastat\\', \\'similarity score\\': 0.8663665652275085, \\'approval groups\\': [\\'approved\\', \\'investigational\\'], \\'average mass\\': 163.1717, \\'half life\\': \\'The mean elimination half-life (t1/2) of migalastat ranges from approximately 3 to 5 hours for a single oral dose of 150 mg.[L47057] For the dose of 123 mg, the mean elimination half-life was estimated to be 4 hours.[L47036]\\', \\'toxicity\\': \\'The most common adverse reactions reported with migalastat (≥ 10%) during the 6-month placebo-controlled, double-blind phase of its Study 1 clinical studies were headache, nasopharyngitis, urinary tract infection, nausea, and pyrexia [FDA Label, F1107].\\\\r\\\\n\\\\r\\\\nIn case of overdose, general medical care is recommended [FDA Label, F1107]. Headache and dizziness were the most common adverse reactions reported at doses of migalastat of up to 1250 mg and 2000 mg, respectively [FDA Label, F1107].\\', \\'indication\\': \\'Migalastat is approved by the FDA for the treatment of adults with a confirmed diagnosis of Fabry disease and an amenable galactosidase alpha gene (GLA) variant based on in vitro assay data.[L47036] \\\\r\\\\n\\\\r\\\\nThis indication is approved under accelerated approval based on a reduction in kidney interstitial capillary cell globotriaosylceramide (KIC GL-3) substrate. Continued approval for this indication may be contingent upon verification and description of clinical benefit in confirmatory trials.[L47036]\\\\r\\\\n\\\\r\\\\nMigalastat is also approved by the EMA and Health Canada to treat the same disease, although it is approved for both adults and adolescents aged 16 years and older in Europe.[L47057,L47087]\\', \\'pharmacodynamics\\': \\'In general, treatment in patients with migalastat in Phase 2 pharmacodynamic trials resulted in increases in endogenous alpha-galactosidase (alpha-Gal A) activity in white blood cells, as well as in skin and kidney for the majority of patients [FDA Label, F1107]. In patients with amenable galactosidase alpha gene (GLA) mutations, globotriaosylceramide (GL-3) levels tended to decrease in the urine and in the kidney interstitial capillaries.[L47057]\\\\r\\\\n\\\\r\\\\nIn an in vitro assay (HEK-293 assay), Human Embryonic Kidney (HEK-293) cell lines were transfected with specific GLA variants (mutations) which produced mutant alpha-Gal A proteins. In the transfected cells, amenability of the GLA variants was assessed after a 5-day incubation with 10 micromol/L migalastat. A GLA variant was categorized as amenable if the resultant mutant alpha-Gal A activity (measured in the cell lysates) met two criteria: 1) it showed a relative increase of at least 20% compared to the pre-treatment alpha-Gal A activity, and 2) it showed an absolute increase of at least 3% of the wild-type (normal) alpha-Gal activity. The in vitro assay did not evaluate the trafficking of the mutant alpha-Gal A proteins into the lysosome or the dissociation of migalastat from the mutant alpha-Gal A proteins within the lysosome. Also, the in vitro assay did not test whether a GLA variant causes Fabry disease or not.[L47036] \\', \\'mechanism of action\\': \\'Fabry disease is a progressive X-linked lysosomal storage disorder that affects males and females [FDA Label, F1107]. Fabry disease-causing mutations occur in the galactosidase alpha (GLA) gene and result in a deficiency of the lysosomal enzyme alpha-galactosidase A (alpha-Gal A) that is required for glycosphingolipid substrate (GL-3 and lyso-Gb3) metabolism [FDA Label, F1107]. Reduced alpha-Gal A activity is, therefore, associated with the progressive accumulation of glycosphingolipid substrate in vulnerable organs and tissues, which ultimately leads to the morbidity and mortality associated with Fabry disease.[L47057]\\\\r\\\\n\\\\r\\\\nMigalastat is a pharmacological chaperone that reversibly binds to the active site of the alpha-galactosidase A (alpha-Gal A) protein (encoded by the galactosidase alpha gene, GLA), which is deficient in Fabry disease. This binding stabilizes alpha-Gal A allowing its trafficking from the endoplasmic reticulum into the lysosome where it exerts its action. In the lysosome, at a lower pH and at a higher concentration of relevant substrates, migalastat dissociates from alpha-Gal A allowing it to break down the glycosphingolipids globotriaosylceramide (GL-3) and globotriaosylsphingosine (lyso-Gb3). Certain GLA variants (mutations) causing Fabry disease result in the production of abnormally folded and less stable forms of the alpha-Gal A protein which, however, retain enzymatic activity. Those GLA variants, referred to as amenable variants, produce alpha-Gal A proteins that may be stabilized by migalastat thereby restoring their trafficking to lysosomes and their intralysosomal activity.[L47036] \\\\r\\\\n\\\\r\\\\nThe GLA mutations that are amenable and not amenable to treatment with migalastat are regularly maintained and updated on online sites that are readily accessible by healthcare providers.[L47036]   \\', \\'metabolism\\': \\'Based upon in vivo data, migalastat is a substrate for uridine diphosphate glucuronosyltransferase (otherwise known as UGT or UDPGT), being a minor elimination pathway.[L47036]\\', \\'descriptions\\': \"Fabry disease is a rare, progressive genetic disorder characterized by a defective GLA gene that causes a deficiency in the enzyme alpha-Galactosidase A (alpha-Gal A). This enzyme is responsible for breaking down glycosphingolipid substrate that, when deficient in patients with Fabry disease, builds up in the blood vessels, the kidneys, the nerves, the heart, and other organs.[L47036,L47057,L4274,L4278] In the U.S., it is estimated that more than 3,000 people are living with Fabry disease, and an estimated more than 50 percent of these diagnosed patients are currently untreated.[L4274]\\\\r\\\\n\\\\r\\\\nMigalastat (approved and sold under Amicus Therapeutics\\' brand name Galafold) is subsequently an oral pharmacological chaperone of alpha-Gal A for the treatment of Fabry disease in adults who have amenable GLA variants.[L47036,L47057,L4274,L4278] In these patients, migalastat works by stabilizing the body’s dysfunctional alpha-Gal A enzyme so that it can clear the accumulation of glycosphingolipid disease substrate.[L47036,L47057,L4274,L4278] Globally, it is estimated that approximately 35 to 50 percent of Fabry patients may have amenable GLA variants that are treatable with migalastat. [L4274]\\\\r\\\\n\\\\r\\\\nGiven the rarity of Fabry disease and the proportion of Fabry disease patients that could benefit from migalastat therapy, Amicus Therapeutics\\' brand name Galafold was approved using the Accelerated Approval pathway, under which the FDA may approve drugs for serious conditions where there is an unmet medical need and where a drug is shown to have certain effects that are reasonably likely to predict a clinical benefit to patients.[L47036,L47057,L4274,L4278] A further study is required to verify and describe the clinical benefits of Galafold, and the sponsor will be conducting a confirmatory clinical trial of Galafold in adults with Fabry disease.[L47036,L47057,L4274,L4278]\\\\r\\\\n\\\\r\\\\nAdditionally, Galafold was also granted Priority Review designation, under which the FDA’s goal is to take action on an application within six months of application filing where the agency determines that the drug if approved, would provide a significant improvement in treating, diagnosing or preventing a serious condition over available therapies.[L47036,L47057] Galafold also received Orphan Drug designation, which provides incentives to assist and encourage the development of drugs for rare diseases.[L47036,L47057]\\\\r\\\\n\\\\r\\\\nAs of August 2018, migalastat under Amicus Therapeutics\\' brand name Galafold is currently approved in Australia, Canada, European Union, Israel, Japan, South Korea, Switzerland, and the United States.[L4274]\"}, {\\'name\\': None, \\'similarity score\\': 0.8658441305160522, \\'approval groups\\': None, \\'average mass\\': None, \\'half life\\': None, \\'toxicity\\': None, \\'indication\\': None, \\'pharmacodynamics\\': None, \\'mechanism of action\\': None, \\'metabolism\\': None, \\'descriptions\\': None}, {\\'name\\': \\'Arbutin\\', \\'similarity score\\': 0.8647643327713013, \\'approval groups\\': [\\'approved\\'], \\'average mass\\': 272.2512, \\'half life\\': \\'No pharmacokinetic data available. \\', \\'toxicity\\': \\'In an acute oral toxicity study, the LD50-value for β-arbutin is 9804 mg/kg bw for the mouse and 8715 mg/kg bw for the rat [F44]. Dermal LD50 value in rat and mouse was reported to be greater than 928 mg/kg bw, according to an acute dermal toxicity study [F44]. Extremely high doses may cause ringing in the ears, shortness of breath, convulsions, collapse, vomiting and delirium [F43]. Nausea and vomiting were seen individuals with sensitive stomachs following oral ingestion of 15 g of dried uva ursi leaves that contain arbutin [F43]. \\', \\'indication\\': \\'Indicated for over-the-counter use for epidermal hyperpigmentation in various skin conditions, such as melasma, freckles, and senile lentigines. \\', \\'pharmacodynamics\\': \\'At non-toxic concentrations, arbutin inhibited the activity of tyrosinase in cultured human keratinocytes, while having minimal effect on the expression of tyrosinase mRNA or the synthesis of the enzyme [A27248]. α-Arbutin produced a concentration-dependent inhibition of melanin synthesis of human melanoma cells, HMV-II [A32939]. No inhibitory effect on HMV-II cell growth was seen at concentrations lower than 1.0 mM. At concentrations of 0.5 mM of arbutin, tyrosinase activity was reduced to 60% of that in non-treated cells [A32939]. The addition of arbutin blocked and inhibited α-MSH-stimulated melanogenesis in B16 melanoma cells, brownish guinea pig, and human skin tissue [A32940]. In a pilot study of healthy male adults exposed to UV B irradiation, topical administration of arbutin inhibited UV-induced nuclear factor-kappaB activation in human keratinocytes [F43]. In mouse skin, arbutin counteracted oxidative stress induced by 12-O-tetradecanoylphorbol-13-acetate [F43].\\', \\'mechanism of action\\': \\'Arbutin is a hydroquinone glycoside, however the hydroquinone moiety is not solely responsible for the de-pigmentating actions of arbutin [A32942]. It acts as a competitive inhibitor of tyrosinase enzyme by acting on the L-tyrosine binding site to suppress melanogenesis and mediate its de-pigmenting actions on human skin [A27248]. Tyrosinase is an enzyme involved in the regulation of rate-limiting steps during the synthesis of melanin; it regulates the conversion of L-tyrosine into L-dopa, and subsequent conversion of L-dopa to L-dopaquinone [A27248]. Via inhibition of tyrosinase activity in a concentration-dependent manner, arbutin attenuates the production of melanin in melanocytes. While most studies suggest that arbutin has negligible effect on the tyrosinase mRNA expression, a study assessing the effect of arbutin on melanocyte differentiation inducement system using ES cells propose that arbutin may also downregulate the expression of tyrosinase in addition to its inhibitory action on the enzyme [A32938]. The contradictory findings across studies may be due to previous studies using terminally-differentiated melanocytes and melanoma cells [A32938]. \\', \\'metabolism\\': \\'Arbutin is readily susceptible to hydrolysis in dilute acids to yield D-glucose and hydroquinone. It is expected that orally administered arbutin is easily hydrolyzed to free hydroquinone molecules by stomach acid [F43]. Hydroquinone is further metabolized into the main metabolites, hydroquinone glucuronide and hydroquinone sulfate [F43]. \\', \\'descriptions\\': \\'Extracted from the dried leaves of bearberry plant in the genus _Arctostaphylos_ and other plants commonly in the _Ericaceae_ family, arbutin is a beta-D-glucopyranoside of [DB09526]. It is found in foods, over-the-counter drugs, and herbal dietary supplements [F43]. Most commonly, it is an active ingredient in skincare and cosmetic products as a skin-lightening agent for the prevention of melanin formation in various skin conditions that involve cutaneous hyperpigmentation or hyperactive melanocyte function [A27248]. It has also been used as an anti-infective for the urinary system as well as a diuretic [F43]. Arbutin is available in both natural and synthetic forms; it can be synthesized from acetobromglucose and [DB09526] [F43]. Arbutin is a competitive inhibitor of tyrosinase (E.C.1.14.18.1) in melanocytes [A27248], and the inhibition of melanin synthesis at non-toxic concentrations was observed _in vitro_. Arbutin was shown to be less cytotoxic to melanocytes in culture compared to [DB09526] [A32942].\\'}, {\\'name\\': \\'Indole-3-carbinol\\', \\'similarity score\\': 0.8617359399795532, \\'approval groups\\': [\\'investigational\\'], \\'average mass\\': 147.1739, \\'half life\\': \\'\\', \\'toxicity\\': \\'\\', \\'indication\\': \\'\\', \\'pharmacodynamics\\': \\'\\', \\'mechanism of action\\': \\'\\', \\'metabolism\\': \\'\\', \\'descriptions\\': \\'Indole 3 Carbinol is under investigation in clinical trial NCT00033345 (Indole-3-Carbinol in Preventing Breast Cancer in Nonsmoking Women Who Are at High Risk For Breast Cancer).\\'}]\\n    '"
            ],
            "application/vnd.google.colaboratory.intrinsic+json": {
              "type": "string"
            }
          },
          "metadata": {},
          "execution_count": 125
        }
      ]
    },
    {
      "cell_type": "code",
      "source": [
        "df_sample.loc[n, \"think1\"] = \"\"\"\n",
        "Okay, let me start by looking at the data provided for Compound X. The RDKit analysis gives me some key properties: Molecular Weight is 205.25, LogP is -1.14, TPSA is 89.79, Hydrogen Bond Donors and Acceptors are both 4, Rotatable Bonds are 6, and there are no chiral centers.\n",
        "\n",
        "First, I need to check the drug-likeness rules. Lipinski's Rule of Five says a molecule should have MW ≤500, which Compound X meets. LogP should be ≤5, and here it's -1.14, so that's good. Hydrogen Bond Donors ≤5 and Acceptors ≤10; both are 4, so that's within limits. So, it passes Lipinski's rules.\n",
        "\n",
        "Next, Veber's Rule looks at TPSA and Rotatable Bonds. TPSA here is 89.79, which is under the 140 threshold. Rotatable Bonds are 6, which is just at the limit of ≤10, so that's acceptable. So Veber's Rule is satisfied.\n",
        "\n",
        "Ghose and others: The molecular weight is under 500, LogP is within the -0.4 to 5.6 range, so that's okay. The number of atoms is probably okay since the MW is low. So likely passes here too. PAINS and Brenk filters are for reactive or toxic groups. The approved similar molecules like Dexpanthenol and Miglustat don't have such issues, so maybe Compound X is okay, but without the actual structure, it's hard to say. But given the high similarity to approved drugs, it might not have PAINS issues.\n",
        "\n",
        "Now looking at the ADMET profiling. Absorption: LogP is low, which could mean good solubility but maybe poor permeability. TPSA is moderate, so maybe moderate absorption. Distribution: With a LogP of -1.14, it might have low plasma protein binding, leading to a higher volume of distribution. Metabolism: The similar approved drugs like Dexpanthenol are metabolized to active forms, but if Compound X is similar, maybe it's metabolized similarly. Excretion: If it's water-soluble, renal clearance might be primary. Toxicity: The approved similar drugs have low toxicity (e.g., Dexpanthenol's LD50 is high), so maybe Compound X is also low toxicity.\n",
        "\n",
        "Looking at the approved molecules: The top similar ones are Dexpanthenol (0.958), Miglustat (0.888), Glucosamine (0.886), and others. Dexpanthenol is a B vitamin derivative used for skin and intestinal issues, Miglustat is for Gaucher's, Glucosamine for joints. These are approved with good safety profiles. Their properties are similar to Compound X, which suggests that if Compound X is structurally similar, it might have similar ADMET and efficacy.\n",
        "\n",
        "Non-approved molecules: Duvoglustat (investigational), Migalastat (approved for Fabry), Arbutin (approved for skin), Indole-3-carbinol (investigational). Migalastat is approved but others are investigational. The high similarity to approved drugs like Migalastat and Arbutin (which is approved) might indicate that even though some are non-approved, Compound X's similarity to approved ones is a good sign.\n",
        "\n",
        "Possible red flags: The high number of rotatable bonds (6) might affect bioavailability, but since similar approved drugs also have similar features, maybe it's acceptable. The TPSA is moderate, which could affect permeability, but again, similar approved drugs have comparable values.\n",
        "\n",
        "Considering all factors: Compound X meets drug-likeness rules, has ADMET profiles similar to approved drugs, and its closest analogs are approved with favorable toxicity and efficacy. The main concern would be if there's any structural alert not mentioned, but given the data, it's likely to have a good chance of approval.\n",
        "\n",
        "\n",
        "\"\"\""
      ],
      "metadata": {
        "id": "Bsqao1_dLnqp"
      },
      "execution_count": 126,
      "outputs": []
    },
    {
      "cell_type": "code",
      "source": [
        "df_sample.loc[n, \"answer1\"] = \"\"\"\n",
        "Analysis of Compound X for Regulatory Approval Likelihood\n",
        "\n",
        "1. Drug-Likeness Assessment\n",
        "Lipinski’s Rule of Five\n",
        "\n",
        "Molecular Weight (205.25): Passes (≤500).\n",
        "\n",
        "LogP (-1.14): Passes (≤5).\n",
        "\n",
        "H-bond Donors (4) / Acceptors (4): Passes (≤5/10).\n",
        "\n",
        "Conclusion: No violations; excellent oral bioavailability potential.\n",
        "\n",
        "Veber’s Rule\n",
        "\n",
        "TPSA (89.79): Passes (≤140 Å²).\n",
        "\n",
        "Rotatable Bonds (6): Passes (≤10).\n",
        "\n",
        "Conclusion: Likely good oral absorption.\n",
        "\n",
        "Ghose/PAINS/Brenk Filters\n",
        "\n",
        "No structural alerts (e.g., reactive groups) inferred from similarity to approved drugs (e.g., Dexpanthenol, Miglustat).\n",
        "\n",
        "2. ADMET Profiling\n",
        "Absorption:\n",
        "\n",
        "Low LogP (-1.14) suggests high solubility but potential permeability challenges.\n",
        "\n",
        "Moderate TPSA (89.79) may limit passive diffusion but aligns with approved analogs (e.g., Dexpanthenol: TPSA ~90).\n",
        "\n",
        "Distribution:\n",
        "\n",
        "Likely low plasma protein binding (due to low LogP), favoring tissue distribution.\n",
        "\n",
        "Metabolism:\n",
        "\n",
        "Similar to Dexpanthenol (converted to pantothenic acid) or Miglustat (minimal hepatic metabolism). Low CYP450 interaction risk.\n",
        "\n",
        "Excretion:\n",
        "\n",
        "Predicted renal clearance due to hydrophilicity.\n",
        "\n",
        "Toxicity:\n",
        "\n",
        "High LD50 values in analogs (e.g., Dexpanthenol: Mouse LD50 = 15 g/kg oral) suggest low acute toxicity.\n",
        "\n",
        "No Ames test data, but structural similarity to non-mutagens reduces concern.\n",
        "\n",
        "3. Similarity to Approved/Non-Approved Molecules\n",
        "Approved Analogs (High Similarity)\n",
        "Dexpanthenol (0.958): Approved for epithelial healing. Shares low LogP, moderate TPSA, and metabolism profile.\n",
        "\n",
        "Miglustat (0.888): Approved for Gaucher’s disease. Matches MW, rotatable bonds, and low toxicity.\n",
        "\n",
        "Glucosamine (0.886): Over-the-counter joint health. Aligns with solubility and safety trends.\n",
        "\n",
        "Non-Approved Analogs\n",
        "Migalastat (0.866): Approved for Fabry disease (accelerated pathway). Suggests niche therapeutic potential.\n",
        "\n",
        "Arbutin (0.865): Approved for hyperpigmentation. Supports safety in topical applications.\n",
        "\n",
        "4. Key Strengths\n",
        "Meets all major drug-likeness rules.\n",
        "\n",
        "Structural and ADMET similarity to safe, approved drugs.\n",
        "\n",
        "Low toxicity risk based on analogs.\n",
        "\n",
        "5. Potential Risks\n",
        "Permeability: Low LogP may limit passive absorption (needs formulation optimization).\n",
        "\n",
        "Rotatable Bonds (6): Could affect bioavailability but aligns with approved drugs (e.g., Miglustat: 6 rotatable bonds).\n",
        "\n",
        "Conclusion: Likely Approval\n",
        "Compound X demonstrates strong alignment with approved drug profiles, favorable ADMET properties, and no critical structural alerts. Its similarity to Dexpanthenol and Miglustat—both with established safety/efficacy—supports regulatory approval, particularly for indications like epithelial repair or metabolic disorders. Mitigate permeability concerns via formulation (e.g., prodrug strategy) and validate in preclinical models.\n",
        "\n",
        "Recommendation: Proceed to IND-enabling studies.\n",
        "\"\"\""
      ],
      "metadata": {
        "id": "ow7SkvpfMzJx"
      },
      "execution_count": 127,
      "outputs": []
    },
    {
      "cell_type": "code",
      "source": [
        "def get_second_prompt(label):\n",
        "    return f\"\"\"But wait the true answer is {label}. think step by step and tell why\"\"\"\n",
        "## reevaluation\n",
        "## on the second thought\n",
        "df_sample[\"2nd_prompt\"] = df_sample.apply(lambda x : get_second_prompt(x[\"status\"]) ,axis = 1)"
      ],
      "metadata": {
        "id": "EGWHOUlZUwQt",
        "colab": {
          "base_uri": "https://localhost:8080/"
        },
        "outputId": "bb6df098-2f55-4a3d-9130-7f4048386ead"
      },
      "execution_count": 128,
      "outputs": [
        {
          "output_type": "stream",
          "name": "stderr",
          "text": [
            "<ipython-input-128-31744e05ac3b>:5: SettingWithCopyWarning: \n",
            "A value is trying to be set on a copy of a slice from a DataFrame.\n",
            "Try using .loc[row_indexer,col_indexer] = value instead\n",
            "\n",
            "See the caveats in the documentation: https://pandas.pydata.org/pandas-docs/stable/user_guide/indexing.html#returning-a-view-versus-a-copy\n",
            "  df_sample[\"2nd_prompt\"] = df_sample.apply(lambda x : get_second_prompt(x[\"status\"]) ,axis = 1)\n"
          ]
        }
      ]
    },
    {
      "cell_type": "code",
      "source": [
        "df_sample[\"2nd_prompt\"][n]"
      ],
      "metadata": {
        "colab": {
          "base_uri": "https://localhost:8080/",
          "height": 36
        },
        "id": "rlgyAvxSNotg",
        "outputId": "e12e3bda-428c-4f0c-d47e-c21ea7386b37"
      },
      "execution_count": 129,
      "outputs": [
        {
          "output_type": "execute_result",
          "data": {
            "text/plain": [
              "'But wait the true answer is Not Approved. think step by step and tell why'"
            ],
            "application/vnd.google.colaboratory.intrinsic+json": {
              "type": "string"
            }
          },
          "metadata": {},
          "execution_count": 129
        }
      ]
    },
    {
      "cell_type": "code",
      "source": [
        "df_sample.loc[n , \"think2\"]= \"\"\"\n",
        "Okay, let's try to figure out why the compound X wasn't approved even though the initial analysis suggested it might be. First, I need to recall the data provided. The user mentioned that the model listed similar approved and non-approved molecules. The approved ones like Dexpanthenol, Miglustat, Glucosamine, and Nadolol had high similarity scores. The non-approved ones included Duvoglustat, Migalastat, Arbutin, and Indole-3-carbinol.\n",
        "\n",
        "The initial analysis looked at drug-likeness rules (Lipinski, Veber) and ADMET properties, and everything seemed okay. Molecular weight, LogP, TPSA, rotatable bonds—all within acceptable ranges. Toxicity data from similar approved drugs suggested low acute toxicity. So why the rejection?\n",
        "\n",
        "Hmm, maybe the answer lies in the specifics of the non-approved molecules. Let me check those again. Migalastat is mentioned as approved but under accelerated pathways, which sometimes means there's conditional approval pending further studies. Duvoglustat is investigational, so maybe it has issues. Arbutin is approved but for topical use, which is different from systemic administration. Indole-3-carbinol is investigational, possibly with unresolved safety issues.\n",
        "\n",
        "Wait, the user said the true answer is \"Not Approved.\" So what's missing here? Maybe the ADMET profile isn't as good as thought. Let's re-examine the ADMET part. The compound has low LogP (-1.14), which is quite hydrophilic. High solubility is good, but too low LogP can mean poor membrane permeability, making oral bioavailability challenging. Even if similar approved drugs have low LogP, maybe this compound's combination of properties leads to poor absorption despite passing the rules.\n",
        "\n",
        "Another angle: the similar non-approved drugs. If the compound is structurally closer to non-approved ones with issues, that's a red flag. For example, Migalastat's approval is under accelerated pathways with ongoing trials. If compound X's mechanism or metabolism mirrors a drug that later showed toxicity in confirmatory trials, that could be a problem.\n",
        "\n",
        "Also, looking at the approved analogs: Dexpanthenol is used topically or as a supplement. Miglustat is for a rare disease (Gaucher) with specific indications. If compound X is intended for a broader use, the safety profile might not hold up. The high similarity to Dexpanthenol might not translate to efficacy in a different therapeutic area.\n",
        "\n",
        "Toxicity data: The LD50 values from Dexpanthenol are high, but maybe compound X has off-target effects not captured in acute toxicity. Chronic toxicity or specific organ toxicity (like hepatotoxicity) could be a concern. The initial analysis didn't mention CYP interactions or detailed metabolism beyond what's in similar drugs. If compound X has unique metabolites that are toxic, that's a risk.\n",
        "\n",
        "Pharmacodynamics and mechanism of action: If the approved analogs work through well-understood mechanisms but compound X's MoA is novel or less understood, regulators might be cautious. The non-approved analogs might have mechanisms that failed in clinical trials, and similarity to those could be a negative.\n",
        "\n",
        "Another point: The presence of 4 hydrogen bond donors and acceptors. While within Lipinski's limits, this might lead to high polarity, affecting passive diffusion. Even if TPSA is under 140, the specific arrangement could hinder absorption.\n",
        "\n",
        "Also, the rotatable bonds (6) are at the higher end of Veber's criteria. This might increase molecular flexibility, potentially leading to poor bioavailability or rapid metabolism. Approved drugs with similar counts might have optimized structures that compound X lacks.\n",
        "\n",
        "Looking at the non-approved list, Arbutin is approved but for topical use. If compound X is intended for systemic use, the safety profile from topical applications doesn't guarantee safety orally or intravenously. Similarly, Indole-3-carbinol is investigational, possibly due to insufficient efficacy or safety concerns.\n",
        "\n",
        "Regulatory agencies also look at therapeutic need. If compound X is similar to existing drugs but doesn't offer significant advantages (e.g., better efficacy, fewer side effects), approval might be denied. The market might already be saturated with similar molecules.\n",
        "\n",
        "Lastly, maybe the model's similarity scores aren't the whole story. Structural similarity doesn't always translate to similar pharmacokinetics or dynamics. Subtle differences in the structure could lead to unexpected issues in clinical trials, like drug interactions or immune responses not seen in analogs.\n",
        "\n",
        "Putting it all together, despite passing initial drug-likeness and ADMET checks, compound X's high similarity to drugs with limited use (topical, rare diseases) or non-approved molecules, combined with potential bioavailability issues and lack of therapeutic innovation, likely led to its rejection.\n",
        "\n",
        "\"\"\""
      ],
      "metadata": {
        "id": "w0BlmW5gOFQv"
      },
      "execution_count": 130,
      "outputs": []
    },
    {
      "cell_type": "code",
      "source": [
        "df_sample.loc[n , \"answer2\"]= \"\"\"\n",
        "1. Critical Drug-Likeness and ADMET Red Flags\n",
        "Lipinski/VEBER Rule Limitations\n",
        "Low LogP (-1.14): Extremely hydrophilic, suggesting poor membrane permeability despite good solubility. While Lipinski’s rules are met, passive absorption for systemic delivery may fail (e.g., analogs like Dexpanthenol are used topically or in niche indications, not orally).\n",
        "\n",
        "High Rotatable Bonds (6): At the upper limit of Veber’s criteria, increasing metabolic instability and reducing bioavailability compared to optimized drugs like Miglustat.\n",
        "\n",
        "ADMET Weaknesses\n",
        "Absorption: Low LogP and moderate TPSA (89.79) indicate poor oral bioavailability. Approved analogs (e.g., Dexpanthenol) bypass this via non-oral routes (injection/topical).\n",
        "\n",
        "Toxicity Gaps:\n",
        "\n",
        "No Ames test data for mutagenicity. Structural similarity to non-mutagens is not definitive.\n",
        "\n",
        "Chronic toxicity risks (e.g., hepatotoxicity) are unaddressed. Non-approved analogs like Duvoglustat/Indole-3-carbinol highlight unresolved safety concerns.\n",
        "\n",
        "2. Structural Similarity to High-Risk Analogs\n",
        "Non-Approved Molecules\n",
        "Migalastat (0.866 similarity): Approved under accelerated pathways with ongoing confirmatory trials. Compound X’s similarity raises questions about long-term safety validation.\n",
        "\n",
        "Arbutin (0.865 similarity): Approved only for topical use. Systemic administration of Compound X may inherit unstudied risks (e.g., hydroquinone release).\n",
        "\n",
        "Duvoglustat/Indole-3-carbinol: Investigational status implies efficacy/safety failures in trials (e.g., anti-HIV activity abandoned due to toxicity).\n",
        "\n",
        "Approved Molecules with Niche Use\n",
        "Dexpanthenol: Topical/epithelial use only. Systemic efficacy unproven.\n",
        "\n",
        "Miglustat: Targets rare diseases (Gaucher/Niemann-Pick). Broad indications for Compound X may require stricter safety thresholds.\n",
        "\n",
        "3. Lack of Therapeutic Differentiation\n",
        "Mechanistic Redundancy: Overlaps with existing drugs (e.g., Glucosamine for joint health) without novel targets or improved efficacy.\n",
        "\n",
        "No Market Need: Similar to Nadolol (beta-blocker), which is no longer first-line due to newer selective agents.\n",
        "\n",
        "4. Hidden Metabolic/Toxicological Risks\n",
        "Metabolism: Unlike Miglustat (minimal hepatic metabolism), Compound X’s undefined metabolic pathway risks toxic metabolite formation.\n",
        "\n",
        "CYP450 Interactions: No data on enzyme inhibition/induction, critical for chronic use.\n",
        "\n",
        "Conclusion: Key Reasons for Rejection\n",
        "Poor Oral Bioavailability: Hydrophilicity and rotatable bonds limit systemic absorption.\n",
        "\n",
        "Structural Links to Non-Approved/High-Risk Drugs: Migalastat’s conditional approval and Arbutin’s topical-only use signal unaddressed risks.\n",
        "\n",
        "Lack of Therapeutic Innovation: Redundant mechanism without safety/efficacy advantages.\n",
        "\n",
        "Incomplete Toxicity Profile: Missing mutagenicity and chronic toxicity data.\n",
        "\n",
        "Final Verdict: Regulatory agencies prioritize risk-benefit balance. Compound X’s similarity to niche-use drugs, unresolved ADMET gaps, and lack of differentiation outweigh its drug-like properties. Not Approved.\n",
        "\n",
        "Recommendation: Redesign for improved permeability (e.g., prodrug) or pursue topical indications with rigorous chronic toxicity studies.\"\"\""
      ],
      "metadata": {
        "id": "ZZg9LNvNOTSm"
      },
      "execution_count": 131,
      "outputs": []
    },
    {
      "cell_type": "code",
      "source": [
        "## add posible routs(oral/topical):\n",
        "\n",
        "def get_third_prompt(label):\n",
        "    return  f\"\"\"\n",
        "    write your thinking in the following format\n",
        "    {{\"status(Approved/NonApproved)\": {label},\n",
        "    \"score(0=notapproved to 10=approved): \"\n",
        "    \"reason_to_be_approved\":\n",
        "    \"reason_to_be_notapproved\"   }}\n",
        "    \"\"\"\n",
        "df_sample[\"3rd_prompt\"] = df_sample.apply(lambda x : get_third_prompt(x[\"status\"]) ,axis = 1)"
      ],
      "metadata": {
        "id": "-VttoC3zWdif",
        "colab": {
          "base_uri": "https://localhost:8080/"
        },
        "outputId": "f8747b48-a991-4bc9-b015-a2a890aee988"
      },
      "execution_count": 132,
      "outputs": [
        {
          "output_type": "stream",
          "name": "stderr",
          "text": [
            "<ipython-input-132-b21bfb3cac8b>:11: SettingWithCopyWarning: \n",
            "A value is trying to be set on a copy of a slice from a DataFrame.\n",
            "Try using .loc[row_indexer,col_indexer] = value instead\n",
            "\n",
            "See the caveats in the documentation: https://pandas.pydata.org/pandas-docs/stable/user_guide/indexing.html#returning-a-view-versus-a-copy\n",
            "  df_sample[\"3rd_prompt\"] = df_sample.apply(lambda x : get_third_prompt(x[\"status\"]) ,axis = 1)\n"
          ]
        }
      ]
    },
    {
      "cell_type": "code",
      "source": [
        "df_sample[\"3rd_prompt\"][n]"
      ],
      "metadata": {
        "id": "Y4_eiAMAmQek",
        "colab": {
          "base_uri": "https://localhost:8080/",
          "height": 54
        },
        "outputId": "362bc667-74d3-4ed1-dd67-2dd7d7b5ed3f"
      },
      "execution_count": 133,
      "outputs": [
        {
          "output_type": "execute_result",
          "data": {
            "text/plain": [
              "'\\n    write your thinking in the following format\\n    {\"status(Approved/NonApproved)\": Not Approved,\\n    \"score(0=notapproved to 10=approved): \"\\n    \"reason_to_be_approved\":\\n    \"reason_to_be_notapproved\"   }\\n    '"
            ],
            "application/vnd.google.colaboratory.intrinsic+json": {
              "type": "string"
            }
          },
          "metadata": {},
          "execution_count": 133
        }
      ]
    },
    {
      "cell_type": "code",
      "source": [
        "df_sample.loc[n , \"think3\"]= \"\"\"\n",
        "Alright, the user wants me to format the previous analysis into a specific JSON structure. Let me start by recalling the conclusion from the last response: Compound X was deemed Not Approved.\n",
        "\n",
        "First, I need to assign a score. The original analysis mentioned strengths like meeting drug-likeness rules and similarity to approved drugs, but significant weaknesses in bioavailability and toxicity. Considering the balance, a score around 3.5/10 seems appropriate—low but not the absolute lowest.\n",
        "\n",
        "For \"reason_to_be_approved\", I should list the positives: adherence to Lipinski's and Veber's rules, similarity to safe approved drugs like Dexpanthenol, and low acute toxicity. These are valid points that could support approval under certain conditions.\n",
        "\n",
        "Now, \"reason_to_be_notapproved\" requires detailing the critical flaws. Poor oral bioavailability due to low LogP and high rotatable bonds is a key issue. Structural similarity to non-approved or topically used drugs like Arbutin and Migalastat (with their own risks) raises red flags. Lack of data on chronic toxicity and CYP interactions, plus no therapeutic innovation compared to existing drugs, are major hurdles. The market need isn't addressed, making approval unlikely.\n",
        "\n",
        "I need to ensure the JSON syntax is correct, with proper commas and quotes. Also, the score should be a float. Let me double-check each key and value to match the required format.\n",
        "\"\"\""
      ],
      "metadata": {
        "id": "g75ZAIC8WjXb"
      },
      "execution_count": 134,
      "outputs": []
    },
    {
      "cell_type": "code",
      "source": [
        "df_sample.loc[n , \"anwer3\"] = \"\"\"\n",
        "{\n",
        "    \"status(Approved/NonApproved)\": \"Not Approved\",\n",
        "    \"score(0=notapproved to 10=approved)\": 3.5,\n",
        "    \"reason_to_be_approved\": \"Compound X meets key drug-likeness rules (Lipinski/Veber), aligns structurally with safe approved drugs (e.g., Dexpanthenol, Miglustat), and shows low acute toxicity in analogs.\",\n",
        "    \"reason_to_be_notapproved\": \"1. **Poor oral bioavailability**: Extremely low LogP (-1.14) and high rotatable bonds (6) limit systemic absorption. 2. **Structural similarity to non-approved/topical drugs**: Migalastat (accelerated approval with unresolved safety) and Arbutin (topical-only use) suggest unaddressed systemic risks. 3. **Incomplete toxicity profile**: No Ames test or chronic toxicity data. 4. **No therapeutic differentiation**: Overlaps with existing drugs (e.g., Glucosamine) without novel mechanisms. 5. **Metabolic uncertainty**: Undefined CYP450 interactions and potential toxic metabolites.\"\n",
        "}\n",
        "\"\"\""
      ],
      "metadata": {
        "id": "vX_G-0s7WjDt"
      },
      "execution_count": 135,
      "outputs": []
    },
    {
      "cell_type": "code",
      "source": [
        "df_sample.to_csv(\"/content/drive/MyDrive/Papers/Original_Papers/Llm_drug_prediction/Code/reasoning_data_api/for_sft.csv\" , index = False)"
      ],
      "metadata": {
        "id": "RSSmjzh7SHPZ"
      },
      "execution_count": 138,
      "outputs": []
    },
    {
      "cell_type": "markdown",
      "source": [
        "## training sft"
      ],
      "metadata": {
        "id": "PKyv_WfvXLeH"
      }
    },
    {
      "cell_type": "code",
      "source": [
        "# df_sft = pd.read_csv(\"/content/drive/MyDrive/Papers/Original_Papers/Llm_drug_prediction/Code/reasoning_data_api/for_sft.csv\" )"
      ],
      "metadata": {
        "id": "lkaBnV4lXTcq"
      },
      "execution_count": 5,
      "outputs": []
    },
    {
      "cell_type": "code",
      "source": [
        "# def get_sft_prompt(input , thinking , answer):\n",
        "#     return f\"\"\"<｜begin▁of▁sentence｜><｜User｜>{input}<think>{thinking}</think><｜Assistant｜>{answer}<｜end▁of▁sentence｜><｜Assistant｜>\"\"\"\n",
        "\n",
        "\n",
        "# df_sft[\"sft_input\"] = df_sft.apply(lambda row : get_sft_prompt(row[\"1st_prompt\"] ,f\"\"\"{row[\"think1\"]} \\n{row[\"answer1\"]} \\n but wait lets analysis again \\n{row[\"think2\"]}\\n {row[\"answer2\"]}\"\"\"  , row[\"anwer3\"]) , axis = 1)"
      ],
      "metadata": {
        "id": "KzAZtLQSX5Md"
      },
      "execution_count": 6,
      "outputs": []
    },
    {
      "cell_type": "code",
      "source": [
        "# # Load model directly\n",
        "# from transformers import AutoTokenizer,AutoModelForCausalLM,BitsAndBytesConfig,TrainingArguments\n",
        "\n",
        "# from peft import LoraConfig, prepare_model_for_kbit_training, get_peft_model\n",
        "\n",
        "# import torch\n",
        "\n",
        "# tokenizer = AutoTokenizer.from_pretrained(\"deepseek-ai/DeepSeek-R1-Distill-Qwen-1.5B\")\n",
        "\n",
        "# bnb_config = BitsAndBytesConfig(\n",
        "#     load_in_4bit=True,  # Actually 4-bit, but commonly referred to as \"8-bit\" quantization\n",
        "#     bnb_4bit_quant_type=\"nf4\",\n",
        "#     bnb_4bit_compute_dtype=torch.bfloat16,\n",
        "#     bnb_4bit_use_double_quant=True,\n",
        "# )\n",
        "\n",
        "\n",
        "# model = AutoModelForCausalLM.from_pretrained(\"deepseek-ai/DeepSeek-R1-Distill-Qwen-14B\", # this is not working I shoud replace it with 7b\n",
        "#                                              quantization_config=bnb_config,\n",
        "#                                              device_map=\"auto\",  # Automatically places layers on available devices\n",
        "#                                              torch_dtype=torch.bfloat16,\n",
        "#                                              ) #\"manycore-research/SpatialLM-Llama-1B\"\"deepseek-ai/DeepSeek-R1\"\n",
        "\n",
        "# model = prepare_model_for_kbit_training(model)\n",
        "\n",
        "# peft_config = LoraConfig(\n",
        "#     r=16,  # Rank of the low-rank matrices\n",
        "#     lora_alpha=32,  # Scaling factor\n",
        "#     target_modules=[\"q_proj\", \"k_proj\", \"v_proj\", \"o_proj\", \"down_proj\" , \"up_proj\" , \"gate_proj\"],  # Modules to apply LoRA to\n",
        "#     lora_dropout=0.05,\n",
        "#     bias=\"none\",\n",
        "#     task_type=\"CAUSAL_LM\",\n",
        "# )\n",
        "\n",
        "# # 6. Wrap model with LoRA\n",
        "# model = get_peft_model(model, peft_config)\n"
      ],
      "metadata": {
        "id": "DSu60aAWX5Hq"
      },
      "execution_count": null,
      "outputs": []
    },
    {
      "cell_type": "code",
      "source": [
        "# [len(tokenizer.tokenize(i)) for i in df_sft[\"sft_input\"]]\n",
        "# df_sft_sft = df_sft[[\"sft_input\"]]\n",
        "# df_sft_sft.to_csv(\"/content/drive/MyDrive/Papers/Original_Papers/Llm_drug_prediction/Code/reasoning_data_api/just_for_sft.csv\", index = False)"
      ],
      "metadata": {
        "colab": {
          "base_uri": "https://localhost:8080/"
        },
        "id": "4wk8dn5reXG9",
        "outputId": "c6ec48b9-7335-4c63-d569-b7d4da347d91"
      },
      "execution_count": 9,
      "outputs": [
        {
          "output_type": "execute_result",
          "data": {
            "text/plain": [
              "[10556, 4968, 7825, 11845, 11390]"
            ]
          },
          "metadata": {},
          "execution_count": 9
        }
      ]
    },
    {
      "cell_type": "code",
      "source": [
        "# training_args = SFTConfig(\n",
        "#     output_dir=\"/tmp\",                  # Directory for output files\n",
        "#     num_train_epochs=5,                # Number of training epochs\n",
        "#     per_device_train_batch_size=2,     # Batch size per device\n",
        "#     gradient_accumulation_steps=16,     # Number of updates steps to accumulate\n",
        "#     learning_rate=2e-4,                # Learning rate\n",
        "#     weight_decay=0.01,                 # Weight decay\n",
        "#     logging_dir=\"./logs\",              # Directory for logs\n",
        "#     logging_steps=1,                  # Log every X steps\n",
        "#     save_steps=500,                    # Save checkpoint every X steps\n",
        "#     save_total_limit=2,                # Max number of checkpoints to keep\n",
        "#     # evaluation_strategy=\"steps\",       # Evaluate every X steps\n",
        "#     # eval_steps=100,                    # Evaluation steps\n",
        "#     fp16=True,                         # Use mixed precision training\n",
        "#     warmup_steps=500,                  # Number of warmup steps\n",
        "#     optim=\"paged_adamw_8bit\",\n",
        "#     lr_scheduler_type=\"cosine\",\n",
        "#     report_to = \"none\"\n",
        "# )\n",
        "\n",
        "# trainer = SFTTrainer(\n",
        "#     model = model ,\n",
        "#     train_dataset=dset2train,\n",
        "#     args=training_args,\n",
        "# )\n",
        "# trainer.train()"
      ],
      "metadata": {
        "id": "rH5hZJNeQ-9J"
      },
      "execution_count": 5,
      "outputs": []
    },
    {
      "cell_type": "code",
      "source": [
        "%%capture\n",
        "import os\n",
        "if \"COLAB_\" not in \"\".join(os.environ.keys()):\n",
        "    !pip install unsloth\n",
        "else:\n",
        "    # Do this only in Colab notebooks! Otherwise use pip install unsloth\n",
        "    !pip install --no-deps bitsandbytes accelerate xformers==0.0.29.post3 peft trl triton cut_cross_entropy unsloth_zoo\n",
        "    !pip install sentencepiece protobuf datasets huggingface_hub hf_transfer\n",
        "    !pip install --no-deps unsloth"
      ],
      "metadata": {
        "id": "hctLxFFR4WV5"
      },
      "execution_count": null,
      "outputs": []
    },
    {
      "cell_type": "code",
      "source": [
        "df_sft_sft = pd.read_csv(\"/content/drive/MyDrive/Papers/Original_Papers/Llm_drug_prediction/Code/reasoning_data_api/just_for_sft.csv\")\n",
        "\n",
        "df_sft_sft_100 = pd.concat(100*[df_sft_sft], axis=0, ignore_index=True)\n",
        "\n",
        "dset = Dataset.from_pandas(df_sft_sft_100)\n",
        "\n",
        "def get_tokenize(dset):\n",
        "    return tokenizer(dset[\"sft_input\"] , padding=\"max_length\" , truncation=True  )\n",
        "\n",
        "\n",
        "dset2train = dset.map(get_tokenize)"
      ],
      "metadata": {
        "colab": {
          "base_uri": "https://localhost:8080/",
          "height": 49,
          "referenced_widgets": [
            "ce58caadba7f48d9a69e393bfa764323",
            "2f30d53aa89a4524a53911927a388876",
            "1d595944f89e4aada8f8a1be5999a5cb",
            "bdbdce478f1b4882ab3b5df874db2184",
            "bd38b13e751a4d5f9ac372f9d6ce21ad",
            "08386142216845dcabad1f8fdb0354a8",
            "f86f305276aa4dd19d124ce8cae1aab8",
            "083863836545455e80c1ab6052bb7433",
            "92d7e86f140c480c90a7e10caf567357",
            "292872381a784f839fec8883cc1a9cea",
            "253cdfb9ff7c4a0b93bcb687edfa4f9f"
          ]
        },
        "id": "9P4c5xgjmpkY",
        "outputId": "f20597af-e903-4033-be9e-0ff210ba7adb"
      },
      "execution_count": 4,
      "outputs": [
        {
          "output_type": "display_data",
          "data": {
            "text/plain": [
              "Map:   0%|          | 0/500 [00:00<?, ? examples/s]"
            ],
            "application/vnd.jupyter.widget-view+json": {
              "version_major": 2,
              "version_minor": 0,
              "model_id": "ce58caadba7f48d9a69e393bfa764323"
            }
          },
          "metadata": {}
        }
      ]
    },
    {
      "cell_type": "code",
      "source": [
        "from unsloth import FastLanguageModel\n",
        "import torch\n",
        "# max_seq_length = 2048 # Choose any! We auto support RoPE Scaling internally!\n",
        "dtype = None # None for auto detection. Float16 for Tesla T4, V100, Bfloat16 for Ampere+\n",
        "load_in_4bit = True # Use 4bit quantization to reduce memory usage. Can be False.\n",
        "\n",
        "\n",
        "\n",
        "model, tokenizer = FastLanguageModel.from_pretrained(\n",
        "    model_name = \"deepseek-ai/DeepSeek-R1-Distill-Qwen-14B\",\n",
        "    # max_seq_length = max_seq_length,\n",
        "    dtype = dtype,\n",
        "    load_in_4bit = load_in_4bit,\n",
        "    # token = \"hf_...\", # use one if using gated models like meta-llama/Llama-2-7b-hf\n",
        ")"
      ],
      "metadata": {
        "id": "BS2nEwk334ZZ"
      },
      "execution_count": null,
      "outputs": []
    },
    {
      "cell_type": "code",
      "source": [
        "from trl import SFTTrainer\n",
        "from transformers import TrainingArguments\n",
        "from unsloth import is_bfloat16_supported\n",
        "\n",
        "training_args = TrainingArguments(\n",
        "        per_device_train_batch_size = 2,\n",
        "        gradient_accumulation_steps = 4,\n",
        "        warmup_steps = 5,\n",
        "        # num_train_epochs = 1, # Set this for 1 full training run.\n",
        "        max_steps = 60,\n",
        "        learning_rate = 2e-4,\n",
        "        fp16 = not is_bfloat16_supported(),\n",
        "        bf16 = is_bfloat16_supported(),\n",
        "        logging_steps = 1,\n",
        "        optim = \"adamw_8bit\",\n",
        "        weight_decay = 0.01,\n",
        "        lr_scheduler_type = \"linear\",\n",
        "        seed = 3407,\n",
        "        output_dir = \"outputs\",\n",
        "        report_to = \"none\", # Use this for WandB etc\n",
        "    )\n",
        "\n",
        "trainer = SFTTrainer(\n",
        "    model = model,\n",
        "    tokenizer = tokenizer,\n",
        "    train_dataset = dataset,\n",
        "    dataset_text_field = \"text\",\n",
        "    max_seq_length = max_seq_length,\n",
        "    dataset_num_proc = 2,\n",
        "    packing = False, # Can make training 5x faster for short sequences.\n",
        "    args = training_args,\n",
        ")"
      ],
      "metadata": {
        "id": "HPJKAP3ZiG2r"
      },
      "execution_count": null,
      "outputs": []
    },
    {
      "cell_type": "code",
      "source": [
        "trainer_stats = trainer.train()"
      ],
      "metadata": {
        "id": "058nwQGgiHLE"
      },
      "execution_count": null,
      "outputs": []
    }
  ]
}