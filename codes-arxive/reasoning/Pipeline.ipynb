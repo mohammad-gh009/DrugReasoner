{
 "cells": [
  {
   "cell_type": "markdown",
   "id": "744dfd21-c1e1-4b93-b5d4-053df6507759",
   "metadata": {},
   "source": [
    "# The Pipeline "
   ]
  },
  {
   "cell_type": "markdown",
   "id": "1c31dd58-7869-4e79-8e31-408c7bdfcb51",
   "metadata": {},
   "source": [
    "## step1 : loading an embedding model"
   ]
  },
  {
   "cell_type": "markdown",
   "id": "a0571ac6-4caf-489e-8cdb-c39cc318452c",
   "metadata": {},
   "source": [
    "Use the fine-tuned version of Chemberta or sentence transformers, as an embedding model. "
   ]
  },
  {
   "cell_type": "code",
   "execution_count": 1,
   "id": "c446e02d-fe71-465f-aa2c-ff6d734f5f9c",
   "metadata": {},
   "outputs": [],
   "source": [
    "%%capture\n",
    "from step1 import *"
   ]
  },
  {
   "cell_type": "code",
   "execution_count": 2,
   "id": "a97a0c56-2997-4328-b449-b40e0c940a21",
   "metadata": {},
   "outputs": [
    {
     "data": {
      "text/plain": [
       "(0, 'C[C@]1(O)CC[C@H]2[C@@H]3CCC4=CC(=O)CC[C@]4(C)[C@@]3(F)[C@@H](O)C[C@@]21C')"
      ]
     },
     "execution_count": 2,
     "metadata": {},
     "output_type": "execute_result"
    }
   ],
   "source": [
    "labels_for_test , smile_for_test"
   ]
  },
  {
   "cell_type": "code",
   "execution_count": 3,
   "id": "7c0a2267-27f3-43b5-ad96-edb446fb3131",
   "metadata": {},
   "outputs": [
    {
     "data": {
      "text/plain": [
       "{'predicted_class_base': 1, 'predicted_class_prob_base': 0.9819175601005554}"
      ]
     },
     "execution_count": 3,
     "metadata": {},
     "output_type": "execute_result"
    }
   ],
   "source": [
    "predicted"
   ]
  },
  {
   "cell_type": "code",
   "execution_count": 4,
   "id": "d9ca321a-6098-46c1-bf2d-7adae85792f1",
   "metadata": {},
   "outputs": [
    {
     "data": {
      "text/html": [
       "<div>\n",
       "<style scoped>\n",
       "    .dataframe tbody tr th:only-of-type {\n",
       "        vertical-align: middle;\n",
       "    }\n",
       "\n",
       "    .dataframe tbody tr th {\n",
       "        vertical-align: top;\n",
       "    }\n",
       "\n",
       "    .dataframe thead th {\n",
       "        text-align: right;\n",
       "    }\n",
       "</style>\n",
       "<table border=\"1\" class=\"dataframe\">\n",
       "  <thead>\n",
       "    <tr style=\"text-align: right;\">\n",
       "      <th></th>\n",
       "      <th>SMILES</th>\n",
       "      <th>labels</th>\n",
       "      <th>sim</th>\n",
       "    </tr>\n",
       "  </thead>\n",
       "  <tbody>\n",
       "    <tr>\n",
       "      <th>642</th>\n",
       "      <td>CC(=O)[C@@]1(O)CC[C@H]2[C@@H]3C[C@H](C)C4=CC(=...</td>\n",
       "      <td>1</td>\n",
       "      <td>0.997136</td>\n",
       "    </tr>\n",
       "    <tr>\n",
       "      <th>748</th>\n",
       "      <td>C[C@@H]1C[C@H]2[C@@H]3CCC4=CC(=O)C=C[C@]4(C)[C...</td>\n",
       "      <td>1</td>\n",
       "      <td>0.996724</td>\n",
       "    </tr>\n",
       "    <tr>\n",
       "      <th>1416</th>\n",
       "      <td>CC1(C)O[C@@H]2C[C@H]3[C@@H]4CCC5=CC(=O)C=C[C@]...</td>\n",
       "      <td>1</td>\n",
       "      <td>0.996411</td>\n",
       "    </tr>\n",
       "    <tr>\n",
       "      <th>1007</th>\n",
       "      <td>CC[C@@H]1[C@@H]2C[C@H](O)CC[C@]2(C)[C@H]2CC[C@...</td>\n",
       "      <td>1</td>\n",
       "      <td>0.996281</td>\n",
       "    </tr>\n",
       "    <tr>\n",
       "      <th>2281</th>\n",
       "      <td>CC(=O)[C@@]1(O)CC[C@H]2[C@@H]3C=C(C)C4=CC(=O)C...</td>\n",
       "      <td>1</td>\n",
       "      <td>0.996260</td>\n",
       "    </tr>\n",
       "  </tbody>\n",
       "</table>\n",
       "</div>"
      ],
      "text/plain": [
       "                                                 SMILES  labels       sim\n",
       "642   CC(=O)[C@@]1(O)CC[C@H]2[C@@H]3C[C@H](C)C4=CC(=...       1  0.997136\n",
       "748   C[C@@H]1C[C@H]2[C@@H]3CCC4=CC(=O)C=C[C@]4(C)[C...       1  0.996724\n",
       "1416  CC1(C)O[C@@H]2C[C@H]3[C@@H]4CCC5=CC(=O)C=C[C@]...       1  0.996411\n",
       "1007  CC[C@@H]1[C@@H]2C[C@H](O)CC[C@]2(C)[C@H]2CC[C@...       1  0.996281\n",
       "2281  CC(=O)[C@@]1(O)CC[C@H]2[C@@H]3C=C(C)C4=CC(=O)C...       1  0.996260"
      ]
     },
     "execution_count": 4,
     "metadata": {},
     "output_type": "execute_result"
    }
   ],
   "source": [
    "most_app "
   ]
  },
  {
   "cell_type": "code",
   "execution_count": 5,
   "id": "43d92a71-2c97-4f6b-93cf-24773ccd9d2e",
   "metadata": {},
   "outputs": [
    {
     "data": {
      "text/html": [
       "<div>\n",
       "<style scoped>\n",
       "    .dataframe tbody tr th:only-of-type {\n",
       "        vertical-align: middle;\n",
       "    }\n",
       "\n",
       "    .dataframe tbody tr th {\n",
       "        vertical-align: top;\n",
       "    }\n",
       "\n",
       "    .dataframe thead th {\n",
       "        text-align: right;\n",
       "    }\n",
       "</style>\n",
       "<table border=\"1\" class=\"dataframe\">\n",
       "  <thead>\n",
       "    <tr style=\"text-align: right;\">\n",
       "      <th></th>\n",
       "      <th>SMILES</th>\n",
       "      <th>labels</th>\n",
       "      <th>sim</th>\n",
       "    </tr>\n",
       "  </thead>\n",
       "  <tbody>\n",
       "    <tr>\n",
       "      <th>2455</th>\n",
       "      <td>CC1(C)O[C@@H]2C[C@H]3[C@@H]4C[C@H](F)C5=CC(=O)...</td>\n",
       "      <td>0</td>\n",
       "      <td>0.996713</td>\n",
       "    </tr>\n",
       "    <tr>\n",
       "      <th>2270</th>\n",
       "      <td>C=C1/C(=C\\C=C2/CCC[C@@]3(C)[C@H]2CC[C@@H]3[C@H...</td>\n",
       "      <td>0</td>\n",
       "      <td>0.992212</td>\n",
       "    </tr>\n",
       "    <tr>\n",
       "      <th>2324</th>\n",
       "      <td>C[C@@H]1[C@H]2C3=CC[C@@H]4[C@@]5(C)CC[C@H](O)C...</td>\n",
       "      <td>0</td>\n",
       "      <td>0.986225</td>\n",
       "    </tr>\n",
       "    <tr>\n",
       "      <th>2052</th>\n",
       "      <td>CC(=O)OCC(=O)[C@@]1(O)CC[C@H]2[C@@H]3CCC4=CC(=...</td>\n",
       "      <td>0</td>\n",
       "      <td>0.985912</td>\n",
       "    </tr>\n",
       "    <tr>\n",
       "      <th>931</th>\n",
       "      <td>C=C1CC[C@H]2[C@H](CN)[C@@H]([C@@]3(C)CC[C@H](O...</td>\n",
       "      <td>0</td>\n",
       "      <td>0.983682</td>\n",
       "    </tr>\n",
       "  </tbody>\n",
       "</table>\n",
       "</div>"
      ],
      "text/plain": [
       "                                                 SMILES  labels       sim\n",
       "2455  CC1(C)O[C@@H]2C[C@H]3[C@@H]4C[C@H](F)C5=CC(=O)...       0  0.996713\n",
       "2270  C=C1/C(=C\\C=C2/CCC[C@@]3(C)[C@H]2CC[C@@H]3[C@H...       0  0.992212\n",
       "2324  C[C@@H]1[C@H]2C3=CC[C@@H]4[C@@]5(C)CC[C@H](O)C...       0  0.986225\n",
       "2052  CC(=O)OCC(=O)[C@@]1(O)CC[C@H]2[C@@H]3CCC4=CC(=...       0  0.985912\n",
       "931   C=C1CC[C@H]2[C@H](CN)[C@@H]([C@@]3(C)CC[C@H](O...       0  0.983682"
      ]
     },
     "execution_count": 5,
     "metadata": {},
     "output_type": "execute_result"
    }
   ],
   "source": [
    "most_nonapp"
   ]
  },
  {
   "cell_type": "code",
   "execution_count": 6,
   "id": "93c15428-e757-4d2d-b8dc-e73b485d9382",
   "metadata": {},
   "outputs": [
    {
     "data": {
      "text/html": [
       "<div>\n",
       "<style scoped>\n",
       "    .dataframe tbody tr th:only-of-type {\n",
       "        vertical-align: middle;\n",
       "    }\n",
       "\n",
       "    .dataframe tbody tr th {\n",
       "        vertical-align: top;\n",
       "    }\n",
       "\n",
       "    .dataframe thead th {\n",
       "        text-align: right;\n",
       "    }\n",
       "</style>\n",
       "<table border=\"1\" class=\"dataframe\">\n",
       "  <thead>\n",
       "    <tr style=\"text-align: right;\">\n",
       "      <th></th>\n",
       "      <th>SMILES</th>\n",
       "      <th>labels</th>\n",
       "      <th>sim</th>\n",
       "    </tr>\n",
       "  </thead>\n",
       "  <tbody>\n",
       "    <tr>\n",
       "      <th>642</th>\n",
       "      <td>CC(=O)[C@@]1(O)CC[C@H]2[C@@H]3C[C@H](C)C4=CC(=...</td>\n",
       "      <td>1</td>\n",
       "      <td>0.997136</td>\n",
       "    </tr>\n",
       "    <tr>\n",
       "      <th>748</th>\n",
       "      <td>C[C@@H]1C[C@H]2[C@@H]3CCC4=CC(=O)C=C[C@]4(C)[C...</td>\n",
       "      <td>1</td>\n",
       "      <td>0.996724</td>\n",
       "    </tr>\n",
       "    <tr>\n",
       "      <th>2455</th>\n",
       "      <td>CC1(C)O[C@@H]2C[C@H]3[C@@H]4C[C@H](F)C5=CC(=O)...</td>\n",
       "      <td>0</td>\n",
       "      <td>0.996713</td>\n",
       "    </tr>\n",
       "    <tr>\n",
       "      <th>1416</th>\n",
       "      <td>CC1(C)O[C@@H]2C[C@H]3[C@@H]4CCC5=CC(=O)C=C[C@]...</td>\n",
       "      <td>1</td>\n",
       "      <td>0.996411</td>\n",
       "    </tr>\n",
       "    <tr>\n",
       "      <th>1007</th>\n",
       "      <td>CC[C@@H]1[C@@H]2C[C@H](O)CC[C@]2(C)[C@H]2CC[C@...</td>\n",
       "      <td>1</td>\n",
       "      <td>0.996281</td>\n",
       "    </tr>\n",
       "  </tbody>\n",
       "</table>\n",
       "</div>"
      ],
      "text/plain": [
       "                                                 SMILES  labels       sim\n",
       "642   CC(=O)[C@@]1(O)CC[C@H]2[C@@H]3C[C@H](C)C4=CC(=...       1  0.997136\n",
       "748   C[C@@H]1C[C@H]2[C@@H]3CCC4=CC(=O)C=C[C@]4(C)[C...       1  0.996724\n",
       "2455  CC1(C)O[C@@H]2C[C@H]3[C@@H]4C[C@H](F)C5=CC(=O)...       0  0.996713\n",
       "1416  CC1(C)O[C@@H]2C[C@H]3[C@@H]4CCC5=CC(=O)C=C[C@]...       1  0.996411\n",
       "1007  CC[C@@H]1[C@@H]2C[C@H](O)CC[C@]2(C)[C@H]2CC[C@...       1  0.996281"
      ]
     },
     "execution_count": 6,
     "metadata": {},
     "output_type": "execute_result"
    }
   ],
   "source": [
    "tot"
   ]
  },
  {
   "cell_type": "markdown",
   "id": "af2625ed-402b-4cc5-bffc-6e91bd672997",
   "metadata": {},
   "source": [
    "## step2 : use APIs and performing the RAG"
   ]
  },
  {
   "cell_type": "markdown",
   "id": "fb2db41c-3882-4568-a686-b5b2ada1f12f",
   "metadata": {},
   "source": [
    "1. condider using the drugbank xml file\n",
    "2. Use the 4 databases to make an agent to retrieve information. (API)\n",
    "    1. Drugbank \n",
    "    2. Pubchem\n",
    "    3. Ctd \n",
    "    4. DGIdb \n"
   ]
  },
  {
   "cell_type": "code",
   "execution_count": 7,
   "id": "1f566827-7dc3-4a9d-9339-f15d30d97f2e",
   "metadata": {},
   "outputs": [],
   "source": [
    "import pandas as pd\n",
    "\n",
    "from parse_drugbank_data  import parse_drugbank ,convert_properties , extract_smiles\n",
    "\n",
    "from preprocess_df_for_smiles import *"
   ]
  },
  {
   "cell_type": "code",
   "execution_count": 8,
   "id": "c9a6478c-cd95-4a3c-83a1-4e74b9f424b7",
   "metadata": {},
   "outputs": [],
   "source": [
    "df = parse_drugbank(\"/home/u111169/wrkdir/mgh-project/datasets/drugbank_data/full_database.xml\")"
   ]
  },
  {
   "cell_type": "code",
   "execution_count": 9,
   "id": "3baed4a7-13ba-4378-8c86-c3ca8624ec2c",
   "metadata": {},
   "outputs": [],
   "source": [
    "%%capture\n",
    "approved_df, not_approved_df , df_cache_concat = preprocess_df_for_smiles(df)"
   ]
  },
  {
   "cell_type": "code",
   "execution_count": 12,
   "id": "8bb3663c-a91c-4267-8c2a-1bd2e90594e1",
   "metadata": {},
   "outputs": [],
   "source": [
    "df_properties = df_cache_concat[[\"name\",\"groups\" ,\"approval_stat\", \"SMILES\", \"experimental_properties\", \"calculated_properties\" ]].head()"
   ]
  },
  {
   "cell_type": "code",
   "execution_count": 16,
   "id": "dc0bafe3-bf13-43aa-a30a-7866f7a9af12",
   "metadata": {},
   "outputs": [
    {
     "data": {
      "text/plain": [
       "[{'logP': '-0.76'},\n",
       " {'logS': '-4.7'},\n",
       " {'Water Solubility': '4.64e-02 g/l'},\n",
       " {'logP': '-14'},\n",
       " {'IUPAC Name': '(4S)-4-[(2S)-2-[(2S)-2-[(2S)-2-{2-[(2S)-2-(2-{2-[2-(2-{[(2S)-1-[(2S)-2-{[(2S)-1-[(2R)-2-amino-3-phenylpropanoyl]pyrrolidin-2-yl]formamido}-5-carbamimidamidopentanoyl]pyrrolidin-2-yl]formamido}acetamido)acetamido]acetamido}acetamido)-3-carbamoylpropanamido]acetamido}-3-carboxypropanamido]-3-phenylpropanamido]-4-carboxybutanamido]-4-{[(2S,3S)-1-[(2S)-2-{[(1S)-3-carboxy-1-{[(1S)-3-carboxy-1-{[(1S)-1-{[(1S)-1-carboxy-3-methylbutyl]carbamoyl}-2-(4-hydroxyphenyl)ethyl]carbamoyl}propyl]carbamoyl}propyl]carbamoyl}pyrrolidin-1-yl]-3-methyl-1-oxopentan-2-yl]carbamoyl}butanoic acid'},\n",
       " {'Traditional IUPAC Name': 'bivalirudin'},\n",
       " {'Molecular Weight': '2180.2853'},\n",
       " {'Monoisotopic Weight': '2178.985813062'},\n",
       " {'SMILES': 'CC[C@H](C)[C@H](NC(=O)[C@H](CCC(O)=O)NC(=O)[C@H](CCC(O)=O)NC(=O)[C@H](CC1=CC=CC=C1)NC(=O)[C@H](CC(O)=O)NC(=O)CNC(=O)[C@H](CC(N)=O)NC(=O)CNC(=O)CNC(=O)CNC(=O)CNC(=O)[C@@H]1CCCN1C(=O)[C@H](CCCNC(N)=N)NC(=O)[C@@H]1CCCN1C(=O)[C@H](N)CC1=CC=CC=C1)C(=O)N1CCC[C@H]1C(=O)N[C@@H](CCC(O)=O)C(=O)N[C@@H](CCC(O)=O)C(=O)N[C@@H](CC1=CC=C(O)C=C1)C(=O)N[C@@H](CC(C)C)C(O)=O'},\n",
       " {'Molecular Formula': 'C98H138N24O33'},\n",
       " {'InChI': 'InChI=1S/C98H138N24O33/c1-5-52(4)82(96(153)122-39-15-23-70(122)92(149)114-60(30-34-79(134)135)85(142)111-59(29-33-78(132)133)86(143)116-64(43-55-24-26-56(123)27-25-55)89(146)118-67(97(154)155)40-51(2)3)119-87(144)61(31-35-80(136)137)112-84(141)58(28-32-77(130)131)113-88(145)63(42-54-18-10-7-11-19-54)117-90(147)66(45-81(138)139)110-76(129)50-107-83(140)65(44-71(100)124)109-75(128)49-106-73(126)47-104-72(125)46-105-74(127)48-108-91(148)68-21-13-38-121(68)95(152)62(20-12-36-103-98(101)102)115-93(150)69-22-14-37-120(69)94(151)57(99)41-53-16-8-6-9-17-53/h6-11,16-19,24-27,51-52,57-70,82,123H,5,12-15,20-23,28-50,99H2,1-4H3,(H2,100,124)(H,104,125)(H,105,127)(H,106,126)(H,107,140)(H,108,148)(H,109,128)(H,110,129)(H,111,142)(H,112,141)(H,113,145)(H,114,149)(H,115,150)(H,116,143)(H,117,147)(H,118,146)(H,119,144)(H,130,131)(H,132,133)(H,134,135)(H,136,137)(H,138,139)(H,154,155)(H4,101,102,103)/t52-,57+,58-,59-,60-,61-,62-,63-,64-,65-,66-,67-,68-,69-,70-,82-/m0/s1'},\n",
       " {'InChIKey': 'OIRCOABEOLEUMC-GEJPAHFPSA-N'},\n",
       " {'Polar Surface Area (PSA)': '901.57'},\n",
       " {'Refractivity': '543.33'},\n",
       " {'Polarizability': '218.54'},\n",
       " {'Rotatable Bond Count': '66'},\n",
       " {'H Bond Acceptor Count': '37'},\n",
       " {'H Bond Donor Count': '28'},\n",
       " {'pKa (strongest acidic)': '2.78'},\n",
       " {'pKa (strongest basic)': '11.88'},\n",
       " {'Physiological Charge': '-4'},\n",
       " {'Number of Rings': '6'},\n",
       " {'Bioavailability': '0'},\n",
       " {'Rule of Five': '0'},\n",
       " {'Ghose Filter': '0'},\n",
       " {'MDDR-Like Rule': '1'}]"
      ]
     },
     "execution_count": 16,
     "metadata": {},
     "output_type": "execute_result"
    }
   ],
   "source": [
    "df_properties[\"calculated_properties\"][0]"
   ]
  },
  {
   "cell_type": "markdown",
   "id": "ce7d5f4a-39da-4a5c-8b7e-b37a21ca1cd8",
   "metadata": {},
   "source": [
    "### Build the dataset"
   ]
  },
  {
   "cell_type": "markdown",
   "id": "078ed541-41bf-4c24-9227-bbbfee6b4a7e",
   "metadata": {},
   "source": []
  },
  {
   "cell_type": "code",
   "execution_count": null,
   "id": "476a55bf-375b-469e-864a-131a1a3333ce",
   "metadata": {},
   "outputs": [],
   "source": []
  },
  {
   "cell_type": "code",
   "execution_count": null,
   "id": "50530bc5-b6c2-49ae-b09c-0222af851e0b",
   "metadata": {},
   "outputs": [],
   "source": []
  },
  {
   "cell_type": "code",
   "execution_count": null,
   "id": "2cddcc69-4559-4cc0-ae6a-0d2aa2d3227c",
   "metadata": {},
   "outputs": [],
   "source": []
  },
  {
   "cell_type": "markdown",
   "id": "d63273b5-56fc-4037-b9d4-2e95be23c7d3",
   "metadata": {},
   "source": [
    "## Step3 : use api to make the R dataset."
   ]
  },
  {
   "cell_type": "code",
   "execution_count": null,
   "id": "82fd0ae1-d01d-4f7d-8250-818ae839873f",
   "metadata": {},
   "outputs": [],
   "source": []
  },
  {
   "cell_type": "code",
   "execution_count": null,
   "id": "5542f2bd-b59d-4e70-8c1f-a8075cb1583f",
   "metadata": {},
   "outputs": [],
   "source": []
  },
  {
   "cell_type": "code",
   "execution_count": null,
   "id": "dba470fd-eea3-4719-93e8-841981f71670",
   "metadata": {},
   "outputs": [],
   "source": []
  },
  {
   "cell_type": "code",
   "execution_count": null,
   "id": "e2f2734d-aa76-4096-8479-f537561a249a",
   "metadata": {},
   "outputs": [],
   "source": []
  },
  {
   "cell_type": "markdown",
   "id": "4fb60c71-880a-4daa-8905-aea65efb7b6c",
   "metadata": {},
   "source": [
    "## Step4 : fine-tune the Model"
   ]
  },
  {
   "cell_type": "code",
   "execution_count": null,
   "id": "80e3b163-9bc3-4ef6-9232-635ba81504a4",
   "metadata": {},
   "outputs": [],
   "source": []
  }
 ],
 "metadata": {
  "kernelspec": {
   "display_name": "Python 3 (ipykernel)",
   "language": "python",
   "name": "python3"
  },
  "language_info": {
   "codemirror_mode": {
    "name": "ipython",
    "version": 3
   },
   "file_extension": ".py",
   "mimetype": "text/x-python",
   "name": "python",
   "nbconvert_exporter": "python",
   "pygments_lexer": "ipython3",
   "version": "3.10.9"
  }
 },
 "nbformat": 4,
 "nbformat_minor": 5
}
