{
 "cells": [
  {
   "cell_type": "code",
   "execution_count": 1,
   "id": "9c4d018e-e424-4280-9463-5d3c9a1f7062",
   "metadata": {},
   "outputs": [],
   "source": [
    "import pandas as pd\n",
    "import numpy as np\n",
    "from datasets import Dataset\n",
    "import itertools\n",
    "from datasets import load_dataset\n",
    "from sentence_transformers import SentenceTransformer , SentenceTransformerTrainer\n",
    "from sentence_transformers.losses import CachedMultipleNegativesRankingLoss ,ContrastiveLoss, OnlineContrastiveLoss\n",
    "import os\n",
    "from sentence_transformers.training_args import SentenceTransformerTrainingArguments\n",
    "import torch"
   ]
  },
  {
   "cell_type": "code",
   "execution_count": 2,
   "id": "a2ce933c-2591-4db5-99f9-5f547621b248",
   "metadata": {},
   "outputs": [],
   "source": [
    "from sklearn.metrics import accuracy_score, f1_score, precision_score, recall_score, confusion_matrix, roc_auc_score\n",
    "\n",
    "def evaluate(y_true ,y_pred ): \n",
    "    # Calculate basic metrics\n",
    "    accuracy = accuracy_score(y_true, y_pred)\n",
    "    f1 = f1_score(y_true, y_pred)#, average='weighted'\n",
    "    precision = precision_score(y_true, y_pred)#, average='weighted'\n",
    "    recall = recall_score(y_true, y_pred)#, average='weighted'\n",
    "\n",
    "    # Calculate confusion matrix\n",
    "    cm = confusion_matrix(y_true, y_pred)\n",
    "    TN = cm[0][0]\n",
    "    FP = cm[0][1]\n",
    "    FN = cm[1][0]\n",
    "    TP = cm[1][1]\n",
    "\n",
    "    # Calculate specificity (True Negative Rate)\n",
    "    specificity = TN / (TN + FP)\n",
    "\n",
    "    # Calculate NPV (Negative Predictive Value)\n",
    "    NPV = TN / (TN + FN)\n",
    "\n",
    "    auc = roc_auc_score(y_true, y_pred)\n",
    "\n",
    "    results = {\n",
    "        \"F1 score\": f1,\n",
    "        \"Accuracy\": accuracy,\n",
    "        \"Precision\": precision,\n",
    "        \"Recall\": recall,\n",
    "        \"AUC\": auc,\n",
    "        \"Specificity\": specificity,\n",
    "        # \"NPV\": NPV\n",
    "    }\n",
    "    return results\n"
   ]
  },
  {
   "cell_type": "code",
   "execution_count": 3,
   "id": "d6105ca5-e03c-4a78-9f43-1e760c181474",
   "metadata": {},
   "outputs": [
    {
     "name": "stdout",
     "output_type": "stream",
     "text": [
      "Imports completed\n",
      "dataset created \n",
      "train test done!\n"
     ]
    }
   ],
   "source": [
    "print(\"Imports completed\")\n",
    "\n",
    "os.environ[\"WANDB_DISABLED\"] = \"true\"\n",
    "\n",
    "df0 = pd.read_csv(\"/home/u111169/wrkdir/mgh-project/ChemAP/dataset/DrugApp/All_training_feature_vectors.csv\")\n",
    "df=df0[[\"SMILES\",\t\"Label\"]]\n",
    "\n",
    "print(\"dataset created \")\n",
    "\n",
    "from sklearn.model_selection import train_test_split\n",
    "test_size = 0.2\n",
    "# val_size = 0.5\n",
    "train_df , test_df = train_test_split(df , stratify = df.Label , test_size = test_size , random_state=1234)\n",
    "\n",
    "print(\"train test done!\")"
   ]
  },
  {
   "cell_type": "code",
   "execution_count": 25,
   "id": "0de5b03b-ce4d-4873-84cb-1321041d3286",
   "metadata": {},
   "outputs": [],
   "source": [
    "a = [len(s) for s in df[\"SMILES\"]]"
   ]
  },
  {
   "cell_type": "code",
   "execution_count": 28,
   "id": "2a9c4bb5-330f-4754-b433-e4e5ffff9c44",
   "metadata": {},
   "outputs": [],
   "source": [
    "l = [] \n",
    "for i in a : \n",
    "    if i > 150: \n",
    "        l.append(i)"
   ]
  },
  {
   "cell_type": "code",
   "execution_count": 29,
   "id": "427a599e-7173-483c-b227-dd1b108fc3fd",
   "metadata": {},
   "outputs": [
    {
     "data": {
      "text/plain": [
       "0.08167841127482384"
      ]
     },
     "execution_count": 29,
     "metadata": {},
     "output_type": "execute_result"
    }
   ],
   "source": [
    "len(l)/len(a)"
   ]
  },
  {
   "cell_type": "code",
   "execution_count": 32,
   "id": "f788b0bd-8858-475f-8247-c0205fab1790",
   "metadata": {},
   "outputs": [
    {
     "data": {
      "text/plain": [
       "(array([2.878e+03, 1.820e+02, 2.900e+01, 1.600e+01, 9.000e+00, 3.000e+00,\n",
       "        1.000e+00, 1.000e+00, 1.000e+00, 2.000e+00]),\n",
       " array([   7. ,  155.3,  303.6,  451.9,  600.2,  748.5,  896.8, 1045.1,\n",
       "        1193.4, 1341.7, 1490. ]),\n",
       " <BarContainer object of 10 artists>)"
      ]
     },
     "execution_count": 32,
     "metadata": {},
     "output_type": "execute_result"
    },
    {
     "data": {
      "image/png": "[encoded data removed]",
      "text/plain": [
       "<Figure size 640x480 with 1 Axes>"
      ]
     },
     "metadata": {},
     "output_type": "display_data"
    }
   ],
   "source": [
    "import matplotlib.pyplot as plt\n",
    "\n",
    "plt.hist(a)"
   ]
  },
  {
   "cell_type": "markdown",
   "id": "9054afa8-f133-4d24-ba65-741bd69620e6",
   "metadata": {
    "jp-MarkdownHeadingCollapsed": true,
    "tags": []
   },
   "source": [
    "# Training the sentence transformers"
   ]
  },
  {
   "cell_type": "code",
   "execution_count": 31,
   "id": "e0d0fab7-93bb-4068-9046-465ec8650b63",
   "metadata": {},
   "outputs": [
    {
     "name": "stderr",
     "output_type": "stream",
     "text": [
      "No sentence-transformers model found with name /home/u111169/wrkdir/mgh-project/models/models--DeepChem--ChemBERTa-77m-MTR/snapshots/66b895cab8adebea0cb59a8effa66b2020f204ca. Creating a new one with mean pooling.\n",
      "Some weights of RobertaModel were not initialized from the model checkpoint at /home/u111169/wrkdir/mgh-project/models/models--DeepChem--ChemBERTa-77m-MTR/snapshots/66b895cab8adebea0cb59a8effa66b2020f204ca and are newly initialized: ['roberta.pooler.dense.bias', 'roberta.pooler.dense.weight']\n",
      "You should probably TRAIN this model on a down-stream task to be able to use it for predictions and inference.\n",
      "/home/u111169/.local/lib/python3.10/site-packages/transformers/training_args.py:1696: FutureWarning: `torchdynamo` is deprecated and will be removed in version 5 of 🤗 Transformers. Use `torch_compile_backend` instead\n",
      "  warnings.warn(\n",
      "The speedups for torchdynamo mostly come wih GPU Ampere or higher and which is not detected here.\n",
      "Using the `WANDB_DISABLED` environment variable is deprecated and will be removed in v5. Use the --report_to flag to control the integrations used for logging result (for instance --report_to none).\n"
     ]
    },
    {
     "name": "stdout",
     "output_type": "stream",
     "text": [
      "datasets are doubled and are ready for training\n",
      "Max Sequence Length: 512\n"
     ]
    }
   ],
   "source": [
    "# test_df , val_df = train_test_split(temp , stratify = temp.Label , test_size = val_size , random_state=1234)\n",
    "#-----------------------------------\n",
    "# reset index\n",
    "train_df.reset_index(drop=True, inplace=True)\n",
    "# val_df.reset_index(drop=True, inplace=True)\n",
    "test_df.reset_index(drop=True, inplace=True)\n",
    "\n",
    "def duable_maker_with_label(df):\n",
    "    pos_df = df[df[\"Label\"]==0][\"SMILES\"]\n",
    "    neg_df = df[df[\"Label\"]==1][\"SMILES\"]\n",
    "    elements = pos_df.tolist()\n",
    "    elements_neg = neg_df.tolist()\n",
    "    tuple_length = 2\n",
    "    unique_tuples = list(itertools.combinations(elements, tuple_length))\n",
    "    unique_tuples_neg = list(itertools.combinations(elements_neg, tuple_length))\n",
    "    ll = unique_tuples + unique_tuples_neg\n",
    "    df1 = pd.DataFrame(unique_tuples, columns=['Column1', 'Column2'])\n",
    "    df2 = pd.DataFrame(unique_tuples, columns=['Column1', 'Column2'])\n",
    "    combined_df = pd.concat([df1, df2], ignore_index=True)\n",
    "    combined_df[\"label\"]=1\n",
    "    unique_tuples = set(itertools.product(elements, elements_neg))\n",
    "    unique_tuples_list = list(unique_tuples)\n",
    "    df3 = pd.DataFrame(unique_tuples_list, columns=['Column1', 'Column2'])\n",
    "    df3[\"label\"]=0\n",
    "    combined_df_f = pd.concat([combined_df, df3], ignore_index=True)\n",
    "    return combined_df_f\n",
    "\n",
    "df_embed_d = duable_maker_with_label(train_df)\n",
    "train_df_d , val_df_d = train_test_split(df_embed_d , stratify = df_embed_d.label , test_size = 0.2 , random_state=1234)\n",
    "train_df_d.reset_index(drop=True, inplace=True)\n",
    "val_df_d.reset_index(drop=True, inplace=True)\n",
    "train_dataset = Dataset.from_pandas(train_df_d)\n",
    "val_dataset = Dataset.from_pandas(val_df_d)\n",
    "\n",
    "print(\"datasets are doubled and are ready for training\")\n",
    "\n",
    "# Load a model to train/finetune\n",
    "model = SentenceTransformer(\"/home/u111169/wrkdir/mgh-project/models/models--DeepChem--ChemBERTa-77m-MTR/snapshots/66b895cab8adebea0cb59a8effa66b2020f204ca\") # \"Muennighoff/SGPT-125M-weightedmean-nli-bitfit\" \"microsoft/mpnet-base\"\n",
    "print(\"Max Sequence Length:\", model.max_seq_length)\n",
    "\n",
    "loss = OnlineContrastiveLoss(model)\n",
    "\n",
    "args = SentenceTransformerTrainingArguments(\n",
    "    output_dir='/home/u111169/wrkdir/mgh-project/checkpoints',\n",
    "    seed = 42 ,\n",
    "    data_seed = 42,\n",
    "    do_eval=True,\n",
    "    do_train=True,\n",
    "    num_train_epochs= 10,\n",
    "    per_device_train_batch_size=64,\n",
    "    gradient_accumulation_steps=4,\n",
    "    per_device_eval_batch_size=128,\n",
    "    gradient_checkpointing=True ,\n",
    "    eval_accumulation_steps= 1,\n",
    "    eval_strategy = \"steps\",\n",
    "    #drop_last=False,\n",
    "    eval_steps=400,\n",
    "    eval_on_start= False,\n",
    "    weight_decay=0.01,\n",
    "    learning_rate=2e-3,\n",
    "    lr_scheduler_type='cosine',\n",
    "    warmup_steps=100,\n",
    "    logging_strategy = \"steps\",\n",
    "    logging_steps= 200 ,\n",
    "    save_strategy='steps',\n",
    "    save_total_limit = 4,\n",
    "    save_safetensors = False ,\n",
    "    #torch_empty_cache_steps= 60,\n",
    "    torchdynamo= \"eager\" ,\n",
    "    torch_compile= True,\n",
    ")"
   ]
  },
  {
   "cell_type": "code",
   "execution_count": 32,
   "id": "febb3a94-41c2-45d2-b1bd-0fed550d5b3b",
   "metadata": {},
   "outputs": [
    {
     "name": "stderr",
     "output_type": "stream",
     "text": [
      "Using the `WANDB_DISABLED` environment variable is deprecated and will be removed in v5. Use the --report_to flag to control the integrations used for logging result (for instance --report_to none).\n",
      "Detected kernel version 5.3.18, which is below the recommended minimum of 5.5.0; this can cause the process to hang. It is recommended to upgrade the kernel to the minimum version or higher.\n"
     ]
    },
    {
     "data": {
      "application/vnd.jupyter.widget-view+json": {
       "model_id": "",
       "version_major": 2,
       "version_minor": 0
      },
      "text/plain": [
       "Computing widget examples:   0%|          | 0/1 [00:00<?, ?example/s]"
      ]
     },
     "metadata": {},
     "output_type": "display_data"
    }
   ],
   "source": [
    "trainer = SentenceTransformerTrainer(\n",
    "    model=model,\n",
    "    args = args ,\n",
    "    train_dataset=train_dataset,\n",
    "    eval_dataset= val_dataset,\n",
    "    loss = loss\n",
    ")"
   ]
  },
  {
   "cell_type": "code",
   "execution_count": null,
   "id": "f0c23ef1-3729-40a0-b854-ff4b646b9a3e",
   "metadata": {},
   "outputs": [
    {
     "data": {
      "text/html": [
       "\n",
       "    <div>\n",
       "      \n",
       "      <progress value='401' max='70280' style='width:300px; height:20px; vertical-align: middle;'></progress>\n",
       "      [  401/70280 19:40 < 57:24:45, 0.34 it/s, Epoch 0.06/10]\n",
       "    </div>\n",
       "    <table border=\"1\" class=\"dataframe\">\n",
       "  <thead>\n",
       " <tr style=\"text-align: left;\">\n",
       "      <th>Step</th>\n",
       "      <th>Training Loss</th>\n",
       "      <th>Validation Loss</th>\n",
       "    </tr>\n",
       "  </thead>\n",
       "  <tbody>\n",
       "    <tr>\n",
       "      <td>200</td>\n",
       "      <td>2.863900</td>\n",
       "      <td>2.862875</td>\n",
       "    </tr>\n",
       "  </tbody>\n",
       "</table><p>\n",
       "    <div>\n",
       "      \n",
       "      <progress value='182' max='3514' style='width:300px; height:20px; vertical-align: middle;'></progress>\n",
       "      [ 182/3514 00:42 < 13:02, 4.26 it/s]\n",
       "    </div>\n",
       "    "
      ],
      "text/plain": [
       "<IPython.core.display.HTML object>"
      ]
     },
     "metadata": {},
     "output_type": "display_data"
    }
   ],
   "source": [
    "trainer.train()"
   ]
  },
  {
   "cell_type": "markdown",
   "id": "3eecabb4-0856-4759-9935-ae6c5d4b8136",
   "metadata": {
    "tags": []
   },
   "source": [
    "# sentence transformers inference"
   ]
  },
  {
   "cell_type": "code",
   "execution_count": 4,
   "id": "16ae7117-3d11-426a-84c0-1ee46ff1c028",
   "metadata": {},
   "outputs": [
    {
     "name": "stderr",
     "output_type": "stream",
     "text": [
      "/share/apps/eb/Anaconda3/2023.03-1/lib/python3.10/site-packages/torch/_utils.py:831: UserWarning: TypedStorage is deprecated. It will be removed in the future and UntypedStorage will be the only storage class. This should only matter to you if you are using storages directly.  To access UntypedStorage directly, use tensor.untyped_storage() instead of tensor.storage()\n",
      "  return self.fget.__get__(instance, owner)()\n",
      "Special tokens have been added in the vocabulary, make sure the associated word embeddings are fine-tuned or trained.\n"
     ]
    }
   ],
   "source": [
    "model = SentenceTransformer(\"/home/u111169/wrkdir/mgh-project/arxive/checkpoints-arxive/chemberta_sentence_transformers/checkpoint-57000\") # \"Muennighoff/SGPT-125M-weightedmean-nli-bitfit\" \"microsoft/mpnet-base\"\n"
   ]
  },
  {
   "cell_type": "code",
   "execution_count": 4,
   "id": "21dfb58d-fd9f-488b-9743-23108191f68d",
   "metadata": {},
   "outputs": [],
   "source": [
    "test_not = test_df[test_df[\"Label\"]==0][\"SMILES\"].tolist()\n",
    "test_app = test_df[test_df[\"Label\"]==1][\"SMILES\"].tolist()\n",
    "\n",
    "\n",
    "train_label = train_df[\"Label\"].tolist()\n",
    "test_label = test_df[\"Label\"].tolist()\n",
    "\n",
    "train_list =train_df[\"SMILES\"].tolist()\n",
    "test_list =test_df[\"SMILES\"].tolist()"
   ]
  },
  {
   "cell_type": "code",
   "execution_count": 5,
   "id": "af556610-6b57-4bae-b09a-872a5dd4d0fa",
   "metadata": {},
   "outputs": [],
   "source": [
    "external_d = [\n",
    "    \"Ogsiveo\",\n",
    "    \"Agamree\",\n",
    "    \"Velsipity\",\n",
    "    \"Exxua\",\n",
    "    \"Litfulo\",\n",
    "    \"Miebo\",\n",
    "    \"Veozah\",\n",
    "    \"Daybue\",\n",
    "    \"Zavzpret\",\n",
    "    \"Filspari\",\n",
    "    \"Orserdu\",\n",
    "    \"Fabhalta\",\n",
    "    \"Truqap\",\n",
    "    \"Augtyro\",\n",
    "    \"Vanflyta\",\n",
    "    \"Posluma\",\n",
    "    \"Paxlovid\",\n",
    "    \"Joenja\",\n",
    "    \"Skyclarys\",\n",
    "    \"Jaypirca\",\n",
    "    \"Lufotrelvir\",\n",
    "    \"Zandelisib\",\n",
    "    \"Alpelisib\",\n",
    "    \"AMG 337\",\n",
    "    \"Evobrutinib\",\n",
    "    \"Linperlisib\",\n",
    "    \"H3B-8800\",\n",
    "    \"Gamcemetinib\"\n",
    "]\n"
   ]
  },
  {
   "cell_type": "code",
   "execution_count": 43,
   "id": "6513646d-b7ab-4ab7-8f5a-ee7f05e21052",
   "metadata": {},
   "outputs": [],
   "source": [
    "ex_df = pd.read_csv(\"/home/u111169/wrkdir/mgh-project/ChemAP/dataset/processed_data/External/External.csv\")\n",
    "ex_df[\"Drug Name\"][0]=\"Fabhalta\"\n",
    "\n",
    "filtered_df = ex_df[ex_df['Drug Name'].isin(external_d)].reset_index(drop=True)\n",
    "\n",
    "filtered_df.to_csv(\"filtered_ex.csv\" , index=False)\n",
    "\n",
    "ex = filtered_df[\"SMILES\"].tolist()\n",
    "ex_label = filtered_df[\"Approval\"].tolist()"
   ]
  },
  {
   "cell_type": "code",
   "execution_count": 37,
   "id": "f2a32dfd-63a4-4662-b3e8-8e5518fe3856",
   "metadata": {},
   "outputs": [],
   "source": [
    "import torch\n",
    "\n",
    "from sentence_transformers import SentenceTransformer\n",
    "\n",
    "corpus = train_list\n",
    "corpus_embeddings = model.encode(corpus, convert_to_tensor=True)"
   ]
  },
  {
   "cell_type": "code",
   "execution_count": 45,
   "id": "b8bc253c-f2c2-4d1f-a673-2e324bffefb4",
   "metadata": {},
   "outputs": [],
   "source": [
    "embed_test = model.encode(ex, convert_to_tensor=False)#.numpy()"
   ]
  },
  {
   "cell_type": "code",
   "execution_count": 47,
   "id": "2097a8c2-db25-430b-9671-b5a045953929",
   "metadata": {},
   "outputs": [
    {
     "data": {
      "image/png": "[encoded data removed]",
      "text/plain": [
       "<Figure size 800x600 with 1 Axes>"
      ]
     },
     "metadata": {},
     "output_type": "display_data"
    }
   ],
   "source": [
    "import numpy as np\n",
    "from sklearn.decomposition import PCA\n",
    "from sklearn.preprocessing import StandardScaler\n",
    "import matplotlib.pyplot as plt\n",
    "\n",
    "\n",
    "tensors = embed_test#corpus_embeddings.numpy()\n",
    "labels = np.array(ex_label)#test_label\n",
    "\n",
    "scaler = StandardScaler()\n",
    "tensors_scaled = scaler.fit_transform(tensors)\n",
    "\n",
    "\n",
    "pca = PCA(n_components=2)\n",
    "principal_components = pca.fit_transform(tensors_scaled)\n",
    "\n",
    "plt.figure(figsize=(8, 6))\n",
    "plt.scatter(principal_components[:, 0], principal_components[:, 1], \n",
    "           c=labels, cmap='coolwarm', s=150, alpha=1, edgecolor='face')  # Add alpha=0.5 for transparency\n",
    "plt.title('PCA Visualization of Tensors', fontsize=14)\n",
    "plt.xlabel('PC 1', fontsize=12)\n",
    "plt.ylabel('PCt 2', fontsize=12)\n",
    "plt.grid(True)\n",
    "plt.show()"
   ]
  },
  {
   "cell_type": "code",
   "execution_count": 59,
   "id": "6ab284ce-5de3-4ca9-b574-1b04225ae213",
   "metadata": {},
   "outputs": [
    {
     "data": {
      "image/png": "[encoded data removed]",
      "text/plain": [
       "<Figure size 800x600 with 1 Axes>"
      ]
     },
     "metadata": {},
     "output_type": "display_data"
    }
   ],
   "source": [
    "tensors = corpus_embeddings.cpu().numpy()\n",
    "labels = np.array(train_label)#test_label\n",
    "\n",
    "scaler = StandardScaler()\n",
    "tensors_scaled = scaler.fit_transform(tensors)\n",
    "\n",
    "\n",
    "pca = PCA(n_components=2)\n",
    "principal_components = pca.fit_transform(tensors_scaled)\n",
    "\n",
    "plt.figure(figsize=(8, 6))\n",
    "plt.scatter(principal_components[:, 0], principal_components[:, 1], \n",
    "           c=labels, cmap='coolwarm', s=150, alpha=1, edgecolor='face')  # Add alpha=0.5 for transparency\n",
    "plt.title('PCA Visualization of Tensors', fontsize=14)\n",
    "plt.xlabel('PC 1', fontsize=12)\n",
    "plt.ylabel('PCt 2', fontsize=12)\n",
    "plt.grid(True)\n",
    "plt.show()"
   ]
  },
  {
   "cell_type": "code",
   "execution_count": 76,
   "id": "3fcef90c-83ed-48ff-b5a7-61fcdd8cf571",
   "metadata": {},
   "outputs": [
    {
     "name": "stdout",
     "output_type": "stream",
     "text": [
      "Epoch [10/100], Loss: 0.0\n",
      "Epoch [20/100], Loss: 0.0\n",
      "Epoch [30/100], Loss: 0.0\n",
      "Epoch [40/100], Loss: 0.0\n",
      "Epoch [50/100], Loss: 0.0\n",
      "Epoch [60/100], Loss: 0.0\n",
      "Epoch [70/100], Loss: 0.0\n",
      "Epoch [80/100], Loss: 0.0\n",
      "Epoch [90/100], Loss: 0.0\n",
      "Epoch [100/100], Loss: 0.0\n"
     ]
    }
   ],
   "source": [
    "# Import required libraries\n",
    "import numpy as np\n",
    "import torch\n",
    "from sklearn.tree import DecisionTreeClassifier\n",
    "\n",
    "tensors = corpus_embeddings#.numpy()\n",
    "labels =torch.tensor(train_label)# np.array(train_label)\n",
    "\n",
    "# cls = DecisionTreeClassifier(\n",
    "#     max_depth=10000,  # Maximum depth of the tree\n",
    "#     random_state=42  # For reproducibility\n",
    "# )\n",
    "\n",
    "\n",
    "# cls.fit(tensors, labels)\n",
    "import torch\n",
    "import torch.nn as nn\n",
    "import torch.optim as optim\n",
    "from torch.utils.data import Dataset, DataLoader\n",
    "\n",
    "# Assuming your tensors and labels are already in numpy format\n",
    "# Convert numpy arrays to PyTorch tensors\n",
    "X_train =tensors# torch.from_numpy(tensors).float()\n",
    "y_train =labels# torch.from_numpy(labels).long()\n",
    "\n",
    "# Create a custom dataset class\n",
    "class TextDataset(Dataset):\n",
    "    def __init__(self, X, y):\n",
    "        self.X = X\n",
    "        self.y = y\n",
    "        self.len = X.shape[0]\n",
    "        \n",
    "    def __getitem__(self, index):\n",
    "        return self.X[index], self.y[index]\n",
    "    \n",
    "    def __len__(self):\n",
    "        return self.len\n",
    "\n",
    "# Create dataset and dataloader\n",
    "train_dataset = TextDataset(X_train, y_train)\n",
    "train_loader = DataLoader(train_dataset, batch_size=32, shuffle=True)\n",
    "\n",
    "# Define the deep MLP\n",
    "class DeepMLP(nn.Module):\n",
    "    def __init__(self, input_dim, output_dim):\n",
    "        super(DeepMLP, self).__init__()\n",
    "        self.layer1 = nn.Linear(input_dim, 512)\n",
    "        self.relu1 = nn.ReLU()\n",
    "        self.dropout1 = nn.Dropout(0.3)\n",
    "        #self.bn1 = nn.BatchNorm1d(512)\n",
    "        \n",
    "        self.layer2 = nn.Linear(512, 512)\n",
    "        self.relu2 = nn.ReLU()\n",
    "        self.dropout2 = nn.Dropout(0.3)\n",
    "        #self.bn2 = nn.BatchNorm1d(512)\n",
    "        \n",
    "        self.layer3 = nn.Linear(512, 512)\n",
    "        self.relu3 = nn.ReLU()\n",
    "        self.dropout3 = nn.Dropout(0.3)\n",
    "        #self.bn3 = nn.BatchNorm1d(512)\n",
    "        \n",
    "        self.layer4 = nn.Linear(512, output_dim)\n",
    "    \n",
    "    def forward(self, x):\n",
    "        x = self.relu1(self.layer1(x))\n",
    "        x = self.dropout1(x)\n",
    "        #x = self.bn1(x)\n",
    "        \n",
    "        x = self.relu2(self.layer2(x))\n",
    "        x = self.dropout2(x)\n",
    "       # x = self.bn2(x)\n",
    "        \n",
    "        x = self.relu3(self.layer3(x))\n",
    "        x = self.dropout3(x)\n",
    "        #x = self.bn3(x)\n",
    "        \n",
    "        x = self.layer4(x)\n",
    "        return x\n",
    "\n",
    "# Initialize the model\n",
    "input_dim = tensors.shape[1]\n",
    "output_dim = len(np.unique(labels))  # For classification\n",
    "model = DeepMLP(input_dim, output_dim)\n",
    "\n",
    "# Define the loss function and optimizer\n",
    "criterion = nn.CrossEntropyLoss()\n",
    "optimizer = optim.Adam(model.parameters(), lr=0.001)\n",
    "\n",
    "# Training loop\n",
    "num_epochs = 100\n",
    "for epoch in range(num_epochs):\n",
    "    model.train()\n",
    "    for inputs, labels in train_loader:\n",
    "        # Zero the gradients\n",
    "        optimizer.zero_grad()\n",
    "        \n",
    "        # Forward pass\n",
    "        outputs = model(inputs)\n",
    "        \n",
    "        # Compute loss\n",
    "        loss = criterion(outputs, labels)\n",
    "        \n",
    "        # Backward pass and optimize\n",
    "        loss.backward()\n",
    "        optimizer.step()\n",
    "    \n",
    "    # Print statistics\n",
    "    if (epoch+1)%10==0:\n",
    "        print(f'Epoch [{epoch+1}/{num_epochs}], Loss: {loss.item()}')"
   ]
  },
  {
   "cell_type": "code",
   "execution_count": null,
   "id": "cf5b3a49-3ce8-4877-ac4b-29c1d641f7da",
   "metadata": {},
   "outputs": [],
   "source": []
  },
  {
   "cell_type": "code",
   "execution_count": 80,
   "id": "7f4113f7-7bd0-45f5-8f49-91f2768dedc4",
   "metadata": {},
   "outputs": [
    {
     "name": "stdout",
     "output_type": "stream",
     "text": [
      "Total correct examples: 438\n",
      "Total incorrect examples: 187\n"
     ]
    }
   ],
   "source": [
    "# Example evaluation (assuming you have a validation set)\n",
    "# Convert validation data to PyTorch tensors\n",
    "X_val = torch.from_numpy(embed_test).float()\n",
    "y_val = torch.tensor(test_df[\"Label\"].tolist()).long()\n",
    "valid_dataset = TextDataset(X_val, y_val)\n",
    "valid_loader = DataLoader(valid_dataset, batch_size=32, shuffle=False)\n",
    "\n",
    "model.eval()\n",
    "y_pred = []\n",
    "total_correct = 0\n",
    "total_incorrect = 0\n",
    "\n",
    "with torch.no_grad():\n",
    "    for inputs, labels in valid_loader:\n",
    "        outputs = model(inputs)\n",
    "        _, predicted = torch.max(outputs.data, 1)\n",
    "        for i in range(len(predicted)):\n",
    "            actual_label = labels[i].item()\n",
    "            predicted_label = predicted[i].item()\n",
    "            y_pred.append(predicted_label)\n",
    "            if predicted_label == actual_label:\n",
    "                total_correct += 1\n",
    "            else:\n",
    "                total_incorrect += 1\n",
    "\n",
    "# Now you have:\n",
    "# - correct_examples: List of dictionaries containing the input, actual label, and predicted label for correct predictions.\n",
    "# - incorrect_examples: List of dictionaries containing the input, actual label, and predicted label for incorrect predictions.\n",
    "\n",
    "print(f\"Total correct examples: {total_correct}\")\n",
    "print(f\"Total incorrect examples: {total_incorrect}\")"
   ]
  },
  {
   "cell_type": "code",
   "execution_count": 57,
   "id": "ab7c0892-a64a-4f93-a0ee-f045d42670f5",
   "metadata": {},
   "outputs": [],
   "source": [
    "y_pred = cls.predict(embed_test)\n",
    "    "
   ]
  },
  {
   "cell_type": "code",
   "execution_count": 60,
   "id": "7ffd492c-6c71-4fb2-8b6b-b4e5504f7ece",
   "metadata": {},
   "outputs": [],
   "source": [
    "top_k = min(10, len(corpus))\n",
    "F_result = []\n",
    "\n",
    "for query in ex: \n",
    "    query_embedding = model.encode(query, convert_to_tensor=True)\n",
    "    similarity_scores = model.similarity(query_embedding, corpus_embeddings)[0]\n",
    "    scores, indices = torch.topk(similarity_scores, k=top_k)\n",
    "    L = []\n",
    "    for indx in indices: \n",
    "        L.append(train_df[train_df[\"SMILES\"]==corpus[indx]][\"Label\"].tolist()[0])\n",
    "        count_of_ones = L.count(1)\n",
    "    if count_of_ones > len(L) / 2:\n",
    "        F_result.append(1)\n",
    "    else: \n",
    "        F_result.append(0)"
   ]
  },
  {
   "cell_type": "code",
   "execution_count": 49,
   "id": "b2288ac3-ca4d-4461-93f7-f266d607cb8f",
   "metadata": {},
   "outputs": [],
   "source": [
    "test_label =test_df[\"Label\"].tolist()"
   ]
  },
  {
   "cell_type": "code",
   "execution_count": 61,
   "id": "e2cc43da-244f-4d94-b4ee-2d656ad38552",
   "metadata": {},
   "outputs": [
    {
     "data": {
      "text/plain": [
       "([0,\n",
       "  0,\n",
       "  0,\n",
       "  0,\n",
       "  1,\n",
       "  1,\n",
       "  0,\n",
       "  0,\n",
       "  0,\n",
       "  1,\n",
       "  0,\n",
       "  0,\n",
       "  0,\n",
       "  0,\n",
       "  0,\n",
       "  0,\n",
       "  0,\n",
       "  0,\n",
       "  0,\n",
       "  0,\n",
       "  1,\n",
       "  0,\n",
       "  1,\n",
       "  0,\n",
       "  0,\n",
       "  0,\n",
       "  0,\n",
       "  0],\n",
       " [1,\n",
       "  1,\n",
       "  1,\n",
       "  1,\n",
       "  1,\n",
       "  1,\n",
       "  1,\n",
       "  1,\n",
       "  1,\n",
       "  1,\n",
       "  1,\n",
       "  1,\n",
       "  1,\n",
       "  1,\n",
       "  1,\n",
       "  1,\n",
       "  1,\n",
       "  1,\n",
       "  1,\n",
       "  1,\n",
       "  0,\n",
       "  0,\n",
       "  0,\n",
       "  0,\n",
       "  0,\n",
       "  0,\n",
       "  0,\n",
       "  0])"
      ]
     },
     "execution_count": 61,
     "metadata": {},
     "output_type": "execute_result"
    }
   ],
   "source": [
    "F_result,ex_label"
   ]
  },
  {
   "cell_type": "code",
   "execution_count": 62,
   "id": "d9ca509d-5ef1-4efb-bf9f-aeb5d0ca60fd",
   "metadata": {},
   "outputs": [
    {
     "data": {
      "text/plain": [
       "{'F1 score': 0.24,\n",
       " 'Accuracy': 0.32142857142857145,\n",
       " 'Precision': 0.6,\n",
       " 'Recall': 0.15,\n",
       " 'AUC': 0.44999999999999996,\n",
       " 'Specificity': 0.75}"
      ]
     },
     "execution_count": 62,
     "metadata": {},
     "output_type": "execute_result"
    }
   ],
   "source": [
    "evaluate(ex_label ,F_result)"
   ]
  },
  {
   "cell_type": "markdown",
   "id": "1416a169-d04f-4f73-a3a0-13e284f46708",
   "metadata": {
    "tags": []
   },
   "source": [
    "# Chemberta"
   ]
  },
  {
   "cell_type": "code",
   "execution_count": 4,
   "id": "a821e7ae-ebc3-4eae-a900-51c2a7af633a",
   "metadata": {},
   "outputs": [],
   "source": [
    "# Imports\n",
    "import pandas as pd\n",
    "from datasets import load_dataset , Dataset\n",
    "from transformers import RobertaTokenizer , RobertaForSequenceClassification , TrainingArguments , Trainer,TrainerCallback,AutoModelForSequenceClassification,AutoTokenizer\n",
    "from sklearn.metrics import precision_recall_fscore_support , accuracy_score\n",
    "import torch\n",
    "import numpy as np\n",
    "import torch.nn as nn\n",
    "import numpy as np\n",
    "from datasets import Dataset, Features, Value,Sequence"
   ]
  },
  {
   "cell_type": "code",
   "execution_count": 5,
   "id": "d6f36243-5df0-4d38-99dc-b47f3068cc09",
   "metadata": {},
   "outputs": [
    {
     "name": "stderr",
     "output_type": "stream",
     "text": [
      "/tmp/ipykernel_7793/3336064996.py:1: SettingWithCopyWarning: \n",
      "A value is trying to be set on a copy of a slice from a DataFrame\n",
      "\n",
      "See the caveats in the documentation: https://pandas.pydata.org/pandas-docs/stable/user_guide/indexing.html#returning-a-view-versus-a-copy\n",
      "  df.rename(columns={\"Label\":\"labels\"}, inplace=True)\n"
     ]
    }
   ],
   "source": [
    "df.rename(columns={\"Label\":\"labels\"}, inplace=True)\n",
    "\n",
    "test_size = 0.2\n",
    "val_size = 0.5\n",
    "train_df , temp = train_test_split(df , stratify = df.labels , test_size = test_size , random_state=1234)\n",
    "test_df , val_df = train_test_split(temp , stratify = temp.labels , test_size = val_size , random_state=1234)\n",
    "#-----------------------------------\n",
    "# reset index\n",
    "train_df.reset_index(drop=True, inplace=True)\n",
    "val_df.reset_index(drop=True, inplace=True)\n",
    "test_df.reset_index(drop=True, inplace=True)"
   ]
  },
  {
   "cell_type": "code",
   "execution_count": 65,
   "id": "d0dcefd5-b1b7-4c3f-9912-b6823295096d",
   "metadata": {},
   "outputs": [
    {
     "data": {
      "application/vnd.jupyter.widget-view+json": {
       "model_id": "b6ca7622977a4d6a869dca4f63efa708",
       "version_major": 2,
       "version_minor": 0
      },
      "text/plain": [
       "Map:   0%|          | 0/2497 [00:00<?, ? examples/s]"
      ]
     },
     "metadata": {},
     "output_type": "display_data"
    },
    {
     "data": {
      "application/vnd.jupyter.widget-view+json": {
       "model_id": "d430bb8aced64526a52dff579cbfadda",
       "version_major": 2,
       "version_minor": 0
      },
      "text/plain": [
       "Map:   0%|          | 0/313 [00:00<?, ? examples/s]"
      ]
     },
     "metadata": {},
     "output_type": "display_data"
    },
    {
     "data": {
      "application/vnd.jupyter.widget-view+json": {
       "model_id": "dceba6f8ee9c4f269dcbe5151cf85b9c",
       "version_major": 2,
       "version_minor": 0
      },
      "text/plain": [
       "Map:   0%|          | 0/312 [00:00<?, ? examples/s]"
      ]
     },
     "metadata": {},
     "output_type": "display_data"
    },
    {
     "data": {
      "application/vnd.jupyter.widget-view+json": {
       "model_id": "2f577b77d7a24c16864d77c2f73cbcd2",
       "version_major": 2,
       "version_minor": 0
      },
      "text/plain": [
       "Map:   0%|          | 0/28 [00:00<?, ? examples/s]"
      ]
     },
     "metadata": {},
     "output_type": "display_data"
    }
   ],
   "source": [
    "\n",
    "#-----------------------------------\n",
    "# convert the dataframes to huggingface dataset for easier upload on hub and eaiser accessibility\n",
    "dataset_train = Dataset.from_pandas(train_df)\n",
    "dataset_df = Dataset.from_pandas(val_df)\n",
    "dataset_test = Dataset.from_pandas(test_df)\n",
    "dataset_ex = Dataset.from_pandas(filtered_df)\n",
    "\n",
    "#tokenizer = AutoTokenizer.from_pretrained(\"google-bert/bert-base-uncased\")#'FacebookAI/xlm-roberta-large'\n",
    "tokenizer = RobertaTokenizer.from_pretrained(\"DeepChem/ChemBERTa-77M-MTR\")#'FacebookAI/xlm-roberta-large'\n",
    "\n",
    "\n",
    "def tokenize_function(examples):\n",
    "    return tokenizer(examples['SMILES'], padding=\"max_length\" , truncation=True )#,max_length=166\n",
    "\n",
    "tokenized_train = dataset_train.map(tokenize_function)\n",
    "tokenized_val = dataset_df.map(tokenize_function)\n",
    "tokenized_test = dataset_test.map(tokenize_function)\n",
    "tokenized_ex = dataset_ex.map(tokenize_function)"
   ]
  },
  {
   "cell_type": "code",
   "execution_count": 12,
   "id": "679140ee-6502-4b19-9e70-4248e3750b7c",
   "metadata": {},
   "outputs": [],
   "source": [
    "device = torch.device(\"cuda\" if torch.cuda.is_available() else \"cpu\")\n",
    "class_weights = torch.tensor([len(train_df[train_df[\"labels\"] == i]) / len(train_df) for i in np.unique(train_df[\"labels\"])]).to(device)\n",
    "#class_weights = torch.tensor([0.25,0.25,0.25,0.25]).to(device)\n",
    "\n",
    "class CustomLoss(nn.Module):\n",
    "    def __init__(self, class_weights):\n",
    "        super(CustomLoss, self).__init__()\n",
    "        self.ce_loss = nn.CrossEntropyLoss(weight=class_weights)\n",
    "\n",
    "    def forward(self, logits, labels):\n",
    "        ce_loss = self.ce_loss(logits, labels)\n",
    "        l1_loss = torch.mean(torch.abs(logits))\n",
    "        return ce_loss + 0.01 * l1_loss\n",
    "\n",
    "class CustomTrainer(Trainer):\n",
    "    def compute_loss(self, model, inputs, return_outputs=False, num_items_in_batch=None):\n",
    "        labels = inputs.pop(\"labels\")\n",
    "        outputs = model(**inputs)\n",
    "        logits = outputs.logits\n",
    "        loss_fn = CustomLoss(class_weights)\n",
    "        loss = loss_fn(logits, labels)\n",
    "        return (loss, outputs) if return_outputs else loss"
   ]
  },
  {
   "cell_type": "code",
   "execution_count": 17,
   "id": "fe78b749-f5d9-4495-9b8a-c143f3987776",
   "metadata": {},
   "outputs": [
    {
     "name": "stderr",
     "output_type": "stream",
     "text": [
      "Some weights of RobertaForSequenceClassification were not initialized from the model checkpoint at /home/u111169/.cache/huggingface/hub/models--DeepChem--ChemBERTa-77M-MTR/snapshots/66b895cab8adebea0cb59a8effa66b2020f204ca and are newly initialized: ['classifier.dense.bias', 'classifier.dense.weight', 'classifier.out_proj.bias', 'classifier.out_proj.weight']\n",
      "You should probably TRAIN this model on a down-stream task to be able to use it for predictions and inference.\n"
     ]
    }
   ],
   "source": [
    "model_name =\"DeepChem/ChemBERTa-77M-MTR\"# \"FacebookAI/xlm-roberta-large\"\"google-bert/bert-base-uncased\"\n",
    "import os\n",
    "os.environ[\"WANDB_DISABLED\"] = \"true\"\n",
    "model = RobertaForSequenceClassification.from_pretrained(\"/home/u111169/.cache/huggingface/hub/models--DeepChem--ChemBERTa-77M-MTR/snapshots/66b895cab8adebea0cb59a8effa66b2020f204ca\" ,num_labels=2)\n",
    "model.config.classifier_dropout=0.01"
   ]
  },
  {
   "cell_type": "code",
   "execution_count": null,
   "id": "3eaf7abc-26b4-492d-9333-4453e205e832",
   "metadata": {},
   "outputs": [],
   "source": [
    "from transformers import EarlyStoppingCallback\n",
    "training_args = TrainingArguments(\n",
    "    output_dir='/home/u111169/wrkdir/mgh-project/checkpoints/fine_tuning_chemberta_classic_way',\n",
    "    num_train_epochs= 5,\n",
    "    evaluation_strategy='steps',\n",
    "    save_strategy='steps',\n",
    "    learning_rate=2e-3,\n",
    "    per_device_train_batch_size=2,\n",
    "    per_device_eval_batch_size=2,\n",
    "    eval_steps=20,\n",
    "    #save_total_limit=3,\n",
    "    gradient_accumulation_steps=1,\n",
    "    eval_accumulation_steps=1,\n",
    "    do_eval=True,\n",
    "    do_train=True,\n",
    "    weight_decay=0.1,\n",
    "    logging_dir = \"logs\",\n",
    "    logging_strategy=\"steps\",\n",
    "    logging_steps = 10,\n",
    "    dataloader_drop_last=True,\n",
    "    save_safetensors=False,\n",
    "    adam_epsilon=1e-08,\n",
    "    warmup_steps=100,\n",
    "    seed=42,\n",
    "    lr_scheduler_type='cosine',\n",
    "    load_best_model_at_end = True,\n",
    "    label_smoothing_factor=0.01,\n",
    ")\n",
    "trainer = CustomTrainer(\n",
    "    model=model,\n",
    "    args=training_args,\n",
    "    train_dataset=tokenized_train,\n",
    "    eval_dataset=tokenized_val,\n",
    "    tokenizer = tokenizer,\n",
    "    callbacks=[EarlyStoppingCallback(early_stopping_patience=2)]\n",
    "\n",
    ")\n",
    "trainer.train()"
   ]
  },
  {
   "cell_type": "code",
   "execution_count": 1,
   "id": "d664a5a2-d249-4c67-bd98-1cb2fd9ef790",
   "metadata": {},
   "outputs": [
    {
     "data": {
      "image/png": "[encoded data removed]",
      "text/plain": [
       "<Figure size 640x480 with 1 Axes>"
      ]
     },
     "metadata": {},
     "output_type": "display_data"
    }
   ],
   "source": [
    "# Drawing the loss plot\n",
    "\n",
    "import json\n",
    "import matplotlib.pyplot as plt\n",
    "\n",
    "# Step 1: Open and load the JSON file\n",
    "with open(\"/home/u111169/wrkdir/mgh-project/arxive/checkpoints-arxive/fine_tuning_chemberta_classic_way/trainer-not-custom/checkpoint-585/trainer_state.json\", \"r\") as json_file:\n",
    "    json_data = json.load(json_file)\n",
    "\n",
    "data = json_data[\"log_history\"]\n",
    "\n",
    "\n",
    "\n",
    "# Extract steps and losses from the data\n",
    "steps = [entry[\"step\"] for entry in data if \"step\" in entry and \"loss\" in entry]\n",
    "steps_ev = [step for step in steps if step % 20 == 0]\n",
    "losses_t = [entry[\"loss\"] for entry in data if \"step\" in entry and \"loss\" in entry]\n",
    "losses_e = [entry[\"eval_loss\"] for entry in data if \"step\" in entry and \"eval_loss\" in entry]\n",
    "# Create a line plot\n",
    "plt.plot(steps, losses_t, marker=\"o\")\n",
    "plt.plot(steps_ev, losses_e, marker=\"o\")\n",
    "\n",
    "# Set labels and title\n",
    "plt.xlabel(\"Steps\")\n",
    "plt.ylabel(\"Loss\")\n",
    "plt.title(\"Training and eval Loss\")\n",
    "\n",
    "plt.savefig(\"plot.png\", bbox_inches=\"tight\")\n",
    "# Display the plot\n",
    "plt.show()"
   ]
  },
  {
   "cell_type": "code",
   "execution_count": 67,
   "id": "65d9a09f-96d1-4530-a36a-58498e192fac",
   "metadata": {},
   "outputs": [
    {
     "data": {
      "application/vnd.jupyter.widget-view+json": {
       "model_id": "df1980c5109343498397ee2601c3f319",
       "version_major": 2,
       "version_minor": 0
      },
      "text/plain": [
       "Map:   0%|          | 0/28 [00:00<?, ? examples/s]"
      ]
     },
     "metadata": {},
     "output_type": "display_data"
    }
   ],
   "source": [
    "import pandas as pd\n",
    "\n",
    "device = torch.device(\"cuda\" if torch.cuda.is_available() else \"cpu\")\n",
    "model = AutoModelForSequenceClassification.from_pretrained(\"/home/u111169/wrkdir/mgh-project/arxive/checkpoints-arxive/fine_tuning_chemberta_classic_way/trainer-not-custom/checkpoint-585\" ,num_labels=2)\n",
    "model.to(device)\n",
    "model.eval()\n",
    "\n",
    "def preprocess_and_predict(examples):\n",
    "    inputs = tokenizer(examples['SMILES'], return_tensors='pt', padding=True, truncation = True)\n",
    "    inputs = inputs.to(device)\n",
    "    outputs = model(**inputs)\n",
    "    predicted_class_idx = torch.argmax(outputs.logits)\n",
    "    predicted_class_prob = torch.nn.functional.softmax(outputs.logits, dim=1)[0][predicted_class_idx]\n",
    "    predicted_class_idx = predicted_class_idx.cpu()  # Move tensors to CPU\n",
    "    predicted_class_prob = predicted_class_prob.cpu()\n",
    "    return {\n",
    "        'predicted_class': predicted_class_idx,\n",
    "        'predicted_class_prob': predicted_class_prob\n",
    "    }\n",
    "\n",
    "test = tokenized_ex.map(preprocess_and_predict, batch_size=8 , writer_batch_size=8)\n",
    "results_df = test.to_pandas()\n",
    "from sklearn.metrics import accuracy_score, f1_score, precision_score, recall_score,roc_auc_score\n",
    "\n",
    "y_true = results_df['Approval'].tolist()\n",
    "y_pred = results_df['predicted_class'].tolist()\n"
   ]
  },
  {
   "cell_type": "code",
   "execution_count": 68,
   "id": "d6d39aa5-fe2f-483c-8c86-db9b8b15799e",
   "metadata": {},
   "outputs": [
    {
     "data": {
      "text/plain": [
       "{'F1 score': 0.6666666666666667,\n",
       " 'Accuracy': 0.6071428571428571,\n",
       " 'Precision': 0.8461538461538461,\n",
       " 'Recall': 0.55,\n",
       " 'AUC': 0.65,\n",
       " 'Specificity': 0.75}"
      ]
     },
     "execution_count": 68,
     "metadata": {},
     "output_type": "execute_result"
    }
   ],
   "source": [
    "evaluate(y_true ,y_pred )"
   ]
  },
  {
   "cell_type": "code",
   "execution_count": 69,
   "id": "a54ca80b-74e7-4eef-867c-51d831e78bc9",
   "metadata": {},
   "outputs": [
    {
     "data": {
      "text/plain": [
       "([1,\n",
       "  1,\n",
       "  1,\n",
       "  1,\n",
       "  1,\n",
       "  1,\n",
       "  1,\n",
       "  1,\n",
       "  1,\n",
       "  1,\n",
       "  1,\n",
       "  1,\n",
       "  1,\n",
       "  1,\n",
       "  1,\n",
       "  1,\n",
       "  1,\n",
       "  1,\n",
       "  1,\n",
       "  1,\n",
       "  0,\n",
       "  0,\n",
       "  0,\n",
       "  0,\n",
       "  0,\n",
       "  0,\n",
       "  0,\n",
       "  0],\n",
       " [0,\n",
       "  1,\n",
       "  1,\n",
       "  0,\n",
       "  1,\n",
       "  0,\n",
       "  0,\n",
       "  1,\n",
       "  1,\n",
       "  1,\n",
       "  1,\n",
       "  1,\n",
       "  1,\n",
       "  0,\n",
       "  0,\n",
       "  1,\n",
       "  0,\n",
       "  0,\n",
       "  1,\n",
       "  0,\n",
       "  0,\n",
       "  1,\n",
       "  0,\n",
       "  0,\n",
       "  0,\n",
       "  0,\n",
       "  0,\n",
       "  1])"
      ]
     },
     "execution_count": 69,
     "metadata": {},
     "output_type": "execute_result"
    }
   ],
   "source": [
    "(y_true ,y_pred )"
   ]
  },
  {
   "cell_type": "markdown",
   "id": "2b7904c5-6414-4cba-bbd8-7f894b4b83f8",
   "metadata": {},
   "source": [
    "# XGBoost"
   ]
  },
  {
   "cell_type": "code",
   "execution_count": 11,
   "id": "3050b523-bc46-49c0-a17c-ff3ea58ad085",
   "metadata": {},
   "outputs": [],
   "source": [
    "import pandas as pd\n",
    "import numpy as np\n",
    "from rdkit import Chem\n",
    "from rdkit.Chem import AllChem\n",
    "from rdkit.Chem import Draw\n",
    "from rdkit.Chem import RDKFingerprint\n",
    "from rdkit.Avalon.pyAvalonTools import GetAvalonFP"
   ]
  },
  {
   "cell_type": "code",
   "execution_count": 12,
   "id": "b5d4755a-bd47-4098-a00b-62aa35b01711",
   "metadata": {},
   "outputs": [
    {
     "name": "stderr",
     "output_type": "stream",
     "text": [
      "/tmp/ipykernel_7793/3441131338.py:6: SettingWithCopyWarning: \n",
      "A value is trying to be set on a copy of a slice from a DataFrame.\n",
      "Try using .loc[row_indexer,col_indexer] = value instead\n",
      "\n",
      "See the caveats in the documentation: https://pandas.pydata.org/pandas-docs/stable/user_guide/indexing.html#returning-a-view-versus-a-copy\n",
      "  df[\"MACCS\"] = df[\"SMILES\"].map(maccs)\n"
     ]
    }
   ],
   "source": [
    "def maccs(smile):\n",
    "    mol = Chem.MolFromSmiles(smile)\n",
    "    fp = AllChem.GetMACCSKeysFingerprint(mol)\n",
    "    maccs_keys = fp.ToBitString()\n",
    "    return maccs_keys\n",
    "df[\"MACCS\"] = df[\"SMILES\"].map(maccs)\n",
    "df=df[[\"MACCS\" , \"labels\"]]"
   ]
  },
  {
   "cell_type": "code",
   "execution_count": 15,
   "id": "46ba37ed-5686-4589-b942-700b58a9a417",
   "metadata": {},
   "outputs": [],
   "source": [
    "# train_df[\"MACCS\"] = train_df[\"SMILES\"].map(maccs)\n",
    "# test_df[\"MACCS\"] = test_df[\"SMILES\"].map(maccs)"
   ]
  },
  {
   "cell_type": "code",
   "execution_count": 16,
   "id": "6cc8dfb5-4a84-4385-8dcf-f78202128bd8",
   "metadata": {},
   "outputs": [],
   "source": [
    "# def converter(df):\n",
    "#     ll  = []\n",
    "#     for i in df[\"MACCS\"].tolist():\n",
    "#         ll.append(i)\n",
    "#     X_arr = np.array(ll)\n",
    "#     return X_arr\n",
    "\n",
    "# X_arr = converter(train_df)\n",
    "# y_arr = np.array(train_df[\"labels\"])\n",
    "\n",
    "# X_arr_v = converter(test_df)\n",
    "# y_arr_v= np.array(test_df[\"labels\"])"
   ]
  },
  {
   "cell_type": "code",
   "execution_count": 17,
   "id": "75aec6ae-34c0-4b4c-be15-5a0de00a6c4c",
   "metadata": {},
   "outputs": [
    {
     "ename": "ModuleNotFoundError",
     "evalue": "No module named 'xgboost'",
     "output_type": "error",
     "traceback": [
      "\u001b[0;31m---------------------------------------------------------------------------\u001b[0m",
      "\u001b[0;31mModuleNotFoundError\u001b[0m                       Traceback (most recent call last)",
      "Cell \u001b[0;32mIn[17], line 1\u001b[0m\n\u001b[0;32m----> 1\u001b[0m \u001b[38;5;28;01mfrom\u001b[39;00m \u001b[38;5;21;01mxgboost\u001b[39;00m \u001b[38;5;28;01mimport\u001b[39;00m XGBClassifier\n\u001b[1;32m      3\u001b[0m bst \u001b[38;5;241m=\u001b[39m XGBClassifier(\n\u001b[1;32m      4\u001b[0m     max_depth\u001b[38;5;241m=\u001b[39m\u001b[38;5;241m30\u001b[39m,\n\u001b[1;32m      5\u001b[0m     n_estimators\u001b[38;5;241m=\u001b[39m\u001b[38;5;241m500\u001b[39m,\n\u001b[0;32m   (...)\u001b[0m\n\u001b[1;32m     12\u001b[0m     reg_lambda\u001b[38;5;241m=\u001b[39m\u001b[38;5;241m1\u001b[39m              \u001b[38;5;66;03m# L2 regularization\u001b[39;00m\n\u001b[1;32m     13\u001b[0m )\n\u001b[1;32m     14\u001b[0m \u001b[38;5;66;03m# fit model\u001b[39;00m\n",
      "\u001b[0;31mModuleNotFoundError\u001b[0m: No module named 'xgboost'"
     ]
    }
   ],
   "source": [
    "# from xgboost import XGBClassifier\n",
    "\n",
    "# bst = XGBClassifier(\n",
    "#     max_depth=30,\n",
    "#     n_estimators=500,\n",
    "#     learning_rate=0.05,      # Lower learning rate for better convergence\n",
    "#     min_child_weight=1,\n",
    "#     gamma=0,\n",
    "#     subsample=0.8,\n",
    "#     colsample_bytree=0.8,\n",
    "#     reg_alpha=0.1,           # L1 regularization\n",
    "#     reg_lambda=1              # L2 regularization\n",
    "# )\n",
    "# # fit model\n",
    "# bst.fit(X_arr, y_arr)"
   ]
  },
  {
   "cell_type": "code",
   "execution_count": null,
   "id": "20bdfdce-cc0c-42ed-991e-325978b9235e",
   "metadata": {},
   "outputs": [],
   "source": []
  }
 ],
 "metadata": {
  "kernelspec": {
   "display_name": "Python 3 (ipykernel)",
   "language": "python",
   "name": "python3"
  },
  "language_info": {
   "codemirror_mode": {
    "name": "ipython",
    "version": 3
   },
   "file_extension": ".py",
   "mimetype": "text/x-python",
   "name": "python",
   "nbconvert_exporter": "python",
   "pygments_lexer": "ipython3",
   "version": "3.10.9"
  },
  "toc-showmarkdowntxt": false
 },
 "nbformat": 4,
 "nbformat_minor": 5
}
