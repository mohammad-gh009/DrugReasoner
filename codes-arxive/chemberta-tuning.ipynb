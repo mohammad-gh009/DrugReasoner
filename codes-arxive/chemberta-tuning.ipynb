{
 "cells": [
  {
   "cell_type": "code",
   "execution_count": null,
   "id": "224980b4-a921-4b83-b937-d59aa7773f1c",
   "metadata": {},
   "outputs": [],
   "source": [
    "import pandas as pd\n",
    "import numpy as np\n",
    "from datasets import Dataset\n",
    "import itertools\n",
    "from datasets import load_dataset\n",
    "from sentence_transformers import SentenceTransformer , SentenceTransformerTrainer\n",
    "from sentence_transformers.losses import CachedMultipleNegativesRankingLoss ,ContrastiveLoss, OnlineContrastiveLoss\n",
    "import os\n",
    "from sentence_transformers.training_args import SentenceTransformerTrainingArguments\n",
    "import torch\n",
    "import functools\n",
    "from rdkit import Chem\n",
    "from rdkit.Chem import AllChem\n",
    "from rdkit.Chem.rdmolops import GetAdjacencyMatrix\n",
    "# Imports\n",
    "import pandas as pd\n",
    "from datasets import load_dataset , Dataset\n",
    "from transformers import RobertaTokenizer , RobertaForSequenceClassification , TrainingArguments , Trainer,TrainerCallback,AutoModelForSequenceClassification,AutoTokenizer\n",
    "from sklearn.metrics import precision_recall_fscore_support , accuracy_score\n",
    "import torch\n",
    "import numpy as np\n",
    "import torch.nn as nn\n",
    "from sklearn.model_selection import train_test_split\n",
    "import numpy as np\n",
    "from datasets import Dataset, Features, Value,Sequence\n",
    "from sklearn.metrics import accuracy_score, f1_score, precision_score, recall_score, confusion_matrix, roc_auc_score"
   ]
  },
  {
   "cell_type": "code",
   "execution_count": null,
   "id": "c546a744-cbfb-4167-888d-d44c4a281eb3",
   "metadata": {},
   "outputs": [],
   "source": [
    "from sklearn.metrics import accuracy_score, f1_score, precision_score, recall_score, confusion_matrix, roc_auc_score\n",
    "\n",
    "def evaluate(y_true ,y_pred ): \n",
    "    # Calculate basic metrics\n",
    "    accuracy = accuracy_score(y_true, y_pred)\n",
    "    f1 = f1_score(y_true, y_pred)#, average='weighted'\n",
    "    precision = precision_score(y_true, y_pred)#, average='weighted'\n",
    "    recall = recall_score(y_true, y_pred)#, average='weighted'\n",
    "\n",
    "    # Calculate confusion matrix\n",
    "    cm = confusion_matrix(y_true, y_pred)\n",
    "    TN = cm[0][0]\n",
    "    FP = cm[0][1]\n",
    "    FN = cm[1][0]\n",
    "    TP = cm[1][1]\n",
    "\n",
    "    # Calculate specificity (True Negative Rate)\n",
    "    specificity = TN / (TN + FP)\n",
    "\n",
    "    # Calculate NPV (Negative Predictive Value)\n",
    "    NPV = TN / (TN + FN)\n",
    "\n",
    "    auc = roc_auc_score(y_true, y_pred)\n",
    "\n",
    "    results = {\n",
    "        \"F1 score\": f1,\n",
    "        \"Accuracy\": accuracy,\n",
    "        \"Precision\": precision,\n",
    "        \"Recall\": recall,\n",
    "        \"AUC\": auc,\n",
    "        \"Specificity\": specificity,\n",
    "        # \"NPV\": NPV\n",
    "    }\n",
    "    return results\n"
   ]
  },
  {
   "cell_type": "code",
   "execution_count": null,
   "id": "bcd040eb-a650-450e-aa2c-c281201287b3",
   "metadata": {},
   "outputs": [],
   "source": [
    "    \n",
    "def SMILES_augmentation(df):\n",
    "    smiles = df['SMILES'].to_list()\n",
    "    randomize_func = functools.partial(randomize_smiles, random_type='restricted')\n",
    "    to_smiles_func = get_smi_func('restricted')  \n",
    "    randomized_smiles = list(map((lambda smi: to_smiles_func(randomize_func(Chem.MolFromSmiles(smi)))), smiles))\n",
    "    randomized_smiles = pd.concat([pd.DataFrame(randomized_smiles, columns=['SMILES']), df.iloc[:,1:]], axis=1).dropna()\n",
    "    augmented = pd.concat([df, randomized_smiles], axis=0).reset_index(drop=True)\n",
    "    return augmented\n",
    "\n",
    "def randomize_smiles(mol, random_type=\"restricted\"):\n",
    "    \"\"\"\n",
    "    Returns a random SMILES given a SMILES of a molecule.\n",
    "    :param mol: A Mol object\n",
    "    :param random_type: The type (unrestricted, restricted) of randomization performed.\n",
    "    :return : A random SMILES string of the same molecule or None if the molecule is invalid.\n",
    "    \"\"\"\n",
    "    if not mol:\n",
    "        return None\n",
    "\n",
    "    if random_type == \"unrestricted\":\n",
    "        return Chem.MolToSmiles(mol, canonical=False, doRandom=True, isomericSmiles=False)\n",
    "    if random_type == \"restricted\":\n",
    "        new_atom_order = list(range(mol.GetNumAtoms()))\n",
    "        # random.shuffle(new_atom_order)\n",
    "        random_mol = Chem.RenumberAtoms(mol, newOrder=new_atom_order)\n",
    "        return Chem.MolToSmiles(random_mol, canonical=False, isomericSmiles=False)\n",
    "    raise ValueError(\"Type '{}' is not valid\".format(random_type))\n",
    "    \n",
    "def get_smi_func(smiles_type):\n",
    "    \"\"\"\n",
    "    Returns a function pointer that converts a given SMILES string to SMILES of the given type.\n",
    "    :param smiles_type: The SMILES type to convert VALUES=(deepsmiles.*, smiles, scaffold).\n",
    "    :return : A function pointer.\n",
    "    \"\"\"\n",
    "    if smiles_type.startswith(\"deepsmiles\"):\n",
    "        _, deepsmiles_type = smiles_type.split(\".\")\n",
    "        return functools.partial(to_deepsmiles, converter=deepsmiles_type)\n",
    "    elif smiles_type == \"scaffold\":\n",
    "        return add_brackets_to_attachment_points\n",
    "    else:\n",
    "        return lambda x: x\n",
    "    "
   ]
  },
  {
   "cell_type": "code",
   "execution_count": null,
   "id": "19023c94-69bc-45de-b019-e382c1d4539a",
   "metadata": {},
   "outputs": [
    {
     "name": "stdout",
     "output_type": "stream",
     "text": [
      "Imports completed\n",
      "dataset created \n"
     ]
    },
    {
     "name": "stderr",
     "output_type": "stream",
     "text": [
      "/tmp/ipykernel_44787/706859662.py:10: SettingWithCopyWarning: \n",
      "A value is trying to be set on a copy of a slice from a DataFrame\n",
      "\n",
      "See the caveats in the documentation: https://pandas.pydata.org/pandas-docs/stable/user_guide/indexing.html#returning-a-view-versus-a-copy\n",
      "  df.rename(columns={\"Label\":\"labels\"}, inplace=True)\n"
     ]
    }
   ],
   "source": [
    "print(\"Imports completed\")\n",
    "\n",
    "os.environ[\"WANDB_DISABLED\"] = \"true\"\n",
    "\n",
    "df0 = pd.read_csv(\"/home/u111169/wrkdir/mgh-project/ChemAP/dataset/DrugApp/All_training_feature_vectors.csv\")\n",
    "df=df0[[\"SMILES\",\t\"Label\"]]\n",
    "\n",
    "print(\"dataset created \")\n",
    "\n",
    "df.rename(columns={\"Label\":\"labels\"}, inplace=True)\n",
    "\n",
    "test_size = 0.2\n",
    "val_size = 0.5\n",
    "train_df , temp = train_test_split(df , stratify = df.labels , test_size = test_size , random_state=1234)\n",
    "test_df , val_df = train_test_split(temp , stratify = temp.labels , test_size = val_size , random_state=1234)\n",
    "#-----------------------------------\n",
    "# reset index\n",
    "train_df.reset_index(drop=True, inplace=True)\n",
    "val_df.reset_index(drop=True, inplace=True)\n",
    "test_df.reset_index(drop=True, inplace=True)"
   ]
  },
  {
   "cell_type": "code",
   "execution_count": null,
   "id": "989c233b-31fd-40b8-81b2-df5f6095f13c",
   "metadata": {},
   "outputs": [],
   "source": [
    "train_df = SMILES_augmentation(train_df)"
   ]
  },
  {
   "cell_type": "code",
   "execution_count": null,
   "id": "f748e53f-743f-4e4f-a76f-e08ccb44256e",
   "metadata": {},
   "outputs": [
    {
     "data": {
      "application/vnd.jupyter.widget-view+json": {
       "model_id": "c4ec518b9eff4e498d53aab1d398d3dc",
       "version_major": 2,
       "version_minor": 0
      },
      "text/plain": [
       "Map:   0%|          | 0/4994 [00:00<?, ? examples/s]"
      ]
     },
     "metadata": {},
     "output_type": "display_data"
    },
    {
     "data": {
      "application/vnd.jupyter.widget-view+json": {
       "model_id": "5c9f47ee542c4674bf9da515d551d68d",
       "version_major": 2,
       "version_minor": 0
      },
      "text/plain": [
       "Map:   0%|          | 0/313 [00:00<?, ? examples/s]"
      ]
     },
     "metadata": {},
     "output_type": "display_data"
    },
    {
     "data": {
      "application/vnd.jupyter.widget-view+json": {
       "model_id": "8afd101b21a1403990dccd29fb7c322f",
       "version_major": 2,
       "version_minor": 0
      },
      "text/plain": [
       "Map:   0%|          | 0/312 [00:00<?, ? examples/s]"
      ]
     },
     "metadata": {},
     "output_type": "display_data"
    },
    {
     "name": "stderr",
     "output_type": "stream",
     "text": [
      "Some weights of RobertaForSequenceClassification were not initialized from the model checkpoint at /home/u111169/.cache/huggingface/hub/models--DeepChem--ChemBERTa-77M-MTR/snapshots/66b895cab8adebea0cb59a8effa66b2020f204ca and are newly initialized: ['classifier.dense.bias', 'classifier.dense.weight', 'classifier.out_proj.bias', 'classifier.out_proj.weight']\n",
      "You should probably TRAIN this model on a down-stream task to be able to use it for predictions and inference.\n"
     ]
    }
   ],
   "source": [
    "#-----------------------------------\n",
    "# convert the dataframes to huggingface dataset for easier upload on hub and eaiser accessibility\n",
    "dataset_train = Dataset.from_pandas(train_df)\n",
    "dataset_df = Dataset.from_pandas(val_df)\n",
    "dataset_test = Dataset.from_pandas(test_df)\n",
    "#tokenizer = AutoTokenizer.from_pretrained(\"google-bert/bert-base-uncased\")#'FacebookAI/xlm-roberta-large'\n",
    "tokenizer = RobertaTokenizer.from_pretrained(\"/home/u111169/.cache/huggingface/hub/models--DeepChem--ChemBERTa-77M-MTR/snapshots/66b895cab8adebea0cb59a8effa66b2020f204ca\")#'FacebookAI/xlm-roberta-large'\n",
    "\n",
    "\n",
    "def tokenize_function(examples):\n",
    "    return tokenizer(examples['SMILES'], padding=\"max_length\" , truncation=True )#,max_length=166\n",
    "\n",
    "tokenized_train = dataset_train.map(tokenize_function)\n",
    "tokenized_val = dataset_df.map(tokenize_function)\n",
    "tokenized_test = dataset_test.map(tokenize_function)\n",
    "\n",
    "\n",
    "device = torch.device(\"cuda\" if torch.cuda.is_available() else \"cpu\")\n",
    "class_weights = torch.tensor([len(train_df[train_df[\"labels\"] == i]) / len(train_df) for i in np.unique(train_df[\"labels\"])]).to(device)\n",
    "#class_weights = torch.tensor([0.25,0.25,0.25,0.25]).to(device)\n",
    "\n",
    "class CustomLoss(nn.Module):\n",
    "    def __init__(self, class_weights):\n",
    "        super(CustomLoss, self).__init__()\n",
    "        self.ce_loss = nn.CrossEntropyLoss(weight=class_weights)\n",
    "\n",
    "    def forward(self, logits, labels):\n",
    "        ce_loss = self.ce_loss(logits, labels)\n",
    "        l1_loss = torch.mean(torch.abs(logits))\n",
    "        return ce_loss + 0.01 * l1_loss\n",
    "\n",
    "class CustomTrainer(Trainer):\n",
    "    def compute_loss(self, model, inputs, return_outputs=False, num_items_in_batch=None):\n",
    "        labels = inputs.pop(\"labels\")\n",
    "        outputs = model(**inputs)\n",
    "        logits = outputs.logits\n",
    "        loss_fn = CustomLoss(class_weights)\n",
    "        loss = loss_fn(logits, labels)\n",
    "        return (loss, outputs) if return_outputs else loss\n",
    "    \n",
    "\n",
    "\n",
    "model = RobertaForSequenceClassification.from_pretrained(\"/home/u111169/.cache/huggingface/hub/models--DeepChem--ChemBERTa-77M-MTR/snapshots/66b895cab8adebea0cb59a8effa66b2020f204ca\" ,num_labels=2)\n",
    "model.config.classifier_dropout=0.01\n",
    "\n",
    "os.environ[\"WANDB_DISABLED\"] = \"true\""
   ]
  },
  {
   "cell_type": "code",
   "execution_count": 22,
   "id": "616bff09-9794-4b6c-b5b7-cbb76506ca1c",
   "metadata": {},
   "outputs": [
    {
     "name": "stderr",
     "output_type": "stream",
     "text": [
      "/home/u111169/.local/lib/python3.10/site-packages/transformers/training_args.py:1494: FutureWarning: `evaluation_strategy` is deprecated and will be removed in version 4.46 of 🤗 Transformers. Use `eval_strategy` instead\n",
      "  warnings.warn(\n",
      "Using the `WANDB_DISABLED` environment variable is deprecated and will be removed in v5. Use the --report_to flag to control the integrations used for logging result (for instance --report_to none).\n",
      "Detected kernel version 5.3.18, which is below the recommended minimum of 5.5.0; this can cause the process to hang. It is recommended to upgrade the kernel to the minimum version or higher.\n"
     ]
    }
   ],
   "source": [
    "from transformers import EarlyStoppingCallback\n",
    "training_args = TrainingArguments(\n",
    "    output_dir='/home/u111169/wrkdir/mgh-project/arxive/checkpoints-arxive/fine_tuning_chemberta_classic_way/augmented',\n",
    "    num_train_epochs= 15,\n",
    "    evaluation_strategy='steps',\n",
    "    save_strategy='steps',\n",
    "    learning_rate=2e-3,\n",
    "    per_device_train_batch_size=64,\n",
    "    per_device_eval_batch_size=64,\n",
    "    eval_steps=20,\n",
    "    #save_total_limit=3,\n",
    "    gradient_accumulation_steps=1,\n",
    "    eval_accumulation_steps=1,\n",
    "    do_eval=True,\n",
    "    do_train=True,\n",
    "    weight_decay=0.1,\n",
    "    #logging_dir = \"logs\",\n",
    "    logging_strategy=\"steps\",\n",
    "    logging_steps = 10,\n",
    "    dataloader_drop_last=True,\n",
    "    save_safetensors=False,\n",
    "    adam_epsilon=1e-08,\n",
    "    warmup_steps=100,\n",
    "    seed=42,\n",
    "    lr_scheduler_type='cosine',\n",
    "    load_best_model_at_end = True,\n",
    "    label_smoothing_factor=0.01,\n",
    ")\n",
    "trainer = CustomTrainer(\n",
    "    model=model,\n",
    "    args=training_args,\n",
    "    train_dataset=tokenized_train,\n",
    "    eval_dataset=tokenized_val,\n",
    "    tokenizer = tokenizer,\n",
    "    callbacks=[EarlyStoppingCallback(early_stopping_patience=2)]\n",
    "\n",
    ")"
   ]
  },
  {
   "cell_type": "code",
   "execution_count": 23,
   "id": "8e09eca6-14d8-45b0-8690-efa2f7974e14",
   "metadata": {},
   "outputs": [
    {
     "data": {
      "text/html": [
       "\n",
       "    <div>\n",
       "      \n",
       "      <progress value='660' max='1170' style='width:300px; height:20px; vertical-align: middle;'></progress>\n",
       "      [ 660/1170 02:20 < 01:48, 4.69 it/s, Epoch 8/15]\n",
       "    </div>\n",
       "    <table border=\"1\" class=\"dataframe\">\n",
       "  <thead>\n",
       " <tr style=\"text-align: left;\">\n",
       "      <th>Step</th>\n",
       "      <th>Training Loss</th>\n",
       "      <th>Validation Loss</th>\n",
       "    </tr>\n",
       "  </thead>\n",
       "  <tbody>\n",
       "    <tr>\n",
       "      <td>20</td>\n",
       "      <td>0.604700</td>\n",
       "      <td>0.534256</td>\n",
       "    </tr>\n",
       "    <tr>\n",
       "      <td>40</td>\n",
       "      <td>0.519600</td>\n",
       "      <td>0.509695</td>\n",
       "    </tr>\n",
       "    <tr>\n",
       "      <td>60</td>\n",
       "      <td>0.567300</td>\n",
       "      <td>0.484785</td>\n",
       "    </tr>\n",
       "    <tr>\n",
       "      <td>80</td>\n",
       "      <td>0.530100</td>\n",
       "      <td>0.494512</td>\n",
       "    </tr>\n",
       "    <tr>\n",
       "      <td>100</td>\n",
       "      <td>0.485000</td>\n",
       "      <td>0.564889</td>\n",
       "    </tr>\n",
       "    <tr>\n",
       "      <td>120</td>\n",
       "      <td>0.531800</td>\n",
       "      <td>0.496324</td>\n",
       "    </tr>\n",
       "    <tr>\n",
       "      <td>140</td>\n",
       "      <td>0.503700</td>\n",
       "      <td>0.503806</td>\n",
       "    </tr>\n",
       "    <tr>\n",
       "      <td>160</td>\n",
       "      <td>0.542300</td>\n",
       "      <td>0.526010</td>\n",
       "    </tr>\n",
       "    <tr>\n",
       "      <td>180</td>\n",
       "      <td>0.510500</td>\n",
       "      <td>0.485058</td>\n",
       "    </tr>\n",
       "    <tr>\n",
       "      <td>200</td>\n",
       "      <td>0.469500</td>\n",
       "      <td>0.557577</td>\n",
       "    </tr>\n",
       "    <tr>\n",
       "      <td>220</td>\n",
       "      <td>0.476800</td>\n",
       "      <td>0.567217</td>\n",
       "    </tr>\n",
       "    <tr>\n",
       "      <td>240</td>\n",
       "      <td>0.512300</td>\n",
       "      <td>0.493286</td>\n",
       "    </tr>\n",
       "    <tr>\n",
       "      <td>260</td>\n",
       "      <td>0.445800</td>\n",
       "      <td>0.741127</td>\n",
       "    </tr>\n",
       "    <tr>\n",
       "      <td>280</td>\n",
       "      <td>0.454900</td>\n",
       "      <td>0.505276</td>\n",
       "    </tr>\n",
       "    <tr>\n",
       "      <td>300</td>\n",
       "      <td>0.452100</td>\n",
       "      <td>0.600141</td>\n",
       "    </tr>\n",
       "    <tr>\n",
       "      <td>320</td>\n",
       "      <td>0.446600</td>\n",
       "      <td>0.545753</td>\n",
       "    </tr>\n",
       "    <tr>\n",
       "      <td>340</td>\n",
       "      <td>0.466700</td>\n",
       "      <td>0.500560</td>\n",
       "    </tr>\n",
       "    <tr>\n",
       "      <td>360</td>\n",
       "      <td>0.445900</td>\n",
       "      <td>0.539991</td>\n",
       "    </tr>\n",
       "    <tr>\n",
       "      <td>380</td>\n",
       "      <td>0.437900</td>\n",
       "      <td>0.519825</td>\n",
       "    </tr>\n",
       "    <tr>\n",
       "      <td>400</td>\n",
       "      <td>0.411700</td>\n",
       "      <td>0.671832</td>\n",
       "    </tr>\n",
       "    <tr>\n",
       "      <td>420</td>\n",
       "      <td>0.438500</td>\n",
       "      <td>0.650280</td>\n",
       "    </tr>\n",
       "    <tr>\n",
       "      <td>440</td>\n",
       "      <td>0.409500</td>\n",
       "      <td>0.642326</td>\n",
       "    </tr>\n",
       "    <tr>\n",
       "      <td>460</td>\n",
       "      <td>0.455900</td>\n",
       "      <td>0.530578</td>\n",
       "    </tr>\n",
       "    <tr>\n",
       "      <td>480</td>\n",
       "      <td>0.421500</td>\n",
       "      <td>0.538867</td>\n",
       "    </tr>\n",
       "    <tr>\n",
       "      <td>500</td>\n",
       "      <td>0.342400</td>\n",
       "      <td>0.651640</td>\n",
       "    </tr>\n",
       "    <tr>\n",
       "      <td>520</td>\n",
       "      <td>0.387500</td>\n",
       "      <td>0.510904</td>\n",
       "    </tr>\n",
       "    <tr>\n",
       "      <td>540</td>\n",
       "      <td>0.370200</td>\n",
       "      <td>0.568694</td>\n",
       "    </tr>\n",
       "    <tr>\n",
       "      <td>560</td>\n",
       "      <td>0.277900</td>\n",
       "      <td>0.741913</td>\n",
       "    </tr>\n",
       "    <tr>\n",
       "      <td>580</td>\n",
       "      <td>0.313700</td>\n",
       "      <td>0.599994</td>\n",
       "    </tr>\n",
       "    <tr>\n",
       "      <td>600</td>\n",
       "      <td>0.372700</td>\n",
       "      <td>0.627804</td>\n",
       "    </tr>\n",
       "    <tr>\n",
       "      <td>620</td>\n",
       "      <td>0.344900</td>\n",
       "      <td>0.589468</td>\n",
       "    </tr>\n",
       "    <tr>\n",
       "      <td>640</td>\n",
       "      <td>0.296500</td>\n",
       "      <td>0.700529</td>\n",
       "    </tr>\n",
       "    <tr>\n",
       "      <td>660</td>\n",
       "      <td>0.280900</td>\n",
       "      <td>0.660128</td>\n",
       "    </tr>\n",
       "  </tbody>\n",
       "</table><p>"
      ],
      "text/plain": [
       "<IPython.core.display.HTML object>"
      ]
     },
     "metadata": {},
     "output_type": "display_data"
    },
    {
     "data": {
      "text/plain": [
       "TrainOutput(global_step=660, training_loss=0.44506994594227184, metrics={'train_runtime': 141.1205, 'train_samples_per_second': 530.823, 'train_steps_per_second': 8.291, 'total_flos': 389240499732480.0, 'train_loss': 0.44506994594227184, 'epoch': 8.461538461538462})"
      ]
     },
     "execution_count": 23,
     "metadata": {},
     "output_type": "execute_result"
    }
   ],
   "source": [
    "trainer.train()"
   ]
  },
  {
   "cell_type": "code",
   "execution_count": 24,
   "id": "829f950f-d906-4c2d-be44-b8c996dc95b1",
   "metadata": {},
   "outputs": [
    {
     "data": {
      "image/png": "[encoded data removed]",
      "text/plain": [
       "<Figure size 640x480 with 1 Axes>"
      ]
     },
     "metadata": {},
     "output_type": "display_data"
    }
   ],
   "source": [
    "# Drawing the loss plot\n",
    "\n",
    "import json\n",
    "import matplotlib.pyplot as plt\n",
    "\n",
    "# Step 1: Open and load the JSON file\n",
    "with open(\"/home/u111169/wrkdir/mgh-project/arxive/checkpoints-arxive/fine_tuning_chemberta_classic_way/augmented/checkpoint-500/trainer_state.json\", \"r\") as json_file:\n",
    "    json_data = json.load(json_file)\n",
    "\n",
    "data = json_data[\"log_history\"]\n",
    "\n",
    "\n",
    "\n",
    "# Extract steps and losses from the data\n",
    "steps = [entry[\"step\"] for entry in data if \"step\" in entry and \"loss\" in entry]\n",
    "steps_ev = [step for step in steps if step % 20 == 0]\n",
    "losses_t = [entry[\"loss\"] for entry in data if \"step\" in entry and \"loss\" in entry]\n",
    "losses_e = [entry[\"eval_loss\"] for entry in data if \"step\" in entry and \"eval_loss\" in entry]\n",
    "# Create a line plot\n",
    "plt.plot(steps, losses_t, marker=\"o\")\n",
    "plt.plot(steps_ev, losses_e, marker=\"o\")\n",
    "\n",
    "# Set labels and title\n",
    "plt.xlabel(\"Steps\")\n",
    "plt.ylabel(\"Loss\")\n",
    "plt.title(\"Training and eval Loss\")\n",
    "\n",
    "plt.savefig(\"plot.png\", bbox_inches=\"tight\")\n",
    "# Display the plot\n",
    "plt.show()"
   ]
  },
  {
   "cell_type": "code",
   "execution_count": null,
   "id": "1707beb9-5337-4365-9f97-a2c3cede912c",
   "metadata": {},
   "outputs": [
    {
     "data": {
      "application/vnd.jupyter.widget-view+json": {
       "model_id": "7e2498308a68431bb59aff59936f3bcb",
       "version_major": 2,
       "version_minor": 0
      },
      "text/plain": [
       "Map:   0%|          | 0/312 [00:00<?, ? examples/s]"
      ]
     },
     "metadata": {},
     "output_type": "display_data"
    }
   ],
   "source": [
    "import pandas as pd\n",
    "\n",
    "device = torch.device(\"cuda\" if torch.cuda.is_available() else \"cpu\")\n",
    "model = AutoModelForSequenceClassification.from_pretrained(\"/home/u111169/wrkdir/mgh-project/arxive/checkpoints-arxive/fine_tuning_chemberta_classic_way/augmented/checkpoint-500\" ,num_labels=2)\n",
    "model.to(device)\n",
    "model.eval()\n",
    "\n",
    "def preprocess_and_predict(examples):\n",
    "    inputs = tokenizer(examples['SMILES'], return_tensors='pt', padding=True, truncation = True)\n",
    "    inputs = inputs.to(device)\n",
    "    outputs = model(**inputs)\n",
    "    predicted_class_idx = torch.argmax(outputs.logits)\n",
    "    predicted_class_prob = torch.nn.functional.softmax(outputs.logits, dim=1)[0][predicted_class_idx]\n",
    "    predicted_class_idx = predicted_class_idx.cpu()  # Move tensors to CPU\n",
    "    predicted_class_prob = predicted_class_prob.cpu()\n",
    "    return {\n",
    "        'predicted_class': predicted_class_idx,\n",
    "        'predicted_class_prob': predicted_class_prob\n",
    "    }\n",
    "\n",
    "test = tokenized_test.map(preprocess_and_predict, batch_size=8 , writer_batch_size=8)\n",
    "results_df = test.to_pandas()\n",
    "from sklearn.metrics import accuracy_score, f1_score, precision_score, recall_score,roc_auc_score\n",
    "\n",
    "y_true = results_df['labels'].tolist()\n",
    "y_pred = results_df['predicted_class'].tolist()\n"
   ]
  },
  {
   "cell_type": "code",
   "execution_count": null,
   "id": "74ab6b88-aa47-480d-b9aa-1b15c93396ec",
   "metadata": {},
   "outputs": [
    {
     "data": {
      "text/plain": [
       "{'F1 score': 0.7164948453608248,\n",
       " 'Accuracy': 0.6474358974358975,\n",
       " 'Precision': 0.7354497354497355,\n",
       " 'Recall': 0.6984924623115578,\n",
       " 'AUC': 0.6280072931026816,\n",
       " 'Specificity': 0.5575221238938053}"
      ]
     },
     "execution_count": 15,
     "metadata": {},
     "output_type": "execute_result"
    }
   ],
   "source": [
    "evaluate(y_true ,y_pred )"
   ]
  },
  {
   "cell_type": "code",
   "execution_count": null,
   "id": "09e021e0-8b69-45fc-ad1d-77ccb1e6ef34",
   "metadata": {},
   "outputs": [],
   "source": []
  }
 ],
 "metadata": {
  "kernelspec": {
   "display_name": "Python 3 (ipykernel)",
   "language": "python",
   "name": "python3"
  },
  "language_info": {
   "codemirror_mode": {
    "name": "ipython",
    "version": 3
   },
   "file_extension": ".py",
   "mimetype": "text/x-python",
   "name": "python",
   "nbconvert_exporter": "python",
   "pygments_lexer": "ipython3",
   "version": "3.10.9"
  }
 },
 "nbformat": 4,
 "nbformat_minor": 5
}
