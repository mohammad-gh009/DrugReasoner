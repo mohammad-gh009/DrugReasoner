{
 "cells": [
  {
   "cell_type": "code",
   "execution_count": 2,
   "id": "ec195b57-6b1b-4e76-a217-4e254567eb9f",
   "metadata": {},
   "outputs": [],
   "source": [
    "import pandas as pd\n",
    "import numpy as np\n",
    "from datasets import Dataset\n",
    "import itertools\n",
    "from datasets import load_dataset\n",
    "from sentence_transformers import SentenceTransformer , SentenceTransformerTrainer\n",
    "from sentence_transformers.losses import CachedMultipleNegativesRankingLoss ,ContrastiveLoss, OnlineContrastiveLoss\n",
    "import os\n",
    "from sentence_transformers.training_args import SentenceTransformerTrainingArguments\n",
    "import torch\n",
    "# Imports\n",
    "import pandas as pd\n",
    "from datasets import load_dataset , Dataset\n",
    "from transformers import AutoModelForCausalLM , RobertaTokenizer , RobertaForSequenceClassification , TrainingArguments, Trainer,TrainerCallback,AutoModelForSequenceClassification,AutoTokenizer\n",
    "from sklearn.metrics import precision_recall_fscore_support , accuracy_score\n",
    "import torch\n",
    "import numpy as np\n",
    "import torch.nn as nn\n",
    "import numpy as np\n",
    "from datasets import Dataset, Features, Value,Sequence\n",
    "from rdkit import Chem\n",
    "from rdkit.Chem import AllChem\n",
    "from rdkit.Chem import Draw\n",
    "from rdkit.Chem import RDKFingerprint\n",
    "from rdkit.Avalon.pyAvalonTools import GetAvalonFP"
   ]
  },
  {
   "cell_type": "code",
   "execution_count": 3,
   "id": "379014e9-f15d-404c-9d22-165aedc57c90",
   "metadata": {},
   "outputs": [],
   "source": [
    "from sklearn.metrics import accuracy_score, f1_score, precision_score, recall_score, confusion_matrix, roc_auc_score\n",
    "\n",
    "def evaluate(y_true ,y_pred ): \n",
    "    # Calculate basic metrics\n",
    "    accuracy = accuracy_score(y_true, y_pred)\n",
    "    f1 = f1_score(y_true, y_pred, average='weighted')#\n",
    "    precision = precision_score(y_true, y_pred, average='weighted')#\n",
    "    recall = recall_score(y_true, y_pred, average='weighted')#\n",
    "\n",
    "    # Calculate confusion matrix\n",
    "    cm = confusion_matrix(y_true, y_pred)\n",
    "    TN = cm[0][0]\n",
    "    FP = cm[0][1]\n",
    "    FN = cm[1][0]\n",
    "    TP = cm[1][1]\n",
    "\n",
    "    # Calculate specificity (True Negative Rate)\n",
    "    specificity = TN / (TN + FP)\n",
    "\n",
    "    # Calculate NPV (Negative Predictive Value)\n",
    "    NPV = TN / (TN + FN)\n",
    "\n",
    "    auc = roc_auc_score(y_true, y_pred)\n",
    "\n",
    "    results = {\n",
    "        \"F1 score\": f1,\n",
    "        \"Accuracy\": accuracy,\n",
    "        \"Precision\": precision,\n",
    "        \"Recall\": recall,\n",
    "        \"AUC\": auc,\n",
    "        \"Specificity\": specificity,\n",
    "        # \"NPV\": NPV\n",
    "    }\n",
    "    return results\n"
   ]
  },
  {
   "cell_type": "code",
   "execution_count": 4,
   "id": "689aa2f4-640d-4416-9941-905357b7e144",
   "metadata": {},
   "outputs": [
    {
     "name": "stdout",
     "output_type": "stream",
     "text": [
      "We have added 2 tokens\n"
     ]
    },
    {
     "data": {
      "text/plain": [
       "Embedding(50261, 768)"
      ]
     },
     "execution_count": 4,
     "metadata": {},
     "output_type": "execute_result"
    }
   ],
   "source": [
    "tokenizer = AutoTokenizer.from_pretrained(\"openai-community/gpt2\", cache_dir=\"/home/u111169/wrkdir/mgh-project/models\")\n",
    "num_added_toks = tokenizer.add_tokens([\"<Approved>\", \"<NotApproved>\"])\n",
    "num_added_toks = tokenizer.add_special_tokens({\"additional_special_tokens\": [\"<[lbl]>\", \"<[mr]>\"]})\n",
    "print(\"We have added\", num_added_toks, \"tokens\")\n",
    "model = AutoModelForCausalLM.from_pretrained(\"/home/u111169/wrkdir/mgh-project/models/models--openai-community--gpt2/snapshots/607a30d783dfa663caf39e06633721c8d4cfcd7e\")\n",
    "model.resize_token_embeddings(len(tokenizer))"
   ]
  },
  {
   "cell_type": "code",
   "execution_count": 5,
   "id": "24226991-e18f-45b7-8998-21400c825939",
   "metadata": {},
   "outputs": [
    {
     "name": "stdout",
     "output_type": "stream",
     "text": [
      "Imports completed\n",
      "dataset created \n"
     ]
    }
   ],
   "source": [
    "print(\"Imports completed\")\n",
    "\n",
    "os.environ[\"WANDB_DISABLED\"] = \"true\"\n",
    "\n",
    "df0 = pd.read_csv(\"/home/u111169/wrkdir/mgh-project/ChemAP/dataset/DrugApp/All_training_feature_vectors.csv\")\n",
    "df=df0[[\"SMILES\",\t\"Label\"]]\n",
    "df = df[df['SMILES'].str.len() <= 700].reset_index(drop=True)\n",
    "\n",
    "print(\"dataset created \")\n",
    "\n",
    "from sklearn.model_selection import train_test_split\n"
   ]
  },
  {
   "cell_type": "code",
   "execution_count": 6,
   "id": "0e6057d6-7c8d-47a6-9828-d22ed850943a",
   "metadata": {},
   "outputs": [],
   "source": [
    "df.rename(columns={\"Label\":\"labels\"}, inplace=True)\n",
    "\n",
    "test_size = 0.2\n",
    "val_size = 0.5\n",
    "train_df , temp = train_test_split(df , stratify = df.labels , test_size = test_size , random_state=1234)\n",
    "test_df , val_df = train_test_split(temp , stratify = temp.labels , test_size = val_size , random_state=1234)\n",
    "#-----------------------------------\n",
    "# reset index\n",
    "train_df.reset_index(drop=True, inplace=True)\n",
    "val_df.reset_index(drop=True, inplace=True)\n",
    "test_df.reset_index(drop=True, inplace=True)"
   ]
  },
  {
   "cell_type": "code",
   "execution_count": 7,
   "id": "20854043-fe1b-4c1e-afbf-b18fcccd9ced",
   "metadata": {},
   "outputs": [],
   "source": [
    "\n",
    "def convert_to_fingerprint(smiles, target):\n",
    "    mol = Chem.MolFromSmiles(smiles)\n",
    "\n",
    "    # Generate the Morgan fingerprint\n",
    "    morgan_fp = AllChem.GetMorganFingerprintAsBitVect(mol, useChirality=True, radius=2, nBits=256)\n",
    "    morgan = ''.join(str(int(bit)) for bit in morgan_fp)\n",
    "    if int(target) == 1:\n",
    "        target = \"<Approved>\"\n",
    "    else:\n",
    "        target = \"<NotApproved>\"\n",
    "\n",
    "    return smiles+ \"<[mr]>\" + morgan + \"<[lbl]>\" + str(target)+ tokenizer.eos_token\n",
    "\n",
    "\n",
    "def convert_to_fingerprint_for_eval(smiles):\n",
    "    mol = Chem.MolFromSmiles(smiles)\n",
    "\n",
    "    # Generate the Morgan fingerprint\n",
    "    morgan_fp = AllChem.GetMorganFingerprintAsBitVect(mol, useChirality=True, radius=2, nBits=256)\n",
    "    morgan = ''.join(str(int(bit)) for bit in morgan_fp)\n",
    "\n",
    "    return smiles+ \"<[mr]>\" + morgan + \"<[lbl]>\"\n",
    "\n",
    "def convert_labels(target):\n",
    "\n",
    "    if int(target) == 1:\n",
    "        target = \"<Approved>\"\n",
    "    else:\n",
    "        target = \"<NotApproved>\"\n",
    "\n",
    "    return target\n",
    "\n",
    "# building the final dataset\n",
    "train_df[\"SMILES\"] = train_df.apply(lambda row: convert_to_fingerprint(row[\"SMILES\"] , row[\"labels\"]), axis=1)\n",
    "# train_df[\"labels\"] = train_df[\"labels\"].map(convert_labels)\n",
    "val_df[\"SMILES\"] = val_df.apply(lambda row: convert_to_fingerprint_for_eval(row[\"SMILES\"]), axis=1)\n",
    "val_df[\"labels\"] = val_df[\"labels\"].map(convert_labels)\n",
    "test_df[\"SMILES\"] = test_df.apply(lambda row: convert_to_fingerprint_for_eval(row[\"SMILES\"]), axis=1)\n",
    "test_df[\"labels\"] = test_df[\"labels\"].map(convert_labels)"
   ]
  },
  {
   "cell_type": "code",
   "execution_count": 8,
   "id": "2a20984e-f370-4d14-a4e4-660bd21d8065",
   "metadata": {},
   "outputs": [],
   "source": [
    "import matplotlib.pyplot as plt"
   ]
  },
  {
   "cell_type": "code",
   "execution_count": 9,
   "id": "bba28b00-7a92-4bf8-abbd-655e0faeb00d",
   "metadata": {},
   "outputs": [
    {
     "data": {
      "application/vnd.jupyter.widget-view+json": {
       "model_id": "a1bdaa26e21844589b8ca7ee08c612f1",
       "version_major": 2,
       "version_minor": 0
      },
      "text/plain": [
       "Map:   0%|          | 0/2490 [00:00<?, ? examples/s]"
      ]
     },
     "metadata": {},
     "output_type": "display_data"
    },
    {
     "data": {
      "application/vnd.jupyter.widget-view+json": {
       "model_id": "2abcbc13cbcd4f3c8c0f816409d1ab84",
       "version_major": 2,
       "version_minor": 0
      },
      "text/plain": [
       "Map:   0%|          | 0/312 [00:00<?, ? examples/s]"
      ]
     },
     "metadata": {},
     "output_type": "display_data"
    },
    {
     "data": {
      "application/vnd.jupyter.widget-view+json": {
       "model_id": "797272b93b66414baa17eee65e7fcd34",
       "version_major": 2,
       "version_minor": 0
      },
      "text/plain": [
       "Map:   0%|          | 0/311 [00:00<?, ? examples/s]"
      ]
     },
     "metadata": {},
     "output_type": "display_data"
    }
   ],
   "source": [
    "tokenizer.pad_token = tokenizer.eos_token\n",
    "# #-----------------------------------\n",
    "# # convert the dataframes to huggingface dataset for easier upload on hub and eaiser accessibility\n",
    "dataset_train = Dataset.from_pandas(train_df[[\"SMILES\"]])\n",
    "dataset_df = Dataset.from_pandas(val_df[[\"SMILES\"]])\n",
    "dataset_test = Dataset.from_pandas(test_df[[\"SMILES\"]])\n",
    "# #tokenizer = AutoTokenizer.from_pretrained(\"google-bert/bert-base-uncased\")#'FacebookAI/xlm-roberta-large'\n",
    "# tokenizer = AutoTokenizer.from_pretrained(\"/home/u111169/.cache/huggingface/hub/models--liyuesen--druggpt/snapshots/9c03bc4c40f4c915fdf734396f3f437cc956c4b5\")#'FacebookAI/xlm-roberta-large'\n",
    "# special_tokens_dict = {\n",
    "#     'additional_special_tokens': [\"approved\", \"nonapproved\"]\n",
    "# }\n",
    "# #tokenizer.add_special_tokens(special_tokens_dict)\n",
    "\n",
    "# # df_f[\"f\"] = train_df[\"SMILES\"]+train_df[\"labels\"]\n",
    "\n",
    "def tokenize_function(examples):\n",
    "    return tokenizer(examples['SMILES'], padding='max_length' , truncation=True )#,max_length=166\n",
    "\n",
    "tokenized_train = dataset_train.map(tokenize_function)\n",
    "tokenized_val = dataset_df.map(tokenize_function)\n",
    "tokenized_test = dataset_test.map(tokenize_function)"
   ]
  },
  {
   "cell_type": "code",
   "execution_count": 82,
   "id": "44ee7fab-ba73-4a01-8c63-27f8de41749c",
   "metadata": {},
   "outputs": [],
   "source": [
    "# df = pd.DataFrame()\n",
    "# df['final'] = train_df['SMILES'] + ' ' + train_df['labels']"
   ]
  },
  {
   "cell_type": "code",
   "execution_count": 83,
   "id": "c5168811-c327-4290-a80d-1541f091c63f",
   "metadata": {},
   "outputs": [],
   "source": [
    "# device = torch.device(\"cuda\" if torch.cuda.is_available() else \"cpu\")\n",
    "# class_weights = torch.tensor([len(train_df[train_df[\"labels\"] == i]) / len(train_df) for i in np.unique(train_df[\"labels\"])]).to(device)\n",
    "# #class_weights = torch.tensor([0.25,0.25,0.25,0.25]).to(device)\n",
    "\n",
    "# class CustomLoss(nn.Module):\n",
    "#     def __init__(self, class_weights):\n",
    "#         super(CustomLoss, self).__init__()\n",
    "#         self.ce_loss = nn.CrossEntropyLoss(weight=class_weights)\n",
    "\n",
    "#     def forward(self, logits, labels):\n",
    "#         ce_loss = self.ce_loss(logits, labels)\n",
    "#         l1_loss = torch.mean(torch.abs(logits))\n",
    "#         return ce_loss + 0.01 * l1_loss\n",
    "\n",
    "# class CustomTrainer(Trainer):\n",
    "#     def compute_loss(self, model, inputs, return_outputs=False, num_items_in_batch=None):\n",
    "#         labels = inputs.pop(\"labels\")\n",
    "#         outputs = model(**inputs)\n",
    "#         logits = outputs.logits\n",
    "#         loss_fn = CustomLoss(class_weights)\n",
    "#         loss = loss_fn(logits, labels)\n",
    "#         return (loss, outputs) if return_outputs else loss"
   ]
  },
  {
   "cell_type": "code",
   "execution_count": 9,
   "id": "79b55a2e-6142-4caa-8b86-fe0061e4cc4c",
   "metadata": {},
   "outputs": [],
   "source": [
    "model_name =\"DeepChem/ChemBERTa-77M-MTR\"# \"FacebookAI/xlm-roberta-large\"\"google-bert/bert-base-uncased\"\n",
    "import os\n",
    "os.environ[\"WANDB_DISABLED\"] = \"true\"\n",
    "# model = AutoModelForCausalLM.from_pretrained(\"/home/u111169/.cache/huggingface/hub/models--liyuesen--druggpt/snapshots/9c03bc4c40f4c915fdf734396f3f437cc956c4b5\")# ,num_labels=2)\n",
    "# model.config.classifier_dropout=0.01"
   ]
  },
  {
   "cell_type": "code",
   "execution_count": 73,
   "id": "82c792fc-3403-403c-b0ec-d7103610f9b4",
   "metadata": {},
   "outputs": [
    {
     "name": "stderr",
     "output_type": "stream",
     "text": [
      "Using the `WANDB_DISABLED` environment variable is deprecated and will be removed in v5. Use the --report_to flag to control the integrations used for logging result (for instance --report_to none).\n"
     ]
    }
   ],
   "source": [
    "from trl import SFTConfig, SFTTrainer\n",
    "\n",
    "training_args = SFTConfig(\n",
    "    output_dir='/home/u111169/wrkdir/mgh-project/checkpoints/druggpt',\n",
    "    num_train_epochs= 2,\n",
    "    # load_best_model_at_end = True,\n",
    "    # evaluation_strategy='steps',\n",
    "    save_strategy='steps',\n",
    "    learning_rate=2e-3,\n",
    "    per_device_train_batch_size=8,\n",
    "    # per_device_eval_batch_size=8,\n",
    "    #eval_steps=20,\n",
    "    #save_total_limit=3,\n",
    "    gradient_accumulation_steps=1,\n",
    "    # eval_accumulation_steps=1,\n",
    "    # do_eval=True,\n",
    "    do_train=True,\n",
    "    weight_decay=0.1,\n",
    "    logging_dir = \"logs\",\n",
    "    logging_strategy=\"steps\",\n",
    "    logging_steps = 10,\n",
    "    dataloader_drop_last=True,\n",
    "    save_safetensors=False,\n",
    "    adam_epsilon=1e-08,\n",
    "    warmup_steps=100,\n",
    "    seed=42,\n",
    "    lr_scheduler_type='cosine',\n",
    "    # label_names=[\"approved\" , \"nonapproved\"]\n",
    "    # label_smoothing_factor=0.01,\n",
    ")"
   ]
  },
  {
   "cell_type": "code",
   "execution_count": null,
   "id": "1ba1adb0-b650-483e-a6c9-a8c938c43287",
   "metadata": {},
   "outputs": [],
   "source": [
    "from transformers import EarlyStoppingCallback\n",
    "\n",
    "trainer = SFTTrainer(\n",
    "    model=model,\n",
    "    args=training_args,\n",
    "    train_dataset=tokenized_train,\n",
    "    #eval_dataset=tokenized_val,\n",
    "    #tokenizer = tokenizer,\n",
    "    #callbacks=[EarlyStoppingCallback(early_stopping_patience=2)]\n",
    ")\n",
    "trainer.train()"
   ]
  },
  {
   "cell_type": "code",
   "execution_count": 106,
   "id": "e1101f27-66f2-48a3-8662-22079628daf2",
   "metadata": {},
   "outputs": [
    {
     "data": {
      "image/png": "[encoded data removed]",
      "text/plain": [
       "<Figure size 640x480 with 1 Axes>"
      ]
     },
     "metadata": {},
     "output_type": "display_data"
    }
   ],
   "source": [
    "# Drawing the loss plot\n",
    "\n",
    "import json\n",
    "import matplotlib.pyplot as plt\n",
    "\n",
    "# Step 1: Open and load the JSON file\n",
    "with open(\"/home/u111169/wrkdir/mgh-project/checkpoints/druggpt2/checkpoint-9000/trainer_state.json\", \"r\") as json_file:\n",
    "    json_data = json.load(json_file)\n",
    "\n",
    "data = json_data[\"log_history\"]\n",
    "\n",
    "\n",
    "\n",
    "# Extract steps and losses from the data\n",
    "steps = [entry[\"step\"] for entry in data if \"step\" in entry and \"loss\" in entry]\n",
    "# steps_ev = [step for step in steps if step % 20 == 0]\n",
    "losses_t = [entry[\"loss\"] for entry in data if \"step\" in entry and \"loss\" in entry]\n",
    "# losses_e = [entry[\"eval_loss\"] for entry in data if \"step\" in entry and \"eval_loss\" in entry]\n",
    "# Create a line plot\n",
    "plt.plot(steps, losses_t, marker=\"o\")\n",
    "# plt.plot(steps_ev, losses_e, marker=\"o\")\n",
    "\n",
    "# Set labels and title\n",
    "plt.xlabel(\"Steps\")\n",
    "plt.ylabel(\"Loss\")\n",
    "plt.title(\"Training and eval Loss\")\n",
    "\n",
    "plt.savefig(\"plot.png\", bbox_inches=\"tight\")\n",
    "# Display the plot\n",
    "plt.show()"
   ]
  },
  {
   "cell_type": "code",
   "execution_count": 10,
   "id": "cb382d8f-2b81-4e07-82d4-2e7dc04edd90",
   "metadata": {},
   "outputs": [
    {
     "name": "stderr",
     "output_type": "stream",
     "text": [
      "/share/apps/eb/Anaconda3/2023.03-1/lib/python3.10/site-packages/torch/_utils.py:831: UserWarning: TypedStorage is deprecated. It will be removed in the future and UntypedStorage will be the only storage class. This should only matter to you if you are using storages directly.  To access UntypedStorage directly, use tensor.untyped_storage() instead of tensor.storage()\n",
      "  return self.fget.__get__(instance, owner)()\n"
     ]
    },
    {
     "data": {
      "application/vnd.jupyter.widget-view+json": {
       "model_id": "bb9dda2aa5734f8ea83adfbbb0b5e87a",
       "version_major": 2,
       "version_minor": 0
      },
      "text/plain": [
       "Map:   0%|          | 0/311 [00:00<?, ? examples/s]"
      ]
     },
     "metadata": {},
     "output_type": "display_data"
    }
   ],
   "source": [
    "import pandas as pd\n",
    "import torch\n",
    "device = torch.device(\"cuda\" if torch.cuda.is_available() else \"cpu\")\n",
    "model = AutoModelForCausalLM.from_pretrained(\"/home/u111169/wrkdir/mgh-project/checkpoints/druggpt2/checkpoint-9000\", is_decoder=True)# ,num_labels=2)\n",
    "model.to(device)\n",
    "model.eval()\n",
    "def preprocess_and_predict(examples):\n",
    "    inputs = tokenizer(examples['SMILES'], return_tensors='pt', padding=True, truncation = True)\n",
    "    inputs = inputs.to(device)\n",
    "    outputs = model(**inputs)\n",
    "    logits = outputs.logits[:, -1, :]\n",
    "    probs = torch.softmax(logits, dim=-1)\n",
    "    predicted_label = torch.argmax(probs, dim=-1).item()\n",
    "    predicted_label = tokenizer.decode(predicted_label)\n",
    "\n",
    "    return {\n",
    "        'predicted_class': predicted_label,\n",
    "        'predicted_class_prob': probs\n",
    "    }\n",
    "tokenizer.pad_token = tokenizer.eos_token\n",
    "test = tokenized_test.map(preprocess_and_predict, batch_size=8 , writer_batch_size=8)\n",
    "results_df = test.to_pandas()"
   ]
  },
  {
   "cell_type": "code",
   "execution_count": 92,
   "id": "bd4300d5-56a3-4825-b062-34196d6c4790",
   "metadata": {},
   "outputs": [],
   "source": [
    "from sklearn.metrics import accuracy_score, f1_score, precision_score, recall_score,roc_auc_score\n",
    "\n",
    "y_true = [1 if i=='<Approved>' else 0 for i in test_df['labels'].tolist() ]\n",
    "y_pred = [1 if i=='<Approved>' else 0 for i in results_df['predicted_class'].tolist()]"
   ]
  },
  {
   "cell_type": "code",
   "execution_count": 93,
   "id": "27deb56a-e1e1-4674-8f6c-de1b513b11cf",
   "metadata": {},
   "outputs": [
    {
     "data": {
      "text/plain": [
       "{'F1 score': 0.7089949156497803,\n",
       " 'Accuracy': 0.729903536977492,\n",
       " 'Precision': 0.7265648147595782,\n",
       " 'Recall': 0.729903536977492,\n",
       " 'AUC': 0.6620827351040919,\n",
       " 'Specificity': 0.41964285714285715}"
      ]
     },
     "execution_count": 93,
     "metadata": {},
     "output_type": "execute_result"
    }
   ],
   "source": [
    "evaluate(y_true ,y_pred )"
   ]
  },
  {
   "cell_type": "code",
   "execution_count": 94,
   "id": "4a181ac0-4c65-41a4-831e-91252314fe76",
   "metadata": {},
   "outputs": [],
   "source": [
    "x = [len(tokenizer.tokenize(train_df[\"SMILES\"][i])) for i in range(len(train_df[\"SMILES\"]))]"
   ]
  },
  {
   "cell_type": "code",
   "execution_count": 95,
   "id": "34c0288c-7c69-4523-b8e3-5932c875ef3c",
   "metadata": {},
   "outputs": [
    {
     "data": {
      "text/plain": [
       "'<Approved>'"
      ]
     },
     "execution_count": 95,
     "metadata": {},
     "output_type": "execute_result"
    }
   ],
   "source": [
    "tokenizer.decode(50257)"
   ]
  },
  {
   "cell_type": "code",
   "execution_count": 96,
   "id": "f87f8f24-727f-48ef-8a0a-b5f9ed8fe134",
   "metadata": {},
   "outputs": [],
   "source": [
    "inputs = tokenizer(tokenized_test['SMILES'][0], return_tensors='pt', padding=True, truncation = True)\n",
    "inputs = inputs.to(device)\n",
    "outputs = model(**inputs)"
   ]
  },
  {
   "cell_type": "code",
   "execution_count": 97,
   "id": "7cd67f7f-3005-4b46-81ef-346ecd03a8c4",
   "metadata": {},
   "outputs": [],
   "source": [
    "logits = outputs.logits\n",
    "\n",
    "# Calculate the probabilities for all tokens in the sequence\n",
    "probs = torch.nn.functional.softmax(logits, dim=-1)\n",
    "\n",
    "# Get the predicted token IDs for all positions in the sequence\n",
    "predicted_token_ids = torch.argmax(probs, dim=-1).squeeze()  # Squeeze to remove batch dimension\n",
    "\n",
    "# Decode the token IDs to get the output sequence\n",
    "predicted_sequence = tokenizer.decode(predicted_token_ids)"
   ]
  },
  {
   "cell_type": "code",
   "execution_count": 98,
   "id": "d6580769-0b6c-4399-ace9-045f734d3fba",
   "metadata": {},
   "outputs": [
    {
     "data": {
      "text/plain": [
       "'[1ccc(-c2cccc2)c1-(=O)N[C@@H]1C(=O)N2[C@@H](C(=O)O)C(C)(C)S[C@H]12<[mr]>001001010000010111000000000000000000000000010000000001100000000100000000010000000000100000000100000000011100000000000110000010100000000000000000000000000000000100000010010000000000011010110000000000100000000000010010000000010000011000000100111110000000010000001001101100000101010000<[lbl]><Approved>'"
      ]
     },
     "execution_count": 98,
     "metadata": {},
     "output_type": "execute_result"
    }
   ],
   "source": [
    "predicted_sequence"
   ]
  },
  {
   "cell_type": "code",
   "execution_count": 99,
   "id": "3e76bc36-ff60-4f8c-9bc8-addc0a2417d9",
   "metadata": {},
   "outputs": [],
   "source": [
    "inputs = tokenizer(tokenized_test['SMILES'][5], return_tensors='pt', padding=True, truncation = True)\n",
    "inputs = inputs.to(device)\n",
    "outputs = model(**inputs)"
   ]
  },
  {
   "cell_type": "code",
   "execution_count": 100,
   "id": "816e21e7-d8d6-4d64-a93c-0bea08db0f6a",
   "metadata": {},
   "outputs": [
    {
     "name": "stderr",
     "output_type": "stream",
     "text": [
      "/tmp/ipykernel_89801/325247098.py:33: SettingWithCopyWarning: \n",
      "A value is trying to be set on a copy of a slice from a DataFrame\n",
      "\n",
      "See the caveats in the documentation: https://pandas.pydata.org/pandas-docs/stable/user_guide/indexing.html#returning-a-view-versus-a-copy\n",
      "  ex_df[\"Drug Name\"][0]=\"Fabhalta\"\n"
     ]
    }
   ],
   "source": [
    "external_d = [\n",
    "    \"Ogsiveo\",\n",
    "    \"Agamree\",\n",
    "    \"Velsipity\",\n",
    "    \"Exxua\",\n",
    "    \"Litfulo\",\n",
    "    \"Miebo\",\n",
    "    \"Veozah\",\n",
    "    \"Daybue\",\n",
    "    \"Zavzpret\",\n",
    "    \"Filspari\",\n",
    "    \"Orserdu\",\n",
    "    \"Fabhalta\",\n",
    "    \"Truqap\",\n",
    "    \"Augtyro\",\n",
    "    \"Vanflyta\",\n",
    "    \"Posluma\",\n",
    "    \"Paxlovid\",\n",
    "    \"Joenja\",\n",
    "    \"Skyclarys\",\n",
    "    \"Jaypirca\",\n",
    "    \"Lufotrelvir\",\n",
    "    \"Zandelisib\",\n",
    "    \"Alpelisib\",\n",
    "    \"AMG 337\",\n",
    "    \"Evobrutinib\",\n",
    "    \"Linperlisib\",\n",
    "    \"H3B-8800\",\n",
    "    \"Gamcemetinib\"\n",
    "]\n",
    "\n",
    "ex_df = pd.read_csv(\"/home/u111169/wrkdir/mgh-project/ChemAP/dataset/processed_data/External/External.csv\")\n",
    "ex_df[\"Drug Name\"][0]=\"Fabhalta\"\n",
    "\n",
    "filtered_df = ex_df[ex_df['Drug Name'].isin(external_d)].reset_index(drop=True)\n",
    "\n",
    "# filtered_df.to_csv(\"filtered_ex.csv\" , index=False)\n",
    "\n",
    "# ex = filtered_df[\"SMILES\"].tolist()\n",
    "# ex_label = filtered_df[\"Approval\"].tolist()\n",
    "filtered_df[\"SMILES\"] = filtered_df.apply(lambda row: convert_to_fingerprint_for_eval(row[\"SMILES\"]), axis=1)\n",
    "filtered_df[\"Approval\"] = filtered_df[\"Approval\"].map(convert_labels)"
   ]
  },
  {
   "cell_type": "code",
   "execution_count": 101,
   "id": "ceb8959e-487d-49ba-9996-abe2bb89219b",
   "metadata": {},
   "outputs": [
    {
     "data": {
      "text/html": [
       "<div>\n",
       "<style scoped>\n",
       "    .dataframe tbody tr th:only-of-type {\n",
       "        vertical-align: middle;\n",
       "    }\n",
       "\n",
       "    .dataframe tbody tr th {\n",
       "        vertical-align: top;\n",
       "    }\n",
       "\n",
       "    .dataframe thead th {\n",
       "        text-align: right;\n",
       "    }\n",
       "</style>\n",
       "<table border=\"1\" class=\"dataframe\">\n",
       "  <thead>\n",
       "    <tr style=\"text-align: right;\">\n",
       "      <th></th>\n",
       "      <th>Drug Name</th>\n",
       "      <th>SMILES</th>\n",
       "      <th>Approval</th>\n",
       "    </tr>\n",
       "  </thead>\n",
       "  <tbody>\n",
       "    <tr>\n",
       "      <th>0</th>\n",
       "      <td>Fabhalta</td>\n",
       "      <td>CCOC1CCN(C(C1)C2=CC=C(C=C2)C(=O)O)CC3=C(C=C(C4...</td>\n",
       "      <td>&lt;Approved&gt;</td>\n",
       "    </tr>\n",
       "    <tr>\n",
       "      <th>1</th>\n",
       "      <td>Ogsiveo</td>\n",
       "      <td>CCCC(C(=O)NC1=CN(C=N1)C(C)(C)CNCC(C)(C)C)NC2CC...</td>\n",
       "      <td>&lt;Approved&gt;</td>\n",
       "    </tr>\n",
       "    <tr>\n",
       "      <th>2</th>\n",
       "      <td>Truqap</td>\n",
       "      <td>C1CN(CCC1(C(=O)NC(CCO)C2=CC=C(C=C2)Cl)N)C3=NC=...</td>\n",
       "      <td>&lt;Approved&gt;</td>\n",
       "    </tr>\n",
       "    <tr>\n",
       "      <th>3</th>\n",
       "      <td>Augtyro</td>\n",
       "      <td>CC1CNC(=O)C2=C3N=C(C=CN3N=C2)NC(C4=C(O1)C=CC(=...</td>\n",
       "      <td>&lt;Approved&gt;</td>\n",
       "    </tr>\n",
       "    <tr>\n",
       "      <th>4</th>\n",
       "      <td>Agamree</td>\n",
       "      <td>CC1CC2C3CCC4=CC(=O)C=CC4(C3=CCC2(C1(C(=O)CO)O)...</td>\n",
       "      <td>&lt;Approved&gt;</td>\n",
       "    </tr>\n",
       "    <tr>\n",
       "      <th>5</th>\n",
       "      <td>Velsipity</td>\n",
       "      <td>C1CCC(C1)C2=C(C=C(C=C2)COC3=CC4=C(C=C3)NC5=C4C...</td>\n",
       "      <td>&lt;Approved&gt;</td>\n",
       "    </tr>\n",
       "    <tr>\n",
       "      <th>6</th>\n",
       "      <td>Exxua</td>\n",
       "      <td>CC1(CC(=O)N(C(=O)C1)CCCCN2CCN(CC2)C3=NC=CC=N3)...</td>\n",
       "      <td>&lt;Approved&gt;</td>\n",
       "    </tr>\n",
       "    <tr>\n",
       "      <th>7</th>\n",
       "      <td>Vanflyta</td>\n",
       "      <td>CC(C)(C)C1=CC(=NO1)NC(=O)NC2=CC=C(C=C2)C3=CN4C...</td>\n",
       "      <td>&lt;Approved&gt;</td>\n",
       "    </tr>\n",
       "    <tr>\n",
       "      <th>8</th>\n",
       "      <td>Litfulo</td>\n",
       "      <td>CC1CCC(CN1C(=O)C=C)NC2=NC=NC3=C2C=CN3&lt;[mr]&gt;001...</td>\n",
       "      <td>&lt;Approved&gt;</td>\n",
       "    </tr>\n",
       "    <tr>\n",
       "      <th>9</th>\n",
       "      <td>Posluma</td>\n",
       "      <td>CC(C)(C)[Si](C1=CC=C(C=C1)C(=O)NCC(C(=O)NC(CCC...</td>\n",
       "      <td>&lt;Approved&gt;</td>\n",
       "    </tr>\n",
       "    <tr>\n",
       "      <th>10</th>\n",
       "      <td>Paxlovid</td>\n",
       "      <td>CC1(C2C1C(N(C2)C(=O)C(C(C)(C)C)NC(=O)C(F)(F)F)...</td>\n",
       "      <td>&lt;Approved&gt;</td>\n",
       "    </tr>\n",
       "    <tr>\n",
       "      <th>11</th>\n",
       "      <td>Miebo</td>\n",
       "      <td>CCCCCCCCC(C(C(C(C(C(F)(F)F)(F)F)(F)F)(F)F)(F)F...</td>\n",
       "      <td>&lt;Approved&gt;</td>\n",
       "    </tr>\n",
       "    <tr>\n",
       "      <th>12</th>\n",
       "      <td>Veozah</td>\n",
       "      <td>CC1C2=NN=C(N2CCN1C(=O)C3=CC=C(C=C3)F)C4=NC(=NS...</td>\n",
       "      <td>&lt;Approved&gt;</td>\n",
       "    </tr>\n",
       "    <tr>\n",
       "      <th>13</th>\n",
       "      <td>Joenja</td>\n",
       "      <td>CCC(=O)N1CCC(C1)NC2=NC=NC3=C2CN(CC3)C4=CC(=C(N...</td>\n",
       "      <td>&lt;Approved&gt;</td>\n",
       "    </tr>\n",
       "    <tr>\n",
       "      <th>14</th>\n",
       "      <td>Daybue</td>\n",
       "      <td>CC1(CCCN1C(=O)CN)C(=O)NC(CCC(=O)O)C(=O)O&lt;[mr]&gt;...</td>\n",
       "      <td>&lt;Approved&gt;</td>\n",
       "    </tr>\n",
       "    <tr>\n",
       "      <th>15</th>\n",
       "      <td>Zavzpret</td>\n",
       "      <td>CC1=CC(=CC2=C1NN=C2)CC(C(=O)N3CCN(CC3)C4CCN(CC...</td>\n",
       "      <td>&lt;Approved&gt;</td>\n",
       "    </tr>\n",
       "    <tr>\n",
       "      <th>16</th>\n",
       "      <td>Skyclarys</td>\n",
       "      <td>CC1(CCC2(CCC3(C(C2C1)C(=O)C=C4C3(CCC5C4(C=C(C(...</td>\n",
       "      <td>&lt;Approved&gt;</td>\n",
       "    </tr>\n",
       "    <tr>\n",
       "      <th>17</th>\n",
       "      <td>Filspari</td>\n",
       "      <td>CCCCC1=NC2(CCCC2)C(=O)N1CC3=CC(=C(C=C3)C4=CC=C...</td>\n",
       "      <td>&lt;Approved&gt;</td>\n",
       "    </tr>\n",
       "    <tr>\n",
       "      <th>18</th>\n",
       "      <td>Orserdu</td>\n",
       "      <td>CCNCCC1=CC=C(C=C1)CN(CC)C2=C(C=CC(=C2)OC)C3CCC...</td>\n",
       "      <td>&lt;Approved&gt;</td>\n",
       "    </tr>\n",
       "    <tr>\n",
       "      <th>19</th>\n",
       "      <td>Jaypirca</td>\n",
       "      <td>CC(C(F)(F)F)N1C(=C(C(=N1)C2=CC=C(C=C2)CNC(=O)C...</td>\n",
       "      <td>&lt;Approved&gt;</td>\n",
       "    </tr>\n",
       "    <tr>\n",
       "      <th>20</th>\n",
       "      <td>Lufotrelvir</td>\n",
       "      <td>CC(C)CC(C(=O)NC(CC1CCNC1=O)C(=O)COP(=O)(O)O)NC...</td>\n",
       "      <td>&lt;NotApproved&gt;</td>\n",
       "    </tr>\n",
       "    <tr>\n",
       "      <th>21</th>\n",
       "      <td>Gamcemetinib</td>\n",
       "      <td>CCOCC1=CN=C(N=C1OC2=NC3=C(C=C2)C4=C(C=C3)SC5=C...</td>\n",
       "      <td>&lt;NotApproved&gt;</td>\n",
       "    </tr>\n",
       "    <tr>\n",
       "      <th>22</th>\n",
       "      <td>Zandelisib</td>\n",
       "      <td>CC(C)(CC1=CC=CC=C1C2CCN(CC2)C)NC3=NC(=NC(=N3)N...</td>\n",
       "      <td>&lt;NotApproved&gt;</td>\n",
       "    </tr>\n",
       "    <tr>\n",
       "      <th>23</th>\n",
       "      <td>Alpelisib</td>\n",
       "      <td>CC1=C(SC(=N1)NC(=O)N2CCCC2C(=O)N)C3=CC(=NC=C3)...</td>\n",
       "      <td>&lt;NotApproved&gt;</td>\n",
       "    </tr>\n",
       "    <tr>\n",
       "      <th>24</th>\n",
       "      <td>AMG 337</td>\n",
       "      <td>CC(C1=NN=C2N1C=C(C=C2F)C3=CN(N=C3)C)N4C=CC5=C(...</td>\n",
       "      <td>&lt;NotApproved&gt;</td>\n",
       "    </tr>\n",
       "    <tr>\n",
       "      <th>25</th>\n",
       "      <td>Evobrutinib</td>\n",
       "      <td>C=CC(=O)N1CCC(CC1)CNC2=NC=NC(=C2C3=CC=C(C=C3)O...</td>\n",
       "      <td>&lt;NotApproved&gt;</td>\n",
       "    </tr>\n",
       "    <tr>\n",
       "      <th>26</th>\n",
       "      <td>Linperlisib</td>\n",
       "      <td>CC(C)(C1CCN(CC1)CC2=C3C(=CC(=C2)F)C(=NC(=N3)N4...</td>\n",
       "      <td>&lt;NotApproved&gt;</td>\n",
       "    </tr>\n",
       "    <tr>\n",
       "      <th>27</th>\n",
       "      <td>H3B-8800</td>\n",
       "      <td>CC1C=CC(C(CCC(CC(=O)OC1C(=CC=CC(C)C2=CC=CC=N2)...</td>\n",
       "      <td>&lt;NotApproved&gt;</td>\n",
       "    </tr>\n",
       "  </tbody>\n",
       "</table>\n",
       "</div>"
      ],
      "text/plain": [
       "       Drug Name                                             SMILES  \\\n",
       "0       Fabhalta  CCOC1CCN(C(C1)C2=CC=C(C=C2)C(=O)O)CC3=C(C=C(C4...   \n",
       "1        Ogsiveo  CCCC(C(=O)NC1=CN(C=N1)C(C)(C)CNCC(C)(C)C)NC2CC...   \n",
       "2         Truqap  C1CN(CCC1(C(=O)NC(CCO)C2=CC=C(C=C2)Cl)N)C3=NC=...   \n",
       "3        Augtyro  CC1CNC(=O)C2=C3N=C(C=CN3N=C2)NC(C4=C(O1)C=CC(=...   \n",
       "4        Agamree  CC1CC2C3CCC4=CC(=O)C=CC4(C3=CCC2(C1(C(=O)CO)O)...   \n",
       "5      Velsipity  C1CCC(C1)C2=C(C=C(C=C2)COC3=CC4=C(C=C3)NC5=C4C...   \n",
       "6          Exxua  CC1(CC(=O)N(C(=O)C1)CCCCN2CCN(CC2)C3=NC=CC=N3)...   \n",
       "7       Vanflyta  CC(C)(C)C1=CC(=NO1)NC(=O)NC2=CC=C(C=C2)C3=CN4C...   \n",
       "8        Litfulo  CC1CCC(CN1C(=O)C=C)NC2=NC=NC3=C2C=CN3<[mr]>001...   \n",
       "9        Posluma  CC(C)(C)[Si](C1=CC=C(C=C1)C(=O)NCC(C(=O)NC(CCC...   \n",
       "10      Paxlovid  CC1(C2C1C(N(C2)C(=O)C(C(C)(C)C)NC(=O)C(F)(F)F)...   \n",
       "11         Miebo  CCCCCCCCC(C(C(C(C(C(F)(F)F)(F)F)(F)F)(F)F)(F)F...   \n",
       "12        Veozah  CC1C2=NN=C(N2CCN1C(=O)C3=CC=C(C=C3)F)C4=NC(=NS...   \n",
       "13        Joenja  CCC(=O)N1CCC(C1)NC2=NC=NC3=C2CN(CC3)C4=CC(=C(N...   \n",
       "14        Daybue  CC1(CCCN1C(=O)CN)C(=O)NC(CCC(=O)O)C(=O)O<[mr]>...   \n",
       "15      Zavzpret  CC1=CC(=CC2=C1NN=C2)CC(C(=O)N3CCN(CC3)C4CCN(CC...   \n",
       "16     Skyclarys  CC1(CCC2(CCC3(C(C2C1)C(=O)C=C4C3(CCC5C4(C=C(C(...   \n",
       "17      Filspari  CCCCC1=NC2(CCCC2)C(=O)N1CC3=CC(=C(C=C3)C4=CC=C...   \n",
       "18       Orserdu  CCNCCC1=CC=C(C=C1)CN(CC)C2=C(C=CC(=C2)OC)C3CCC...   \n",
       "19      Jaypirca  CC(C(F)(F)F)N1C(=C(C(=N1)C2=CC=C(C=C2)CNC(=O)C...   \n",
       "20   Lufotrelvir  CC(C)CC(C(=O)NC(CC1CCNC1=O)C(=O)COP(=O)(O)O)NC...   \n",
       "21  Gamcemetinib  CCOCC1=CN=C(N=C1OC2=NC3=C(C=C2)C4=C(C=C3)SC5=C...   \n",
       "22    Zandelisib  CC(C)(CC1=CC=CC=C1C2CCN(CC2)C)NC3=NC(=NC(=N3)N...   \n",
       "23     Alpelisib  CC1=C(SC(=N1)NC(=O)N2CCCC2C(=O)N)C3=CC(=NC=C3)...   \n",
       "24       AMG 337  CC(C1=NN=C2N1C=C(C=C2F)C3=CN(N=C3)C)N4C=CC5=C(...   \n",
       "25   Evobrutinib  C=CC(=O)N1CCC(CC1)CNC2=NC=NC(=C2C3=CC=C(C=C3)O...   \n",
       "26   Linperlisib  CC(C)(C1CCN(CC1)CC2=C3C(=CC(=C2)F)C(=NC(=N3)N4...   \n",
       "27      H3B-8800  CC1C=CC(C(CCC(CC(=O)OC1C(=CC=CC(C)C2=CC=CC=N2)...   \n",
       "\n",
       "         Approval  \n",
       "0      <Approved>  \n",
       "1      <Approved>  \n",
       "2      <Approved>  \n",
       "3      <Approved>  \n",
       "4      <Approved>  \n",
       "5      <Approved>  \n",
       "6      <Approved>  \n",
       "7      <Approved>  \n",
       "8      <Approved>  \n",
       "9      <Approved>  \n",
       "10     <Approved>  \n",
       "11     <Approved>  \n",
       "12     <Approved>  \n",
       "13     <Approved>  \n",
       "14     <Approved>  \n",
       "15     <Approved>  \n",
       "16     <Approved>  \n",
       "17     <Approved>  \n",
       "18     <Approved>  \n",
       "19     <Approved>  \n",
       "20  <NotApproved>  \n",
       "21  <NotApproved>  \n",
       "22  <NotApproved>  \n",
       "23  <NotApproved>  \n",
       "24  <NotApproved>  \n",
       "25  <NotApproved>  \n",
       "26  <NotApproved>  \n",
       "27  <NotApproved>  "
      ]
     },
     "execution_count": 101,
     "metadata": {},
     "output_type": "execute_result"
    }
   ],
   "source": [
    "filtered_df"
   ]
  },
  {
   "cell_type": "code",
   "execution_count": 102,
   "id": "14269784-206c-4b88-8959-57f63c468072",
   "metadata": {},
   "outputs": [
    {
     "data": {
      "application/vnd.jupyter.widget-view+json": {
       "model_id": "36d7238212d74e30b270cd83dcd25290",
       "version_major": 2,
       "version_minor": 0
      },
      "text/plain": [
       "Map:   0%|          | 0/28 [00:00<?, ? examples/s]"
      ]
     },
     "metadata": {},
     "output_type": "display_data"
    }
   ],
   "source": [
    "dataset_ex = Dataset.from_pandas(filtered_df)\n",
    "tokenized_ex = dataset_ex.map(tokenize_function)"
   ]
  },
  {
   "cell_type": "code",
   "execution_count": 103,
   "id": "aaca789e-4c7d-420c-a5c2-9104ba72c6c5",
   "metadata": {},
   "outputs": [
    {
     "data": {
      "application/vnd.jupyter.widget-view+json": {
       "model_id": "b5e7a95724d74b6db0e54e56eb7ad6a0",
       "version_major": 2,
       "version_minor": 0
      },
      "text/plain": [
       "Map:   0%|          | 0/28 [00:00<?, ? examples/s]"
      ]
     },
     "metadata": {},
     "output_type": "display_data"
    }
   ],
   "source": [
    "test = tokenized_ex.map(preprocess_and_predict, batch_size=8 , writer_batch_size=8)\n",
    "results_df = test.to_pandas()"
   ]
  },
  {
   "cell_type": "code",
   "execution_count": 104,
   "id": "4e508c43-6414-4e9b-8f30-0e3e457292c1",
   "metadata": {},
   "outputs": [],
   "source": [
    "y_true = results_df[\"Approval\"].tolist()\n",
    "y_pred = results_df['predicted_class'].tolist()"
   ]
  },
  {
   "cell_type": "code",
   "execution_count": 105,
   "id": "b8119f06-3768-47e2-931c-e251ab070af9",
   "metadata": {},
   "outputs": [
    {
     "data": {
      "text/plain": [
       "['<Approved>',\n",
       " '<Approved>',\n",
       " '<Approved>',\n",
       " '<Approved>',\n",
       " '<Approved>',\n",
       " '<Approved>',\n",
       " '<Approved>',\n",
       " '<Approved>',\n",
       " '<Approved>',\n",
       " '<Approved>',\n",
       " '<Approved>',\n",
       " '<Approved>',\n",
       " '<Approved>',\n",
       " '<Approved>',\n",
       " '<Approved>',\n",
       " '<Approved>',\n",
       " '<Approved>',\n",
       " '<Approved>',\n",
       " '<Approved>',\n",
       " '<Approved>',\n",
       " '<NotApproved>',\n",
       " '<NotApproved>',\n",
       " '<NotApproved>',\n",
       " '<NotApproved>',\n",
       " '<NotApproved>',\n",
       " '<NotApproved>',\n",
       " '<NotApproved>',\n",
       " '<NotApproved>']"
      ]
     },
     "execution_count": 105,
     "metadata": {},
     "output_type": "execute_result"
    }
   ],
   "source": [
    "y_true"
   ]
  },
  {
   "cell_type": "code",
   "execution_count": null,
   "id": "ef66f024-5f2c-42bc-ab71-3162cfaf32e9",
   "metadata": {},
   "outputs": [],
   "source": []
  },
  {
   "cell_type": "code",
   "execution_count": 22,
   "id": "db0787f1-1723-4feb-85f4-4417922a39f7",
   "metadata": {},
   "outputs": [],
   "source": [
    "y_true = [1 if i=='<Approved>' else 0 for i in results_df[\"Approval\"].tolist() ]\n",
    "y_pred = [1 if i=='<Approved>' else 0 for i in results_df['predicted_class'].tolist()]"
   ]
  },
  {
   "cell_type": "code",
   "execution_count": 23,
   "id": "9a381527-ce76-42c9-8d83-0a72c42ac9b5",
   "metadata": {},
   "outputs": [
    {
     "data": {
      "text/plain": [
       "{'F1 score': 0.482051282051282,\n",
       " 'Accuracy': 0.5,\n",
       " 'Precision': 0.8181818181818182,\n",
       " 'Recall': 0.5,\n",
       " 'AUC': 0.65,\n",
       " 'Specificity': 1.0}"
      ]
     },
     "execution_count": 23,
     "metadata": {},
     "output_type": "execute_result"
    }
   ],
   "source": [
    "evaluate(y_true ,y_pred )"
   ]
  },
  {
   "cell_type": "code",
   "execution_count": 24,
   "id": "af23adad-083c-453b-9a55-b0dd24997ab8",
   "metadata": {},
   "outputs": [
    {
     "data": {
      "text/plain": [
       "([1,\n",
       "  1,\n",
       "  1,\n",
       "  1,\n",
       "  1,\n",
       "  1,\n",
       "  1,\n",
       "  1,\n",
       "  1,\n",
       "  1,\n",
       "  1,\n",
       "  1,\n",
       "  1,\n",
       "  1,\n",
       "  1,\n",
       "  1,\n",
       "  1,\n",
       "  1,\n",
       "  1,\n",
       "  1,\n",
       "  0,\n",
       "  0,\n",
       "  0,\n",
       "  0,\n",
       "  0,\n",
       "  0,\n",
       "  0,\n",
       "  0],\n",
       " [0,\n",
       "  0,\n",
       "  1,\n",
       "  1,\n",
       "  1,\n",
       "  0,\n",
       "  0,\n",
       "  0,\n",
       "  0,\n",
       "  1,\n",
       "  0,\n",
       "  1,\n",
       "  0,\n",
       "  0,\n",
       "  0,\n",
       "  0,\n",
       "  0,\n",
       "  1,\n",
       "  0,\n",
       "  0,\n",
       "  0,\n",
       "  0,\n",
       "  0,\n",
       "  0,\n",
       "  0,\n",
       "  0,\n",
       "  0,\n",
       "  0])"
      ]
     },
     "execution_count": 24,
     "metadata": {},
     "output_type": "execute_result"
    }
   ],
   "source": [
    "(y_true ,y_pred )"
   ]
  },
  {
   "cell_type": "code",
   "execution_count": null,
   "id": "24dc13d8-1629-4f9d-9146-40b5ce6da955",
   "metadata": {},
   "outputs": [],
   "source": []
  }
 ],
 "metadata": {
  "kernelspec": {
   "display_name": "Python 3 (ipykernel)",
   "language": "python",
   "name": "python3"
  },
  "language_info": {
   "codemirror_mode": {
    "name": "ipython",
    "version": 3
   },
   "file_extension": ".py",
   "mimetype": "text/x-python",
   "name": "python",
   "nbconvert_exporter": "python",
   "pygments_lexer": "ipython3",
   "version": "3.10.9"
  }
 },
 "nbformat": 4,
 "nbformat_minor": 5
}
